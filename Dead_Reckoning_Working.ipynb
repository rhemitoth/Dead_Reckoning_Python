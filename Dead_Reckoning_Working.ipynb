{
 "cells": [
  {
   "cell_type": "code",
   "execution_count": 242,
   "id": "038d7236-e33f-4aef-9539-54f4d5c0edc3",
   "metadata": {},
   "outputs": [],
   "source": [
    "# LOAD PACKAGES\n",
    "from scipy.spatial.transform import Rotation as R\n",
    "import numpy as np\n",
    "import plotly.graph_objects as go\n",
    "import pandas as pd\n",
    "import matplotlib.pyplot as plt\n",
    "import math"
   ]
  },
  {
   "cell_type": "code",
   "execution_count": 243,
   "id": "2d5d5ea0-f359-469f-89c4-447dc3e02590",
   "metadata": {},
   "outputs": [
    {
     "data": {
      "text/html": [
       "<div>\n",
       "<style scoped>\n",
       "    .dataframe tbody tr th:only-of-type {\n",
       "        vertical-align: middle;\n",
       "    }\n",
       "\n",
       "    .dataframe tbody tr th {\n",
       "        vertical-align: top;\n",
       "    }\n",
       "\n",
       "    .dataframe thead th {\n",
       "        text-align: right;\n",
       "    }\n",
       "</style>\n",
       "<table border=\"1\" class=\"dataframe\">\n",
       "  <thead>\n",
       "    <tr style=\"text-align: right;\">\n",
       "      <th></th>\n",
       "      <th>Acc_x</th>\n",
       "      <th>Acc_y</th>\n",
       "      <th>Acc_z</th>\n",
       "      <th>Mag_x</th>\n",
       "      <th>Mag_y</th>\n",
       "      <th>Mag_z</th>\n",
       "      <th>datetime</th>\n",
       "      <th>rowID</th>\n",
       "      <th>elapsed_time</th>\n",
       "      <th>Date</th>\n",
       "      <th>Time</th>\n",
       "      <th>location.lat</th>\n",
       "      <th>location.long</th>\n",
       "      <th>Height.above.msl</th>\n",
       "      <th>UTM_E</th>\n",
       "      <th>UTM_N</th>\n",
       "      <th>datetime_txt</th>\n",
       "    </tr>\n",
       "  </thead>\n",
       "  <tbody>\n",
       "    <tr>\n",
       "      <th>0</th>\n",
       "      <td>-0.086304</td>\n",
       "      <td>-0.208716</td>\n",
       "      <td>-0.997119</td>\n",
       "      <td>-0.037402</td>\n",
       "      <td>0.071558</td>\n",
       "      <td>-0.270996</td>\n",
       "      <td>2019-02-25 22:24:00</td>\n",
       "      <td>0</td>\n",
       "      <td>NaN</td>\n",
       "      <td>25/02/2019</td>\n",
       "      <td>22:24:00</td>\n",
       "      <td>-26.167846</td>\n",
       "      <td>20.798018</td>\n",
       "      <td>914.0</td>\n",
       "      <td>479814.898495</td>\n",
       "      <td>7.105712e+06</td>\n",
       "      <td>25/02/2019 22:24:00</td>\n",
       "    </tr>\n",
       "    <tr>\n",
       "      <th>1</th>\n",
       "      <td>-0.038428</td>\n",
       "      <td>-0.173926</td>\n",
       "      <td>-1.043873</td>\n",
       "      <td>-0.006323</td>\n",
       "      <td>0.064746</td>\n",
       "      <td>-0.272217</td>\n",
       "      <td>2019-02-25 22:24:01</td>\n",
       "      <td>1</td>\n",
       "      <td>1.0</td>\n",
       "      <td>25/02/2019</td>\n",
       "      <td>22:24:01</td>\n",
       "      <td>-26.167847</td>\n",
       "      <td>20.798009</td>\n",
       "      <td>914.0</td>\n",
       "      <td>479813.999248</td>\n",
       "      <td>7.105712e+06</td>\n",
       "      <td>25/02/2019 22:24:01</td>\n",
       "    </tr>\n",
       "    <tr>\n",
       "      <th>2</th>\n",
       "      <td>0.041919</td>\n",
       "      <td>-0.208667</td>\n",
       "      <td>-1.012673</td>\n",
       "      <td>0.033252</td>\n",
       "      <td>0.066309</td>\n",
       "      <td>-0.263891</td>\n",
       "      <td>2019-02-25 22:24:02</td>\n",
       "      <td>2</td>\n",
       "      <td>1.0</td>\n",
       "      <td>25/02/2019</td>\n",
       "      <td>22:24:02</td>\n",
       "      <td>-26.167849</td>\n",
       "      <td>20.798000</td>\n",
       "      <td>914.0</td>\n",
       "      <td>479813.100174</td>\n",
       "      <td>7.105712e+06</td>\n",
       "      <td>25/02/2019 22:24:02</td>\n",
       "    </tr>\n",
       "    <tr>\n",
       "      <th>3</th>\n",
       "      <td>0.148633</td>\n",
       "      <td>-0.193091</td>\n",
       "      <td>-1.013867</td>\n",
       "      <td>0.047485</td>\n",
       "      <td>0.065674</td>\n",
       "      <td>-0.259741</td>\n",
       "      <td>2019-02-25 22:24:03</td>\n",
       "      <td>3</td>\n",
       "      <td>1.0</td>\n",
       "      <td>25/02/2019</td>\n",
       "      <td>22:24:03</td>\n",
       "      <td>-26.167850</td>\n",
       "      <td>20.797992</td>\n",
       "      <td>914.0</td>\n",
       "      <td>479812.300863</td>\n",
       "      <td>7.105712e+06</td>\n",
       "      <td>25/02/2019 22:24:03</td>\n",
       "    </tr>\n",
       "    <tr>\n",
       "      <th>4</th>\n",
       "      <td>0.161817</td>\n",
       "      <td>-0.191895</td>\n",
       "      <td>-1.016260</td>\n",
       "      <td>0.047217</td>\n",
       "      <td>0.066699</td>\n",
       "      <td>-0.260522</td>\n",
       "      <td>2019-02-25 22:24:04</td>\n",
       "      <td>4</td>\n",
       "      <td>1.0</td>\n",
       "      <td>25/02/2019</td>\n",
       "      <td>22:24:04</td>\n",
       "      <td>-26.167851</td>\n",
       "      <td>20.797985</td>\n",
       "      <td>914.0</td>\n",
       "      <td>479811.601487</td>\n",
       "      <td>7.105712e+06</td>\n",
       "      <td>25/02/2019 22:24:04</td>\n",
       "    </tr>\n",
       "    <tr>\n",
       "      <th>5</th>\n",
       "      <td>0.178711</td>\n",
       "      <td>-0.188306</td>\n",
       "      <td>-1.021023</td>\n",
       "      <td>0.049585</td>\n",
       "      <td>0.067017</td>\n",
       "      <td>-0.260059</td>\n",
       "      <td>2019-02-25 22:24:05</td>\n",
       "      <td>5</td>\n",
       "      <td>1.0</td>\n",
       "      <td>25/02/2019</td>\n",
       "      <td>22:24:05</td>\n",
       "      <td>-26.167852</td>\n",
       "      <td>20.797981</td>\n",
       "      <td>914.0</td>\n",
       "      <td>479811.201918</td>\n",
       "      <td>7.105712e+06</td>\n",
       "      <td>25/02/2019 22:24:05</td>\n",
       "    </tr>\n",
       "    <tr>\n",
       "      <th>6</th>\n",
       "      <td>0.165503</td>\n",
       "      <td>-0.190699</td>\n",
       "      <td>-1.021094</td>\n",
       "      <td>0.049951</td>\n",
       "      <td>0.068335</td>\n",
       "      <td>-0.259229</td>\n",
       "      <td>2019-02-25 22:24:06</td>\n",
       "      <td>6</td>\n",
       "      <td>1.0</td>\n",
       "      <td>25/02/2019</td>\n",
       "      <td>22:24:06</td>\n",
       "      <td>-26.167852</td>\n",
       "      <td>20.797981</td>\n",
       "      <td>914.0</td>\n",
       "      <td>479811.201918</td>\n",
       "      <td>7.105712e+06</td>\n",
       "      <td>25/02/2019 22:24:06</td>\n",
       "    </tr>\n",
       "    <tr>\n",
       "      <th>7</th>\n",
       "      <td>0.176319</td>\n",
       "      <td>-0.189502</td>\n",
       "      <td>-1.017479</td>\n",
       "      <td>0.050806</td>\n",
       "      <td>0.068579</td>\n",
       "      <td>-0.257300</td>\n",
       "      <td>2019-02-25 22:24:07</td>\n",
       "      <td>7</td>\n",
       "      <td>1.0</td>\n",
       "      <td>25/02/2019</td>\n",
       "      <td>22:24:07</td>\n",
       "      <td>-26.167851</td>\n",
       "      <td>20.797981</td>\n",
       "      <td>914.0</td>\n",
       "      <td>479811.201746</td>\n",
       "      <td>7.105712e+06</td>\n",
       "      <td>25/02/2019 22:24:07</td>\n",
       "    </tr>\n",
       "    <tr>\n",
       "      <th>8</th>\n",
       "      <td>0.188306</td>\n",
       "      <td>-0.185913</td>\n",
       "      <td>-1.022243</td>\n",
       "      <td>0.052832</td>\n",
       "      <td>0.068994</td>\n",
       "      <td>-0.258911</td>\n",
       "      <td>2019-02-25 22:24:08</td>\n",
       "      <td>8</td>\n",
       "      <td>1.0</td>\n",
       "      <td>25/02/2019</td>\n",
       "      <td>22:24:08</td>\n",
       "      <td>-26.167851</td>\n",
       "      <td>20.797981</td>\n",
       "      <td>914.0</td>\n",
       "      <td>479811.201746</td>\n",
       "      <td>7.105712e+06</td>\n",
       "      <td>25/02/2019 22:24:08</td>\n",
       "    </tr>\n",
       "    <tr>\n",
       "      <th>9</th>\n",
       "      <td>0.178736</td>\n",
       "      <td>-0.191895</td>\n",
       "      <td>-1.023440</td>\n",
       "      <td>0.055469</td>\n",
       "      <td>0.067676</td>\n",
       "      <td>-0.259644</td>\n",
       "      <td>2019-02-25 22:24:09</td>\n",
       "      <td>9</td>\n",
       "      <td>1.0</td>\n",
       "      <td>25/02/2019</td>\n",
       "      <td>22:24:09</td>\n",
       "      <td>-26.167851</td>\n",
       "      <td>20.797981</td>\n",
       "      <td>914.0</td>\n",
       "      <td>479811.201746</td>\n",
       "      <td>7.105712e+06</td>\n",
       "      <td>25/02/2019 22:24:09</td>\n",
       "    </tr>\n",
       "  </tbody>\n",
       "</table>\n",
       "</div>"
      ],
      "text/plain": [
       "      Acc_x     Acc_y     Acc_z     Mag_x     Mag_y     Mag_z  \\\n",
       "0 -0.086304 -0.208716 -0.997119 -0.037402  0.071558 -0.270996   \n",
       "1 -0.038428 -0.173926 -1.043873 -0.006323  0.064746 -0.272217   \n",
       "2  0.041919 -0.208667 -1.012673  0.033252  0.066309 -0.263891   \n",
       "3  0.148633 -0.193091 -1.013867  0.047485  0.065674 -0.259741   \n",
       "4  0.161817 -0.191895 -1.016260  0.047217  0.066699 -0.260522   \n",
       "5  0.178711 -0.188306 -1.021023  0.049585  0.067017 -0.260059   \n",
       "6  0.165503 -0.190699 -1.021094  0.049951  0.068335 -0.259229   \n",
       "7  0.176319 -0.189502 -1.017479  0.050806  0.068579 -0.257300   \n",
       "8  0.188306 -0.185913 -1.022243  0.052832  0.068994 -0.258911   \n",
       "9  0.178736 -0.191895 -1.023440  0.055469  0.067676 -0.259644   \n",
       "\n",
       "             datetime  rowID  elapsed_time        Date      Time  \\\n",
       "0 2019-02-25 22:24:00      0           NaN  25/02/2019  22:24:00   \n",
       "1 2019-02-25 22:24:01      1           1.0  25/02/2019  22:24:01   \n",
       "2 2019-02-25 22:24:02      2           1.0  25/02/2019  22:24:02   \n",
       "3 2019-02-25 22:24:03      3           1.0  25/02/2019  22:24:03   \n",
       "4 2019-02-25 22:24:04      4           1.0  25/02/2019  22:24:04   \n",
       "5 2019-02-25 22:24:05      5           1.0  25/02/2019  22:24:05   \n",
       "6 2019-02-25 22:24:06      6           1.0  25/02/2019  22:24:06   \n",
       "7 2019-02-25 22:24:07      7           1.0  25/02/2019  22:24:07   \n",
       "8 2019-02-25 22:24:08      8           1.0  25/02/2019  22:24:08   \n",
       "9 2019-02-25 22:24:09      9           1.0  25/02/2019  22:24:09   \n",
       "\n",
       "   location.lat  location.long  Height.above.msl          UTM_E         UTM_N  \\\n",
       "0    -26.167846      20.798018             914.0  479814.898495  7.105712e+06   \n",
       "1    -26.167847      20.798009             914.0  479813.999248  7.105712e+06   \n",
       "2    -26.167849      20.798000             914.0  479813.100174  7.105712e+06   \n",
       "3    -26.167850      20.797992             914.0  479812.300863  7.105712e+06   \n",
       "4    -26.167851      20.797985             914.0  479811.601487  7.105712e+06   \n",
       "5    -26.167852      20.797981             914.0  479811.201918  7.105712e+06   \n",
       "6    -26.167852      20.797981             914.0  479811.201918  7.105712e+06   \n",
       "7    -26.167851      20.797981             914.0  479811.201746  7.105712e+06   \n",
       "8    -26.167851      20.797981             914.0  479811.201746  7.105712e+06   \n",
       "9    -26.167851      20.797981             914.0  479811.201746  7.105712e+06   \n",
       "\n",
       "          datetime_txt  \n",
       "0  25/02/2019 22:24:00  \n",
       "1  25/02/2019 22:24:01  \n",
       "2  25/02/2019 22:24:02  \n",
       "3  25/02/2019 22:24:03  \n",
       "4  25/02/2019 22:24:04  \n",
       "5  25/02/2019 22:24:05  \n",
       "6  25/02/2019 22:24:06  \n",
       "7  25/02/2019 22:24:07  \n",
       "8  25/02/2019 22:24:08  \n",
       "9  25/02/2019 22:24:09  "
      ]
     },
     "execution_count": 243,
     "metadata": {},
     "output_type": "execute_result"
    }
   ],
   "source": [
    "# PREPARE DATA\n",
    "\n",
    "# Load data\n",
    "df = pd.read_table('/Users/rhemitoth/Documents/PhD/Cembra/Dead_Reckoning/Data/Gundog_Tutorial/L1_continuous_export_split#3.txt.txt')\n",
    "gps = pd.read_csv('/Users/rhemitoth/Documents/PhD/Cembra/Dead_Reckoning/Data/Gundog_Tutorial/L1.GPS.UTM.csv')\n",
    "\n",
    "#list(df.columns)\n",
    "\n",
    "# Convert timestamp from string to datetime\n",
    "\n",
    "df['datetime_txt'] = df['Date'] + \" \" + df['Time hh:mm:ss.ddd']\n",
    "df['datetime'] = pd.to_datetime(df['datetime_txt'], format = '%d/%m/%Y %H:%M:%S.%f')\n",
    "\n",
    "gps['datetime_txt'] = gps['Date'] + \" \" + gps['Time']\n",
    "gps['datetime'] = pd.to_datetime(gps['datetime_txt'], format = '%d/%m/%Y %H:%M:%S')\n",
    "\n",
    "# Select Columns\n",
    "df = df[['Acc_x',\n",
    "        'Acc_y',\n",
    "        'Acc_z',\n",
    "        'Mag_x',\n",
    "        'Mag_y',\n",
    "        'Mag_z',\n",
    "        'datetime']]\n",
    "\n",
    "# Compute 1 second averages\n",
    "df.set_index('datetime', inplace=True, drop = False)\n",
    "df = df.resample('1s').mean()\n",
    "df = df.reset_index(drop=True)\n",
    "df['datetime'] = df['datetime'].dt.floor('s')\n",
    "\n",
    "# Row ID column\n",
    "df['rowID'] = range(0,len(df))\n",
    "\n",
    "# Calculate elapsed time\n",
    "df['elapsed_time'] = df['datetime'].diff().apply(lambda x: x.total_seconds())\n",
    "\n",
    "# Merge GPS and activity data\n",
    "df = pd.merge(df, gps, on='datetime', how='left')\n",
    "\n",
    "df.head(10)"
   ]
  },
  {
   "cell_type": "markdown",
   "id": "236b4c84-c2db-4333-ba1d-da26cdc64623",
   "metadata": {},
   "source": [
    "## STEP 1: COMPUTE ACCELERATION COMPONENTS\n",
    "Static acceleration is the acceleration component due to the pull of gravity. Following Shepard et al. 2008, static acceleration can be approximated using a moving average. According to Shepard et al. 2008, the length of the running mean should correspond to the point (or follow the point) where calculated overall dynamic body acceleration (ODBA) stabizes.\n"
   ]
  },
  {
   "cell_type": "code",
   "execution_count": 244,
   "id": "eb9933a1-88b2-4d6b-8cd9-8de30e307f3a",
   "metadata": {},
   "outputs": [
    {
     "name": "stderr",
     "output_type": "stream",
     "text": [
      "/var/folders/bp/jpzs1ydd4dj8jj8kv5fx8wq80000gn/T/ipykernel_19620/1842209085.py:15: SettingWithCopyWarning:\n",
      "\n",
      "\n",
      "A value is trying to be set on a copy of a slice from a DataFrame.\n",
      "Try using .loc[row_indexer,col_indexer] = value instead\n",
      "\n",
      "See the caveats in the documentation: https://pandas.pydata.org/pandas-docs/stable/user_guide/indexing.html#returning-a-view-versus-a-copy\n",
      "\n",
      "/var/folders/bp/jpzs1ydd4dj8jj8kv5fx8wq80000gn/T/ipykernel_19620/1842209085.py:16: SettingWithCopyWarning:\n",
      "\n",
      "\n",
      "A value is trying to be set on a copy of a slice from a DataFrame.\n",
      "Try using .loc[row_indexer,col_indexer] = value instead\n",
      "\n",
      "See the caveats in the documentation: https://pandas.pydata.org/pandas-docs/stable/user_guide/indexing.html#returning-a-view-versus-a-copy\n",
      "\n",
      "/var/folders/bp/jpzs1ydd4dj8jj8kv5fx8wq80000gn/T/ipykernel_19620/1842209085.py:17: SettingWithCopyWarning:\n",
      "\n",
      "\n",
      "A value is trying to be set on a copy of a slice from a DataFrame.\n",
      "Try using .loc[row_indexer,col_indexer] = value instead\n",
      "\n",
      "See the caveats in the documentation: https://pandas.pydata.org/pandas-docs/stable/user_guide/indexing.html#returning-a-view-versus-a-copy\n",
      "\n",
      "/var/folders/bp/jpzs1ydd4dj8jj8kv5fx8wq80000gn/T/ipykernel_19620/1842209085.py:19: SettingWithCopyWarning:\n",
      "\n",
      "\n",
      "A value is trying to be set on a copy of a slice from a DataFrame.\n",
      "Try using .loc[row_indexer,col_indexer] = value instead\n",
      "\n",
      "See the caveats in the documentation: https://pandas.pydata.org/pandas-docs/stable/user_guide/indexing.html#returning-a-view-versus-a-copy\n",
      "\n",
      "/var/folders/bp/jpzs1ydd4dj8jj8kv5fx8wq80000gn/T/ipykernel_19620/1842209085.py:20: SettingWithCopyWarning:\n",
      "\n",
      "\n",
      "A value is trying to be set on a copy of a slice from a DataFrame.\n",
      "Try using .loc[row_indexer,col_indexer] = value instead\n",
      "\n",
      "See the caveats in the documentation: https://pandas.pydata.org/pandas-docs/stable/user_guide/indexing.html#returning-a-view-versus-a-copy\n",
      "\n",
      "/var/folders/bp/jpzs1ydd4dj8jj8kv5fx8wq80000gn/T/ipykernel_19620/1842209085.py:21: SettingWithCopyWarning:\n",
      "\n",
      "\n",
      "A value is trying to be set on a copy of a slice from a DataFrame.\n",
      "Try using .loc[row_indexer,col_indexer] = value instead\n",
      "\n",
      "See the caveats in the documentation: https://pandas.pydata.org/pandas-docs/stable/user_guide/indexing.html#returning-a-view-versus-a-copy\n",
      "\n",
      "/var/folders/bp/jpzs1ydd4dj8jj8kv5fx8wq80000gn/T/ipykernel_19620/1842209085.py:23: SettingWithCopyWarning:\n",
      "\n",
      "\n",
      "A value is trying to be set on a copy of a slice from a DataFrame.\n",
      "Try using .loc[row_indexer,col_indexer] = value instead\n",
      "\n",
      "See the caveats in the documentation: https://pandas.pydata.org/pandas-docs/stable/user_guide/indexing.html#returning-a-view-versus-a-copy\n",
      "\n",
      "/var/folders/bp/jpzs1ydd4dj8jj8kv5fx8wq80000gn/T/ipykernel_19620/1842209085.py:25: SettingWithCopyWarning:\n",
      "\n",
      "\n",
      "A value is trying to be set on a copy of a slice from a DataFrame.\n",
      "Try using .loc[row_indexer,col_indexer] = value instead\n",
      "\n",
      "See the caveats in the documentation: https://pandas.pydata.org/pandas-docs/stable/user_guide/indexing.html#returning-a-view-versus-a-copy\n",
      "\n",
      "/var/folders/bp/jpzs1ydd4dj8jj8kv5fx8wq80000gn/T/ipykernel_19620/1842209085.py:27: FutureWarning:\n",
      "\n",
      "The behavior of DataFrame concatenation with empty or all-NA entries is deprecated. In a future version, this will no longer exclude empty or all-NA columns when determining the result dtypes. To retain the old behavior, exclude the relevant entries before the concat operation.\n",
      "\n",
      "/var/folders/bp/jpzs1ydd4dj8jj8kv5fx8wq80000gn/T/ipykernel_19620/1842209085.py:15: SettingWithCopyWarning:\n",
      "\n",
      "\n",
      "A value is trying to be set on a copy of a slice from a DataFrame.\n",
      "Try using .loc[row_indexer,col_indexer] = value instead\n",
      "\n",
      "See the caveats in the documentation: https://pandas.pydata.org/pandas-docs/stable/user_guide/indexing.html#returning-a-view-versus-a-copy\n",
      "\n",
      "/var/folders/bp/jpzs1ydd4dj8jj8kv5fx8wq80000gn/T/ipykernel_19620/1842209085.py:16: SettingWithCopyWarning:\n",
      "\n",
      "\n",
      "A value is trying to be set on a copy of a slice from a DataFrame.\n",
      "Try using .loc[row_indexer,col_indexer] = value instead\n",
      "\n",
      "See the caveats in the documentation: https://pandas.pydata.org/pandas-docs/stable/user_guide/indexing.html#returning-a-view-versus-a-copy\n",
      "\n",
      "/var/folders/bp/jpzs1ydd4dj8jj8kv5fx8wq80000gn/T/ipykernel_19620/1842209085.py:17: SettingWithCopyWarning:\n",
      "\n",
      "\n",
      "A value is trying to be set on a copy of a slice from a DataFrame.\n",
      "Try using .loc[row_indexer,col_indexer] = value instead\n",
      "\n",
      "See the caveats in the documentation: https://pandas.pydata.org/pandas-docs/stable/user_guide/indexing.html#returning-a-view-versus-a-copy\n",
      "\n",
      "/var/folders/bp/jpzs1ydd4dj8jj8kv5fx8wq80000gn/T/ipykernel_19620/1842209085.py:19: SettingWithCopyWarning:\n",
      "\n",
      "\n",
      "A value is trying to be set on a copy of a slice from a DataFrame.\n",
      "Try using .loc[row_indexer,col_indexer] = value instead\n",
      "\n",
      "See the caveats in the documentation: https://pandas.pydata.org/pandas-docs/stable/user_guide/indexing.html#returning-a-view-versus-a-copy\n",
      "\n",
      "/var/folders/bp/jpzs1ydd4dj8jj8kv5fx8wq80000gn/T/ipykernel_19620/1842209085.py:20: SettingWithCopyWarning:\n",
      "\n",
      "\n",
      "A value is trying to be set on a copy of a slice from a DataFrame.\n",
      "Try using .loc[row_indexer,col_indexer] = value instead\n",
      "\n",
      "See the caveats in the documentation: https://pandas.pydata.org/pandas-docs/stable/user_guide/indexing.html#returning-a-view-versus-a-copy\n",
      "\n",
      "/var/folders/bp/jpzs1ydd4dj8jj8kv5fx8wq80000gn/T/ipykernel_19620/1842209085.py:21: SettingWithCopyWarning:\n",
      "\n",
      "\n",
      "A value is trying to be set on a copy of a slice from a DataFrame.\n",
      "Try using .loc[row_indexer,col_indexer] = value instead\n",
      "\n",
      "See the caveats in the documentation: https://pandas.pydata.org/pandas-docs/stable/user_guide/indexing.html#returning-a-view-versus-a-copy\n",
      "\n",
      "/var/folders/bp/jpzs1ydd4dj8jj8kv5fx8wq80000gn/T/ipykernel_19620/1842209085.py:23: SettingWithCopyWarning:\n",
      "\n",
      "\n",
      "A value is trying to be set on a copy of a slice from a DataFrame.\n",
      "Try using .loc[row_indexer,col_indexer] = value instead\n",
      "\n",
      "See the caveats in the documentation: https://pandas.pydata.org/pandas-docs/stable/user_guide/indexing.html#returning-a-view-versus-a-copy\n",
      "\n"
     ]
    },
    {
     "data": {
      "image/png": "[encoded data removed]",
      "text/plain": [
       "<Figure size 640x480 with 1 Axes>"
      ]
     },
     "metadata": {},
     "output_type": "display_data"
    }
   ],
   "source": [
    "# WINDOW LENGTH SELECTION\n",
    "\n",
    "# Possible window lengths\n",
    "windows = [2,3,4,6,8,10,12,14,16,18,20]\n",
    "\n",
    "# Set up dataframe to store results\n",
    "acc_data = df[['Acc_x','Acc_y','Acc_z']]\n",
    "window_results = pd.DataFrame(columns = ['Acc_x','Acc_y','Acc_z','Gx','Gy','Gz','DAx','DAy','DAz','ODBA','WindowLength'])\n",
    "\n",
    "# Compute static acceleration using possible window lengths\n",
    "for win in windows:\n",
    "    # Get raw acceleration and set up results table\n",
    "    res = acc_data\n",
    "    # Compute static acceleration using rolling mean\n",
    "    res['Gx'] = res['Acc_x'].rolling(window=win).mean()\n",
    "    res['Gy'] = res['Acc_y'].rolling(window=win).mean()\n",
    "    res['Gz'] = res['Acc_z'].rolling(window=win).mean()\n",
    "    # Compute dynamic acceleration\n",
    "    res['DAx'] = res['Acc_x'] - res['Gx']\n",
    "    res['DAy'] = res['Acc_y'] - res['Gy']\n",
    "    res['DAz'] = res['Acc_z'] - res['Gz']\n",
    "    # Compute ODBA\n",
    "    res['ODBA'] = res['DAx'] ** 2 + res['DAy'] ** 2 + res['DAz'] ** 2\n",
    "    # Store Results\n",
    "    res['WindowLength'] = [win]*len(res)\n",
    "    res.head(10)\n",
    "    window_results = pd.concat([window_results, res], ignore_index=True)\n",
    "\n",
    "# Plot results\n",
    "grouped = window_results.groupby('WindowLength')['ODBA']\n",
    "means = grouped.mean()\n",
    "std_errors = grouped.sem()\n",
    "plt.errorbar(means.index, means, yerr=std_errors, fmt='o', color='blue', ecolor='lightblue', capsize=5)\n",
    "plt.xlabel('Running mean (s)')\n",
    "plt.ylabel('ODBA')\n",
    "plt.grid(True)\n",
    "plt.show()\n"
   ]
  },
  {
   "cell_type": "code",
   "execution_count": 245,
   "id": "0ec929d6-7fe4-43e5-9d0c-ea2ce9fc7b72",
   "metadata": {},
   "outputs": [],
   "source": [
    "# CALCULATE STATIC ACCELERATION\n",
    "w = 10\n",
    "df['Gx'] = df['Acc_x'].rolling(window=w).mean()\n",
    "df['Gy'] = df['Acc_y'].rolling(window=w).mean()\n",
    "df['Gz'] = df['Acc_z'].rolling(window=w).mean()\n",
    "\n",
    "# Remove rows with NaN static accleration\n",
    "df = df.iloc[w-1:].reset_index(drop=True)\n"
   ]
  },
  {
   "cell_type": "code",
   "execution_count": 246,
   "id": "de6d4fb3-c502-43a1-b449-639d00ebcd50",
   "metadata": {},
   "outputs": [],
   "source": [
    "# CALCULATE DYNAMIC ACCELERATION\n",
    "df['DAx'] = df['Acc_x']-df['Gx']\n",
    "df['DAy'] = df['Acc_y']-df['Gy']\n",
    "df['DAz'] = df['Acc_z']-df['Gz']"
   ]
  },
  {
   "cell_type": "code",
   "execution_count": 247,
   "id": "04d3503c-dd14-47c2-8638-06f720e3ecb0",
   "metadata": {},
   "outputs": [],
   "source": [
    "# CALCULATE VeDBA\n",
    "df['VeDBA']= (df['DAx']**2 + df['DAy']**2 + df['DAz']**2)**0.5"
   ]
  },
  {
   "cell_type": "markdown",
   "id": "683a9964-e54c-4dee-99ec-caab750100a9",
   "metadata": {},
   "source": [
    "## STEP 2: COMPUTE PITCH AND ROLL\n",
    "- Pitch = rotation about the lateral axis\n",
    "- Roll = rotation about the anterior-posterior axis\n",
    "- Yaw (heading) = rotation about the dorso-ventral axis."
   ]
  },
  {
   "cell_type": "code",
   "execution_count": 248,
   "id": "efc3717b-55e2-4e59-a195-1fa1dd80dfc4",
   "metadata": {},
   "outputs": [],
   "source": [
    "# COMPUTE PITCH\n",
    "\n",
    "# Function to compute roll\n",
    "def calculate_pitch(row):\n",
    "    gx = row['Gx']\n",
    "    gy = row['Gy']\n",
    "    gz = row['Gz']\n",
    "    pitch = math.atan2(gx,math.sqrt(gy**2 + gz**2))*180/math.pi\n",
    "    return(pitch)\n",
    "\n",
    "# Compute roll\n",
    "df['pitch']=df.apply(calculate_pitch,axis=1)\n"
   ]
  },
  {
   "cell_type": "code",
   "execution_count": 249,
   "id": "02763f75-30e5-42bc-808e-25271d6a5f3e",
   "metadata": {},
   "outputs": [],
   "source": [
    "# COMPUTE ROLL\n",
    "\n",
    "# Function to compute roll\n",
    "def calculate_roll(row):\n",
    "    gx = row['Gx']\n",
    "    gy = row['Gy']\n",
    "    gz = row['Gz']\n",
    "    roll = math.atan2(gx,math.sqrt(gy**2 + gz**2))*180/math.pi\n",
    "    return(roll)\n",
    "\n",
    "# Compute roll\n",
    "df['roll']=df.apply(calculate_roll,axis=1)"
   ]
  },
  {
   "cell_type": "markdown",
   "id": "a1460a25-ea8e-4e39-a51f-2c94901de303",
   "metadata": {},
   "source": [
    "## STEP 3: CORRECT MAGNETOMETER DATA\n"
   ]
  },
  {
   "cell_type": "code",
   "execution_count": 250,
   "id": "50ab758b-5bc1-455b-8c4c-4c5ece6d6eac",
   "metadata": {},
   "outputs": [],
   "source": [
    "# Filter for calibration events\n",
    "# df_cal = df[df['Marked.event']==2]\n",
    "\n",
    "# Calculate offsetts\n",
    "# Ox = (df['Mag_x'].max() - df['Mag_x'].min())/2\n",
    "# Oy = (df['Mag_y'].max() - df['Mag_y'].min())/2\n",
    "# Oz = (df['Mag_z'].max() - df['Mag_z'].min())/2\n",
    "\n",
    "# Correct Magnetometer Output\n",
    "# df['Mx'] = df['Mag_x'] - Ox\n",
    "# df['My'] = df['Mag_y'] - Oy\n",
    "# df['Mz'] = df['Mag_z'] - Oz"
   ]
  },
  {
   "cell_type": "markdown",
   "id": "c1669bbd-075e-4304-aaa3-a77b5771b6c3",
   "metadata": {},
   "source": [
    "## STEP 4: NORMALIZE COMPASS DATA"
   ]
  },
  {
   "cell_type": "code",
   "execution_count": 251,
   "id": "d288228e-bb97-4c2f-8fd5-73c50a77cae0",
   "metadata": {},
   "outputs": [],
   "source": [
    "# Function to compute normalization factor\n",
    "def calc_normalization_factor(row):\n",
    "    Mx = row['Mag_x']\n",
    "    My = row['Mag_y']\n",
    "    Mz = row['Mag_z']\n",
    "    fm = math.sqrt(Mx**2 + My**2 + Mz**2)\n",
    "    return fm\n",
    "\n",
    "# Compute normalization factor\n",
    "df['fm'] = df.apply(calc_normalization_factor,axis=1)\n",
    "\n",
    "# Normalize compass data\n",
    "df['NMx'] = df['Mag_x']/df['fm']\n",
    "df['NMy'] = df['Mag_y']/df['fm']\n",
    "df['NMz'] = df['Mag_z']/df['fm']"
   ]
  },
  {
   "cell_type": "markdown",
   "id": "3337146b-7fac-4065-bd36-355688f238df",
   "metadata": {},
   "source": [
    "## STEP 5: ROTATE AXES ACCORDING TO PITCH AND ROLL "
   ]
  },
  {
   "cell_type": "code",
   "execution_count": 252,
   "id": "b55e3af1-f0d0-4017-8f55-939882c0af8d",
   "metadata": {},
   "outputs": [
    {
     "data": {
      "text/plain": [
       "0         6.138781\n",
       "1         7.624402\n",
       "2         8.841972\n",
       "3         9.664698\n",
       "4         9.894881\n",
       "           ...    \n",
       "75390    10.893161\n",
       "75391    10.776309\n",
       "75392    10.617338\n",
       "75393    10.430807\n",
       "75394    10.160247\n",
       "Name: pitch, Length: 75395, dtype: float64"
      ]
     },
     "execution_count": 252,
     "metadata": {},
     "output_type": "execute_result"
    }
   ],
   "source": [
    "# Function to generate pitch rotation matrix\n",
    "def get_rx(pitch):\n",
    "    Rx = np.array([[1,0,0],\n",
    "          [0,math.cos(pitch),-math.sin(pitch)],\n",
    "          [0,math.sin(pitch),math.cos(pitch)]])\n",
    "    return Rx\n",
    "\n",
    "# Function to generate roll rotation matrix\n",
    "def get_ry(roll):\n",
    "    Ry = np.array([[math.cos(roll),0,math.sin(roll)],\n",
    "         [0,1,0],\n",
    "         [-math.sin(roll),0,math.cos(roll)]])\n",
    "    return Ry\n",
    "\n",
    "# Function to rotate axes\n",
    "def rotate_axes(row):\n",
    "    NMx = row['NMx']\n",
    "    NMy = row['NMy']\n",
    "    NMz = row['NMz']\n",
    "    NM = np.array([NMx,NMy,NMz])\n",
    "    \n",
    "    pitch = row['pitch']\n",
    "    Rx = get_rx(pitch = pitch)\n",
    "    \n",
    "    roll = row['roll']\n",
    "    Ry = get_ry(roll = roll)\n",
    "    \n",
    "    RNM = np.dot(NM,np.dot(Rx,Ry))\n",
    "\n",
    "    row['RNMx'] = RNM[0]\n",
    "    row['RNMy'] = RNM[1]\n",
    "    return(row)\n",
    "\n",
    "# Rotate axes of magnetometer output\n",
    "df['RNMx'] = -999\n",
    "df['RNMy'] = -999\n",
    "df = df.apply(rotate_axes,axis=1)\n",
    "df['pitch']"
   ]
  },
  {
   "cell_type": "markdown",
   "id": "24228fba-1cd0-44da-9cb9-a6c323b05065",
   "metadata": {},
   "source": [
    "## STEP 5: DERIVE HEADING"
   ]
  },
  {
   "cell_type": "code",
   "execution_count": 253,
   "id": "4d522512-2de6-4747-8a40-1e071242c359",
   "metadata": {},
   "outputs": [],
   "source": [
    "# Function to derive heading\n",
    "def get_heading(row):\n",
    "    rnmx = row['RNMx']\n",
    "    rnmy = row['RNMy']\n",
    "    h = math.atan2(rnmy,-rnmx)*180/math.pi\n",
    "    return h\n",
    "\n",
    "def get_raw_heading(row):\n",
    "    nmx = row['NMx']\n",
    "    nmy = row['NMy']\n",
    "    h = math.atan2(nmy,-nmx)*180/math.pi\n",
    "    return h\n",
    "\n",
    "# Calculate heading\n",
    "df['H'] = df.apply(get_heading,axis = 1)\n",
    "df['H_raw'] = df.apply(get_raw_heading,axis=1)"
   ]
  },
  {
   "cell_type": "markdown",
   "id": "fedbab41-15e9-4918-99b3-2590e4b703d2",
   "metadata": {},
   "source": [
    "## STEP 6: CALCULATE SPEED FROM VEDBA"
   ]
  },
  {
   "cell_type": "code",
   "execution_count": 254,
   "id": "f8443e1d-003c-48a8-87b3-2dfe9956de50",
   "metadata": {},
   "outputs": [
    {
     "data": {
      "text/html": [
       "<div>\n",
       "<style scoped>\n",
       "    .dataframe tbody tr th:only-of-type {\n",
       "        vertical-align: middle;\n",
       "    }\n",
       "\n",
       "    .dataframe tbody tr th {\n",
       "        vertical-align: top;\n",
       "    }\n",
       "\n",
       "    .dataframe thead th {\n",
       "        text-align: right;\n",
       "    }\n",
       "</style>\n",
       "<table border=\"1\" class=\"dataframe\">\n",
       "  <thead>\n",
       "    <tr style=\"text-align: right;\">\n",
       "      <th></th>\n",
       "      <th>Acc_x</th>\n",
       "      <th>Acc_y</th>\n",
       "      <th>Acc_z</th>\n",
       "      <th>Mag_x</th>\n",
       "      <th>Mag_y</th>\n",
       "      <th>Mag_z</th>\n",
       "      <th>datetime</th>\n",
       "      <th>rowID</th>\n",
       "      <th>elapsed_time</th>\n",
       "      <th>Date</th>\n",
       "      <th>...</th>\n",
       "      <th>fm</th>\n",
       "      <th>NMx</th>\n",
       "      <th>NMy</th>\n",
       "      <th>NMz</th>\n",
       "      <th>RNMx</th>\n",
       "      <th>RNMy</th>\n",
       "      <th>H</th>\n",
       "      <th>H_raw</th>\n",
       "      <th>s</th>\n",
       "      <th>d</th>\n",
       "    </tr>\n",
       "  </thead>\n",
       "  <tbody>\n",
       "    <tr>\n",
       "      <th>0</th>\n",
       "      <td>0.178736</td>\n",
       "      <td>-0.191895</td>\n",
       "      <td>-1.023440</td>\n",
       "      <td>0.055469</td>\n",
       "      <td>0.067676</td>\n",
       "      <td>-0.259644</td>\n",
       "      <td>2019-02-25 22:24:09</td>\n",
       "      <td>9</td>\n",
       "      <td>1.0</td>\n",
       "      <td>25/02/2019</td>\n",
       "      <td>...</td>\n",
       "      <td>0.273992</td>\n",
       "      <td>0.202447</td>\n",
       "      <td>0.246999</td>\n",
       "      <td>-0.947632</td>\n",
       "      <td>0.070507</td>\n",
       "      <td>0.380795</td>\n",
       "      <td>100.489937</td>\n",
       "      <td>129.338898</td>\n",
       "      <td>0.077368</td>\n",
       "      <td>0.077368</td>\n",
       "    </tr>\n",
       "    <tr>\n",
       "      <th>1</th>\n",
       "      <td>0.189478</td>\n",
       "      <td>-0.189502</td>\n",
       "      <td>-1.023487</td>\n",
       "      <td>0.057129</td>\n",
       "      <td>0.067090</td>\n",
       "      <td>-0.258252</td>\n",
       "      <td>2019-02-25 22:24:10</td>\n",
       "      <td>10</td>\n",
       "      <td>1.0</td>\n",
       "      <td>25/02/2019</td>\n",
       "      <td>...</td>\n",
       "      <td>0.272872</td>\n",
       "      <td>0.209362</td>\n",
       "      <td>0.245866</td>\n",
       "      <td>-0.946424</td>\n",
       "      <td>0.490502</td>\n",
       "      <td>-0.865640</td>\n",
       "      <td>-119.537428</td>\n",
       "      <td>130.415332</td>\n",
       "      <td>0.060423</td>\n",
       "      <td>0.060423</td>\n",
       "    </tr>\n",
       "    <tr>\n",
       "      <th>2</th>\n",
       "      <td>0.182300</td>\n",
       "      <td>-0.188306</td>\n",
       "      <td>-1.010278</td>\n",
       "      <td>0.062183</td>\n",
       "      <td>0.065405</td>\n",
       "      <td>-0.257812</td>\n",
       "      <td>2019-02-25 22:24:11</td>\n",
       "      <td>11</td>\n",
       "      <td>1.0</td>\n",
       "      <td>25/02/2019</td>\n",
       "      <td>...</td>\n",
       "      <td>0.273152</td>\n",
       "      <td>0.227649</td>\n",
       "      <td>0.239447</td>\n",
       "      <td>-0.943844</td>\n",
       "      <td>-0.551249</td>\n",
       "      <td>-0.719382</td>\n",
       "      <td>-52.537708</td>\n",
       "      <td>133.553106</td>\n",
       "      <td>0.032824</td>\n",
       "      <td>0.032824</td>\n",
       "    </tr>\n",
       "    <tr>\n",
       "      <th>3</th>\n",
       "      <td>0.194287</td>\n",
       "      <td>-0.184717</td>\n",
       "      <td>-1.015016</td>\n",
       "      <td>0.077222</td>\n",
       "      <td>0.057056</td>\n",
       "      <td>-0.253369</td>\n",
       "      <td>2019-02-25 22:24:12</td>\n",
       "      <td>12</td>\n",
       "      <td>1.0</td>\n",
       "      <td>25/02/2019</td>\n",
       "      <td>...</td>\n",
       "      <td>0.270951</td>\n",
       "      <td>0.285002</td>\n",
       "      <td>0.210575</td>\n",
       "      <td>-0.935111</td>\n",
       "      <td>-0.049108</td>\n",
       "      <td>0.017661</td>\n",
       "      <td>19.780606</td>\n",
       "      <td>143.540960</td>\n",
       "      <td>0.028788</td>\n",
       "      <td>0.028788</td>\n",
       "    </tr>\n",
       "    <tr>\n",
       "      <th>4</th>\n",
       "      <td>0.189502</td>\n",
       "      <td>-0.195484</td>\n",
       "      <td>-1.001856</td>\n",
       "      <td>0.079932</td>\n",
       "      <td>0.054590</td>\n",
       "      <td>-0.251123</td>\n",
       "      <td>2019-02-25 22:24:13</td>\n",
       "      <td>13</td>\n",
       "      <td>1.0</td>\n",
       "      <td>25/02/2019</td>\n",
       "      <td>...</td>\n",
       "      <td>0.269132</td>\n",
       "      <td>0.296998</td>\n",
       "      <td>0.202837</td>\n",
       "      <td>-0.933086</td>\n",
       "      <td>0.153657</td>\n",
       "      <td>0.241834</td>\n",
       "      <td>122.431124</td>\n",
       "      <td>145.668615</td>\n",
       "      <td>0.028747</td>\n",
       "      <td>0.028747</td>\n",
       "    </tr>\n",
       "    <tr>\n",
       "      <th>5</th>\n",
       "      <td>0.190699</td>\n",
       "      <td>-0.196680</td>\n",
       "      <td>-1.006617</td>\n",
       "      <td>0.081909</td>\n",
       "      <td>0.053735</td>\n",
       "      <td>-0.250024</td>\n",
       "      <td>2019-02-25 22:24:14</td>\n",
       "      <td>14</td>\n",
       "      <td>1.0</td>\n",
       "      <td>25/02/2019</td>\n",
       "      <td>...</td>\n",
       "      <td>0.268531</td>\n",
       "      <td>0.305027</td>\n",
       "      <td>0.200109</td>\n",
       "      <td>-0.931083</td>\n",
       "      <td>0.268457</td>\n",
       "      <td>0.389825</td>\n",
       "      <td>124.553585</td>\n",
       "      <td>146.733685</td>\n",
       "      <td>0.023771</td>\n",
       "      <td>0.023771</td>\n",
       "    </tr>\n",
       "    <tr>\n",
       "      <th>6</th>\n",
       "      <td>0.200269</td>\n",
       "      <td>-0.199072</td>\n",
       "      <td>-1.016284</td>\n",
       "      <td>0.084253</td>\n",
       "      <td>0.052563</td>\n",
       "      <td>-0.249024</td>\n",
       "      <td>2019-02-25 22:24:15</td>\n",
       "      <td>15</td>\n",
       "      <td>1.0</td>\n",
       "      <td>25/02/2019</td>\n",
       "      <td>...</td>\n",
       "      <td>0.268094</td>\n",
       "      <td>0.314267</td>\n",
       "      <td>0.196064</td>\n",
       "      <td>-0.928868</td>\n",
       "      <td>0.325265</td>\n",
       "      <td>0.491140</td>\n",
       "      <td>123.515157</td>\n",
       "      <td>148.040908</td>\n",
       "      <td>0.026719</td>\n",
       "      <td>0.026719</td>\n",
       "    </tr>\n",
       "    <tr>\n",
       "      <th>7</th>\n",
       "      <td>0.196680</td>\n",
       "      <td>-0.201489</td>\n",
       "      <td>-1.009032</td>\n",
       "      <td>0.085132</td>\n",
       "      <td>0.052539</td>\n",
       "      <td>-0.249072</td>\n",
       "      <td>2019-02-25 22:24:16</td>\n",
       "      <td>16</td>\n",
       "      <td>1.0</td>\n",
       "      <td>25/02/2019</td>\n",
       "      <td>...</td>\n",
       "      <td>0.268412</td>\n",
       "      <td>0.317169</td>\n",
       "      <td>0.195741</td>\n",
       "      <td>-0.927949</td>\n",
       "      <td>0.380654</td>\n",
       "      <td>0.625965</td>\n",
       "      <td>121.304097</td>\n",
       "      <td>148.319220</td>\n",
       "      <td>0.023428</td>\n",
       "      <td>0.023428</td>\n",
       "    </tr>\n",
       "    <tr>\n",
       "      <th>8</th>\n",
       "      <td>0.202661</td>\n",
       "      <td>-0.199072</td>\n",
       "      <td>-1.006665</td>\n",
       "      <td>0.083789</td>\n",
       "      <td>0.052344</td>\n",
       "      <td>-0.248804</td>\n",
       "      <td>2019-02-25 22:24:17</td>\n",
       "      <td>17</td>\n",
       "      <td>1.0</td>\n",
       "      <td>25/02/2019</td>\n",
       "      <td>...</td>\n",
       "      <td>0.267701</td>\n",
       "      <td>0.312995</td>\n",
       "      <td>0.195531</td>\n",
       "      <td>-0.929409</td>\n",
       "      <td>0.391000</td>\n",
       "      <td>0.726889</td>\n",
       "      <td>118.276177</td>\n",
       "      <td>148.006626</td>\n",
       "      <td>0.024498</td>\n",
       "      <td>0.024498</td>\n",
       "    </tr>\n",
       "    <tr>\n",
       "      <th>9</th>\n",
       "      <td>0.205053</td>\n",
       "      <td>-0.196680</td>\n",
       "      <td>-1.012647</td>\n",
       "      <td>0.082886</td>\n",
       "      <td>0.054736</td>\n",
       "      <td>-0.251929</td>\n",
       "      <td>2019-02-25 22:24:18</td>\n",
       "      <td>18</td>\n",
       "      <td>1.0</td>\n",
       "      <td>25/02/2019</td>\n",
       "      <td>...</td>\n",
       "      <td>0.270803</td>\n",
       "      <td>0.306074</td>\n",
       "      <td>0.202126</td>\n",
       "      <td>-0.930303</td>\n",
       "      <td>0.384733</td>\n",
       "      <td>0.781136</td>\n",
       "      <td>116.221634</td>\n",
       "      <td>146.559907</td>\n",
       "      <td>0.022322</td>\n",
       "      <td>0.022322</td>\n",
       "    </tr>\n",
       "  </tbody>\n",
       "</table>\n",
       "<p>10 rows × 36 columns</p>\n",
       "</div>"
      ],
      "text/plain": [
       "      Acc_x     Acc_y     Acc_z     Mag_x     Mag_y     Mag_z  \\\n",
       "0  0.178736 -0.191895 -1.023440  0.055469  0.067676 -0.259644   \n",
       "1  0.189478 -0.189502 -1.023487  0.057129  0.067090 -0.258252   \n",
       "2  0.182300 -0.188306 -1.010278  0.062183  0.065405 -0.257812   \n",
       "3  0.194287 -0.184717 -1.015016  0.077222  0.057056 -0.253369   \n",
       "4  0.189502 -0.195484 -1.001856  0.079932  0.054590 -0.251123   \n",
       "5  0.190699 -0.196680 -1.006617  0.081909  0.053735 -0.250024   \n",
       "6  0.200269 -0.199072 -1.016284  0.084253  0.052563 -0.249024   \n",
       "7  0.196680 -0.201489 -1.009032  0.085132  0.052539 -0.249072   \n",
       "8  0.202661 -0.199072 -1.006665  0.083789  0.052344 -0.248804   \n",
       "9  0.205053 -0.196680 -1.012647  0.082886  0.054736 -0.251929   \n",
       "\n",
       "             datetime  rowID  elapsed_time        Date  ...        fm  \\\n",
       "0 2019-02-25 22:24:09      9           1.0  25/02/2019  ...  0.273992   \n",
       "1 2019-02-25 22:24:10     10           1.0  25/02/2019  ...  0.272872   \n",
       "2 2019-02-25 22:24:11     11           1.0  25/02/2019  ...  0.273152   \n",
       "3 2019-02-25 22:24:12     12           1.0  25/02/2019  ...  0.270951   \n",
       "4 2019-02-25 22:24:13     13           1.0  25/02/2019  ...  0.269132   \n",
       "5 2019-02-25 22:24:14     14           1.0  25/02/2019  ...  0.268531   \n",
       "6 2019-02-25 22:24:15     15           1.0  25/02/2019  ...  0.268094   \n",
       "7 2019-02-25 22:24:16     16           1.0  25/02/2019  ...  0.268412   \n",
       "8 2019-02-25 22:24:17     17           1.0  25/02/2019  ...  0.267701   \n",
       "9 2019-02-25 22:24:18     18           1.0  25/02/2019  ...  0.270803   \n",
       "\n",
       "        NMx       NMy       NMz      RNMx      RNMy           H       H_raw  \\\n",
       "0  0.202447  0.246999 -0.947632  0.070507  0.380795  100.489937  129.338898   \n",
       "1  0.209362  0.245866 -0.946424  0.490502 -0.865640 -119.537428  130.415332   \n",
       "2  0.227649  0.239447 -0.943844 -0.551249 -0.719382  -52.537708  133.553106   \n",
       "3  0.285002  0.210575 -0.935111 -0.049108  0.017661   19.780606  143.540960   \n",
       "4  0.296998  0.202837 -0.933086  0.153657  0.241834  122.431124  145.668615   \n",
       "5  0.305027  0.200109 -0.931083  0.268457  0.389825  124.553585  146.733685   \n",
       "6  0.314267  0.196064 -0.928868  0.325265  0.491140  123.515157  148.040908   \n",
       "7  0.317169  0.195741 -0.927949  0.380654  0.625965  121.304097  148.319220   \n",
       "8  0.312995  0.195531 -0.929409  0.391000  0.726889  118.276177  148.006626   \n",
       "9  0.306074  0.202126 -0.930303  0.384733  0.781136  116.221634  146.559907   \n",
       "\n",
       "          s         d  \n",
       "0  0.077368  0.077368  \n",
       "1  0.060423  0.060423  \n",
       "2  0.032824  0.032824  \n",
       "3  0.028788  0.028788  \n",
       "4  0.028747  0.028747  \n",
       "5  0.023771  0.023771  \n",
       "6  0.026719  0.026719  \n",
       "7  0.023428  0.023428  \n",
       "8  0.024498  0.024498  \n",
       "9  0.022322  0.022322  \n",
       "\n",
       "[10 rows x 36 columns]"
      ]
     },
     "execution_count": 254,
     "metadata": {},
     "output_type": "execute_result"
    }
   ],
   "source": [
    "# Initialize constants with nominal values\n",
    "# These will be changed later on when aligning dead-reckoned trajectories with GPS\n",
    "\n",
    "m = 1 # constant of proportionality\n",
    "c = 0.01 # constant\n",
    "\n",
    "# Calculate speed (speed = (m*VeDBA)+c\n",
    "df['s'] = m*df['VeDBA'] + c\n",
    "\n",
    "# Calculate distance (distance = speed * time)\n",
    "df['d'] = df['s'] * df['elapsed_time']\n",
    "df.head(10)\n"
   ]
  },
  {
   "cell_type": "markdown",
   "id": "c1608627-1144-4d69-bc4d-f6fcc1912a72",
   "metadata": {},
   "source": [
    "## STEP 7: PERFORM DEAD RECKONING CALCULATION"
   ]
  },
  {
   "cell_type": "code",
   "execution_count": 255,
   "id": "1c2b7e7e-41a3-48bf-8154-13107b29c132",
   "metadata": {},
   "outputs": [],
   "source": [
    "# PREPARE DATA\n",
    "\n",
    "# Start dead reckoning from first GPS fix and filter for first 10 rows\n",
    "df = df.iloc[:10000]"
   ]
  },
  {
   "cell_type": "code",
   "execution_count": 256,
   "id": "f438511b-9f4b-4eb8-ad0d-30de97b5f64f",
   "metadata": {},
   "outputs": [
    {
     "data": {
      "text/plain": [
       "0           9\n",
       "1          10\n",
       "2          11\n",
       "3          12\n",
       "4          13\n",
       "        ...  \n",
       "9995    10004\n",
       "9996    10005\n",
       "9997    10006\n",
       "9998    10007\n",
       "9999    10008\n",
       "Name: rowID, Length: 10000, dtype: int64"
      ]
     },
     "execution_count": 256,
     "metadata": {},
     "output_type": "execute_result"
    }
   ],
   "source": [
    "df['rowID']"
   ]
  },
  {
   "cell_type": "code",
   "execution_count": 257,
   "id": "d3446024-1ebb-424b-bda9-da67c4d6fbae",
   "metadata": {},
   "outputs": [],
   "source": [
    "def draw_frame(fig, homo_trans, alpha = 1.):\n",
    "    \"\"\"fig = plotly figure object\n",
    "       homo_trans = homogenous transformation matrix (4x4)\"\"\"\n",
    "\n",
    "    x0 = homo_trans[0,3]\n",
    "    y0 = homo_trans[1,3]\n",
    "    z0 = homo_trans[2,3]\n",
    "    x1, y1, z1 =  np.eye(3) @ homo_trans[:3,:3]\n",
    "    x1 += homo_trans[0,-1]\n",
    "    y1 += homo_trans[1,-1]\n",
    "    z1 += homo_trans[2,-1]\n",
    "    fig.add_trace(go.Scatter3d(x=[x0, x1[0]], y=[y0, y1[0]], z=[z0, z1[0]], mode='lines', line=dict(color='rgba(255, 0, 0, ' +str(alpha) + ')', width=5)))\n",
    "    fig.add_trace(go.Scatter3d(x=[x0, x1[1]], y=[y0, y1[1]], z=[z0, z1[1]], mode='lines', line=dict(color='rgba(0, 255, 0, ' +str(alpha) + ')', width=5)))\n",
    "    fig.add_trace(go.Scatter3d(x=[x0, x1[2]], y=[y0, y1[2]], z=[z0, z1[2]], mode='lines', line=dict(color='rgba(0, 0, 255, ' +str(alpha) + ')', width=5)))"
   ]
  },
  {
   "cell_type": "code",
   "execution_count": 258,
   "id": "c64ae58e-546d-410e-88a8-625f5bffc898",
   "metadata": {},
   "outputs": [],
   "source": [
    "def get_translation_vector(heading,speed):\n",
    "    # Convert heading to radians\n",
    "    angle_radians = heading * math.pi/180 \n",
    "    # Calculate the components\n",
    "    vx = speed * math.cos(angle_radians)\n",
    "    vy = speed * math.sin(angle_radians)\n",
    "    # make vector\n",
    "    v = np.array([vx,vy,0])\n",
    "    return v"
   ]
  },
  {
   "cell_type": "code",
   "execution_count": 259,
   "id": "1b862542-1736-4fb5-897b-bfd746d9f936",
   "metadata": {},
   "outputs": [
    {
     "name": "stderr",
     "output_type": "stream",
     "text": [
      "/var/folders/bp/jpzs1ydd4dj8jj8kv5fx8wq80000gn/T/ipykernel_19620/803133699.py:4: FutureWarning:\n",
      "\n",
      "Calling float on a single element Series is deprecated and will raise a TypeError in the future. Use float(ser.iloc[0]) instead\n",
      "\n",
      "/var/folders/bp/jpzs1ydd4dj8jj8kv5fx8wq80000gn/T/ipykernel_19620/803133699.py:5: FutureWarning:\n",
      "\n",
      "Calling float on a single element Series is deprecated and will raise a TypeError in the future. Use float(ser.iloc[0]) instead\n",
      "\n",
      "/var/folders/bp/jpzs1ydd4dj8jj8kv5fx8wq80000gn/T/ipykernel_19620/803133699.py:10: FutureWarning:\n",
      "\n",
      "Calling float on a single element Series is deprecated and will raise a TypeError in the future. Use float(ser.iloc[0]) instead\n",
      "\n",
      "/var/folders/bp/jpzs1ydd4dj8jj8kv5fx8wq80000gn/T/ipykernel_19620/803133699.py:12: FutureWarning:\n",
      "\n",
      "Calling float on a single element Series is deprecated and will raise a TypeError in the future. Use float(ser.iloc[0]) instead\n",
      "\n"
     ]
    },
    {
     "data": {
      "application/vnd.plotly.v1+json": {
       "config": {
        "plotlyServerURL": "https://plot.ly"
       },
       "data": [
        {
         "line": {
          "color": "rgba(255, 0, 0, 0.0001)",
          "width": 5
         },
         "mode": "lines",
         "type": "scatter3d",
         "x": [
          0,
          1
         ],
         "y": [
          0,
          0
         ],
         "z": [
          0,
          0
         ]
        },
        {
         "line": {
          "color": "rgba(0, 255, 0, 0.0001)",
          "width": 5
         },
         "mode": "lines",
         "type": "scatter3d",
         "x": [
          0,
          0
         ],
         "y": [
          0,
          1
         ],
         "z": [
          0,
          0
         ]
        },
        {
         "line": {
          "color": "rgba(0, 0, 255, 0.0001)",
          "width": 5
         },
         "mode": "lines",
         "type": "scatter3d",
         "x": [
          0,
          0
         ],
         "y": [
          0,
          0
         ],
         "z": [
          0,
          1
         ]
        },
        {
         "line": {
          "color": "rgba(255, 0, 0, 0.000999900009999)",
          "width": 5
         },
         "mode": "lines",
         "type": "scatter3d",
         "x": [
          -0.014085865406208499,
          0.9755059841758462
         ],
         "y": [
          0.07607509229465745,
          0.09678306353542547
         ],
         "z": [
          0,
          0.14240488463483109
         ]
        },
        {
         "line": {
          "color": "rgba(0, 255, 0, 0.000999900009999)",
          "width": 5
         },
         "mode": "lines",
         "type": "scatter3d",
         "x": [
          -0.014085865406208499,
          -0.014085865406208499
         ],
         "y": [
          0.07607509229465745,
          1.0656669418767122
         ],
         "z": [
          0,
          -0.1439026450096315
         ]
        },
        {
         "line": {
          "color": "rgba(0, 0, 255, 0.000999900009999)",
          "width": 5
         },
         "mode": "lines",
         "type": "scatter3d",
         "x": [
          -0.014085865406208499,
          -0.15798851041584
         ],
         "y": [
          0.07607509229465745,
          0.21847997692948853
         ],
         "z": [
          0,
          0.9792920287592319
         ]
        },
        {
         "line": {
          "color": "rgba(255, 0, 0, 0.0059994000599940004)",
          "width": 5
         },
         "mode": "lines",
         "type": "scatter3d",
         "x": [
          -0.1507198829513837,
          -0.8365613405596124
         ],
         "y": [
          0.6129044375474297,
          0.655726469314389
         ],
         "z": [
          -0.035362302577206316,
          0.6911277308170373
         ]
        },
        {
         "line": {
          "color": "rgba(0, 255, 0, 0.0059994000599940004)",
          "width": 5
         },
         "mode": "lines",
         "type": "scatter3d",
         "x": [
          -0.1507198829513837,
          0.5362356904056174
         ],
         "y": [
          0.6129044375474297,
          0.32146219252526087
         ],
         "z": [
          -0.035362302577206316,
          0.6303354201545079
         ]
        },
        {
         "line": {
          "color": "rgba(0, 0, 255, 0.0059994000599940004)",
          "width": 5
         },
         "mode": "lines",
         "type": "scatter3d",
         "x": [
          -0.1507198829513837,
          0.08951653239727489
         ],
         "y": [
          0.6129044375474297,
          1.5685339114607166
         ],
         "z": [
          -0.035362302577206316,
          0.1351040381726312
         ]
        },
        {
         "line": {
          "color": "rgba(255, 0, 0, 0.010998900109989001)",
          "width": 5
         },
         "mode": "lines",
         "type": "scatter3d",
         "x": [
          -1.2366880571832017,
          -0.3962202805747419
         ],
         "y": [
          0.968591896767306,
          1.390424011378307
         ],
         "z": [
          0.2701537616252736,
          -0.06995149203253159
         ]
        },
        {
         "line": {
          "color": "rgba(0, 255, 0, 0.010998900109989001)",
          "width": 5
         },
         "mode": "lines",
         "type": "scatter3d",
         "x": [
          -1.2366880571832017,
          -1.1215192021502793
         ],
         "y": [
          0.968591896767306,
          1.4428463419791135
         ],
         "z": [
          0.2701537616252736,
          1.1429761124087805
         ]
        },
        {
         "line": {
          "color": "rgba(0, 0, 255, 0.010998900109989001)",
          "width": 5
         },
         "mode": "lines",
         "type": "scatter3d",
         "x": [
          -1.2366880571832017,
          -0.707207130885346
         ],
         "y": [
          0.968591896767306,
          0.1958433035756716
         ],
         "z": [
          0.2701537616252736,
          0.6201674190832538
         ]
        },
        {
         "line": {
          "color": "rgba(255, 0, 0, 0.015998400159984)",
          "width": 5
         },
         "mode": "lines",
         "type": "scatter3d",
         "x": [
          -2.2861812014129788,
          -2.3477903951843366
         ],
         "y": [
          1.6482517475590421,
          2.4740493713613843
         ],
         "z": [
          0.0458896319031933,
          0.6064809195319335
         ]
        },
        {
         "line": {
          "color": "rgba(0, 255, 0, 0.015998400159984)",
          "width": 5
         },
         "mode": "lines",
         "type": "scatter3d",
         "x": [
          -2.2861812014129788,
          -2.7816302318894093
         ],
         "y": [
          1.6482517475590421,
          2.1105235504904707
         ],
         "z": [
          0.0458896319031933,
          -0.6895252431261943
         ]
        },
        {
         "line": {
          "color": "rgba(0, 0, 255, 0.015998400159984)",
          "width": 5
         },
         "mode": "lines",
         "type": "scatter3d",
         "x": [
          -2.2861812014129788,
          -3.152630602960932
         ],
         "y": [
          1.6482517475590421,
          1.3251990200718256
         ],
         "z": [
          0.0458896319031933,
          0.42655007090396607
         ]
        },
        {
         "line": {
          "color": "rgba(255, 0, 0, 0.020997900209979003)",
          "width": 5
         },
         "mode": "lines",
         "type": "scatter3d",
         "x": [
          -1.3444532235785451,
          -1.622805608230296
         ],
         "y": [
          1.9419213494602399,
          1.0551993600296679
         ],
         "z": [
          -0.9101823428861598,
          -0.5410698079879668
         ]
        },
        {
         "line": {
          "color": "rgba(0, 255, 0, 0.020997900209979003)",
          "width": 5
         },
         "mode": "lines",
         "type": "scatter3d",
         "x": [
          -1.3444532235785451,
          -2.2077238345879837
         ],
         "y": [
          1.9419213494602399,
          2.3413583595858984
         ],
         "z": [
          -0.9101823428861598,
          -0.6016148022904839
         ]
        },
        {
         "line": {
          "color": "rgba(0, 0, 255, 0.020997900209979003)",
          "width": 5
         },
         "mode": "lines",
         "type": "scatter3d",
         "x": [
          -1.3444532235785451,
          -1.7655040543888785
         ],
         "y": [
          1.9419213494602399,
          1.7091678566783644
         ],
         "z": [
          -0.9101823428861598,
          -1.7868476207840387
         ]
        },
        {
         "line": {
          "color": "rgba(255, 0, 0, 0.025997400259974)",
          "width": 5
         },
         "mode": "lines",
         "type": "scatter3d",
         "x": [
          -1.464012056113065,
          -1.6180531827829556
         ],
         "y": [
          2.598726850155937,
          2.283132608224363
         ],
         "z": [
          -0.9332524582141597,
          -1.8695598894320833
         ]
        },
        {
         "line": {
          "color": "rgba(0, 255, 0, 0.025997400259974)",
          "width": 5
         },
         "mode": "lines",
         "type": "scatter3d",
         "x": [
          -1.464012056113065,
          -0.5720362382809413
         ],
         "y": [
          2.598726850155937,
          2.146678681812395
         ],
         "z": [
          -0.9332524582141597,
          -0.9276316130854049
         ]
        },
        {
         "line": {
          "color": "rgba(0, 0, 255, 0.025997400259974)",
          "width": 5
         },
         "mode": "lines",
         "type": "scatter3d",
         "x": [
          -1.464012056113065,
          -1.8890420217589972
         ],
         "y": [
          2.598726850155937,
          1.7644291047695049
         ],
         "z": [
          -0.9332524582141597,
          -0.582116017003437
         ]
        },
        {
         "line": {
          "color": "rgba(255, 0, 0, 0.030996900309969003)",
          "width": 5
         },
         "mode": "lines",
         "type": "scatter3d",
         "x": [
          -1.2657714066894374,
          -0.7425259110778348
         ],
         "y": [
          3.5246733566611765,
          3.863098483089875
         ],
         "z": [
          -1.1996771072609163,
          -1.9817784978260304
         ]
        },
        {
         "line": {
          "color": "rgba(0, 255, 0, 0.030996900309969003)",
          "width": 5
         },
         "mode": "lines",
         "type": "scatter3d",
         "x": [
          -1.2657714066894374,
          -1.2952388268712571
         ],
         "y": [
          3.5246733566611765,
          4.449073157856334
         ],
         "z": [
          -1.1996771072609163,
          -0.8193921105831825
         ]
        },
        {
         "line": {
          "color": "rgba(0, 0, 255, 0.030996900309969003)",
          "width": 5
         },
         "mode": "lines",
         "type": "scatter3d",
         "x": [
          -1.2657714066894374,
          -0.4140990386569916
         ],
         "y": [
          3.5246733566611765,
          3.3487374554014466
         ],
         "z": [
          -1.1996771072609163,
          -0.7060165597407293
         ]
        },
        {
         "line": {
          "color": "rgba(255, 0, 0, 0.035996400359964)",
          "width": 5
         },
         "mode": "lines",
         "type": "scatter3d",
         "x": [
          -1.0689500157488065,
          -1.3990561439472797
         ],
         "y": [
          3.0611794038855935,
          3.986790093656703
         ],
         "z": [
          -0.6862197811587387,
          -0.5010852487039119
         ]
        },
        {
         "line": {
          "color": "rgba(0, 255, 0, 0.035996400359964)",
          "width": 5
         },
         "mode": "lines",
         "type": "scatter3d",
         "x": [
          -1.0689500157488065,
          -0.2148305898048033
         ],
         "y": [
          3.0611794038855935,
          3.4375734982374286
         ],
         "z": [
          -0.6862197811587387,
          -1.0451173876736686
         ]
        },
        {
         "line": {
          "color": "rgba(0, 0, 255, 0.035996400359964)",
          "width": 5
         },
         "mode": "lines",
         "type": "scatter3d",
         "x": [
          -1.0689500157488065,
          -1.470833021548875
         ],
         "y": [
          3.0611794038855935,
          3.100832105161978
         ],
         "z": [
          -0.6862197811587387,
          -1.6010518493169263
         ]
        },
        {
         "line": {
          "color": "rgba(255, 0, 0, 0.040995900409959006)",
          "width": 5
         },
         "mode": "lines",
         "type": "scatter3d",
         "x": [
          -1.6912785149436278,
          -2.1282658706574438
         ],
         "y": [
          3.3439419576754306,
          2.675335012568111
         ],
         "z": [
          -0.8266911613108051,
          -0.22502114884508329
         ]
        },
        {
         "line": {
          "color": "rgba(0, 255, 0, 0.040995900409959006)",
          "width": 5
         },
         "mode": "lines",
         "type": "scatter3d",
         "x": [
          -1.6912785149436278,
          -1.3483809783697596
         ],
         "y": [
          3.3439419576754306,
          2.6017065478177788
         ],
         "z": [
          -0.8266911613108051,
          -1.4024583675365672
         ]
        },
        {
         "line": {
          "color": "rgba(0, 0, 255, 0.040995900409959006)",
          "width": 5
         },
         "mode": "lines",
         "type": "scatter3d",
         "x": [
          -1.6912785149436278,
          -0.8597357737944925
         ],
         "y": [
          3.3439419576754306,
          3.2986501338249687
         ],
         "z": [
          -0.8266911613108051,
          -0.2730799978264702
         ]
        },
        {
         "line": {
          "color": "rgba(255, 0, 0, 0.045995400459954004)",
          "width": 5
         },
         "mode": "lines",
         "type": "scatter3d",
         "x": [
          -1.4511751832357067,
          -1.3146349088993978
         ],
         "y": [
          2.60281411655303,
          1.742251050097861
         ],
         "z": [
          0.0688185819634631,
          -0.42188291807239775
         ]
        },
        {
         "line": {
          "color": "rgba(0, 255, 0, 0.045995400459954004)",
          "width": 5
         },
         "mode": "lines",
         "type": "scatter3d",
         "x": [
          -1.4511751832357067,
          -2.4343220381744635
         ],
         "y": [
          2.60281411655303,
          2.545885614625398
         ],
         "z": [
          0.0688185819634631,
          -0.10490938726517068
         ]
        },
        {
         "line": {
          "color": "rgba(0, 0, 255, 0.045995400459954004)",
          "width": 5
         },
         "mode": "lines",
         "type": "scatter3d",
         "x": [
          -1.4511751832357067,
          -1.3296062105979678
         ],
         "y": [
          2.60281411655303,
          3.1089666176053816
         ],
         "z": [
          0.0688185819634631,
          -0.7850143235691425
         ]
        },
        {
         "line": {
          "color": "rgba(255, 0, 0, 0.050994900509949)",
          "width": 5
         },
         "mode": "lines",
         "type": "scatter3d",
         "x": [
          -0.9726596408734917,
          -0.00014350285993858236
         ],
         "y": [
          3.695929514338321,
          3.5798122602914635
         ],
         "z": [
          1.4115687178275935,
          1.6133833471680321
         ]
        },
        {
         "line": {
          "color": "rgba(0, 255, 0, 0.050994900509949)",
          "width": 5
         },
         "mode": "lines",
         "type": "scatter3d",
         "x": [
          -0.9726596408734917,
          -0.9487920717960869
         ],
         "y": [
          3.695929514338321,
          2.883443132274347
         ],
         "z": [
          1.4115687178275935,
          0.8290773289582554
         ]
        },
        {
         "line": {
          "color": "rgba(0, 0, 255, 0.050994900509949)",
          "width": 5
         },
         "mode": "lines",
         "type": "scatter3d",
         "x": [
          -0.9726596408734917,
          -0.7410507022516494
         ],
         "y": [
          3.695929514338321,
          4.267228614874292
         ],
         "z": [
          1.4115687178275935,
          0.6241840359361741
         ]
        },
        {
         "line": {
          "color": "rgba(255, 0, 0, 0.05599440055994401)",
          "width": 5
         },
         "mode": "lines",
         "type": "scatter3d",
         "x": [
          -1.3798469575423173,
          -2.320894821087702
         ],
         "y": [
          3.5685005375922683,
          3.7161755164218406
         ],
         "z": [
          1.6919151916711206,
          1.3875781759396302
         ]
        },
        {
         "line": {
          "color": "rgba(0, 255, 0, 0.05599440055994401)",
          "width": 5
         },
         "mode": "lines",
         "type": "scatter3d",
         "x": [
          -1.3798469575423173,
          -1.1090613255030228
         ],
         "y": [
          3.5685005375922683,
          4.436572799707081
         ],
         "z": [
          1.6919151916711206,
          1.2758314390107341
         ]
        },
        {
         "line": {
          "color": "rgba(0, 0, 255, 0.05599440055994401)",
          "width": 5
         },
         "mode": "lines",
         "type": "scatter3d",
         "x": [
          -1.3798469575423173,
          -1.1771055952164617
         ],
         "y": [
          3.5685005375922683,
          3.094535719937459
         ],
         "z": [
          1.6919151916711206,
          0.8350293815262085
         ]
        },
        {
         "line": {
          "color": "rgba(255, 0, 0, 0.060993900609939006)",
          "width": 5
         },
         "mode": "lines",
         "type": "scatter3d",
         "x": [
          -1.890314171590478,
          -1.7905445086916172
         ],
         "y": [
          4.185563486799554,
          3.6409522956272418
         ],
         "z": [
          1.391126579257319,
          0.5583933297620651
         ]
        },
        {
         "line": {
          "color": "rgba(0, 255, 0, 0.060993900609939006)",
          "width": 5
         },
         "mode": "lines",
         "type": "scatter3d",
         "x": [
          -1.890314171590478,
          -2.044784496371804
         ],
         "y": [
          4.185563486799554,
          3.3503235675382568
         ],
         "z": [
          1.391126579257319,
          1.9188700738020934
         ]
        },
        {
         "line": {
          "color": "rgba(0, 0, 255, 0.060993900609939006)",
          "width": 5
         },
         "mode": "lines",
         "type": "scatter3d",
         "x": [
          -1.890314171590478,
          -2.8732612368625587
         ],
         "y": [
          4.185563486799554,
          4.261543271757496
         ],
         "z": [
          1.391126579257319,
          1.2236687064930165
         ]
        },
        {
         "line": {
          "color": "rgba(255, 0, 0, 0.065993400659934)",
          "width": 5
         },
         "mode": "lines",
         "type": "scatter3d",
         "x": [
          -2.1585786265499625,
          -3.0521005625587123
         ],
         "y": [
          4.144610104184921,
          4.574846519249066
         ],
         "z": [
          0.994411365859744,
          0.8658999771662701
         ]
        },
        {
         "line": {
          "color": "rgba(0, 255, 0, 0.065993400659934)",
          "width": 5
         },
         "mode": "lines",
         "type": "scatter3d",
         "x": [
          -2.1585786265499625,
          -2.6049984431423403
         ],
         "y": [
          4.144610104184921,
          3.3241757501880826
         ],
         "z": [
          0.994411365859744,
          1.35161833406643
         ]
        },
        {
         "line": {
          "color": "rgba(0, 0, 255, 0.065993400659934)",
          "width": 5
         },
         "mode": "lines",
         "type": "scatter3d",
         "x": [
          -2.1585786265499625,
          -2.110330339276755
         ],
         "y": [
          4.144610104184921,
          4.52115239654335
         ],
         "z": [
          0.994411365859744,
          1.9195535197153895
         ]
        },
        {
         "line": {
          "color": "rgba(255, 0, 0, 0.070992900709929)",
          "width": 5
         },
         "mode": "lines",
         "type": "scatter3d",
         "x": [
          -1.8928678453906163,
          -2.2249267117098723
         ],
         "y": [
          3.3078359595883136,
          2.3696058518110346
         ],
         "z": [
          1.6850393415071288,
          1.5877707743386695
         ]
        },
        {
         "line": {
          "color": "rgba(0, 255, 0, 0.070992900709929)",
          "width": 5
         },
         "mode": "lines",
         "type": "scatter3d",
         "x": [
          -1.8928678453906163,
          -1.358514272795604
         ],
         "y": [
          3.3078359595883136,
          3.0357511054702435
         ],
         "z": [
          1.6850393415071288,
          2.485311852352337
         ]
        },
        {
         "line": {
          "color": "rgba(0, 0, 255, 0.070992900709929)",
          "width": 5
         },
         "mode": "lines",
         "type": "scatter3d",
         "x": [
          -1.8928678453906163,
          -2.670172913400413
         ],
         "y": [
          3.3078359595883136,
          3.5215977359183768
         ],
         "z": [
          1.6850393415071288,
          2.27673413971521
         ]
        },
        {
         "line": {
          "color": "rgba(255, 0, 0, 0.07599240075992401)",
          "width": 5
         },
         "mode": "lines",
         "type": "scatter3d",
         "x": [
          -2.276596837792446,
          -2.1902100001676605
         ],
         "y": [
          3.8545277638042346,
          4.374150815269314
         ],
         "z": [
          1.0157410503133546,
          0.16572387479787898
         ]
        },
        {
         "line": {
          "color": "rgba(0, 255, 0, 0.07599240075992401)",
          "width": 5
         },
         "mode": "lines",
         "type": "scatter3d",
         "x": [
          -2.276596837792446,
          -2.836518452951136
         ],
         "y": [
          3.8545277638042346,
          4.585556773466475
         ],
         "z": [
          1.0157410503133546,
          1.4057210137862615
         ]
        },
        {
         "line": {
          "color": "rgba(0, 0, 255, 0.07599240075992401)",
          "width": 5
         },
         "mode": "lines",
         "type": "scatter3d",
         "x": [
          -2.276596837792446,
          -1.4525670451494428
         ],
         "y": [
          3.8545277638042346,
          4.2967816178500335
         ],
         "z": [
          1.0157410503133546,
          1.36984051292007
         ]
        },
        {
         "line": {
          "color": "rgba(255, 0, 0, 0.08099190080991901)",
          "width": 5
         },
         "mode": "lines",
         "type": "scatter3d",
         "x": [
          -2.3316672702925296,
          -2.716463649556702
         ],
         "y": [
          3.9401326676932036,
          4.362676501736548
         ],
         "z": [
          1.2674926633497463,
          2.0880951583600513
         ]
        },
        {
         "line": {
          "color": "rgba(0, 255, 0, 0.08099190080991901)",
          "width": 5
         },
         "mode": "lines",
         "type": "scatter3d",
         "x": [
          -2.3316672702925296,
          -1.549199487970553
         ],
         "y": [
          3.9401326676932036,
          4.561032181681647
         ],
         "z": [
          1.2674926633497463,
          1.3146939679613694
         ]
        },
        {
         "line": {
          "color": "rgba(0, 0, 255, 0.08099190080991901)",
          "width": 5
         },
         "mode": "lines",
         "type": "scatter3d",
         "x": [
          -2.3316672702925296,
          -2.8212343403996885
         ],
         "y": [
          3.9401326676932036,
          4.600390573242895
         ],
         "z": [
          1.2674926633497463,
          0.697945841722389
         ]
        },
        {
         "line": {
          "color": "rgba(255, 0, 0, 0.08599140085991401)",
          "width": 5
         },
         "mode": "lines",
         "type": "scatter3d",
         "x": [
          -1.8643471958169016,
          -2.442307733226847
         ],
         "y": [
          3.6787891670230484,
          4.461098110766786
         ],
         "z": [
          0.9605484271069877,
          0.728267705273766
         ]
        },
        {
         "line": {
          "color": "rgba(0, 255, 0, 0.08599140085991401)",
          "width": 5
         },
         "mode": "lines",
         "type": "scatter3d",
         "x": [
          -1.8643471958169016,
          -2.665354393025648
         ],
         "y": [
          3.6787891670230484,
          3.189384353142414
         ],
         "z": [
          0.9605484271069877,
          1.3053242936786567
         ]
        },
        {
         "line": {
          "color": "rgba(0, 0, 255, 0.08599140085991401)",
          "width": 5
         },
         "mode": "lines",
         "type": "scatter3d",
         "x": [
          -1.8643471958169016,
          -1.7083052552477365
         ],
         "y": [
          3.6787891670230484,
          4.064114542114046
         ],
         "z": [
          0.9605484271069877,
          1.8700401907279636
         ]
        },
        {
         "line": {
          "color": "rgba(255, 0, 0, 0.09099090090990901)",
          "width": 5
         },
         "mode": "lines",
         "type": "scatter3d",
         "x": [
          -1.391044356345824,
          -1.4117207405840388
         ],
         "y": [
          3.350057585266344,
          2.3505274433534993
         ],
         "z": [
          0.624246650097816,
          0.6016196188625483
         ]
        },
        {
         "line": {
          "color": "rgba(0, 255, 0, 0.09099090090990901)",
          "width": 5
         },
         "mode": "lines",
         "type": "scatter3d",
         "x": [
          -1.391044356345824,
          -1.0435851377004903
         ],
         "y": [
          3.350057585266344,
          3.36409485915824
         ],
         "z": [
          0.624246650097816,
          -0.3133433702842584
         ]
        },
        {
         "line": {
          "color": "rgba(0, 0, 255, 0.09099090090990901)",
          "width": 5
         },
         "mode": "lines",
         "type": "scatter3d",
         "x": [
          -1.391044356345824,
          -0.4535772483824547
         ],
         "y": [
          3.350057585266344,
          3.3228096431537386
         ],
         "z": [
          0.624246650097816,
          0.9712523721506664
         ]
        },
        {
         "line": {
          "color": "rgba(255, 0, 0, 0.09599040095990401)",
          "width": 5
         },
         "mode": "lines",
         "type": "scatter3d",
         "x": [
          -1.278333228969764,
          -0.3784822171476695
         ],
         "y": [
          2.524997766980256,
          2.927012838697866
         ],
         "z": [
          1.7119637961177077,
          1.881232926896567
         ]
        },
        {
         "line": {
          "color": "rgba(0, 255, 0, 0.09599040095990401)",
          "width": 5
         },
         "mode": "lines",
         "type": "scatter3d",
         "x": [
          -1.278333228969764,
          -1.5883005275727724
         ],
         "y": [
          2.524997766980256,
          3.387363456603543
         ],
         "z": [
          1.7119637961177077,
          1.3116567999793673
         ]
        },
        {
         "line": {
          "color": "rgba(0, 0, 255, 0.09599040095990401)",
          "width": 5
         },
         "mode": "lines",
         "type": "scatter3d",
         "x": [
          -1.278333228969764,
          -1.5852345654274267
         ],
         "y": [
          2.524997766980256,
          2.832746527290406
         ],
         "z": [
          1.7119637961177077,
          2.6125759602638885
         ]
        },
        {
         "line": {
          "color": "rgba(255, 0, 0, 0.100989901009899)",
          "width": 5
         },
         "mode": "lines",
         "type": "scatter3d",
         "x": [
          -0.494298862635685,
          -0.638293605792063
         ],
         "y": [
          2.114085800742775,
          2.9335998544930044
         ],
         "z": [
          1.2167900825004057,
          1.771463166081352
         ]
        },
        {
         "line": {
          "color": "rgba(0, 255, 0, 0.100989901009899)",
          "width": 5
         },
         "mode": "lines",
         "type": "scatter3d",
         "x": [
          -0.494298862635685,
          -0.451370547049639
         ],
         "y": [
          2.114085800742775,
          1.5592719888953361
         ],
         "z": [
          1.2167900825004057,
          2.047656373731585
         ]
        },
        {
         "line": {
          "color": "rgba(0, 0, 255, 0.100989901009899)",
          "width": 5
         },
         "mode": "lines",
         "type": "scatter3d",
         "x": [
          -0.494298862635685,
          0.49434802764631436
         ],
         "y": [
          2.114085800742775,
          2.257537360124948
         ],
         "z": [
          1.2167900825004057,
          1.261499996910398
         ]
        },
        {
         "line": {
          "color": "rgba(255, 0, 0, 0.10598940105989402)",
          "width": 5
         },
         "mode": "lines",
         "type": "scatter3d",
         "x": [
          -0.6855452509854365,
          -0.20482269657548036
         ],
         "y": [
          2.138943788473927,
          1.950907318122656
         ],
         "z": [
          0.4694021465440459,
          -0.38707208628459144
         ]
        },
        {
         "line": {
          "color": "rgba(0, 255, 0, 0.10598940105989402)",
          "width": 5
         },
         "mode": "lines",
         "type": "scatter3d",
         "x": [
          -0.6855452509854365,
          0.14890893327826082
         ],
         "y": [
          2.138943788473927,
          2.537156676807257
         ],
         "z": [
          0.4694021465440459,
          0.850338768477444
         ]
        },
        {
         "line": {
          "color": "rgba(0, 0, 255, 0.10598940105989402)",
          "width": 5
         },
         "mode": "lines",
         "type": "scatter3d",
         "x": [
          -0.6855452509854365,
          -0.4161161507635642
         ],
         "y": [
          2.138943788473927,
          1.241130455211907
         ],
         "z": [
          0.4694021465440459,
          0.817739882901404
         ]
        },
        {
         "line": {
          "color": "rgba(255, 0, 0, 0.11098890110988902)",
          "width": 5
         },
         "mode": "lines",
         "type": "scatter3d",
         "x": [
          -0.6003723698691152,
          -1.3655433098323082
         ],
         "y": [
          1.2808691112301087,
          1.9231549130596601
         ],
         "z": [
          0.20499532369215034,
          0.2495192656111821
         ]
        },
        {
         "line": {
          "color": "rgba(0, 255, 0, 0.11098890110988902)",
          "width": 5
         },
         "mode": "lines",
         "type": "scatter3d",
         "x": [
          -0.6003723698691152,
          0.0028763661943655983
         ],
         "y": [
          1.2808691112301087,
          2.020260168438921
         ],
         "z": [
          0.20499532369215034,
          -0.0939893363782956
         ]
        },
        {
         "line": {
          "color": "rgba(0, 0, 255, 0.11098890110988902)",
          "width": 5
         },
         "mode": "lines",
         "type": "scatter3d",
         "x": [
          -0.6003723698691152,
          -0.8253265764838125
         ],
         "y": [
          1.2808691112301087,
          1.0789537495366457
         ],
         "z": [
          0.20499532369215034,
          -0.7482233246978974
         ]
        },
        {
         "line": {
          "color": "rgba(255, 0, 0, 0.11598840115988401)",
          "width": 5
         },
         "mode": "lines",
         "type": "scatter3d",
         "x": [
          -1.1969241050692947,
          -2.138996020397604
         ],
         "y": [
          0.767665940470652,
          0.4377116259814723
         ],
         "z": [
          0.7450482238938093,
          0.6847932929784262
         ]
        },
        {
         "line": {
          "color": "rgba(0, 255, 0, 0.11598840115988401)",
          "width": 5
         },
         "mode": "lines",
         "type": "scatter3d",
         "x": [
          -1.1969241050692947,
          -1.3167112736083129
         ],
         "y": [
          0.767665940470652,
          0.930841837520618
         ],
         "z": [
          0.7450482238938093,
          1.724346268860379
         ]
        },
        {
         "line": {
          "color": "rgba(0, 0, 255, 0.11598840115988401)",
          "width": 5
         },
         "mode": "lines",
         "type": "scatter3d",
         "x": [
          -1.1969241050692947,
          -1.5102155677730325
         ],
         "y": [
          0.767665940470652,
          1.6974528929344466
         ],
         "z": [
          0.7450482238938093,
          0.5518005009446447
         ]
        },
        {
         "line": {
          "color": "rgba(255, 0, 0, 0.12098790120987901)",
          "width": 5
         },
         "mode": "lines",
         "type": "scatter3d",
         "x": [
          -1.6644827658145782,
          -2.310491249138871
         ],
         "y": [
          0.4351165823512869,
          -0.2871248144504227
         ],
         "z": [
          -0.3063148821014658,
          -0.059251318986718676
         ]
        },
        {
         "line": {
          "color": "rgba(0, 255, 0, 0.12098790120987901)",
          "width": 5
         },
         "mode": "lines",
         "type": "scatter3d",
         "x": [
          -1.6644827658145782,
          -1.4856281479435867
         ],
         "y": [
          0.4351165823512869,
          0.6065544525186779
         ],
         "z": [
          -0.3063148821014658,
          0.6625091898221682
         ]
        },
        {
         "line": {
          "color": "rgba(0, 0, 255, 0.12098790120987901)",
          "width": 5
         },
         "mode": "lines",
         "type": "scatter3d",
         "x": [
          -1.6644827658145782,
          -2.4065636678321822
         ],
         "y": [
          0.4351165823512869,
          1.1051736108334749
         ],
         "z": [
          -0.3063148821014658,
          -0.2878889915570645
         ]
        },
        {
         "line": {
          "color": "rgba(255, 0, 0, 0.125987401259874)",
          "width": 5
         },
         "mode": "lines",
         "type": "scatter3d",
         "x": [
          -1.7773020742238823,
          -1.7542819052051193
         ],
         "y": [
          0.7315947380311454,
          1.5182576983860043
         ],
         "z": [
          -0.07964469290312023,
          0.5373086753704308
         ]
        },
        {
         "line": {
          "color": "rgba(0, 255, 0, 0.125987401259874)",
          "width": 5
         },
         "mode": "lines",
         "type": "scatter3d",
         "x": [
          -1.7773020742238823,
          -2.5426317627227806
         ],
         "y": [
          0.7315947380311454,
          0.348410264422277
         ],
         "z": [
          -0.07964469290312023,
          0.4375014441676962
         ]
        },
        {
         "line": {
          "color": "rgba(0, 0, 255, 0.125987401259874)",
          "width": 5
         },
         "mode": "lines",
         "type": "scatter3d",
         "x": [
          -1.7773020742238823,
          -1.134075411436557
         ],
         "y": [
          0.7315947380311454,
          0.2475172173892336
         ],
         "z": [
          -0.07964469290312023,
          0.5135908541510441
         ]
        },
        {
         "line": {
          "color": "rgba(255, 0, 0, 0.130986901309869)",
          "width": 5
         },
         "mode": "lines",
         "type": "scatter3d",
         "x": [
          -2.586894683804238,
          -2.4074039074058198
         ],
         "y": [
          -0.6646409923882126,
          0.2427038792489773
         ],
         "z": [
          1.069572875082309,
          0.6894303424691071
         ]
        },
        {
         "line": {
          "color": "rgba(0, 255, 0, 0.130986901309869)",
          "width": 5
         },
         "mode": "lines",
         "type": "scatter3d",
         "x": [
          -2.586894683804238,
          -3.289186186377747
         ],
         "y": [
          -0.6646409923882126,
          -0.27586410721749943
         ],
         "z": [
          1.069572875082309,
          1.665927785324525
         ]
        },
        {
         "line": {
          "color": "rgba(0, 0, 255, 0.130986901309869)",
          "width": 5
         },
         "mode": "lines",
         "type": "scatter3d",
         "x": [
          -2.586894683804238,
          -1.8980044845700434
         ],
         "y": [
          -0.6646409923882126,
          -0.5047103278155699
         ],
         "z": [
          1.069572875082309,
          1.7765753333018126
         ]
        },
        {
         "line": {
          "color": "rgba(255, 0, 0, 0.135986401359864)",
          "width": 5
         },
         "mode": "lines",
         "type": "scatter3d",
         "x": [
          -2.9475058645319625,
          -3.941898060784048
         ],
         "y": [
          -1.087291674544563,
          -1.1394122864500926
         ],
         "z": [
          1.7230831514244513,
          1.8151027246007059
         ]
        },
        {
         "line": {
          "color": "rgba(0, 255, 0, 0.135986401359864)",
          "width": 5
         },
         "mode": "lines",
         "type": "scatter3d",
         "x": [
          -2.9475058645319625,
          -2.9513952981381406
         ],
         "y": [
          -1.087291674544563,
          -0.1997376237012951
         ],
         "z": [
          1.7230831514244513,
          2.1837703328588085
         ]
        },
        {
         "line": {
          "color": "rgba(0, 0, 255, 0.135986401359864)",
          "width": 5
         },
         "mode": "lines",
         "type": "scatter3d",
         "x": [
          -2.9475058645319625,
          -3.053189507254808
         ],
         "y": [
          -1.087291674544563,
          -0.6295458404332106
         ],
         "z": [
          1.7230831514244513,
          0.8403036098544566
         ]
        },
        {
         "line": {
          "color": "rgba(255, 0, 0, 0.140985901409859)",
          "width": 5
         },
         "mode": "lines",
         "type": "scatter3d",
         "x": [
          -2.702101730782865,
          -2.1459321232570696
         ],
         "y": [
          -0.010416412790226901,
          0.18979160444125523
         ],
         "z": [
          1.2524022988870123,
          2.058995205811467
         ]
        },
        {
         "line": {
          "color": "rgba(0, 255, 0, 0.140985901409859)",
          "width": 5
         },
         "mode": "lines",
         "type": "scatter3d",
         "x": [
          -2.702101730782865,
          -3.1246353151737125
         ],
         "y": [
          -0.010416412790226901,
          -0.7780437139204783
         ],
         "z": [
          1.2524022988870123,
          1.7342878627103169
         ]
        },
        {
         "line": {
          "color": "rgba(0, 0, 255, 0.140985901409859)",
          "width": 5
         },
         "mode": "lines",
         "type": "scatter3d",
         "x": [
          -2.702101730782865,
          -1.9864616412641052
         ],
         "y": [
          -0.010416412790226901,
          -0.6192391098012071
         ],
         "z": [
          1.2524022988870123,
          0.9100659352359126
         ]
        },
        {
         "line": {
          "color": "rgba(255, 0, 0, 0.145985401459854)",
          "width": 5
         },
         "mode": "lines",
         "type": "scatter3d",
         "x": [
          -4.034807729886869,
          -4.394710903075158
         ],
         "y": [
          0.7496369000366299,
          -0.09258082146264623
         ],
         "z": [
          3.9009585250725194,
          4.302379769554626
         ]
        },
        {
         "line": {
          "color": "rgba(0, 255, 0, 0.145985401459854)",
          "width": 5
         },
         "mode": "lines",
         "type": "scatter3d",
         "x": [
          -4.034807729886869,
          -3.3493638169201176
         ],
         "y": [
          0.7496369000366299,
          0.21905836794378142
         ],
         "z": [
          3.9009585250725194,
          3.4023072807553842
         ]
        },
        {
         "line": {
          "color": "rgba(0, 0, 255, 0.145985401459854)",
          "width": 5
         },
         "mode": "lines",
         "type": "scatter3d",
         "x": [
          -4.034807729886869,
          -3.401849320427115
         ],
         "y": [
          0.7496369000366299,
          0.8453224834584039
         ],
         "z": [
          3.9009585250725194,
          4.66920843299273
         ]
        },
        {
         "line": {
          "color": "rgba(255, 0, 0, 0.15098490150984903)",
          "width": 5
         },
         "mode": "lines",
         "type": "scatter3d",
         "x": [
          -4.072931681601452,
          -5.0169234977328365
         ],
         "y": [
          1.4896824718207313,
          1.7552269038245891
         ],
         "z": [
          3.6990654574062805,
          3.8949368583527053
         ]
        },
        {
         "line": {
          "color": "rgba(0, 255, 0, 0.15098490150984903)",
          "width": 5
         },
         "mode": "lines",
         "type": "scatter3d",
         "x": [
          -4.072931681601452,
          -3.9488232754824555
         ],
         "y": [
          1.4896824718207313,
          2.325433104768245
         ],
         "z": [
          3.6990654574062805,
          3.1641654825900263
         ]
        },
        {
         "line": {
          "color": "rgba(0, 0, 255, 0.15098490150984903)",
          "width": 5
         },
         "mode": "lines",
         "type": "scatter3d",
         "x": [
          -4.072931681601452,
          -4.3786710389102
         ],
         "y": [
          1.4896824718207313,
          1.009050560521056
         ],
         "z": [
          3.6990654574062805,
          2.877167403367424
         ]
        },
        {
         "line": {
          "color": "rgba(255, 0, 0, 0.15598440155984403)",
          "width": 5
         },
         "mode": "lines",
         "type": "scatter3d",
         "x": [
          -3.518566411515646,
          -2.553171343838662
         ],
         "y": [
          3.146041878508751,
          3.3969666579261304
         ],
         "z": [
          4.134960836329628,
          4.063903687644332
         ]
        },
        {
         "line": {
          "color": "rgba(0, 255, 0, 0.15598440155984403)",
          "width": 5
         },
         "mode": "lines",
         "type": "scatter3d",
         "x": [
          -3.518566411515646,
          -3.4416105416058276
         ],
         "y": [
          3.146041878508751,
          3.13228023497238
         ],
         "z": [
          4.134960836329628,
          5.131900358694754
         ]
        },
        {
         "line": {
          "color": "rgba(0, 0, 255, 0.15598440155984403)",
          "width": 5
         },
         "mode": "lines",
         "type": "scatter3d",
         "x": [
          -3.518566411515646,
          -3.269387444924626
         ],
         "y": [
          3.146041878508751,
          2.17813311615482
         ],
         "z": [
          4.134960836329628,
          4.102365278854489
         ]
        },
        {
         "line": {
          "color": "rgba(255, 0, 0, 0.16098390160983903)",
          "width": 5
         },
         "mode": "lines",
         "type": "scatter3d",
         "x": [
          -3.1527276378574807,
          -2.896736199278687
         ],
         "y": [
          2.497309122070733,
          2.070282334359091
         ],
         "z": [
          3.8243606530089744,
          4.691607161189339
         ]
        },
        {
         "line": {
          "color": "rgba(0, 255, 0, 0.16098390160983903)",
          "width": 5
         },
         "mode": "lines",
         "type": "scatter3d",
         "x": [
          -3.1527276378574807,
          -4.1156822189968745
         ],
         "y": [
          2.497309122070733,
          2.3059846280200187
         ],
         "z": [
          3.8243606530089744,
          4.014395946149189
         ]
        },
        {
         "line": {
          "color": "rgba(0, 0, 255, 0.16098390160983903)",
          "width": 5
         },
         "mode": "lines",
         "type": "scatter3d",
         "x": [
          -3.1527276378574807,
          -3.0679522992441273
         ],
         "y": [
          2.497309122070733,
          1.613542715969598
         ],
         "z": [
          3.8243606530089744,
          3.3641758190454016
         ]
        },
        {
         "line": {
          "color": "rgba(255, 0, 0, 0.16598340165983402)",
          "width": 5
         },
         "mode": "lines",
         "type": "scatter3d",
         "x": [
          -3.435373009786178,
          -2.6772366702439556
         ],
         "y": [
          2.980521965685917,
          3.0417495046253347
         ],
         "z": [
          4.117623363842156,
          4.766838643345758
         ]
        },
        {
         "line": {
          "color": "rgba(0, 255, 0, 0.16598340165983402)",
          "width": 5
         },
         "mode": "lines",
         "type": "scatter3d",
         "x": [
          -3.435373009786178,
          -4.009078053925031
         ],
         "y": [
          2.980521965685917,
          2.569878919592157
         ],
         "z": [
          4.117623363842156,
          4.826308633213882
         ]
        },
        {
         "line": {
          "color": "rgba(0, 0, 255, 0.16598340165983402)",
          "width": 5
         },
         "mode": "lines",
         "type": "scatter3d",
         "x": [
          -3.435373009786178,
          -3.1253862149139584
         ],
         "y": [
          2.980521965685917,
          2.070783829093709
         ],
         "z": [
          4.117623363842156,
          3.8414264959479123
         ]
        },
        {
         "line": {
          "color": "rgba(255, 0, 0, 0.17098290170982902)",
          "width": 5
         },
         "mode": "lines",
         "type": "scatter3d",
         "x": [
          -3.5488808366770654,
          -2.9783286817145758
         ],
         "y": [
          3.0937719010140166,
          2.464952707222618
         ],
         "z": [
          4.189954687620193,
          4.718212825264274
         ]
        },
        {
         "line": {
          "color": "rgba(0, 255, 0, 0.17098290170982902)",
          "width": 5
         },
         "mode": "lines",
         "type": "scatter3d",
         "x": [
          -3.5488808366770654,
          -4.1353362438587355
         ],
         "y": [
          3.0937719010140166,
          2.33152247163233
         ],
         "z": [
          4.189954687620193,
          3.916009688040578
         ]
        },
        {
         "line": {
          "color": "rgba(0, 0, 255, 0.17098290170982902)",
          "width": 5
         },
         "mode": "lines",
         "type": "scatter3d",
         "x": [
          -3.5488808366770654,
          -2.9739544989127964
         ],
         "y": [
          3.0937719010140166,
          2.9402719696562696
         ],
         "z": [
          4.189954687620193,
          3.3862772167289545
         ]
        },
        {
         "line": {
          "color": "rgba(255, 0, 0, 0.17598240175982402)",
          "width": 5
         },
         "mode": "lines",
         "type": "scatter3d",
         "x": [
          -3.897706274266115,
          -4.114146052659077
         ],
         "y": [
          3.0556067337502686,
          3.0909052029129254
         ],
         "z": [
          4.134955514107309,
          3.159297869026832
         ]
        },
        {
         "line": {
          "color": "rgba(0, 255, 0, 0.17598240175982402)",
          "width": 5
         },
         "mode": "lines",
         "type": "scatter3d",
         "x": [
          -3.897706274266115,
          -3.1168092812245525
         ],
         "y": [
          3.0556067337502686,
          2.4620675674492247
         ],
         "z": [
          4.134955514107309,
          3.9402476705947547
         ]
        },
        {
         "line": {
          "color": "rgba(0, 0, 255, 0.17598240175982402)",
          "width": 5
         },
         "mode": "lines",
         "type": "scatter3d",
         "x": [
          -3.897706274266115,
          -4.483670188332371
         ],
         "y": [
          3.0556067337502686,
          2.251576089967683
         ],
         "z": [
          4.134955514107309,
          4.23585653130096
         ]
        },
        {
         "line": {
          "color": "rgba(255, 0, 0, 0.18098190180981902)",
          "width": 5
         },
         "mode": "lines",
         "type": "scatter3d",
         "x": [
          -3.3574957601697197,
          -4.265952484032095
         ],
         "y": [
          3.4606911396629894,
          3.7988578571829943
         ],
         "z": [
          4.766907302574086,
          4.521245640870467
         ]
        },
        {
         "line": {
          "color": "rgba(0, 255, 0, 0.18098190180981902)",
          "width": 5
         },
         "mode": "lines",
         "type": "scatter3d",
         "x": [
          -3.3574957601697197,
          -2.945760104835369
         ],
         "y": [
          3.4606911396629894,
          4.285905864060516
         ],
         "z": [
          4.766907302574086,
          4.380262234373409
         ]
        },
        {
         "line": {
          "color": "rgba(0, 0, 255, 0.18098190180981902)",
          "width": 5
         },
         "mode": "lines",
         "type": "scatter3d",
         "x": [
          -3.3574957601697197,
          -3.285522633270649
         ],
         "y": [
          3.4606911396629894,
          3.008293162435789
         ],
         "z": [
          4.766907302574086,
          3.878000142514546
         ]
        },
        {
         "line": {
          "color": "rgba(255, 0, 0, 0.18598140185981402)",
          "width": 5
         },
         "mode": "lines",
         "type": "scatter3d",
         "x": [
          -3.871233966470014,
          -3.7150014327402383
         ],
         "y": [
          3.8803813952084316,
          3.4579084904270534
         ],
         "z": [
          4.58288512676684,
          3.690076054159506
         ]
        },
        {
         "line": {
          "color": "rgba(0, 255, 0, 0.18598140185981402)",
          "width": 5
         },
         "mode": "lines",
         "type": "scatter3d",
         "x": [
          -3.871233966470014,
          -4.229793611172232
         ],
         "y": [
          3.8803813952084316,
          4.69836918296261
         ],
         "z": [
          4.58288512676684,
          4.133072987895463
         ]
        },
        {
         "line": {
          "color": "rgba(0, 0, 255, 0.18598140185981402)",
          "width": 5
         },
         "mode": "lines",
         "type": "scatter3d",
         "x": [
          -3.871233966470014,
          -2.950893607366172
         ],
         "y": [
          3.8803813952084316,
          4.270781989227718
         ],
         "z": [
          4.58288512676684,
          4.559199696772963
         ]
        },
        {
         "line": {
          "color": "rgba(255, 0, 0, 0.19098090190980901)",
          "width": 5
         },
         "mode": "lines",
         "type": "scatter3d",
         "x": [
          -3.5306805354638806,
          -3.9374551242665103
         ],
         "y": [
          4.351866345343536,
          5.129235276155116
         ],
         "z": [
          4.273656397780552,
          3.7938314512497238
         ]
        },
        {
         "line": {
          "color": "rgba(0, 255, 0, 0.19098090190980901)",
          "width": 5
         },
         "mode": "lines",
         "type": "scatter3d",
         "x": [
          -3.5306805354638806,
          -4.084370603366127
         ],
         "y": [
          4.351866345343536,
          3.7242948773033335
         ],
         "z": [
          4.273656397780552,
          3.7263161368748934
         ]
        },
        {
         "line": {
          "color": "rgba(0, 0, 255, 0.19098090190980901)",
          "width": 5
         },
         "mode": "lines",
         "type": "scatter3d",
         "x": [
          -3.5306805354638806,
          -4.257290294970905
         ],
         "y": [
          4.351866345343536,
          4.394896543004363
         ],
         "z": [
          4.273656397780552,
          4.959357979723031
         ]
        },
        {
         "line": {
          "color": "rgba(255, 0, 0, 0.195980401959804)",
          "width": 5
         },
         "mode": "lines",
         "type": "scatter3d",
         "x": [
          -4.080341182526047,
          -4.85964516664838
         ],
         "y": [
          4.271315809926777,
          3.7806303403723738
         ],
         "z": [
          4.0357872486350646,
          4.4255475214942095
         ]
        },
        {
         "line": {
          "color": "rgba(0, 255, 0, 0.195980401959804)",
          "width": 5
         },
         "mode": "lines",
         "type": "scatter3d",
         "x": [
          -4.080341182526047,
          -4.360991997026077
         ],
         "y": [
          4.271315809926777,
          3.988498286281561
         ],
         "z": [
          4.0357872486350646,
          3.1185907764222325
         ]
        },
        {
         "line": {
          "color": "rgba(0, 0, 255, 0.195980401959804)",
          "width": 5
         },
         "mode": "lines",
         "type": "scatter3d",
         "x": [
          -4.080341182526047,
          -3.5200551656993477
         ],
         "y": [
          4.271315809926777,
          3.4471544068706956
         ],
         "z": [
          4.0357872486350646,
          4.1184767948976155
         ]
        },
        {
         "line": {
          "color": "rgba(255, 0, 0, 0.200979902009799)",
          "width": 5
         },
         "mode": "lines",
         "type": "scatter3d",
         "x": [
          -5.34901495472901,
          -6.158776818619202
         ],
         "y": [
          4.2297472559197145,
          4.791045593070385
         ],
         "z": [
          3.374724447994211,
          3.5456919902382817
         ]
        },
        {
         "line": {
          "color": "rgba(0, 255, 0, 0.200979902009799)",
          "width": 5
         },
         "mode": "lines",
         "type": "scatter3d",
         "x": [
          -5.34901495472901,
          -5.902790690573983
         ],
         "y": [
          4.2297472559197145,
          3.59498032395547
         ],
         "z": [
          3.374724447994211,
          2.83583357177337
         ]
        },
        {
         "line": {
          "color": "rgba(0, 0, 255, 0.200979902009799)",
          "width": 5
         },
         "mode": "lines",
         "type": "scatter3d",
         "x": [
          -5.34901495472901,
          -5.542968965201699
         ],
         "y": [
          4.2297472559197145,
          3.698696299045895
         ],
         "z": [
          3.374724447994211,
          4.199567901641607
         ]
        },
        {
         "line": {
          "color": "rgba(255, 0, 0, 0.205979402059794)",
          "width": 5
         },
         "mode": "lines",
         "type": "scatter3d",
         "x": [
          -5.894361987776572,
          -6.783938139084696
         ],
         "y": [
          4.1714448914794025,
          4.367696047219981
         ],
         "z": [
          3.2104354959496293,
          3.62291550139755
         ]
        },
        {
         "line": {
          "color": "rgba(0, 255, 0, 0.205979402059794)",
          "width": 5
         },
         "mode": "lines",
         "type": "scatter3d",
         "x": [
          -5.894361987776572,
          -6.2766991234554785
         ],
         "y": [
          4.1714448914794025,
          3.357438389338217
         ],
         "z": [
          3.2104354959496293,
          2.773157861999834
         ]
        },
        {
         "line": {
          "color": "rgba(0, 0, 255, 0.205979402059794)",
          "width": 5
         },
         "mode": "lines",
         "type": "scatter3d",
         "x": [
          -5.894361987776572,
          -5.644416822380888
         ],
         "y": [
          4.1714448914794025,
          3.624746713009447
         ],
         "z": [
          3.2104354959496293,
          4.009590372023697
         ]
        },
        {
         "line": {
          "color": "rgba(255, 0, 0, 0.21097890210978903)",
          "width": 5
         },
         "mode": "lines",
         "type": "scatter3d",
         "x": [
          -6.006311220015887,
          -5.91226384964414
         ],
         "y": [
          4.212201393070268,
          5.11382245696244
         ],
         "z": [
          3.099081375884453,
          3.521259714116199
         ]
        },
        {
         "line": {
          "color": "rgba(0, 255, 0, 0.21097890210978903)",
          "width": 5
         },
         "mode": "lines",
         "type": "scatter3d",
         "x": [
          -6.006311220015887,
          -5.9866311180807985
         ],
         "y": [
          4.212201393070268,
          3.7865427062590826
         ],
         "z": [
          3.099081375884453,
          4.003751136587222
         ]
        },
        {
         "line": {
          "color": "rgba(0, 0, 255, 0.21097890210978903)",
          "width": 5
         },
         "mode": "lines",
         "type": "scatter3d",
         "x": [
          -6.006311220015887,
          -5.010938030848132
         ],
         "y": [
          4.212201393070268,
          4.135428093752521
         ],
         "z": [
          3.099081375884453,
          3.041305301269748
         ]
        },
        {
         "line": {
          "color": "rgba(255, 0, 0, 0.21597840215978403)",
          "width": 5
         },
         "mode": "lines",
         "type": "scatter3d",
         "x": [
          -6.293034752652708,
          -5.743749674589374
         ],
         "y": [
          4.482336903018516,
          4.722602766015343
         ],
         "z": [
          3.8059172816976914,
          3.0055684714309727
         ]
        },
        {
         "line": {
          "color": "rgba(0, 255, 0, 0.21597840215978403)",
          "width": 5
         },
         "mode": "lines",
         "type": "scatter3d",
         "x": [
          -6.293034752652708,
          -6.680237756624574
         ],
         "y": [
          4.482336903018516,
          5.404265480902596
         ],
         "z": [
          3.8059172816976914,
          3.816941391449008
         ]
        },
        {
         "line": {
          "color": "rgba(0, 0, 255, 0.21597840215978403)",
          "width": 5
         },
         "mode": "lines",
         "type": "scatter3d",
         "x": [
          -6.293034752652708,
          -5.5525215949491304
         ],
         "y": [
          4.482336903018516,
          4.786178987593771
         ],
         "z": [
          3.8059172816976914,
          4.405350556473831
         ]
        },
        {
         "line": {
          "color": "rgba(255, 0, 0, 0.22097790220977903)",
          "width": 5
         },
         "mode": "lines",
         "type": "scatter3d",
         "x": [
          -6.379802927013498,
          -5.677529707544267
         ],
         "y": [
          4.73905199055484,
          4.131184367622598
         ],
         "z": [
          3.521760220399701,
          3.1512075544977596
         ]
        },
        {
         "line": {
          "color": "rgba(0, 255, 0, 0.22097790220977903)",
          "width": 5
         },
         "mode": "lines",
         "type": "scatter3d",
         "x": [
          -6.379802927013498,
          -5.708980015403334
         ],
         "y": [
          4.73905199055484,
          5.129822236373447
         ],
         "z": [
          3.521760220399701,
          4.152073821904329
         ]
        },
        {
         "line": {
          "color": "rgba(0, 0, 255, 0.22097790220977903)",
          "width": 5
         },
         "mode": "lines",
         "type": "scatter3d",
         "x": [
          -6.379802927013498,
          -6.618149201318734
         ],
         "y": [
          4.73905199055484,
          4.0478244101056955
         ],
         "z": [
          3.521760220399701,
          4.203959227692468
         ]
        },
        {
         "line": {
          "color": "rgba(255, 0, 0, 0.22597740225977403)",
          "width": 5
         },
         "mode": "lines",
         "type": "scatter3d",
         "x": [
          -5.256315211672199,
          -4.4656791601084525
         ],
         "y": [
          3.7267740885033493,
          4.263972460023152
         ],
         "z": [
          3.747876151116348,
          4.041666116234575
         ]
        },
        {
         "line": {
          "color": "rgba(0, 255, 0, 0.22597740225977403)",
          "width": 5
         },
         "mode": "lines",
         "type": "scatter3d",
         "x": [
          -5.256315211672199,
          -4.729710651345366
         ],
         "y": [
          3.7267740885033493,
          3.374970361801647
         ],
         "z": [
          3.747876151116348,
          2.973975786132722
         ]
        },
        {
         "line": {
          "color": "rgba(0, 0, 255, 0.22597740225977403)",
          "width": 5
         },
         "mode": "lines",
         "type": "scatter3d",
         "x": [
          -5.256315211672199,
          -5.568696822863826
         ],
         "y": [
          3.7267740885033493,
          4.49335875278726
         ],
         "z": [
          3.747876151116348,
          3.186836329469034
         ]
        },
        {
         "line": {
          "color": "rgba(255, 0, 0, 0.23097690230976903)",
          "width": 5
         },
         "mode": "lines",
         "type": "scatter3d",
         "x": [
          -5.484697999738686,
          -4.8248188728934265
         ],
         "y": [
          3.631521691298679,
          3.080406793940539
         ],
         "z": [
          4.557603293178213,
          4.046886240531764
         ]
        },
        {
         "line": {
          "color": "rgba(0, 255, 0, 0.23097690230976903)",
          "width": 5
         },
         "mode": "lines",
         "type": "scatter3d",
         "x": [
          -5.484697999738686,
          -6.171585606403176
         ],
         "y": [
          3.631521691298679,
          2.913556783912559
         ],
         "z": [
          4.557603293178213,
          4.444856641020481
         ]
        },
        {
         "line": {
          "color": "rgba(0, 0, 255, 0.23097690230976903)",
          "width": 5
         },
         "mode": "lines",
         "type": "scatter3d",
         "x": [
          -5.484697999738686,
          -5.789238561511121
         ],
         "y": [
          3.631521691298679,
          4.056726067654305
         ],
         "z": [
          4.557603293178213,
          3.705279244143248
         ]
        },
        {
         "line": {
          "color": "rgba(255, 0, 0, 0.23597640235976403)",
          "width": 5
         },
         "mode": "lines",
         "type": "scatter3d",
         "x": [
          -5.625741233800961,
          -4.9256875010276
         ],
         "y": [
          4.182306471668687,
          4.407463671922072
         ],
         "z": [
          4.7215440885378746,
          5.399208464467543
         ]
        },
        {
         "line": {
          "color": "rgba(0, 255, 0, 0.23597640235976403)",
          "width": 5
         },
         "mode": "lines",
         "type": "scatter3d",
         "x": [
          -5.625741233800961,
          -4.938068980336399
         ],
         "y": [
          4.182306471668687,
          4.22547892157432
         ],
         "z": [
          4.7215440885378746,
          3.9968075768426767
         ]
        },
        {
         "line": {
          "color": "rgba(0, 0, 255, 0.23597640235976403)",
          "width": 5
         },
         "mode": "lines",
         "type": "scatter3d",
         "x": [
          -5.625741233800961,
          -5.818177309018311
         ],
         "y": [
          4.182306471668687,
          5.155671960446265
         ],
         "z": [
          4.7215440885378746,
          4.596932763965275
         ]
        },
        {
         "line": {
          "color": "rgba(255, 0, 0, 0.24097590240975902)",
          "width": 5
         },
         "mode": "lines",
         "type": "scatter3d",
         "x": [
          -5.187830756662954,
          -4.98229399804583
         ],
         "y": [
          4.477473989632741,
          5.361593445831845
         ],
         "z": [
          4.6032656506103065,
          5.022893376133038
         ]
        },
        {
         "line": {
          "color": "rgba(0, 255, 0, 0.24097590240975902)",
          "width": 5
         },
         "mode": "lines",
         "type": "scatter3d",
         "x": [
          -5.187830756662954,
          -4.209654559187213
         ],
         "y": [
          4.477473989632741,
          4.305212652997946
         ],
         "z": [
          4.6032656506103065,
          4.487087517587341
         ]
        },
        {
         "line": {
          "color": "rgba(0, 0, 255, 0.24097590240975902)",
          "width": 5
         },
         "mode": "lines",
         "type": "scatter3d",
         "x": [
          -5.187830756662954,
          -5.2182604715658805
         ],
         "y": [
          4.477473989632741,
          4.911822719423682
         ],
         "z": [
          4.6032656506103065,
          3.703035006064184
         ]
        },
        {
         "line": {
          "color": "rgba(255, 0, 0, 0.24597540245975402)",
          "width": 5
         },
         "mode": "lines",
         "type": "scatter3d",
         "x": [
          -4.843448553247477,
          -4.087996898089612
         ],
         "y": [
          4.8382434212780945,
          4.853261042479902
         ],
         "z": [
          4.546349459664727,
          3.8913171949840537
         ]
        },
        {
         "line": {
          "color": "rgba(0, 255, 0, 0.24597540245975402)",
          "width": 5
         },
         "mode": "lines",
         "type": "scatter3d",
         "x": [
          -4.843448553247477,
          -4.953614379145603
         ],
         "y": [
          4.8382434212780945,
          5.826659035421119
         ],
         "z": [
          4.546349459664727,
          4.441955664243441
         ]
        },
        {
         "line": {
          "color": "rgba(0, 0, 255, 0.24597540245975402)",
          "width": 5
         },
         "mode": "lines",
         "type": "scatter3d",
         "x": [
          -4.843448553247477,
          -4.197572181545095
         ],
         "y": [
          4.8382434212780945,
          4.989270057245788
         ],
         "z": [
          4.546349459664727,
          5.294704099995672
         ]
        },
        {
         "line": {
          "color": "rgba(255, 0, 0, 0.250974902509749)",
          "width": 5
         },
         "mode": "lines",
         "type": "scatter3d",
         "x": [
          -4.499819310084864,
          -3.9284278882803156
         ],
         "y": [
          5.199098665269489,
          5.5957902489437
         ],
         "z": [
          4.479667611496035,
          5.198101763336156
         ]
        },
        {
         "line": {
          "color": "rgba(0, 255, 0, 0.250974902509749)",
          "width": 5
         },
         "mode": "lines",
         "type": "scatter3d",
         "x": [
          -4.499819310084864,
          -3.7271064178401403
         ],
         "y": [
          5.199098665269489,
          5.23393975199985
         ],
         "z": [
          4.479667611496035,
          3.845868838355655
         ]
        },
        {
         "line": {
          "color": "rgba(0, 0, 255, 0.250974902509749)",
          "width": 5
         },
         "mode": "lines",
         "type": "scatter3d",
         "x": [
          -4.499819310084864,
          -4.776272975727006
         ],
         "y": [
          5.199098665269489,
          6.116389178747908
         ],
         "z": [
          4.479667611496035,
          4.19304680863008
         ]
        },
        {
         "line": {
          "color": "rgba(255, 0, 0, 0.255974402559744)",
          "width": 5
         },
         "mode": "lines",
         "type": "scatter3d",
         "x": [
          -4.112083210183448,
          -4.129368736615124
         ],
         "y": [
          5.543577581091268,
          6.381704425287634
         ],
         "z": [
          4.483113156023698,
          3.9379117220440882
         ]
        },
        {
         "line": {
          "color": "rgba(0, 255, 0, 0.255974402559744)",
          "width": 5
         },
         "mode": "lines",
         "type": "scatter3d",
         "x": [
          -4.112083210183448,
          -3.667891831244401
         ],
         "y": [
          5.543577581091268,
          6.038533127108671
         ],
         "z": [
          4.483113156023698,
          5.22991502154283
         ]
        },
        {
         "line": {
          "color": "rgba(0, 0, 255, 0.255974402559744)",
          "width": 5
         },
         "mode": "lines",
         "type": "scatter3d",
         "x": [
          -4.112083210183448,
          -3.2163180459510947
         ],
         "y": [
          5.543577581091268,
          5.314312667717974
         ],
         "z": [
          4.483113156023698,
          4.102268870201092
         ]
        },
        {
         "line": {
          "color": "rgba(255, 0, 0, 0.260973902609739)",
          "width": 5
         },
         "mode": "lines",
         "type": "scatter3d",
         "x": [
          -3.7966337043543885,
          -3.13225227800955
         ],
         "y": [
          5.955698391139378,
          6.217470156968368
         ],
         "z": [
          4.460998016912809,
          3.760945973888308
         ]
        },
        {
         "line": {
          "color": "rgba(0, 255, 0, 0.260973902609739)",
          "width": 5
         },
         "mode": "lines",
         "type": "scatter3d",
         "x": [
          -3.7966337043543885,
          -3.9941596097207155
         ],
         "y": [
          5.955698391139378,
          6.920551174996377
         ],
         "z": [
          4.460998016912809,
          4.634326093670791
         ]
        },
        {
         "line": {
          "color": "rgba(0, 0, 255, 0.260973902609739)",
          "width": 5
         },
         "mode": "lines",
         "type": "scatter3d",
         "x": [
          -3.7966337043543885,
          -3.075814145076745
         ],
         "y": [
          5.955698391139378,
          5.978820849879269
         ],
         "z": [
          4.460998016912809,
          5.153734990709222
         ]
        },
        {
         "line": {
          "color": "rgba(255, 0, 0, 0.265973402659734)",
          "width": 5
         },
         "mode": "lines",
         "type": "scatter3d",
         "x": [
          -3.48828887451755,
          -3.4600569687972813
         ],
         "y": [
          6.3411976803099375,
          7.081427940342767
         ],
         "z": [
          4.450546748810103,
          3.7787862843355007
         ]
        },
        {
         "line": {
          "color": "rgba(0, 255, 0, 0.265973402659734)",
          "width": 5
         },
         "mode": "lines",
         "type": "scatter3d",
         "x": [
          -3.48828887451755,
          -3.1809584716957673
         ],
         "y": [
          6.3411976803099375,
          6.974247420729684
         ],
         "z": [
          4.450546748810103,
          5.1610367555349725
         ]
        },
        {
         "line": {
          "color": "rgba(0, 0, 255, 0.265973402659734)",
          "width": 5
         },
         "mode": "lines",
         "type": "scatter3d",
         "x": [
          -3.48828887451755,
          -2.5371048844289836
         ],
         "y": [
          6.3411976803099375,
          6.11468677927816
         ],
         "z": [
          4.450546748810103,
          4.240923685401108
         ]
        },
        {
         "line": {
          "color": "rgba(255, 0, 0, 0.270972902709729)",
          "width": 5
         },
         "mode": "lines",
         "type": "scatter3d",
         "x": [
          -3.4504486235521497,
          -3.1936730815487224
         ],
         "y": [
          8.23974310916011,
          8.222660064983677
         ],
         "z": [
          5.41707663494761,
          4.4507565582491475
         ]
        },
        {
         "line": {
          "color": "rgba(0, 255, 0, 0.270972902709729)",
          "width": 5
         },
         "mode": "lines",
         "type": "scatter3d",
         "x": [
          -3.4504486235521497,
          -3.5822835602322107
         ],
         "y": [
          8.23974310916011,
          7.24862609594039
         ],
         "z": [
          5.41707663494761,
          5.3995661930058665
         ]
        },
        {
         "line": {
          "color": "rgba(0, 0, 255, 0.270972902709729)",
          "width": 5
         },
         "mode": "lines",
         "type": "scatter3d",
         "x": [
          -3.4504486235521497,
          -4.407885760130533
         ],
         "y": [
          8.23974310916011,
          8.371634108504631
         ],
         "z": [
          5.41707663494761,
          5.160329884641999
         ]
        },
        {
         "line": {
          "color": "rgba(255, 0, 0, 0.275972402759724)",
          "width": 5
         },
         "mode": "lines",
         "type": "scatter3d",
         "x": [
          -3.20497443537167,
          -3.8534362758231784
         ],
         "y": [
          7.654157380583221,
          7.541453357655352
         ],
         "z": [
          4.848714092748026,
          5.601572010747248
         ]
        },
        {
         "line": {
          "color": "rgba(0, 255, 0, 0.275972402759724)",
          "width": 5
         },
         "mode": "lines",
         "type": "scatter3d",
         "x": [
          -3.20497443537167,
          -3.0601992282001236
         ],
         "y": [
          7.654157380583221,
          8.60682848203378
         ],
         "z": [
          4.848714092748026,
          5.116030219925989
         ]
        },
        {
         "line": {
          "color": "rgba(0, 0, 255, 0.275972402759724)",
          "width": 5
         },
         "mode": "lines",
         "type": "scatter3d",
         "x": [
          -3.20497443537167,
          -3.952328020274212
         ],
         "y": [
          7.654157380583221,
          7.936496849444484
         ],
         "z": [
          4.848714092748026,
          4.247259985224883
         ]
        },
        {
         "line": {
          "color": "rgba(255, 0, 0, 0.280971902809719)",
          "width": 5
         },
         "mode": "lines",
         "type": "scatter3d",
         "x": [
          -3.4875033068950696,
          -4.2417586814556625
         ],
         "y": [
          8.1350108236873,
          7.969339006030344
         ],
         "z": [
          5.546036923393602,
          6.181372802107143
         ]
        },
        {
         "line": {
          "color": "rgba(0, 255, 0, 0.280971902809719)",
          "width": 5
         },
         "mode": "lines",
         "type": "scatter3d",
         "x": [
          -3.4875033068950696,
          -3.8084872160984067
         ],
         "y": [
          8.1350108236873,
          9.07218016049713
         ],
         "z": [
          5.546036923393602,
          5.409351283416408
         ]
        },
        {
         "line": {
          "color": "rgba(0, 0, 255, 0.280971902809719)",
          "width": 5
         },
         "mode": "lines",
         "type": "scatter3d",
         "x": [
          -3.4875033068950696,
          -4.060275652577897
         ],
         "y": [
          8.1350108236873,
          7.8279823511026345
         ],
         "z": [
          5.546036923393602,
          4.78599392655505
         ]
        },
        {
         "line": {
          "color": "rgba(255, 0, 0, 0.285971402859714)",
          "width": 5
         },
         "mode": "lines",
         "type": "scatter3d",
         "x": [
          -4.231728509897671,
          -3.353899140721877
         ],
         "y": [
          7.482877844237185,
          7.189070992662071
         ],
         "z": [
          4.38797217120957,
          4.009695641961514
         ]
        },
        {
         "line": {
          "color": "rgba(0, 255, 0, 0.285971402859714)",
          "width": 5
         },
         "mode": "lines",
         "type": "scatter3d",
         "x": [
          -4.231728509897671,
          -3.9168528530680646
         ],
         "y": [
          7.482877844237185,
          8.431988709715531
         ],
         "z": [
          4.38797217120957,
          4.381500249773573
         ]
        },
        {
         "line": {
          "color": "rgba(0, 0, 255, 0.285971402859714)",
          "width": 5
         },
         "mode": "lines",
         "type": "scatter3d",
         "x": [
          -4.231728509897671,
          -3.8708006509721558
         ],
         "y": [
          7.482877844237185,
          7.369449016338502
         ],
         "z": [
          4.38797217120957,
          5.313642188901069
         ]
        },
        {
         "line": {
          "color": "rgba(255, 0, 0, 0.290970902909709)",
          "width": 5
         },
         "mode": "lines",
         "type": "scatter3d",
         "x": [
          -4.376010098689828,
          -4.642208055287567
         ],
         "y": [
          6.892269481289072,
          5.928524560663291
         ],
         "z": [
          4.15516942011092,
          4.1734553674804005
         ]
        },
        {
         "line": {
          "color": "rgba(0, 255, 0, 0.290970902909709)",
          "width": 5
         },
         "mode": "lines",
         "type": "scatter3d",
         "x": [
          -4.376010098689828,
          -3.994894437711835
         ],
         "y": [
          6.892269481289072,
          6.769613966465612
         ],
         "z": [
          4.15516942011092,
          3.2388144246857244
         ]
        },
        {
         "line": {
          "color": "rgba(0, 0, 255, 0.290970902909709)",
          "width": 5
         },
         "mode": "lines",
         "type": "scatter3d",
         "x": [
          -4.376010098689828,
          -3.4906347540701006
         ],
         "y": [
          6.892269481289072,
          6.655306714907085
         ],
         "z": [
          4.15516942011092,
          4.555118349960843
         ]
        },
        {
         "line": {
          "color": "rgba(255, 0, 0, 0.295970402959704)",
          "width": 5
         },
         "mode": "lines",
         "type": "scatter3d",
         "x": [
          -4.987689229687751,
          -4.61811322177382
         ],
         "y": [
          6.55979180587609,
          6.432368509571138
         ],
         "z": [
          3.6597062109903624,
          4.580128330418828
         ]
        },
        {
         "line": {
          "color": "rgba(0, 255, 0, 0.295970402959704)",
          "width": 5
         },
         "mode": "lines",
         "type": "scatter3d",
         "x": [
          -4.987689229687751,
          -4.068105159574782
         ],
         "y": [
          6.55979180587609,
          6.75208872875837
         ],
         "z": [
          3.6597062109903624,
          3.3170883021699433
         ]
        },
        {
         "line": {
          "color": "rgba(0, 0, 255, 0.295970402959704)",
          "width": 5
         },
         "mode": "lines",
         "type": "scatter3d",
         "x": [
          -4.987689229687751,
          -5.121026067691626
         ],
         "y": [
          6.55979180587609,
          7.532820683663791
         ],
         "z": [
          3.6597062109903624,
          3.847950973526655
         ]
        },
        {
         "line": {
          "color": "rgba(255, 0, 0, 0.300969903009699)",
          "width": 5
         },
         "mode": "lines",
         "type": "scatter3d",
         "x": [
          -4.526056117486296,
          -4.340726186237079
         ],
         "y": [
          6.600606408488348,
          6.806164275531936
         ],
         "z": [
          5.130518846919162,
          4.16958243909622
         ]
        },
        {
         "line": {
          "color": "rgba(0, 255, 0, 0.300969903009699)",
          "width": 5
         },
         "mode": "lines",
         "type": "scatter3d",
         "x": [
          -4.526056117486296,
          -4.614783048904035
         ],
         "y": [
          6.600606408488348,
          7.577989359756949
         ],
         "z": [
          5.130518846919162,
          5.3224826409290715
         ]
        },
        {
         "line": {
          "color": "rgba(0, 0, 255, 0.300969903009699)",
          "width": 5
         },
         "mode": "lines",
         "type": "scatter3d",
         "x": [
          -4.526056117486296,
          -3.547393587180595
         ],
         "y": [
          6.600606408488348,
          6.650290710495866
         ],
         "z": [
          5.130518846919162,
          5.329895680853478
         ]
        },
        {
         "line": {
          "color": "rgba(255, 0, 0, 0.30596940305969406)",
          "width": 5
         },
         "mode": "lines",
         "type": "scatter3d",
         "x": [
          -3.153869097649019,
          -2.6551852255006545
         ],
         "y": [
          7.463856489165754,
          7.13849136059161
         ],
         "z": [
          5.675479209646701,
          4.872078980142713
         ]
        },
        {
         "line": {
          "color": "rgba(0, 255, 0, 0.30596940305969406)",
          "width": 5
         },
         "mode": "lines",
         "type": "scatter3d",
         "x": [
          -3.153869097649019,
          -2.8632830804180385
         ],
         "y": [
          7.463856489165754,
          6.653374516879258
         ],
         "z": [
          5.675479209646701,
          6.184083908001356
         ]
        },
        {
         "line": {
          "color": "rgba(0, 0, 255, 0.30596940305969406)",
          "width": 5
         },
         "mode": "lines",
         "type": "scatter3d",
         "x": [
          -3.153869097649019,
          -3.9704927332664033
         ],
         "y": [
          7.463856489165754,
          6.976766655863387
         ],
         "z": [
          5.675479209646701,
          5.365851478258634
         ]
        },
        {
         "line": {
          "color": "rgba(255, 0, 0, 0.31096890310968905)",
          "width": 5
         },
         "mode": "lines",
         "type": "scatter3d",
         "x": [
          -2.8061756390503763,
          -2.7945519896362407
         ],
         "y": [
          7.152059006102999,
          6.15340084489174
         ],
         "z": [
          5.609403084668709,
          5.659868595866449
         ]
        },
        {
         "line": {
          "color": "rgba(0, 255, 0, 0.31096890310968905)",
          "width": 5
         },
         "mode": "lines",
         "type": "scatter3d",
         "x": [
          -2.8061756390503763,
          -1.8143175735748236
         ],
         "y": [
          7.152059006102999,
          7.1699748353111845
         ],
         "z": [
          5.609403084668709,
          5.735484808224833
         ]
        },
        {
         "line": {
          "color": "rgba(0, 0, 255, 0.31096890310968905)",
          "width": 5
         },
         "mode": "lines",
         "type": "scatter3d",
         "x": [
          -2.8061756390503763,
          -2.9329923127388065
         ],
         "y": [
          7.152059006102999,
          7.200648100660684
         ],
         "z": [
          5.609403084668709,
          6.600138483836761
         ]
        },
        {
         "line": {
          "color": "rgba(255, 0, 0, 0.31596840315968405)",
          "width": 5
         },
         "mode": "lines",
         "type": "scatter3d",
         "x": [
          -2.449988452249531,
          -1.5682396565574659
         ],
         "y": [
          6.915562493418793,
          6.797738263145054
         ],
         "z": [
          5.5219370762842805,
          5.978704535781999
         ]
        },
        {
         "line": {
          "color": "rgba(0, 255, 0, 0.31596840315968405)",
          "width": 5
         },
         "mode": "lines",
         "type": "scatter3d",
         "x": [
          -2.449988452249531,
          -2.030538106465968
         ],
         "y": [
          6.915562493418793,
          6.668371962663636
         ],
         "z": [
          5.5219370762842805,
          4.648462263294776
         ]
        },
        {
         "line": {
          "color": "rgba(0, 0, 255, 0.31596840315968405)",
          "width": 5
         },
         "mode": "lines",
         "type": "scatter3d",
         "x": [
          -2.449988452249531,
          -2.2341633640006218
         ],
         "y": [
          6.915562493418793,
          7.87733912666863
         ],
         "z": [
          5.5219370762842805,
          5.353398537614447
         ]
        },
        {
         "line": {
          "color": "rgba(255, 0, 0, 0.32096790320967905)",
          "width": 5
         },
         "mode": "lines",
         "type": "scatter3d",
         "x": [
          -3.582662666511242,
          -4.519003327695319
         ],
         "y": [
          5.42172832608937,
          5.120766518615099
         ],
         "z": [
          6.561956699141147,
          6.742755362452553
         ]
        },
        {
         "line": {
          "color": "rgba(0, 255, 0, 0.32096790320967905)",
          "width": 5
         },
         "mode": "lines",
         "type": "scatter3d",
         "x": [
          -3.582662666511242,
          -3.919175421076722
         ],
         "y": [
          5.42172832608937,
          6.044181991581138
         ],
         "z": [
          6.561956699141147,
          5.855337565285701
         ]
        },
        {
         "line": {
          "color": "rgba(0, 0, 255, 0.32096790320967905)",
          "width": 5
         },
         "mode": "lines",
         "type": "scatter3d",
         "x": [
          -3.582662666511242,
          -3.482536085484397
         ],
         "y": [
          5.42172832608937,
          4.699251042877163
         ],
         "z": [
          6.561956699141147,
          5.877850535585956
         ]
        },
        {
         "line": {
          "color": "rgba(255, 0, 0, 0.32596740325967405)",
          "width": 5
         },
         "mode": "lines",
         "type": "scatter3d",
         "x": [
          -3.3734971789368093,
          -2.5727898489655354
         ],
         "y": [
          4.520807744883857,
          5.113825056409279
         ],
         "z": [
          6.586073941414526,
          6.670916383396351
         ]
        },
        {
         "line": {
          "color": "rgba(0, 255, 0, 0.32596740325967405)",
          "width": 5
         },
         "mode": "lines",
         "type": "scatter3d",
         "x": [
          -3.3734971789368093,
          -3.7483071814912474
         ],
         "y": [
          4.520807744883857,
          4.906253203796056
         ],
         "z": [
          6.586073941414526,
          7.429252012873411
         ]
        },
        {
         "line": {
          "color": "rgba(0, 0, 255, 0.32596740325967405)",
          "width": 5
         },
         "mode": "lines",
         "type": "scatter3d",
         "x": [
          -3.3734971789368093,
          -2.90618011984799
         ],
         "y": [
          4.520807744883857,
          3.813869086699759
         ],
         "z": [
          6.586073941414526,
          7.116971765717327
         ]
        },
        {
         "line": {
          "color": "rgba(255, 0, 0, 0.33096690330966905)",
          "width": 5
         },
         "mode": "lines",
         "type": "scatter3d",
         "x": [
          -3.410636385567128,
          -3.6283926546237715
         ],
         "y": [
          4.48784177400594,
          4.350582251721288
         ],
         "z": [
          6.525813863481519,
          5.559510582503579
         ]
        },
        {
         "line": {
          "color": "rgba(0, 255, 0, 0.33096690330966905)",
          "width": 5
         },
         "mode": "lines",
         "type": "scatter3d",
         "x": [
          -3.410636385567128,
          -3.4546415525468914
         ],
         "y": [
          4.48784177400594,
          5.478277298825569
         ],
         "z": [
          6.525813863481519,
          6.395043008722679
         ]
        },
        {
         "line": {
          "color": "rgba(0, 0, 255, 0.33096690330966905)",
          "width": 5
         },
         "mode": "lines",
         "type": "scatter3d",
         "x": [
          -3.410636385567128,
          -2.435625743283865
         ],
         "y": [
          4.48784177400594,
          4.50188793780483
         ],
         "z": [
          6.525813863481519,
          6.304100190657937
         ]
        },
        {
         "line": {
          "color": "rgba(255, 0, 0, 0.33596640335966405)",
          "width": 5
         },
         "mode": "lines",
         "type": "scatter3d",
         "x": [
          -3.4350794367424986,
          -2.546543604175862
         ],
         "y": [
          4.690639635141818,
          4.294794367505377
         ],
         "z": [
          6.276002683824026,
          6.507973799127107
         ]
        },
        {
         "line": {
          "color": "rgba(0, 255, 0, 0.33596640335966405)",
          "width": 5
         },
         "mode": "lines",
         "type": "scatter3d",
         "x": [
          -3.4350794367424986,
          -3.65525225605802
         ],
         "y": [
          4.690639635141818,
          4.766338231292141
         ],
         "z": [
          6.276002683824026,
          7.248521913544209
         ]
        },
        {
         "line": {
          "color": "rgba(0, 0, 255, 0.33596640335966405)",
          "width": 5
         },
         "mode": "lines",
         "type": "scatter3d",
         "x": [
          -3.4350794367424986,
          -3.8376064592885317
         ],
         "y": [
          4.690639635141818,
          3.775447717219289
         ],
         "z": [
          6.276002683824026,
          6.256109230390352
         ]
        },
        {
         "line": {
          "color": "rgba(255, 0, 0, 0.34096590340965904)",
          "width": 5
         },
         "mode": "lines",
         "type": "scatter3d",
         "x": [
          -2.63671832664299,
          -2.044803552706435
         ],
         "y": [
          3.8947118676265626,
          4.145765939048719
         ],
         "z": [
          7.332017899464786,
          8.097921779607724
         ]
        },
        {
         "line": {
          "color": "rgba(0, 255, 0, 0.34096590340965904)",
          "width": 5
         },
         "mode": "lines",
         "type": "scatter3d",
         "x": [
          -2.63671832664299,
          -2.1258864955131584
         ],
         "y": [
          3.8947118676265626,
          3.0428323157664243
         ],
         "z": [
          7.332017899464786,
          7.216466744441873
         ]
        },
        {
         "line": {
          "color": "rgba(0, 0, 255, 0.34096590340965904)",
          "width": 5
         },
         "mode": "lines",
         "type": "scatter3d",
         "x": [
          -2.63671832664299,
          -2.013270060384924
         ],
         "y": [
          3.8947118676265626,
          4.354356384992911
         ],
         "z": [
          7.332017899464786,
          6.699531396087143
         ]
        },
        {
         "line": {
          "color": "rgba(255, 0, 0, 0.34596540345965404)",
          "width": 5
         },
         "mode": "lines",
         "type": "scatter3d",
         "x": [
          -2.6111801878074323,
          -2.7152623219464127
         ],
         "y": [
          3.9458224521606007,
          3.0853473557048723
         ],
         "z": [
          7.380518194256668,
          6.881770244153011
         ]
        },
        {
         "line": {
          "color": "rgba(0, 255, 0, 0.34596540345965404)",
          "width": 5
         },
         "mode": "lines",
         "type": "scatter3d",
         "x": [
          -2.6111801878074323,
          -1.712360390280266
         ],
         "y": [
          3.9458224521606007,
          3.649759147105063
         ],
         "z": [
          7.380518194256668,
          7.703735599377161
         ]
        },
        {
         "line": {
          "color": "rgba(0, 0, 255, 0.34596540345965404)",
          "width": 5
         },
         "mode": "lines",
         "type": "scatter3d",
         "x": [
          -2.6111801878074323,
          -3.036961682152018
         ],
         "y": [
          3.9458224521606007,
          3.5311790779471535
         ],
         "z": [
          7.380518194256668,
          8.184745146860589
         ]
        },
        {
         "line": {
          "color": "rgba(255, 0, 0, 0.35096490350964904)",
          "width": 5
         },
         "mode": "lines",
         "type": "scatter3d",
         "x": [
          -3.552197608787929,
          -3.6841813903141407
         ],
         "y": [
          3.8040010065641403,
          3.2500496996048542
         ],
         "z": [
          6.615525368863764,
          5.793504547392581
         ]
        },
        {
         "line": {
          "color": "rgba(0, 255, 0, 0.35096490350964904)",
          "width": 5
         },
         "mode": "lines",
         "type": "scatter3d",
         "x": [
          -3.552197608787929,
          -3.7446032372527966
         ],
         "y": [
          3.8040010065641403,
          4.63182112676361
         ],
         "z": [
          6.615525368863764,
          6.0885586500588795
         ]
        },
        {
         "line": {
          "color": "rgba(0, 0, 255, 0.35096490350964904)",
          "width": 5
         },
         "mode": "lines",
         "type": "scatter3d",
         "x": [
          -3.552197608787929,
          -2.5797983309451853
         ],
         "y": [
          3.8040010065641403,
          3.892611379044178
         ],
         "z": [
          6.615525368863764,
          6.399683189621919
         ]
        },
        {
         "line": {
          "color": "rgba(255, 0, 0, 0.35596440355964404)",
          "width": 5
         },
         "mode": "lines",
         "type": "scatter3d",
         "x": [
          -3.7376643876367273,
          -4.425678791735191
         ],
         "y": [
          3.8502260860812196,
          3.475935110510735
         ],
         "z": [
          6.355992082746545,
          6.977717460513565
         ]
        },
        {
         "line": {
          "color": "rgba(0, 255, 0, 0.35596440355964404)",
          "width": 5
         },
         "mode": "lines",
         "type": "scatter3d",
         "x": [
          -3.7376643876367273,
          -4.022439235414261
         ],
         "y": [
          3.8502260860812196,
          3.201468260905603
         ],
         "z": [
          6.355992082746545,
          5.650289191760043
         ]
        },
        {
         "line": {
          "color": "rgba(0, 0, 255, 0.35596440355964404)",
          "width": 5
         },
         "mode": "lines",
         "type": "scatter3d",
         "x": [
          -3.7376643876367273,
          -3.070176960169865
         ],
         "y": [
          3.8502260860812196,
          3.1876405822555487
         ],
         "z": [
          6.355992082746545,
          6.695758155646367
         ]
        },
        {
         "line": {
          "color": "rgba(255, 0, 0, 0.36096390360963904)",
          "width": 5
         },
         "mode": "lines",
         "type": "scatter3d",
         "x": [
          -3.562026840416632,
          -2.941324326106369
         ],
         "y": [
          3.8208178011368714,
          4.065760039758721
         ],
         "z": [
          7.168262124815103,
          7.913065245423394
         ]
        },
        {
         "line": {
          "color": "rgba(0, 255, 0, 0.36096390360963904)",
          "width": 5
         },
         "mode": "lines",
         "type": "scatter3d",
         "x": [
          -3.562026840416632,
          -2.7947364000966504
         ],
         "y": [
          3.8208178011368714,
          3.826390231877392
         ],
         "z": [
          7.168262124815103,
          6.526986577012736
         ]
        },
        {
         "line": {
          "color": "rgba(0, 0, 255, 0.36096390360963904)",
          "width": 5
         },
         "mode": "lines",
         "type": "scatter3d",
         "x": [
          -3.562026840416632,
          -3.7232526724737105
         ],
         "y": [
          3.8208178011368714,
          4.790339460386719
         ],
         "z": [
          7.168262124815103,
          6.983779108461448
         ]
        },
        {
         "line": {
          "color": "rgba(255, 0, 0, 0.36596340365963403)",
          "width": 5
         },
         "mode": "lines",
         "type": "scatter3d",
         "x": [
          -2.702178321796787,
          -2.2920283688613443
         ],
         "y": [
          2.975766968195179,
          2.452942884623234
         ],
         "z": [
          6.7151162277813485,
          7.462399302488802
         ]
        },
        {
         "line": {
          "color": "rgba(0, 255, 0, 0.36596340365963403)",
          "width": 5
         },
         "mode": "lines",
         "type": "scatter3d",
         "x": [
          -2.702178321796787,
          -1.8425974895169956
         ],
         "y": [
          2.975766968195179,
          3.47120116599582
         ],
         "z": [
          6.7151162277813485,
          6.5899533402034915
         ]
        },
        {
         "line": {
          "color": "rgba(0, 0, 255, 0.36596340365963403)",
          "width": 5
         },
         "mode": "lines",
         "type": "scatter3d",
         "x": [
          -2.702178321796787,
          -3.0069697404493576
         ],
         "y": [
          2.975766968195179,
          3.6694527279501354
         ],
         "z": [
          6.7151162277813485,
          7.36772810158458
         ]
        },
        {
         "line": {
          "color": "rgba(255, 0, 0, 0.37096290370962903)",
          "width": 5
         },
         "mode": "lines",
         "type": "scatter3d",
         "x": [
          -1.998297861984977,
          -2.0488547440042013
         ],
         "y": [
          2.788148421403126,
          3.1888583955710237
         ],
         "z": [
          6.858966451388777,
          5.944157444938321
         ]
        },
        {
         "line": {
          "color": "rgba(0, 255, 0, 0.37096290370962903)",
          "width": 5
         },
         "mode": "lines",
         "type": "scatter3d",
         "x": [
          -1.998297861984977,
          -1.7221939303037934
         ],
         "y": [
          2.788148421403126,
          3.674037345762497
         ],
         "z": [
          6.858966451388777,
          7.231749810201381
         ]
        },
        {
         "line": {
          "color": "rgba(0, 0, 255, 0.37096290370962903)",
          "width": 5
         },
         "mode": "lines",
         "type": "scatter3d",
         "x": [
          -1.998297861984977,
          -1.038500685186307
         ],
         "y": [
          2.788148421403126,
          2.5544128222750144
         ],
         "z": [
          6.858966451388777,
          6.703541070226179
         ]
        },
        {
         "line": {
          "color": "rgba(255, 0, 0, 0.37596240375962403)",
          "width": 5
         },
         "mode": "lines",
         "type": "scatter3d",
         "x": [
          -1.7894644679621319,
          -1.4345564032424525
         ],
         "y": [
          3.1323004516046744,
          3.5733034940095
         ],
         "z": [
          7.127311425380371,
          6.302959205642575
         ]
        },
        {
         "line": {
          "color": "rgba(0, 255, 0, 0.37596240375962403)",
          "width": 5
         },
         "mode": "lines",
         "type": "scatter3d",
         "x": [
          -1.7894644679621319,
          -1.3562264498399408
         ],
         "y": [
          3.1323004516046744,
          3.8360825797744402
         ],
         "z": [
          7.127311425380371,
          7.690334991248095
         ]
        },
        {
         "line": {
          "color": "rgba(0, 0, 255, 0.37596240375962403)",
          "width": 5
         },
         "mode": "lines",
         "type": "scatter3d",
         "x": [
          -1.7894644679621319,
          -0.961005002900324
         ],
         "y": [
          3.1323004516046744,
          2.5753381255371552
         ],
         "z": [
          7.127311425380371,
          7.186030094396073
         ]
        },
        {
         "line": {
          "color": "rgba(255, 0, 0, 0.38096190380961903)",
          "width": 5
         },
         "mode": "lines",
         "type": "scatter3d",
         "x": [
          -1.8568010217453883,
          -2.09719728264776
         ],
         "y": [
          3.726575186694896,
          4.114993535076258
         ],
         "z": [
          7.677979463785349,
          8.567552858387995
         ]
        },
        {
         "line": {
          "color": "rgba(0, 255, 0, 0.38096190380961903)",
          "width": 5
         },
         "mode": "lines",
         "type": "scatter3d",
         "x": [
          -1.8568010217453883,
          -0.8974926958671503
         ],
         "y": [
          3.726575186694896,
          3.6818062106733853
         ],
         "z": [
          7.677979463785349,
          7.956768406691427
         ]
        },
        {
         "line": {
          "color": "rgba(0, 0, 255, 0.38096190380961903)",
          "width": 5
         },
         "mode": "lines",
         "type": "scatter3d",
         "x": [
          -1.8568010217453883,
          -1.7086889910224885
         ],
         "y": [
          3.726575186694896,
          4.646970170072521
         ],
         "z": [
          7.677979463785349,
          7.3161288026992395
         ]
        },
        {
         "line": {
          "color": "rgba(255, 0, 0, 0.385961403859614)",
          "width": 5
         },
         "mode": "lines",
         "type": "scatter3d",
         "x": [
          -2.8083836419252757,
          -3.576312208371423
         ],
         "y": [
          3.7982659934274188,
          3.1599911000609935
         ],
         "z": [
          7.422812401177174,
          7.476579280704021
         ]
        },
        {
         "line": {
          "color": "rgba(0, 255, 0, 0.385961403859614)",
          "width": 5
         },
         "mode": "lines",
         "type": "scatter3d",
         "x": [
          -2.8083836419252757,
          -2.5633289791887943
         ],
         "y": [
          3.7982659934274188,
          3.583065026219652
         ],
         "z": [
          7.422812401177174,
          8.36813602617761
         ]
        },
        {
         "line": {
          "color": "rgba(0, 0, 255, 0.385961403859614)",
          "width": 5
         },
         "mode": "lines",
         "type": "scatter3d",
         "x": [
          -2.8083836419252757,
          -3.400189293391265
         ],
         "y": [
          3.7982659934274188,
          4.537382834130523
         ],
         "z": [
          7.422812401177174,
          7.744483610149932
         ]
        },
        {
         "line": {
          "color": "rgba(255, 0, 0, 0.390960903909609)",
          "width": 5
         },
         "mode": "lines",
         "type": "scatter3d",
         "x": [
          -2.5457597974165247,
          -2.1137902976568514
         ],
         "y": [
          3.514355459820767,
          3.67526446738077
         ],
         "z": [
          7.860929356896307,
          6.973511393046437
         ]
        },
        {
         "line": {
          "color": "rgba(0, 255, 0, 0.390960903909609)",
          "width": 5
         },
         "mode": "lines",
         "type": "scatter3d",
         "x": [
          -2.5457597974165247,
          -3.4461634528934226
         ],
         "y": [
          3.514355459820767,
          3.534864656144341
         ],
         "z": [
          7.860929356896307,
          7.426357579085078
         ]
        },
        {
         "line": {
          "color": "rgba(0, 0, 255, 0.390960903909609)",
          "width": 5
         },
         "mode": "lines",
         "type": "scatter3d",
         "x": [
          -2.5457597974165247,
          -2.5974860816560534
         ],
         "y": [
          3.514355459820767,
          4.50111159187784
         ],
         "z": [
          7.860929356896307,
          8.014671762778864
         ]
        },
        {
         "line": {
          "color": "rgba(255, 0, 0, 0.395960403959604)",
          "width": 5
         },
         "mode": "lines",
         "type": "scatter3d",
         "x": [
          -2.7045055865156615,
          -2.328640884880604
         ],
         "y": [
          2.614569761299524,
          2.9482715609656704
         ],
         "z": [
          7.774706654330254,
          8.639211619593254
         ]
        },
        {
         "line": {
          "color": "rgba(0, 255, 0, 0.395960403959604)",
          "width": 5
         },
         "mode": "lines",
         "type": "scatter3d",
         "x": [
          -2.7045055865156615,
          -3.615775542115993
         ],
         "y": [
          2.614569761299524,
          2.578274694519012
         ],
         "z": [
          7.774706654330254,
          8.184913597406041
         ]
        },
        {
         "line": {
          "color": "rgba(0, 0, 255, 0.395960403959604)",
          "width": 5
         },
         "mode": "lines",
         "type": "scatter3d",
         "x": [
          -2.7045055865156615,
          -2.5362415259294195
         ],
         "y": [
          2.614569761299524,
          1.6725900497202375
         ],
         "z": [
          7.774706654330254,
          8.065157044049487
         ]
        },
        {
         "line": {
          "color": "rgba(255, 0, 0, 0.400959904009599)",
          "width": 5
         },
         "mode": "lines",
         "type": "scatter3d",
         "x": [
          -2.0592784403362834,
          -2.1212751761917787
         ],
         "y": [
          3.1545125737016395,
          2.4566044477917797
         ],
         "z": [
          7.707094634023717,
          8.42059351456402
         ]
        },
        {
         "line": {
          "color": "rgba(0, 255, 0, 0.400959904009599)",
          "width": 5
         },
         "mode": "lines",
         "type": "scatter3d",
         "x": [
          -2.0592784403362834,
          -2.1398574131682055
         ],
         "y": [
          3.1545125737016395,
          3.8705529738625337
         ],
         "z": [
          7.707094634023717,
          8.400487145141916
         ]
        },
        {
         "line": {
          "color": "rgba(0, 0, 255, 0.400959904009599)",
          "width": 5
         },
         "mode": "lines",
         "type": "scatter3d",
         "x": [
          -2.0592784403362834,
          -3.0540967322271326
         ],
         "y": [
          3.1545125737016395,
          3.140007639146951
         ],
         "z": [
          7.707094634023717,
          7.6064657465562115
         ]
        },
        {
         "line": {
          "color": "rgba(255, 0, 0, 0.405959404059594)",
          "width": 5
         },
         "mode": "lines",
         "type": "scatter3d",
         "x": [
          -1.2978885774491313,
          -0.7416320419215512
         ],
         "y": [
          3.0933758161072182,
          2.5911172947772863
         ],
         "z": [
          7.808121241565306,
          8.47017489832912
         ]
        },
        {
         "line": {
          "color": "rgba(0, 255, 0, 0.405959404059594)",
          "width": 5
         },
         "mode": "lines",
         "type": "scatter3d",
         "x": [
          -1.2978885774491313,
          -1.3283099285207958
         ],
         "y": [
          3.0933758161072182,
          3.8772193124651535
         ],
         "z": [
          7.808121241565306,
          8.428334039414855
         ]
        },
        {
         "line": {
          "color": "rgba(0, 0, 255, 0.405959404059594)",
          "width": 5
         },
         "mode": "lines",
         "type": "scatter3d",
         "x": [
          -1.2978885774491313,
          -2.1283421933012385
         ],
         "y": [
          3.0933758161072182,
          2.7282378271648735
         ],
         "z": [
          7.808121241565306,
          8.22885992643908
         ]
        },
        {
         "line": {
          "color": "rgba(255, 0, 0, 0.410958904109589)",
          "width": 5
         },
         "mode": "lines",
         "type": "scatter3d",
         "x": [
          -1.4130669783579315,
          -1.9443867344681771
         ],
         "y": [
          3.006186037072017,
          2.923600238940307
         ],
         "z": [
          7.558613347862274,
          8.401749696689622
         ]
        },
        {
         "line": {
          "color": "rgba(0, 255, 0, 0.410958904109589)",
          "width": 5
         },
         "mode": "lines",
         "type": "scatter3d",
         "x": [
          -1.4130669783579315,
          -0.5806435898739668
         ],
         "y": [
          3.006186037072017,
          3.140186828175958
         ],
         "z": [
          7.558613347862274,
          8.096307582802917
         ]
        },
        {
         "line": {
          "color": "rgba(0, 0, 255, 0.410958904109589)",
          "width": 5
         },
         "mode": "lines",
         "type": "scatter3d",
         "x": [
          -1.4130669783579315,
          -1.570453823652676
         ],
         "y": [
          3.006186037072017,
          3.9937200232874215
         ],
         "z": [
          7.558613347862274,
          7.556162430135804
         ]
        },
        {
         "line": {
          "color": "rgba(255, 0, 0, 0.415958404159584)",
          "width": 5
         },
         "mode": "lines",
         "type": "scatter3d",
         "x": [
          -3.69896612250632,
          -2.880255347674225
         ],
         "y": [
          3.51934111173177,
          3.75940683395921
         ],
         "z": [
          7.931993619053276,
          7.41037966584146
         ]
        },
        {
         "line": {
          "color": "rgba(0, 255, 0, 0.415958404159584)",
          "width": 5
         },
         "mode": "lines",
         "type": "scatter3d",
         "x": [
          -3.69896612250632,
          -3.2953542781450436
         ],
         "y": [
          3.51934111173177,
          2.6326075394606248
         ],
         "z": [
          7.931993619053276,
          8.157384503737106
         ]
        },
        {
         "line": {
          "color": "rgba(0, 0, 255, 0.415958404159584)",
          "width": 5
         },
         "mode": "lines",
         "type": "scatter3d",
         "x": [
          -3.69896612250632,
          -4.107390101069194
         ],
         "y": [
          3.51934111173177,
          3.1242815961917807
         ],
         "z": [
          7.931993619053276,
          7.109121920113399
         ]
        },
        {
         "line": {
          "color": "rgba(255, 0, 0, 0.420957904209579)",
          "width": 5
         },
         "mode": "lines",
         "type": "scatter3d",
         "x": [
          -3.6226169651132496,
          -3.5158931932173463
         ],
         "y": [
          4.036604812721326,
          4.425038398324618
         ],
         "z": [
          8.040756919065354,
          7.125481339751836
         ]
        },
        {
         "line": {
          "color": "rgba(0, 255, 0, 0.420957904209579)",
          "width": 5
         },
         "mode": "lines",
         "type": "scatter3d",
         "x": [
          -3.6226169651132496,
          -2.6337007006444755
         ],
         "y": [
          4.036604812721326,
          3.8995723671648084
         ],
         "z": [
          8.040756919065354,
          8.097912240199392
         ]
        },
        {
         "line": {
          "color": "rgba(0, 0, 255, 0.420957904209579)",
          "width": 5
         },
         "mode": "lines",
         "type": "scatter3d",
         "x": [
          -3.6226169651132496,
          -3.725838369780333
         ],
         "y": [
          4.036604812721326,
          3.1253740744117646
         ],
         "z": [
          8.040756919065354,
          7.642004009134421
         ]
        },
        {
         "line": {
          "color": "rgba(255, 0, 0, 0.42595740425957407)",
          "width": 5
         },
         "mode": "lines",
         "type": "scatter3d",
         "x": [
          -3.7347042595488475,
          -4.189057696867051
         ],
         "y": [
          4.082978628487635,
          3.591560256961024
         ],
         "z": [
          7.829804925330564,
          7.086790162271791
         ]
        },
        {
         "line": {
          "color": "rgba(0, 255, 0, 0.42595740425957407)",
          "width": 5
         },
         "mode": "lines",
         "type": "scatter3d",
         "x": [
          -3.7347042595488475,
          -3.0160105188629256
         ],
         "y": [
          4.082978628487635,
          4.373587120181812
         ],
         "z": [
          7.829804925330564,
          7.198119868000469
         ]
        },
        {
         "line": {
          "color": "rgba(0, 0, 255, 0.42595740425957407)",
          "width": 5
         },
         "mode": "lines",
         "type": "scatter3d",
         "x": [
          -3.7347042595488475,
          -3.2083562177589884
         ],
         "y": [
          4.082978628487635,
          3.261970291939589
         ],
         "z": [
          7.829804925330564,
          8.050945265889695
         ]
        },
        {
         "line": {
          "color": "rgba(255, 0, 0, 0.43095690430956907)",
          "width": 5
         },
         "mode": "lines",
         "type": "scatter3d",
         "x": [
          -4.2175834911633645,
          -3.2656401444488368
         ],
         "y": [
          3.8994547735795706,
          3.6457301594211566
         ],
         "z": [
          8.592832150778253,
          8.421287157216446
         ]
        },
        {
         "line": {
          "color": "rgba(0, 255, 0, 0.43095690430956907)",
          "width": 5
         },
         "mode": "lines",
         "type": "scatter3d",
         "x": [
          -4.2175834911633645,
          -4.4776433770150135
         ],
         "y": [
          3.8994547735795706,
          2.93398104339268
         ],
         "z": [
          8.592832150778253,
          8.577688436245234
         ]
        },
        {
         "line": {
          "color": "rgba(0, 0, 255, 0.43095690430956907)",
          "width": 5
         },
         "mode": "lines",
         "type": "scatter3d",
         "x": [
          -4.2175834911633645,
          -4.37936334286555
         ],
         "y": [
          3.8994547735795706,
          3.9584827033179244
         ],
         "z": [
          8.592832150778253,
          7.607772262703402
         ]
        },
        {
         "line": {
          "color": "rgba(255, 0, 0, 0.43595640435956406)",
          "width": 5
         },
         "mode": "lines",
         "type": "scatter3d",
         "x": [
          -4.364583533861035,
          -3.7528097364529027
         ],
         "y": [
          4.012180975610205,
          3.370914361191991
         ],
         "z": [
          8.942540135619318,
          9.405692324470294
         ]
        },
        {
         "line": {
          "color": "rgba(0, 255, 0, 0.43595640435956406)",
          "width": 5
         },
         "mode": "lines",
         "type": "scatter3d",
         "x": [
          -4.364583533861035,
          -3.593155579736402
         ],
         "y": [
          4.012180975610205,
          4.625381235692884
         ],
         "z": [
          8.942540135619318,
          8.772586163527961
         ]
        },
        {
         "line": {
          "color": "rgba(0, 0, 255, 0.43595640435956406)",
          "width": 5
         },
         "mode": "lines",
         "type": "scatter3d",
         "x": [
          -4.364583533861035,
          -4.5396027682323625
         ],
         "y": [
          4.012180975610205,
          4.473442907994786
         ],
         "z": [
          8.942540135619318,
          9.81237097971082
         ]
        },
        {
         "line": {
          "color": "rgba(255, 0, 0, 0.44095590440955906)",
          "width": 5
         },
         "mode": "lines",
         "type": "scatter3d",
         "x": [
          -4.25251876724689,
          -3.68129381246652
         ],
         "y": [
          3.530857608251984,
          3.52462822636183
         ],
         "z": [
          8.826170282304354,
          8.005400371892522
         ]
        },
        {
         "line": {
          "color": "rgba(0, 255, 0, 0.44095590440955906)",
          "width": 5
         },
         "mode": "lines",
         "type": "scatter3d",
         "x": [
          -4.25251876724689,
          -4.7296153881489165
         ],
         "y": [
          3.530857608251984,
          2.714645088226874
         ],
         "z": [
          8.826170282304354,
          8.500323790105734
         ]
        },
        {
         "line": {
          "color": "rgba(0, 0, 255, 0.44095590440955906)",
          "width": 5
         },
         "mode": "lines",
         "type": "scatter3d",
         "x": [
          -4.25251876724689,
          -4.920411621947434
         ],
         "y": [
          3.530857608251984,
          4.108575806819025
         ],
         "z": [
          8.826170282304354,
          8.356957305411742
         ]
        },
        {
         "line": {
          "color": "rgba(255, 0, 0, 0.44595540445955406)",
          "width": 5
         },
         "mode": "lines",
         "type": "scatter3d",
         "x": [
          -4.480180695731364,
          -5.205272545198971
         ],
         "y": [
          3.2504921513655476,
          3.85205840215356
         ],
         "z": [
          8.733216694596505,
          8.39801547779007
         ]
        },
        {
         "line": {
          "color": "rgba(0, 255, 0, 0.44595540445955406)",
          "width": 5
         },
         "mode": "lines",
         "type": "scatter3d",
         "x": [
          -4.480180695731364,
          -5.006988236135382
         ],
         "y": [
          3.2504921513655476,
          3.0794443438659167
         ],
         "z": [
          8.733216694596505,
          9.565812913013964
         ]
        },
        {
         "line": {
          "color": "rgba(0, 0, 255, 0.44595540445955406)",
          "width": 5
         },
         "mode": "lines",
         "type": "scatter3d",
         "x": [
          -4.480180695731364,
          -4.0366543434036535
         ],
         "y": [
          3.2504921513655476,
          4.030787411803829
         ],
         "z": [
          8.733216694596505,
          9.174151702651491
         ]
        },
        {
         "line": {
          "color": "rgba(255, 0, 0, 0.45095490450954906)",
          "width": 5
         },
         "mode": "lines",
         "type": "scatter3d",
         "x": [
          -4.327904619613074,
          -5.0486637541679995
         ],
         "y": [
          3.2712168967890065,
          2.703275668196383
         ],
         "z": [
          9.130299089725797,
          9.527727109397725
         ]
        },
        {
         "line": {
          "color": "rgba(0, 255, 0, 0.45095490450954906)",
          "width": 5
         },
         "mode": "lines",
         "type": "scatter3d",
         "x": [
          -4.327904619613074,
          -4.401687803913065
         ],
         "y": [
          3.2712168967890065,
          3.904152207715483
         ],
         "z": [
          9.130299089725797,
          9.900979914644246
         ]
        },
        {
         "line": {
          "color": "rgba(0, 0, 255, 0.45095490450954906)",
          "width": 5
         },
         "mode": "lines",
         "type": "scatter3d",
         "x": [
          -4.327904619613074,
          -5.01715226137197
         ],
         "y": [
          3.2712168967890065,
          3.797368636353869
         ],
         "z": [
          9.130299089725797,
          8.63220067045237
         ]
        },
        {
         "line": {
          "color": "rgba(255, 0, 0, 0.45595440455954406)",
          "width": 5
         },
         "mode": "lines",
         "type": "scatter3d",
         "x": [
          -4.29978299926636,
          -5.043212948026309
         ],
         "y": [
          3.0448789348141916,
          2.3802234856772326
         ],
         "z": [
          9.312200366485419,
          9.237735306092345
         ]
        },
        {
         "line": {
          "color": "rgba(0, 255, 0, 0.45595440455954406)",
          "width": 5
         },
         "mode": "lines",
         "type": "scatter3d",
         "x": [
          -4.29978299926636,
          -4.914274740084061
         ],
         "y": [
          3.0448789348141916,
          3.6797258391638077
         ],
         "z": [
          9.312200366485419,
          9.780569140534844
         ]
        },
        {
         "line": {
          "color": "rgba(0, 0, 255, 0.45595440455954406)",
          "width": 5
         },
         "mode": "lines",
         "type": "scatter3d",
         "x": [
          -4.29978299926636,
          -4.563812944071154
         ],
         "y": [
          3.0448789348141916,
          3.438836473097548
         ],
         "z": [
          9.312200366485419,
          8.43181088093024
         ]
        },
        {
         "line": {
          "color": "rgba(255, 0, 0, 0.46095390460953906)",
          "width": 5
         },
         "mode": "lines",
         "type": "scatter3d",
         "x": [
          -4.595694969843099,
          -4.3600470560923235
         ],
         "y": [
          3.3078367306184777,
          3.4626530616861055
         ],
         "z": [
          8.985845089341355,
          8.026417153340072
         ]
        },
        {
         "line": {
          "color": "rgba(0, 255, 0, 0.46095390460953906)",
          "width": 5
         },
         "mode": "lines",
         "type": "scatter3d",
         "x": [
          -4.595694969843099,
          -5.354001966597216
         ],
         "y": [
          3.3078367306184777,
          3.95457033777339
         ],
         "z": [
          8.985845089341355,
          8.903954063885783
         ]
        },
        {
         "line": {
          "color": "rgba(0, 0, 255, 0.46095390460953906)",
          "width": 5
         },
         "mode": "lines",
         "type": "scatter3d",
         "x": [
          -4.595694969843099,
          -3.9878787480962052
         ],
         "y": [
          3.3078367306184777,
          4.054675096673128
         ],
         "z": [
          8.985845089341355,
          9.255644821680308
         ]
        },
        {
         "line": {
          "color": "rgba(255, 0, 0, 0.46595340465953405)",
          "width": 5
         },
         "mode": "lines",
         "type": "scatter3d",
         "x": [
          -4.7111933205093335,
          -5.093183777513992
         ],
         "y": [
          3.2883734783459335,
          4.203897647530665
         ],
         "z": [
          8.69814807620524,
          8.57205768642076
         ]
        },
        {
         "line": {
          "color": "rgba(0, 255, 0, 0.46595340465953405)",
          "width": 5
         },
         "mode": "lines",
         "type": "scatter3d",
         "x": [
          -4.7111933205093335,
          -5.342737278741648
         ],
         "y": [
          3.2883734783459335,
          2.9301658787109104
         ],
         "z": [
          8.69814807620524,
          8.010514784119993
         ]
        },
        {
         "line": {
          "color": "rgba(0, 0, 255, 0.46595340465953405)",
          "width": 5
         },
         "mode": "lines",
         "type": "scatter3d",
         "x": [
          -4.7111933205093335,
          -5.385904754811171
         ],
         "y": [
          3.2883734783459335,
          3.1053357467102214
         ],
         "z": [
          8.69814807620524,
          9.413173718556632
         ]
        },
        {
         "line": {
          "color": "rgba(255, 0, 0, 0.47095290470952905)",
          "width": 5
         },
         "mode": "lines",
         "type": "scatter3d",
         "x": [
          -6.06526307352932,
          -6.3011127677177265
         ],
         "y": [
          4.239294313929623,
          3.366683631491472
         ],
         "z": [
          7.773398994573212,
          7.345701065368396
         ]
        },
        {
         "line": {
          "color": "rgba(0, 255, 0, 0.47095290470952905)",
          "width": 5
         },
         "mode": "lines",
         "type": "scatter3d",
         "x": [
          -6.06526307352932,
          -6.8070331970286135
         ],
         "y": [
          4.239294313929623,
          4.116614948861742
         ],
         "z": [
          7.773398994573212,
          8.432737191002326
         ]
        },
        {
         "line": {
          "color": "rgba(0, 0, 255, 0.47095290470952905)",
          "width": 5
         },
         "mode": "lines",
         "type": "scatter3d",
         "x": [
          -6.06526307352932,
          -6.693078337468553
         ],
         "y": [
          4.239294313929623,
          4.71205257169081
         ],
         "z": [
          7.773398994573212,
          7.1550563516287555
         ]
        },
        {
         "line": {
          "color": "rgba(255, 0, 0, 0.47595240475952405)",
          "width": 5
         },
         "mode": "lines",
         "type": "scatter3d",
         "x": [
          -12.221806081290984,
          -11.945185219100978
         ],
         "y": [
          2.624202438670772,
          2.352748152527061
         ],
         "z": [
          0.5402017711336115,
          1.462044202970791
         ]
        },
        {
         "line": {
          "color": "rgba(0, 255, 0, 0.47595240475952405)",
          "width": 5
         },
         "mode": "lines",
         "type": "scatter3d",
         "x": [
          -12.221806081290984,
          -12.921664048327933
         ],
         "y": [
          2.624202438670772,
          1.9099204772863552
         ],
         "z": [
          0.5402017711336115,
          0.5398767853548221
         ]
        },
        {
         "line": {
          "color": "rgba(0, 0, 255, 0.47595240475952405)",
          "width": 5
         },
         "mode": "lines",
         "type": "scatter3d",
         "x": [
          -12.221806081290984,
          -11.563262442208366
         ],
         "y": [
          2.624202438670772,
          1.9791335662431329
         ],
         "z": [
          0.5402017711336115,
          0.15263703428468522
         ]
        },
        {
         "line": {
          "color": "rgba(255, 0, 0, 0.48095190480951905)",
          "width": 5
         },
         "mode": "lines",
         "type": "scatter3d",
         "x": [
          -9.66709523257568,
          -9.484321256343929
         ],
         "y": [
          1.7244524782504513,
          2.632489417968542
         ],
         "z": [
          1.9212102289144801,
          1.544298316500103
         ]
        },
        {
         "line": {
          "color": "rgba(0, 255, 0, 0.48095190480951905)",
          "width": 5
         },
         "mode": "lines",
         "type": "scatter3d",
         "x": [
          -9.66709523257568,
          -9.094463461608584
         ],
         "y": [
          1.7244524782504513,
          1.314500397840865
         ],
         "z": [
          1.9212102289144801,
          1.2112580145739966
         ]
        },
        {
         "line": {
          "color": "rgba(0, 0, 255, 0.48095190480951905)",
          "width": 5
         },
         "mode": "lines",
         "type": "scatter3d",
         "x": [
          -9.66709523257568,
          -10.466273891256911
         ],
         "y": [
          1.7244524782504513,
          1.6383815314955565
         ],
         "z": [
          1.9212102289144801,
          1.3263108562192323
         ]
        },
        {
         "line": {
          "color": "rgba(255, 0, 0, 0.48595140485951405)",
          "width": 5
         },
         "mode": "lines",
         "type": "scatter3d",
         "x": [
          -11.163551782092782,
          -10.782410197277983
         ],
         "y": [
          2.829190392190084,
          2.4442234332488515
         ],
         "z": [
          1.9718621395359055,
          2.812416440487618
         ]
        },
        {
         "line": {
          "color": "rgba(0, 255, 0, 0.48595140485951405)",
          "width": 5
         },
         "mode": "lines",
         "type": "scatter3d",
         "x": [
          -11.163551782092782,
          -10.267993752642749
         ],
         "y": [
          2.829190392190084,
          3.208697822075618
         ],
         "z": [
          1.9718621395359055,
          1.7395909046632616
         ]
        },
        {
         "line": {
          "color": "rgba(0, 0, 255, 0.48595140485951405)",
          "width": 5
         },
         "mode": "lines",
         "type": "scatter3d",
         "x": [
          -11.163551782092782,
          -11.393131633587746
         ],
         "y": [
          2.829190392190084,
          3.6704837721624
         ],
         "z": [
          1.9718621395359055,
          2.4612684539642466
         ]
        },
        {
         "line": {
          "color": "rgba(255, 0, 0, 0.49095090490950904)",
          "width": 5
         },
         "mode": "lines",
         "type": "scatter3d",
         "x": [
          -11.12712404084775,
          -11.240728507323425
         ],
         "y": [
          2.966635549390255,
          3.0205527379729156
         ],
         "z": [
          1.2866563569407965,
          2.278718331805339
         ]
        },
        {
         "line": {
          "color": "rgba(0, 255, 0, 0.49095090490950904)",
          "width": 5
         },
         "mode": "lines",
         "type": "scatter3d",
         "x": [
          -11.12712404084775,
          -10.146456254912957
         ],
         "y": [
          2.966635549390255,
          2.8125932083610907
         ],
         "z": [
          1.2866563569407965,
          1.407328022214869
         ]
        },
        {
         "line": {
          "color": "rgba(0, 0, 255, 0.49095090490950904)",
          "width": 5
         },
         "mode": "lines",
         "type": "scatter3d",
         "x": [
          -11.12712404084775,
          -10.967798214860437
         ],
         "y": [
          2.966635549390255,
          3.9532276099429566
         ],
         "z": [
          1.2866563569407965,
          1.2512814049568957
         ]
        },
        {
         "line": {
          "color": "rgba(255, 0, 0, 0.49595040495950404)",
          "width": 5
         },
         "mode": "lines",
         "type": "scatter3d",
         "x": [
          -11.319265418862944,
          -10.978454278855176
         ],
         "y": [
          2.605529676487389,
          3.4376072009012395
         ],
         "z": [
          1.4324287052010158,
          0.9948275623643628
         ]
        },
        {
         "line": {
          "color": "rgba(0, 255, 0, 0.49595040495950404)",
          "width": 5
         },
         "mode": "lines",
         "type": "scatter3d",
         "x": [
          -11.319265418862944,
          -10.450672535606152
         ],
         "y": [
          2.605529676487389,
          2.5049406034802693
         ],
         "z": [
          1.4324287052010158,
          1.9176381873293393
         ]
        },
        {
         "line": {
          "color": "rgba(0, 0, 255, 0.49595040495950404)",
          "width": 5
         },
         "mode": "lines",
         "type": "scatter3d",
         "x": [
          -11.319265418862944,
          -10.959551407456285
         ],
         "y": [
          2.605529676487389,
          2.0600676413676986
         ],
         "z": [
          1.4324287052010158,
          0.6754102125333421
         ]
        },
        {
         "line": {
          "color": "rgba(255, 0, 0, 0.5009499050094991)",
          "width": 5
         },
         "mode": "lines",
         "type": "scatter3d",
         "x": [
          -11.572968756393145,
          -10.791352726334999
         ],
         "y": [
          2.5048816898637343,
          2.06994880691209
         ],
         "z": [
          1.4881849105899163,
          1.9352976132539452
         ]
        },
        {
         "line": {
          "color": "rgba(0, 255, 0, 0.5009499050094991)",
          "width": 5
         },
         "mode": "lines",
         "type": "scatter3d",
         "x": [
          -11.572968756393145,
          -11.060248135566939
         ],
         "y": [
          2.5048816898637343,
          3.361091471775702
         ],
         "z": [
          1.4881849105899163,
          1.424762719379952
         ]
        },
        {
         "line": {
          "color": "rgba(0, 0, 255, 0.5009499050094991)",
          "width": 5
         },
         "mode": "lines",
         "type": "scatter3d",
         "x": [
          -11.572968756393145,
          -11.928206629565114
         ],
         "y": [
          2.5048816898637343,
          2.783697393664042
         ],
         "z": [
          1.4881849105899163,
          2.380411258989587
         ]
        },
        {
         "line": {
          "color": "rgba(255, 0, 0, 0.505949405059494)",
          "width": 5
         },
         "mode": "lines",
         "type": "scatter3d",
         "x": [
          -11.53233775469479,
          -12.032007633827497
         ],
         "y": [
          2.6097003824383287,
          1.778942658250153
         ],
         "z": [
          1.4878856377163991,
          1.242586604719496
         ]
        },
        {
         "line": {
          "color": "rgba(0, 255, 0, 0.505949405059494)",
          "width": 5
         },
         "mode": "lines",
         "type": "scatter3d",
         "x": [
          -11.53233775469479,
          -11.729961302455061
         ],
         "y": [
          2.6097003824383287,
          2.994747729720934
         ],
         "z": [
          1.4878856377163991,
          0.5863960516859841
         ]
        },
        {
         "line": {
          "color": "rgba(0, 0, 255, 0.505949405059494)",
          "width": 5
         },
         "mode": "lines",
         "type": "scatter3d",
         "x": [
          -11.53233775469479,
          -10.688966575878393
         ],
         "y": [
          2.6097003824383287,
          2.2077300551101273
         ],
         "z": [
          1.4878856377163991,
          1.1313117874560208
         ]
        },
        {
         "line": {
          "color": "rgba(255, 0, 0, 0.5109489051094891)",
          "width": 5
         },
         "mode": "lines",
         "type": "scatter3d",
         "x": [
          -11.516393353783362,
          -12.455709806896447
         ],
         "y": [
          3.046924531986617,
          2.998899265133751
         ],
         "z": [
          1.8208064896456484,
          2.1604801192590974
         ]
        },
        {
         "line": {
          "color": "rgba(0, 255, 0, 0.5109489051094891)",
          "width": 5
         },
         "mode": "lines",
         "type": "scatter3d",
         "x": [
          -11.516393353783362,
          -11.67113930423252
         ],
         "y": [
          3.046924531986617,
          3.989933398047663
         ],
         "z": [
          1.8208064896456484,
          1.526208510443695
         ]
        },
        {
         "line": {
          "color": "rgba(0, 0, 255, 0.5109489051094891)",
          "width": 5
         },
         "mode": "lines",
         "type": "scatter3d",
         "x": [
          -11.516393353783362,
          -11.822560451510489
         ],
         "y": [
          3.046924531986617,
          2.717640684411305
         ],
         "z": [
          1.8208064896456484,
          0.9275910307582833
         ]
        },
        {
         "line": {
          "color": "rgba(255, 0, 0, 0.515948405159484)",
          "width": 5
         },
         "mode": "lines",
         "type": "scatter3d",
         "x": [
          -11.756846369416833,
          -11.746769255812696
         ],
         "y": [
          3.0291944074067163,
          2.030843554678787
         ],
         "z": [
          1.5669438600455823,
          1.6234595803263483
         ]
        },
        {
         "line": {
          "color": "rgba(0, 255, 0, 0.515948405159484)",
          "width": 5
         },
         "mode": "lines",
         "type": "scatter3d",
         "x": [
          -11.756846369416833,
          -10.814190239511305
         ],
         "y": [
          3.0291944074067163,
          3.019822643750557
         ],
         "z": [
          1.5669438600455823,
          1.2333099427087562
         ]
        },
        {
         "line": {
          "color": "rgba(0, 0, 255, 0.515948405159484)",
          "width": 5
         },
         "mode": "lines",
         "type": "scatter3d",
         "x": [
          -11.756846369416833,
          -11.423233011571327
         ],
         "y": [
          3.0291944074067163,
          3.0858313644526048
         ],
         "z": [
          1.5669438600455823,
          2.5079509708389307
         ]
        },
        {
         "line": {
          "color": "rgba(255, 0, 0, 0.5209479052094791)",
          "width": 5
         },
         "mode": "lines",
         "type": "scatter3d",
         "x": [
          -12.177061921008503,
          -12.863225934911585
         ],
         "y": [
          3.0103418957751575,
          2.7377548975396175
         ],
         "z": [
          1.3946543008303167,
          0.7202098817583168
         ]
        },
        {
         "line": {
          "color": "rgba(0, 255, 0, 0.5209479052094791)",
          "width": 5
         },
         "mode": "lines",
         "type": "scatter3d",
         "x": [
          -12.177061921008503,
          -12.89851564434181
         ],
         "y": [
          3.0103418957751575,
          3.384106697784187
         ],
         "z": [
          1.3946543008303167,
          1.9775817387397652
         ]
        },
        {
         "line": {
          "color": "rgba(0, 0, 255, 0.5209479052094791)",
          "width": 5
         },
         "mode": "lines",
         "type": "scatter3d",
         "x": [
          -12.177061921008503,
          -12.083876776736837
         ],
         "y": [
          3.0103418957751575,
          3.896906163706208
         ],
         "z": [
          1.3946543008303167,
          0.9415314392188385
         ]
        },
        {
         "line": {
          "color": "rgba(255, 0, 0, 0.525947405259474)",
          "width": 5
         },
         "mode": "lines",
         "type": "scatter3d",
         "x": [
          -12.702537258898577,
          -12.44770826245349
         ],
         "y": [
          3.339863642043887,
          3.218363295017148
         ],
         "z": [
          1.4327805316095037,
          2.3921031302400104
         ]
        },
        {
         "line": {
          "color": "rgba(0, 255, 0, 0.525947405259474)",
          "width": 5
         },
         "mode": "lines",
         "type": "scatter3d",
         "x": [
          -12.702537258898577,
          -11.760371645651496
         ],
         "y": [
          3.339863642043887,
          3.147729231954041
         ],
         "z": [
          1.4327805316095037,
          1.1581747675145206
         ]
        },
        {
         "line": {
          "color": "rgba(0, 0, 255, 0.525947405259474)",
          "width": 5
         },
         "mode": "lines",
         "type": "scatter3d",
         "x": [
          -12.702537258898577,
          -12.484853681691767
         ],
         "y": [
          3.339863642043887,
          4.313681917766745
         ],
         "z": [
          1.4327805316095037,
          1.498292561669922
         ]
        },
        {
         "line": {
          "color": "rgba(255, 0, 0, 0.5309469053094691)",
          "width": 5
         },
         "mode": "lines",
         "type": "scatter3d",
         "x": [
          -12.621250796374039,
          -13.322224211468873
         ],
         "y": [
          3.1796241107178926,
          3.858398403388737
         ],
         "z": [
          1.4101581597771273,
          1.1912935190982326
         ]
        },
        {
         "line": {
          "color": "rgba(0, 255, 0, 0.5309469053094691)",
          "width": 5
         },
         "mode": "lines",
         "type": "scatter3d",
         "x": [
          -12.621250796374039,
          -13.073498773168435
         ],
         "y": [
          3.1796241107178926,
          2.519278163960493
         ],
         "z": [
          1.4101581597771273,
          0.8106458595809807
         ]
        },
        {
         "line": {
          "color": "rgba(0, 0, 255, 0.5309469053094691)",
          "width": 5
         },
         "mode": "lines",
         "type": "scatter3d",
         "x": [
          -12.621250796374039,
          -13.17271071224796
         ],
         "y": [
          3.1796241107178926,
          2.858363017196904
         ],
         "z": [
          1.4101581597771273,
          2.1800174137801167
         ]
        },
        {
         "line": {
          "color": "rgba(255, 0, 0, 0.535946405359464)",
          "width": 5
         },
         "mode": "lines",
         "type": "scatter3d",
         "x": [
          -12.570830250274776,
          -12.353654192725628
         ],
         "y": [
          3.998238547614286,
          4.6297745163376804
         ],
         "z": [
          0.9088510107344675,
          0.16454134383766283
         ]
        },
        {
         "line": {
          "color": "rgba(0, 255, 0, 0.535946405359464)",
          "width": 5
         },
         "mode": "lines",
         "type": "scatter3d",
         "x": [
          -12.570830250274776,
          -12.324754754504008
         ],
         "y": [
          3.998238547614286,
          3.2249352604889583
         ],
         "z": [
          0.9088510107344675,
          0.324514740678979
         ]
        },
        {
         "line": {
          "color": "rgba(0, 0, 255, 0.535946405359464)",
          "width": 5
         },
         "mode": "lines",
         "type": "scatter3d",
         "x": [
          -12.570830250274776,
          -13.515436734694925
         ],
         "y": [
          3.998238547614286,
          3.9419860247393044
         ],
         "z": [
          0.9088510107344675,
          0.5855025249461132
         ]
        },
        {
         "line": {
          "color": "rgba(255, 0, 0, 0.5409459054094591)",
          "width": 5
         },
         "mode": "lines",
         "type": "scatter3d",
         "x": [
          -12.4343941450061,
          -12.719586660475507
         ],
         "y": [
          3.786819461843727,
          4.257645278983006
         ],
         "z": [
          0.8655196138386616,
          1.700377852724392
         ]
        },
        {
         "line": {
          "color": "rgba(0, 255, 0, 0.5409459054094591)",
          "width": 5
         },
         "mode": "lines",
         "type": "scatter3d",
         "x": [
          -12.4343941450061,
          -12.07261700731917
         ],
         "y": [
          3.786819461843727,
          3.033097570824593
         ],
         "z": [
          0.8655196138386616,
          1.4141730688041951
         ]
        },
        {
         "line": {
          "color": "rgba(0, 0, 255, 0.5409459054094591)",
          "width": 5
         },
         "mode": "lines",
         "type": "scatter3d",
         "x": [
          -12.4343941450061,
          -11.546823003199824
         ],
         "y": [
          3.786819461843727,
          4.2453239448247615
         ],
         "z": [
          0.8655196138386616,
          0.91014143942901
         ]
        },
        {
         "line": {
          "color": "rgba(255, 0, 0, 0.545945405459454)",
          "width": 5
         },
         "mode": "lines",
         "type": "scatter3d",
         "x": [
          -12.71194128928758,
          -12.211109926008389
         ],
         "y": [
          3.4675469948847484,
          3.254944291134339
         ],
         "z": [
          1.4960139508806194,
          2.335041981350365
         ]
        },
        {
         "line": {
          "color": "rgba(0, 255, 0, 0.545945405459454)",
          "width": 5
         },
         "mode": "lines",
         "type": "scatter3d",
         "x": [
          -12.71194128928758,
          -13.330696193404279
         ],
         "y": [
          3.4675469948847484,
          2.701772629829585
         ],
         "z": [
          1.4960139508806194,
          1.6713193713784582
         ]
        },
        {
         "line": {
          "color": "rgba(0, 0, 255, 0.545945405459454)",
          "width": 5
         },
         "mode": "lines",
         "type": "scatter3d",
         "x": [
          -12.71194128928758,
          -12.106705538371083
         ],
         "y": [
          3.4675469948847484,
          2.8605958336020514
         ],
         "z": [
          1.4960139508806194,
          0.9809411660917576
         ]
        },
        {
         "line": {
          "color": "rgba(255, 0, 0, 0.5509449055094491)",
          "width": 5
         },
         "mode": "lines",
         "type": "scatter3d",
         "x": [
          -12.942266681074093,
          -12.627004620502841
         ],
         "y": [
          3.2335074407119904,
          3.6171507816932302
         ],
         "z": [
          2.0930049879074946,
          2.961007073207492
         ]
        },
        {
         "line": {
          "color": "rgba(0, 255, 0, 0.5509449055094491)",
          "width": 5
         },
         "mode": "lines",
         "type": "scatter3d",
         "x": [
          -12.942266681074093,
          -12.675522707676553
         ],
         "y": [
          3.2335074407119904,
          2.319913983349433
         ],
         "z": [
          2.0930049879074946,
          2.399916452861891
         ]
        },
        {
         "line": {
          "color": "rgba(0, 0, 255, 0.5509449055094491)",
          "width": 5
         },
         "mode": "lines",
         "type": "scatter3d",
         "x": [
          -12.942266681074093,
          -12.031521115166427
         ],
         "y": [
          3.2335074407119904,
          3.3682842250077987
         ],
         "z": [
          2.0930049879074946,
          1.7026490828741256
         ]
        },
        {
         "line": {
          "color": "rgba(255, 0, 0, 0.555944405559444)",
          "width": 5
         },
         "mode": "lines",
         "type": "scatter3d",
         "x": [
          -13.762194938431643,
          -13.494991740375673
         ],
         "y": [
          2.61040259282361,
          2.201592373683122
         ],
         "z": [
          2.8440338420605604,
          3.7166601398965744
         ]
        },
        {
         "line": {
          "color": "rgba(0, 255, 0, 0.555944405559444)",
          "width": 5
         },
         "mode": "lines",
         "type": "scatter3d",
         "x": [
          -13.762194938431643,
          -13.02103318757128
         ],
         "y": [
          2.61040259282361,
          2.1188539905976183
         ],
         "z": [
          2.8440338420605604,
          2.3868038881956632
         ]
        },
        {
         "line": {
          "color": "rgba(0, 0, 255, 0.555944405559444)",
          "width": 5
         },
         "mode": "lines",
         "type": "scatter3d",
         "x": [
          -13.762194938431643,
          -13.146336423827616
         ],
         "y": [
          2.61040259282361,
          3.3793331334942334
         ],
         "z": [
          2.8440338420605604,
          3.015684981333606
         ]
        },
        {
         "line": {
          "color": "rgba(255, 0, 0, 0.5609439056094391)",
          "width": 5
         },
         "mode": "lines",
         "type": "scatter3d",
         "x": [
          -13.598289010029575,
          -13.25619960900157
         ],
         "y": [
          2.1140992092778017,
          2.3518939872683067
         ],
         "z": [
          2.9059935534639654,
          1.9969124320755802
         ]
        },
        {
         "line": {
          "color": "rgba(0, 255, 0, 0.5609439056094391)",
          "width": 5
         },
         "mode": "lines",
         "type": "scatter3d",
         "x": [
          -13.598289010029575,
          -14.485918715249394
         ],
         "y": [
          2.1140992092778017,
          1.8783939658730224
         ],
         "z": [
          2.9059935534639654,
          2.5103212842273046
         ]
        },
        {
         "line": {
          "color": "rgba(0, 0, 255, 0.5609439056094391)",
          "width": 5
         },
         "mode": "lines",
         "type": "scatter3d",
         "x": [
          -13.598289010029575,
          -13.906652996441238
         ],
         "y": [
          2.1140992092778017,
          3.05638190666324
         ],
         "z": [
          2.9059935534639654,
          3.036434996618989
         ]
        },
        {
         "line": {
          "color": "rgba(255, 0, 0, 0.565943405659434)",
          "width": 5
         },
         "mode": "lines",
         "type": "scatter3d",
         "x": [
          -13.712284177823038,
          -13.669659510269065
         ],
         "y": [
          1.8631432256349325,
          1.2994751086938918
         ],
         "z": [
          3.225523830782706,
          2.4006229933118726
         ]
        },
        {
         "line": {
          "color": "rgba(0, 255, 0, 0.565943405659434)",
          "width": 5
         },
         "mode": "lines",
         "type": "scatter3d",
         "x": [
          -13.712284177823038,
          -14.681055646722879
         ],
         "y": [
          1.8631432256349325,
          2.041685456352297
         ],
         "z": [
          3.225523830782706,
          3.0534642106037455
         ]
        },
        {
         "line": {
          "color": "rgba(0, 0, 255, 0.565943405659434)",
          "width": 5
         },
         "mode": "lines",
         "type": "scatter3d",
         "x": [
          -13.712284177823038,
          -13.468020020072514
         ],
         "y": [
          1.8631432256349325,
          2.669617605757852
         ],
         "z": [
          3.225523830782706,
          2.687068544390411
         ]
        },
        {
         "line": {
          "color": "rgba(255, 0, 0, 0.5709429057094291)",
          "width": 5
         },
         "mode": "lines",
         "type": "scatter3d",
         "x": [
          -14.87751779322863,
          -15.73371523235521
         ],
         "y": [
          0.745692219181726,
          0.27218402412713993
         ],
         "z": [
          2.818710026201071,
          2.612031690497356
         ]
        },
        {
         "line": {
          "color": "rgba(0, 255, 0, 0.5709429057094291)",
          "width": 5
         },
         "mode": "lines",
         "type": "scatter3d",
         "x": [
          -14.87751779322863,
          -14.726420100699448
         ],
         "y": [
          0.745692219181726,
          0.13365344633650245
         ],
         "z": [
          2.818710026201071,
          3.594969021541217
         ]
        },
        {
         "line": {
          "color": "rgba(0, 0, 255, 0.5709429057094291)",
          "width": 5
         },
         "mode": "lines",
         "type": "scatter3d",
         "x": [
          -14.87751779322863,
          -15.371577943964814
         ],
         "y": [
          0.745692219181726,
          1.37909456347033
         ],
         "z": [
          2.818710026201071,
          3.4142820518237227
         ]
        },
        {
         "line": {
          "color": "rgba(255, 0, 0, 0.575942405759424)",
          "width": 5
         },
         "mode": "lines",
         "type": "scatter3d",
         "x": [
          -16.32706880156344,
          -15.840617301777334
         ],
         "y": [
          1.819474367693553,
          2.4496500066110736
         ],
         "z": [
          2.554140558875213,
          1.9489599226427161
         ]
        },
        {
         "line": {
          "color": "rgba(0, 255, 0, 0.575942405759424)",
          "width": 5
         },
         "mode": "lines",
         "type": "scatter3d",
         "x": [
          -16.32706880156344,
          -16.024935782236227
         ],
         "y": [
          1.819474367693553,
          2.3480700289434018
         ],
         "z": [
          2.554140558875213,
          3.3474262990345114
         ]
        },
        {
         "line": {
          "color": "rgba(0, 0, 255, 0.575942405759424)",
          "width": 5
         },
         "mode": "lines",
         "type": "scatter3d",
         "x": [
          -16.32706880156344,
          -15.50726359482949
         ],
         "y": [
          1.819474367693553,
          1.2507342767708458
         ],
         "z": [
          2.554140558875213,
          2.620879842578023
         ]
        },
        {
         "line": {
          "color": "rgba(255, 0, 0, 0.5809419058094191)",
          "width": 5
         },
         "mode": "lines",
         "type": "scatter3d",
         "x": [
          -16.19503897654569,
          -17.156803705345393
         ],
         "y": [
          -0.06922602601074145,
          -0.33998002270462063
         ],
         "z": [
          5.142770154474373,
          5.184011877415348
         ]
        },
        {
         "line": {
          "color": "rgba(0, 255, 0, 0.5809419058094191)",
          "width": 5
         },
         "mode": "lines",
         "type": "scatter3d",
         "x": [
          -16.19503897654569,
          -16.029628849320645
         ],
         "y": [
          -0.06922602601074145,
          -0.5234491394067984
         ],
         "z": [
          5.142770154474373,
          6.0181676944915985
         ]
        },
        {
         "line": {
          "color": "rgba(0, 0, 255, 0.5809419058094191)",
          "width": 5
         },
         "mode": "lines",
         "type": "scatter3d",
         "x": [
          -16.19503897654569,
          -16.41332341540527
         ],
         "y": [
          -0.06922602601074145,
          0.779522250294503
         ],
         "z": [
          5.142770154474373,
          5.6244113769841055
         ]
        },
        {
         "line": {
          "color": "rgba(255, 0, 0, 0.585941405859414)",
          "width": 5
         },
         "mode": "lines",
         "type": "scatter3d",
         "x": [
          -16.13550013527541,
          -16.708972920121504
         ],
         "y": [
          -0.39283499600676564,
          -0.06835670672603322
         ],
         "z": [
          5.047897444479067,
          5.8001226799147965
         ]
        },
        {
         "line": {
          "color": "rgba(0, 255, 0, 0.585941405859414)",
          "width": 5
         },
         "mode": "lines",
         "type": "scatter3d",
         "x": [
          -16.13550013527541,
          -16.952524722282973
         ],
         "y": [
          -0.39283499600676564,
          -0.5521178061577625
         ],
         "z": [
          5.047897444479067,
          4.4937315752525855
         ]
        },
        {
         "line": {
          "color": "rgba(0, 0, 255, 0.585941405859414)",
          "width": 5
         },
         "mode": "lines",
         "type": "scatter3d",
         "x": [
          -16.13550013527541,
          -16.195498379133088
         ],
         "y": [
          -0.39283499600676564,
          -1.3252205526172753
         ],
         "z": [
          5.047897444479067,
          5.404348541486973
         ]
        },
        {
         "line": {
          "color": "rgba(255, 0, 0, 0.5909409059094091)",
          "width": 5
         },
         "mode": "lines",
         "type": "scatter3d",
         "x": [
          -16.108087272860843,
          -15.798668843563805
         ],
         "y": [
          -0.3672884377514317,
          0.3554959421367855
         ],
         "z": [
          5.156183500417477,
          5.774117943381284
         ]
        },
        {
         "line": {
          "color": "rgba(0, 255, 0, 0.5909409059094091)",
          "width": 5
         },
         "mode": "lines",
         "type": "scatter3d",
         "x": [
          -16.108087272860843,
          -15.195007814242011
         ],
         "y": [
          -0.3672884377514317,
          -0.7746161721587125
         ],
         "z": [
          5.156183500417477,
          5.175419379159876
         ]
        },
        {
         "line": {
          "color": "rgba(0, 0, 255, 0.5909409059094091)",
          "width": 5
         },
         "mode": "lines",
         "type": "scatter3d",
         "x": [
          -16.108087272860843,
          -15.842482043507747
         ],
         "y": [
          -0.3672884377514317,
          0.19098287350526932
         ],
         "z": [
          5.156183500417477,
          4.370189222341589
         ]
        },
        {
         "line": {
          "color": "rgba(255, 0, 0, 0.595940405959404)",
          "width": 5
         },
         "mode": "lines",
         "type": "scatter3d",
         "x": [
          -15.675191239848873,
          -15.170182352908686
         ],
         "y": [
          -0.015588024524576752,
          0.33581312780178596
         ],
         "z": [
          6.455370970113099,
          5.667028877963277
         ]
        },
        {
         "line": {
          "color": "rgba(0, 255, 0, 0.595940405959404)",
          "width": 5
         },
         "mode": "lines",
         "type": "scatter3d",
         "x": [
          -15.675191239848873,
          -16.089540094301892
         ],
         "y": [
          -0.015588024524576752,
          0.8843542531679109
         ],
         "z": [
          6.455370970113099,
          6.5910873052948435
         ]
        },
        {
         "line": {
          "color": "rgba(0, 0, 255, 0.595940405959404)",
          "width": 5
         },
         "mode": "lines",
         "type": "scatter3d",
         "x": [
          -15.675191239848873,
          -14.918037985266343
         ],
         "y": [
          -0.015588024524576752,
          0.24252266290506497
         ],
         "z": [
          6.455370970113099,
          7.055452483000888
         ]
        },
        {
         "line": {
          "color": "rgba(255, 0, 0, 0.6009399060093991)",
          "width": 5
         },
         "mode": "lines",
         "type": "scatter3d",
         "x": [
          -15.951970024562973,
          -15.347640861593401
         ],
         "y": [
          0.2723109990096871,
          -0.4712085517622269
         ],
         "z": [
          6.683564064076652,
          6.397268866065127
         ]
        },
        {
         "line": {
          "color": "rgba(0, 255, 0, 0.6009399060093991)",
          "width": 5
         },
         "mode": "lines",
         "type": "scatter3d",
         "x": [
          -15.951970024562973,
          -16.0819092073633
         ],
         "y": [
          0.2723109990096871,
          -0.1741904512166252
         ],
         "z": [
          6.683564064076652,
          7.568861903065885
         ]
        },
        {
         "line": {
          "color": "rgba(0, 0, 255, 0.6009399060093991)",
          "width": 5
         },
         "mode": "lines",
         "type": "scatter3d",
         "x": [
          -15.951970024562973,
          -16.738037497212552
         ],
         "y": [
          0.2723109990096871,
          -0.2254993389361737
         ],
         "z": [
          6.683564064076652,
          6.317117893573323
         ]
        },
        {
         "line": {
          "color": "rgba(255, 0, 0, 0.6059394060593941)",
          "width": 5
         },
         "mode": "lines",
         "type": "scatter3d",
         "x": [
          -16.130068347504707,
          -15.712541478648797
         ],
         "y": [
          0.13871457919641786,
          -0.3230983438512386
         ],
         "z": [
          6.058990224143937,
          6.841550214106101
         ]
        },
        {
         "line": {
          "color": "rgba(0, 255, 0, 0.6059394060593941)",
          "width": 5
         },
         "mode": "lines",
         "type": "scatter3d",
         "x": [
          -16.130068347504707,
          -15.756545618729367
         ],
         "y": [
          0.13871457919641786,
          1.0110356238783402
         ],
         "z": [
          6.058990224143937,
          6.374484702848872
         ]
        },
        {
         "line": {
          "color": "rgba(0, 0, 255, 0.6059394060593941)",
          "width": 5
         },
         "mode": "lines",
         "type": "scatter3d",
         "x": [
          -16.130068347504707,
          -16.958411322890882
         ],
         "y": [
          0.13871457919641786,
          0.29929110024248995
         ],
         "z": [
          6.058990224143937,
          6.595705321767564
         ]
        },
        {
         "line": {
          "color": "rgba(255, 0, 0, 0.6109389061093891)",
          "width": 5
         },
         "mode": "lines",
         "type": "scatter3d",
         "x": [
          -17.127742639645767,
          -16.633572156472955
         ],
         "y": [
          -0.1349612764933828,
          -1.0042623625808034
         ],
         "z": [
          5.2078215248759,
          5.218364545696095
         ]
        },
        {
         "line": {
          "color": "rgba(0, 255, 0, 0.6109389061093891)",
          "width": 5
         },
         "mode": "lines",
         "type": "scatter3d",
         "x": [
          -17.127742639645767,
          -16.480818234392142
         ],
         "y": [
          -0.1349612764933828,
          0.2246395546381354
         ],
         "z": [
          5.2078215248759,
          4.535381151209369
         ]
        },
        {
         "line": {
          "color": "rgba(0, 0, 255, 0.6109389061093891)",
          "width": 5
         },
         "mode": "lines",
         "type": "scatter3d",
         "x": [
          -17.127742639645767,
          -16.54698077153801
         ],
         "y": [
          -0.1349612764933828,
          0.20415944533999525
         ],
         "z": [
          5.2078215248759,
          5.947897729448929
         ]
        },
        {
         "line": {
          "color": "rgba(255, 0, 0, 0.6159384061593841)",
          "width": 5
         },
         "mode": "lines",
         "type": "scatter3d",
         "x": [
          -17.30357235186184,
          -16.90337758251922
         ],
         "y": [
          -0.2611817893012783,
          0.6227842931776317
         ],
         "z": [
          5.029844760587009,
          5.271605203210971
         ]
        },
        {
         "line": {
          "color": "rgba(0, 255, 0, 0.6159384061593841)",
          "width": 5
         },
         "mode": "lines",
         "type": "scatter3d",
         "x": [
          -17.30357235186184,
          -17.304513974383596
         ],
         "y": [
          -0.2611817893012783,
          -0.5245917635395705
         ],
         "z": [
          5.029844760587009,
          5.994528283209236
         ]
        },
        {
         "line": {
          "color": "rgba(0, 0, 255, 0.6159384061593841)",
          "width": 5
         },
         "mode": "lines",
         "type": "scatter3d",
         "x": [
          -17.30357235186184,
          -16.38714272557412
         ],
         "y": [
          -0.2611817893012783,
          -0.6474707362033518
         ],
         "z": [
          5.029844760587009,
          4.925261829075904
         ]
        },
        {
         "line": {
          "color": "rgba(255, 0, 0, 0.620937906209379)",
          "width": 5
         },
         "mode": "lines",
         "type": "scatter3d",
         "x": [
          -17.201588216895278,
          -16.747088881209194
         ],
         "y": [
          0.10767725901002176,
          0.7016037801744769
         ],
         "z": [
          5.479970255311103,
          6.143808821016971
         ]
        },
        {
         "line": {
          "color": "rgba(0, 255, 0, 0.620937906209379)",
          "width": 5
         },
         "mode": "lines",
         "type": "scatter3d",
         "x": [
          -17.201588216895278,
          -17.70420776579809
         ],
         "y": [
          0.10767725901002176,
          -0.33660369871400153
         ],
         "z": [
          5.479970255311103,
          6.2215820268361925
         ]
        },
        {
         "line": {
          "color": "rgba(0, 0, 255, 0.620937906209379)",
          "width": 5
         },
         "mode": "lines",
         "type": "scatter3d",
         "x": [
          -17.201588216895278,
          -16.466194483632844
         ],
         "y": [
          0.10767725901002176,
          -0.5630430389244854
         ],
         "z": [
          5.479970255311103,
          5.576563935316648
         ]
        },
        {
         "line": {
          "color": "rgba(255, 0, 0, 0.6259374062593741)",
          "width": 5
         },
         "mode": "lines",
         "type": "scatter3d",
         "x": [
          -17.76648016757865,
          -17.12291957652752
         ],
         "y": [
          0.0907118317753031,
          -0.4188391374816511
         ],
         "z": [
          5.354352634076721,
          4.783224298783116
         ]
        },
        {
         "line": {
          "color": "rgba(0, 255, 0, 0.6259374062593741)",
          "width": 5
         },
         "mode": "lines",
         "type": "scatter3d",
         "x": [
          -17.76648016757865,
          -18.3725453831145
         ],
         "y": [
          0.0907118317753031,
          -0.7042669424673366
         ],
         "z": [
          5.354352634076721,
          5.380690876637417
         ]
        },
        {
         "line": {
          "color": "rgba(0, 0, 255, 0.6259374062593741)",
          "width": 5
         },
         "mode": "lines",
         "type": "scatter3d",
         "x": [
          -17.76648016757865,
          -18.233935748530918
         ],
         "y": [
          0.0907118317753031,
          0.41990259445404404
         ],
         "z": [
          5.354352634076721,
          4.533914506242825
         ]
        },
        {
         "line": {
          "color": "rgba(255, 0, 0, 0.630936906309369)",
          "width": 5
         },
         "mode": "lines",
         "type": "scatter3d",
         "x": [
          -17.567900111860375,
          -18.42123750063489
         ],
         "y": [
          0.5943785892615013,
          0.22376839835970352
         ],
         "z": [
          5.185555280255846,
          4.818862783306092
         ]
        },
        {
         "line": {
          "color": "rgba(0, 255, 0, 0.630936906309369)",
          "width": 5
         },
         "mode": "lines",
         "type": "scatter3d",
         "x": [
          -17.567900111860375,
          -17.497086640476024
         ],
         "y": [
          0.5943785892615013,
          1.2088091961698262
         ],
         "z": [
          5.185555280255846,
          4.399768743361256
         ]
        },
        {
         "line": {
          "color": "rgba(0, 0, 255, 0.630936906309369)",
          "width": 5
         },
         "mode": "lines",
         "type": "scatter3d",
         "x": [
          -17.567900111860375,
          -17.051372519964254
         ],
         "y": [
          0.5943785892615013,
          -0.10212921090590887
         ],
         "z": [
          5.185555280255846,
          4.687482864721738
         ]
        },
        {
         "line": {
          "color": "rgba(255, 0, 0, 0.6359364063593641)",
          "width": 5
         },
         "mode": "lines",
         "type": "scatter3d",
         "x": [
          -17.840469675191382,
          -17.124008947925976
         ],
         "y": [
          1.1473798801627204,
          0.9162981545461824
         ],
         "z": [
          5.339418630528712,
          5.9976627056045375
         ]
        },
        {
         "line": {
          "color": "rgba(0, 255, 0, 0.6359364063593641)",
          "width": 5
         },
         "mode": "lines",
         "type": "scatter3d",
         "x": [
          -17.840469675191382,
          -18.354913607213927
         ],
         "y": [
          1.1473798801627204,
          0.33507077435751276
         ],
         "z": [
          5.339418630528712,
          5.614193733897204
         ]
        },
        {
         "line": {
          "color": "rgba(0, 0, 255, 0.6359364063593641)",
          "width": 5
         },
         "mode": "lines",
         "type": "scatter3d",
         "x": [
          -17.840469675191382,
          -17.369267524207828
         ],
         "y": [
          1.1473798801627204,
          0.6118846395563515
         ],
         "z": [
          5.339418630528712,
          4.638552466274491
         ]
        },
        {
         "line": {
          "color": "rgba(255, 0, 0, 0.640935906409359)",
          "width": 5
         },
         "mode": "lines",
         "type": "scatter3d",
         "x": [
          -17.610430417980364,
          -16.82884951959135
         ],
         "y": [
          1.4263821492990236,
          1.9341124554415914
         ],
         "z": [
          5.140062713274526,
          4.777652399544602
         ]
        },
        {
         "line": {
          "color": "rgba(0, 255, 0, 0.640935906409359)",
          "width": 5
         },
         "mode": "lines",
         "type": "scatter3d",
         "x": [
          -17.610430417980364,
          -17.125429085986752
         ],
         "y": [
          1.4263821492990236,
          0.5664143033617781
         ],
         "z": [
          5.140062713274526,
          4.981226281941796
         ]
        },
        {
         "line": {
          "color": "rgba(0, 0, 255, 0.640935906409359)",
          "width": 5
         },
         "mode": "lines",
         "type": "scatter3d",
         "x": [
          -17.610430417980364,
          -18.00273770473128
         ],
         "y": [
          1.4263821492990236,
          1.3747561851097279
         ],
         "z": [
          5.140062713274526,
          4.221678396888581
         ]
        },
        {
         "line": {
          "color": "rgba(255, 0, 0, 0.6459354064593541)",
          "width": 5
         },
         "mode": "lines",
         "type": "scatter3d",
         "x": [
          -17.4459162745784,
          -17.662326708702295
         ],
         "y": [
          1.4807665650426154,
          2.3101066031582045
         ],
         "z": [
          5.287061084739674,
          4.771928456011132
         ]
        },
        {
         "line": {
          "color": "rgba(0, 255, 0, 0.6459354064593541)",
          "width": 5
         },
         "mode": "lines",
         "type": "scatter3d",
         "x": [
          -17.4459162745784,
          -18.421935130961657
         ],
         "y": [
          1.4807665650426154,
          1.284268447556687
         ],
         "z": [
          5.287061084739674,
          5.380739693871265
         ]
        },
        {
         "line": {
          "color": "rgba(0, 0, 255, 0.6459354064593541)",
          "width": 5
         },
         "mode": "lines",
         "type": "scatter3d",
         "x": [
          -17.4459162745784,
          -17.469447445111328
         ],
         "y": [
          1.4807665650426154,
          2.00381875269024
         ],
         "z": [
          5.287061084739674,
          6.139036843203735
         ]
        },
        {
         "line": {
          "color": "rgba(255, 0, 0, 0.650934906509349)",
          "width": 5
         },
         "mode": "lines",
         "type": "scatter3d",
         "x": [
          -17.117447310618935,
          -17.598195076542424
         ],
         "y": [
          1.8068226703856907,
          1.7771390896999621
         ],
         "z": [
          4.82967413442515,
          3.9533177739203205
         ]
        },
        {
         "line": {
          "color": "rgba(0, 255, 0, 0.650934906509349)",
          "width": 5
         },
         "mode": "lines",
         "type": "scatter3d",
         "x": [
          -17.117447310618935,
          -17.904078969324647
         ],
         "y": [
          1.8068226703856907,
          2.262993250047672
         ],
         "z": [
          4.82967413442515,
          5.245749891677095
         ]
        },
        {
         "line": {
          "color": "rgba(0, 0, 255, 0.650934906509349)",
          "width": 5
         },
         "mode": "lines",
         "type": "scatter3d",
         "x": [
          -17.117447310618935,
          -16.730029939968755
         ],
         "y": [
          1.8068226703856907,
          2.696219818620703
         ],
         "z": [
          4.82967413442515,
          4.587021103061496
         ]
        },
        {
         "line": {
          "color": "rgba(255, 0, 0, 0.6559344065593441)",
          "width": 5
         },
         "mode": "lines",
         "type": "scatter3d",
         "x": [
          -17.258806032808913,
          -17.62247649528524
         ],
         "y": [
          1.8493139018789233,
          2.502726276448678
         ],
         "z": [
          4.796662661854875,
          4.132737919522282
         ]
        },
        {
         "line": {
          "color": "rgba(0, 255, 0, 0.6559344065593441)",
          "width": 5
         },
         "mode": "lines",
         "type": "scatter3d",
         "x": [
          -17.258806032808913,
          -18.051683620795746
         ],
         "y": [
          1.8493139018789233,
          1.2580721371794594
         ],
         "z": [
          4.796662661854875,
          4.649087914207183
         ]
        },
        {
         "line": {
          "color": "rgba(0, 0, 255, 0.6559344065593441)",
          "width": 5
         },
         "mode": "lines",
         "type": "scatter3d",
         "x": [
          -17.258806032808913,
          -17.747773235380272
         ],
         "y": [
          1.8493139018789233,
          2.3220563734575057
         ],
         "z": [
          4.796662661854875,
          5.529755855368046
         ]
        },
        {
         "line": {
          "color": "rgba(255, 0, 0, 0.660933906609339)",
          "width": 5
         },
         "mode": "lines",
         "type": "scatter3d",
         "x": [
          -17.396486819183476,
          -18.36930295976203
         ],
         "y": [
          1.7443558195260624,
          1.9639617987082043
         ],
         "z": [
          4.857417997145028,
          4.783919898276237
         ]
        },
        {
         "line": {
          "color": "rgba(0, 255, 0, 0.660933906609339)",
          "width": 5
         },
         "mode": "lines",
         "type": "scatter3d",
         "x": [
          -17.396486819183476,
          -17.168488195167964
         ],
         "y": [
          1.7443558195260624,
          2.708206190222095
         ],
         "z": [
          4.857417997145028,
          4.7195445393795845
         ]
        },
        {
         "line": {
          "color": "rgba(0, 0, 255, 0.660933906609339)",
          "width": 5
         },
         "mode": "lines",
         "type": "scatter3d",
         "x": [
          -17.396486819183476,
          -17.35592348503915
         ],
         "y": [
          1.7443558195260624,
          1.593472829044623
         ],
         "z": [
          4.857417997145028,
          3.869698938350222
         ]
        },
        {
         "line": {
          "color": "rgba(255, 0, 0, 0.6659334066593341)",
          "width": 5
         },
         "mode": "lines",
         "type": "scatter3d",
         "x": [
          -17.349987150303303,
          -18.063325226287553
         ],
         "y": [
          1.718935718389479,
          1.3727341519576173
         ],
         "z": [
          4.7751532163711286,
          4.165814833572837
         ]
        },
        {
         "line": {
          "color": "rgba(0, 255, 0, 0.6659334066593341)",
          "width": 5
         },
         "mode": "lines",
         "type": "scatter3d",
         "x": [
          -17.349987150303303,
          -16.917955967821765
         ],
         "y": [
          1.718935718389479,
          2.1863034582897893
         ],
         "z": [
          4.7751532163711286,
          4.003844942680182
         ]
        },
        {
         "line": {
          "color": "rgba(0, 0, 255, 0.6659334066593341)",
          "width": 5
         },
         "mode": "lines",
         "type": "scatter3d",
         "x": [
          -17.349987150303303,
          -16.79817391494671
         ],
         "y": [
          1.718935718389479,
          0.9054789763923087
         ],
         "z": [
          4.7751532163711286,
          4.591331884136056
         ]
        },
        {
         "line": {
          "color": "rgba(255, 0, 0, 0.670932906709329)",
          "width": 5
         },
         "mode": "lines",
         "type": "scatter3d",
         "x": [
          -17.76012073423246,
          -17.156051888348106
         ],
         "y": [
          1.8002803856933622,
          2.346691282304867
         ],
         "z": [
          4.935686976460409,
          5.515804172806275
         ]
        },
        {
         "line": {
          "color": "rgba(0, 255, 0, 0.670932906709329)",
          "width": 5
         },
         "mode": "lines",
         "type": "scatter3d",
         "x": [
          -17.76012073423246,
          -17.03813932961179
         ],
         "y": [
          1.8002803856933622,
          1.1168612971703396
         ],
         "z": [
          4.935686976460409,
          4.827607372351385
         ]
        },
        {
         "line": {
          "color": "rgba(0, 0, 255, 0.670932906709329)",
          "width": 5
         },
         "mode": "lines",
         "type": "scatter3d",
         "x": [
          -17.76012073423246,
          -17.422713442055873
         ],
         "y": [
          1.8002803856933622,
          2.2844017356735327
         ],
         "z": [
          4.935686976460409,
          4.128356289765378
         ]
        },
        {
         "line": {
          "color": "rgba(255, 0, 0, 0.6759324067593241)",
          "width": 5
         },
         "mode": "lines",
         "type": "scatter3d",
         "x": [
          -17.771734608892693,
          -18.386228884381094
         ],
         "y": [
          1.9833274840235782,
          2.130181596873851
         ],
         "z": [
          5.989107190965446,
          6.764239860210504
         ]
        },
        {
         "line": {
          "color": "rgba(0, 255, 0, 0.6759324067593241)",
          "width": 5
         },
         "mode": "lines",
         "type": "scatter3d",
         "x": [
          -17.771734608892693,
          -18.489766255464666
         ],
         "y": [
          1.9833274840235782,
          2.2862724333439526
         ],
         "z": [
          5.989107190965446,
          5.362485365457871
         ]
        },
        {
         "line": {
          "color": "rgba(0, 0, 255, 0.6759324067593241)",
          "width": 5
         },
         "mode": "lines",
         "type": "scatter3d",
         "x": [
          -17.771734608892693,
          -18.098579128371227
         ],
         "y": [
          1.9833274840235782,
          1.0417021725433244
         ],
         "z": [
          5.989107190965446,
          5.908395154275702
         ]
        },
        {
         "line": {
          "color": "rgba(255, 0, 0, 0.680931906809319)",
          "width": 5
         },
         "mode": "lines",
         "type": "scatter3d",
         "x": [
          -17.842194941838535,
          -18.837097946548052
         ],
         "y": [
          2.23892152303224,
          2.313242227566863
         ],
         "z": [
          6.052309411427504,
          6.120459569882774
         ]
        },
        {
         "line": {
          "color": "rgba(0, 255, 0, 0.680931906809319)",
          "width": 5
         },
         "mode": "lines",
         "type": "scatter3d",
         "x": [
          -17.842194941838535,
          -17.94281905558627
         ],
         "y": [
          2.23892152303224,
          1.4633340720343755
         ],
         "z": [
          6.052309411427504,
          5.429140980273329
         ]
        },
        {
         "line": {
          "color": "rgba(0, 0, 255, 0.680931906809319)",
          "width": 5
         },
         "mode": "lines",
         "type": "scatter3d",
         "x": [
          -17.842194941838535,
          -17.835652851004223
         ],
         "y": [
          2.23892152303224,
          1.6120718291405058
         ],
         "z": [
          6.052309411427504,
          6.831422151867157
         ]
        },
        {
         "line": {
          "color": "rgba(255, 0, 0, 0.6859314068593141)",
          "width": 5
         },
         "mode": "lines",
         "type": "scatter3d",
         "x": [
          -17.66815459638437,
          -18.617710254704544
         ],
         "y": [
          2.076354953056184,
          2.1565146704736717
         ],
         "z": [
          6.48915290582544,
          6.18597231367662
         ]
        },
        {
         "line": {
          "color": "rgba(0, 255, 0, 0.6859314068593141)",
          "width": 5
         },
         "mode": "lines",
         "type": "scatter3d",
         "x": [
          -17.66815459638437,
          -17.356817292356578
         ],
         "y": [
          2.076354953056184,
          2.2014333445091068
         ],
         "z": [
          6.48915290582544,
          5.547120804932761
         ]
        },
        {
         "line": {
          "color": "rgba(0, 0, 255, 0.6859314068593141)",
          "width": 5
         },
         "mode": "lines",
         "type": "scatter3d",
         "x": [
          -17.66815459638437,
          -17.70574628260441
         ],
         "y": [
          2.076354953056184,
          1.0874516131411323
         ],
         "z": [
          6.48915290582544,
          6.345427301175345
         ]
        },
        {
         "line": {
          "color": "rgba(255, 0, 0, 0.690930906909309)",
          "width": 5
         },
         "mode": "lines",
         "type": "scatter3d",
         "x": [
          -17.826174645797753,
          -17.633804755692335
         ],
         "y": [
          2.1304914771976633,
          2.7033968579628724
         ],
         "z": [
          6.333406818963834,
          5.536680234700996
         ]
        },
        {
         "line": {
          "color": "rgba(0, 255, 0, 0.690930906909309)",
          "width": 5
         },
         "mode": "lines",
         "type": "scatter3d",
         "x": [
          -17.826174645797753,
          -18.65077443979114
         ],
         "y": [
          2.1304914771976633,
          2.665013309256149
         ],
         "z": [
          6.333406818963834,
          6.5186676912464945
         ]
        },
        {
         "line": {
          "color": "rgba(0, 0, 255, 0.690930906909309)",
          "width": 5
         },
         "mode": "lines",
         "type": "scatter3d",
         "x": [
          -17.826174645797753,
          -17.2941699417519
         ],
         "y": [
          2.1304914771976633,
          2.751833440808007
         ],
         "z": [
          6.333406818963834,
          6.908650384012551
         ]
        },
        {
         "line": {
          "color": "rgba(255, 0, 0, 0.6959304069593041)",
          "width": 5
         },
         "mode": "lines",
         "type": "scatter3d",
         "x": [
          -17.480529450834172,
          -17.632966710258284
         ],
         "y": [
          1.973706175382549,
          1.6674417958958538
         ],
         "z": [
          7.7620525569174585,
          6.822390377303466
         ]
        },
        {
         "line": {
          "color": "rgba(0, 255, 0, 0.6959304069593041)",
          "width": 5
         },
         "mode": "lines",
         "type": "scatter3d",
         "x": [
          -17.480529450834172,
          -17.181143928664248
         ],
         "y": [
          1.973706175382549,
          1.053295695169314
         ],
         "z": [
          7.7620525569174585,
          8.01347422867375
         ]
        },
        {
         "line": {
          "color": "rgba(0, 0, 255, 0.6959304069593041)",
          "width": 5
         },
         "mode": "lines",
         "type": "scatter3d",
         "x": [
          -17.480529450834172,
          -18.42240587110083
         ],
         "y": [
          1.973706175382549,
          1.7307109536778427
         ],
         "z": [
          7.7620525569174585,
          7.994048529241059
         ]
        },
        {
         "line": {
          "color": "rgba(255, 0, 0, 0.700929907009299)",
          "width": 5
         },
         "mode": "lines",
         "type": "scatter3d",
         "x": [
          -17.988370490494507,
          -18.943608260534752
         ],
         "y": [
          1.204788652315881,
          0.9398236212058021
         ],
         "z": [
          7.951794816117485,
          8.08337876262084
         ]
        },
        {
         "line": {
          "color": "rgba(0, 255, 0, 0.700929907009299)",
          "width": 5
         },
         "mode": "lines",
         "type": "scatter3d",
         "x": [
          -17.988370490494507,
          -17.763920939935677
         ],
         "y": [
          1.204788652315881,
          0.8454500316146931
         ],
         "z": [
          7.951794816117485,
          8.857608348212548
         ]
        },
        {
         "line": {
          "color": "rgba(0, 0, 255, 0.700929907009299)",
          "width": 5
         },
         "mode": "lines",
         "type": "scatter3d",
         "x": [
          -17.988370490494507,
          -18.181096207363066
         ],
         "y": [
          1.204788652315881,
          2.099589908440084
         ],
         "z": [
          7.951794816117485,
          8.35451992099188
         ]
        },
        {
         "line": {
          "color": "rgba(255, 0, 0, 0.7059294070592941)",
          "width": 5
         },
         "mode": "lines",
         "type": "scatter3d",
         "x": [
          -17.306350847058447,
          -18.199966482384287
         ],
         "y": [
          2.043128811227025,
          1.812524602063257
         ],
         "z": [
          6.578880764654329,
          6.193818698206371
         ]
        },
        {
         "line": {
          "color": "rgba(0, 255, 0, 0.7059294070592941)",
          "width": 5
         },
         "mode": "lines",
         "type": "scatter3d",
         "x": [
          -17.306350847058447,
          -17.223879505258875
         ],
         "y": [
          2.043128811227025,
          1.1154548004623965
         ],
         "z": [
          6.578880764654329,
          6.943050241043677
         ]
        },
        {
         "line": {
          "color": "rgba(0, 0, 255, 0.7059294070592941)",
          "width": 5
         },
         "mode": "lines",
         "type": "scatter3d",
         "x": [
          -17.306350847058447,
          -17.747541932737878
         ],
         "y": [
          2.043128811227025,
          2.336799763940892
         ],
         "z": [
          6.578880764654329,
          7.426883003713377
         ]
        },
        {
         "line": {
          "color": "rgba(255, 0, 0, 0.710928907109289)",
          "width": 5
         },
         "mode": "lines",
         "type": "scatter3d",
         "x": [
          -17.798353029674963,
          -18.079717055106045
         ],
         "y": [
          3.2029922016947827,
          3.3954471297329394
         ],
         "z": [
          6.169452829172318,
          5.2293489062642875
         ]
        },
        {
         "line": {
          "color": "rgba(0, 255, 0, 0.710928907109289)",
          "width": 5
         },
         "mode": "lines",
         "type": "scatter3d",
         "x": [
          -17.798353029674963,
          -18.676610742446623
         ],
         "y": [
          3.2029922016947827,
          2.7566056103248404
         ],
         "z": [
          6.169452829172318,
          6.340924112488939
         ]
        },
        {
         "line": {
          "color": "rgba(0, 0, 255, 0.710928907109289)",
          "width": 5
         },
         "mode": "lines",
         "type": "scatter3d",
         "x": [
          -17.798353029674963,
          -18.18500232186407
         ],
         "y": [
          3.2029922016947827,
          4.076891573315453
         ],
         "z": [
          6.169452829172318,
          6.464074982329043
         ]
        },
        {
         "line": {
          "color": "rgba(255, 0, 0, 0.7159284071592841)",
          "width": 5
         },
         "mode": "lines",
         "type": "scatter3d",
         "x": [
          -17.843893559156342,
          -18.322309785901297
         ],
         "y": [
          4.063987540039181,
          3.455421420343145
         ],
         "z": [
          6.404594313955071,
          7.037654494305457
         ]
        },
        {
         "line": {
          "color": "rgba(0, 255, 0, 0.7159284071592841)",
          "width": 5
         },
         "mode": "lines",
         "type": "scatter3d",
         "x": [
          -17.843893559156342,
          -17.52889279483541
         ],
         "y": [
          4.063987540039181,
          3.2721174697781032
         ],
         "z": [
          6.404594313955071,
          5.881415271655035
         ]
        },
        {
         "line": {
          "color": "rgba(0, 0, 255, 0.7159284071592841)",
          "width": 5
         },
         "mode": "lines",
         "type": "scatter3d",
         "x": [
          -17.843893559156342,
          -17.024203109983986
         ],
         "y": [
          4.063987540039181,
          4.0131046373814785
         ],
         "z": [
          6.404594313955071,
          6.975136597885696
         ]
        },
        {
         "line": {
          "color": "rgba(255, 0, 0, 0.720927907209279)",
          "width": 5
         },
         "mode": "lines",
         "type": "scatter3d",
         "x": [
          -17.99026861977227,
          -17.83732934403843
         ],
         "y": [
          3.9223050292582124,
          3.6429071024181776
         ],
         "z": [
          7.528160050399444,
          8.476076911951933
         ]
        },
        {
         "line": {
          "color": "rgba(0, 255, 0, 0.720927907209279)",
          "width": 5
         },
         "mode": "lines",
         "type": "scatter3d",
         "x": [
          -17.99026861977227,
          -18.795260778181273
         ],
         "y": [
          3.9223050292582124,
          4.443475535660757
         ],
         "z": [
          7.528160050399444,
          7.811654191707797
         ]
        },
        {
         "line": {
          "color": "rgba(0, 0, 255, 0.720927907209279)",
          "width": 5
         },
         "mode": "lines",
         "type": "scatter3d",
         "x": [
          -17.99026861977227,
          -18.56350260588793
         ],
         "y": [
          3.9223050292582124,
          3.1158820002382974
         ],
         "z": [
          7.528160050399444,
          7.3829543500005315
         ]
        },
        {
         "line": {
          "color": "rgba(255, 0, 0, 0.7259274072592741)",
          "width": 5
         },
         "mode": "lines",
         "type": "scatter3d",
         "x": [
          -18.089463864148076,
          -17.73667951189955
         ],
         "y": [
          4.399336719552969,
          5.014599809617502
         ],
         "z": [
          7.402997988540381,
          6.698019598224152
         ]
        },
        {
         "line": {
          "color": "rgba(0, 255, 0, 0.7259274072592741)",
          "width": 5
         },
         "mode": "lines",
         "type": "scatter3d",
         "x": [
          -18.089463864148076,
          -17.207683548458093
         ],
         "y": [
          4.399336719552969,
          4.432808130742121
         ],
         "z": [
          7.402997988540381,
          7.873469177344439
         ]
        },
        {
         "line": {
          "color": "rgba(0, 0, 255, 0.7259274072592741)",
          "width": 5
         },
         "mode": "lines",
         "type": "scatter3d",
         "x": [
          -18.089463864148076,
          -17.776403685156424
         ],
         "y": [
          4.399336719552969,
          3.6117257783914734
         ],
         "z": [
          7.402997988540381,
          6.872279296866105
         ]
        },
        {
         "line": {
          "color": "rgba(255, 0, 0, 0.7309269073092691)",
          "width": 5
         },
         "mode": "lines",
         "type": "scatter3d",
         "x": [
          -18.75048119306548,
          -19.095641132788895
         ],
         "y": [
          4.464856786707484,
          3.8114814509321806
         ],
         "z": [
          7.391954783051434,
          8.06572424407699
         ]
        },
        {
         "line": {
          "color": "rgba(0, 255, 0, 0.7309269073092691)",
          "width": 5
         },
         "mode": "lines",
         "type": "scatter3d",
         "x": [
          -18.75048119306548,
          -18.5477966489797
         ],
         "y": [
          4.464856786707484,
          5.113913561373176
         ],
         "z": [
          7.391954783051434,
          8.125197088738537
         ]
        },
        {
         "line": {
          "color": "rgba(0, 0, 255, 0.7309269073092691)",
          "width": 5
         },
         "mode": "lines",
         "type": "scatter3d",
         "x": [
          -18.75048119306548,
          -19.66687826398992
         ],
         "y": [
          4.464856786707484,
          4.854505312767991
         ],
         "z": [
          7.391954783051434,
          7.300355467879265
         ]
        },
        {
         "line": {
          "color": "rgba(255, 0, 0, 0.7359264073592641)",
          "width": 5
         },
         "mode": "lines",
         "type": "scatter3d",
         "x": [
          -18.70236666851603,
          -19.302538758661193
         ],
         "y": [
          4.407929463992844,
          3.681770463949421
         ],
         "z": [
          7.565124377424797,
          7.229734203348751
         ]
        },
        {
         "line": {
          "color": "rgba(0, 255, 0, 0.7359264073592641)",
          "width": 5
         },
         "mode": "lines",
         "type": "scatter3d",
         "x": [
          -18.70236666851603,
          -19.333331931674945
         ],
         "y": [
          4.407929463992844,
          5.095443957951714
         ],
         "z": [
          7.565124377424797,
          7.205671101903044
         ]
        },
        {
         "line": {
          "color": "rgba(0, 0, 255, 0.7359264073592641)",
          "width": 5
         },
         "mode": "lines",
         "type": "scatter3d",
         "x": [
          -18.70236666851603,
          -18.21076083159216
         ],
         "y": [
          4.407929463992844,
          4.403815189760235
         ],
         "z": [
          7.565124377424797,
          6.694316262022822
         ]
        },
        {
         "line": {
          "color": "rgba(255, 0, 0, 0.7409259074092591)",
          "width": 5
         },
         "mode": "lines",
         "type": "scatter3d",
         "x": [
          -20.404917718889067,
          -20.587505895939206
         ],
         "y": [
          4.396044723469424,
          3.732005556054046
         ],
         "z": [
          7.56293489544293,
          6.837873834745399
         ]
        },
        {
         "line": {
          "color": "rgba(0, 255, 0, 0.7409259074092591)",
          "width": 5
         },
         "mode": "lines",
         "type": "scatter3d",
         "x": [
          -20.404917718889067,
          -19.76550173110487
         ],
         "y": [
          4.396044723469424,
          4.876044136833433
         ],
         "z": [
          7.56293489544293,
          6.9623120872378195
         ]
        },
        {
         "line": {
          "color": "rgba(0, 0, 255, 0.7409259074092591)",
          "width": 5
         },
         "mode": "lines",
         "type": "scatter3d",
         "x": [
          -20.404917718889067,
          -19.658051765609972
         ],
         "y": [
          4.396044723469424,
          3.8227624654947463
         ],
         "z": [
          7.56293489544293,
          7.899889937731952
         ]
        },
        {
         "line": {
          "color": "rgba(255, 0, 0, 0.7459254074592541)",
          "width": 5
         },
         "mode": "lines",
         "type": "scatter3d",
         "x": [
          -20.270254817257783,
          -20.592104202175996
         ],
         "y": [
          4.8783044956567245,
          5.003743634095155
         ],
         "z": [
          7.913963276559925,
          6.97551882110419
         ]
        },
        {
         "line": {
          "color": "rgba(0, 255, 0, 0.7459254074592541)",
          "width": 5
         },
         "mode": "lines",
         "type": "scatter3d",
         "x": [
          -20.270254817257783,
          -19.326050337801057
         ],
         "y": [
          4.8783044956567245,
          4.994043357471002
         ],
         "z": [
          7.913963276559925,
          7.605608907627335
         ]
        },
        {
         "line": {
          "color": "rgba(0, 0, 255, 0.7459254074592541)",
          "width": 5
         },
         "mode": "lines",
         "type": "scatter3d",
         "x": [
          -20.270254817257783,
          -20.20032003048005
         ],
         "y": [
          4.8783044956567245,
          3.8929773731162927
         ],
         "z": [
          7.913963276559925,
          7.758272598661112
         ]
        },
        {
         "line": {
          "color": "rgba(255, 0, 0, 0.7509249075092491)",
          "width": 5
         },
         "mode": "lines",
         "type": "scatter3d",
         "x": [
          -21.180330350134245,
          -21.385179200925794
         ],
         "y": [
          7.083354680226077,
          8.053276536811051
         ],
         "z": [
          6.818265515150347,
          6.6867796206666235
         ]
        },
        {
         "line": {
          "color": "rgba(0, 255, 0, 0.7509249075092491)",
          "width": 5
         },
         "mode": "lines",
         "type": "scatter3d",
         "x": [
          -21.180330350134245,
          -22.157912162487214
         ],
         "y": [
          7.083354680226077,
          6.873931380796874
         ],
         "z": [
          6.818265515150347,
          6.796455384181142
         ]
        },
        {
         "line": {
          "color": "rgba(0, 0, 255, 0.7509249075092491)",
          "width": 5
         },
         "mode": "lines",
         "type": "scatter3d",
         "x": [
          -21.180330350134245,
          -21.22902068270744
         ],
         "y": [
          7.083354680226077,
          7.207425118989672
         ],
         "z": [
          6.818265515150347,
          7.809343603768463
         ]
        },
        {
         "line": {
          "color": "rgba(255, 0, 0, 0.7559244075592441)",
          "width": 5
         },
         "mode": "lines",
         "type": "scatter3d",
         "x": [
          -21.00684813469265,
          -21.609690012116
         ],
         "y": [
          7.5646945092807965,
          8.174177646284836
         ],
         "z": [
          7.064242124074806,
          7.579132380860111
         ]
        },
        {
         "line": {
          "color": "rgba(0, 255, 0, 0.7559244075592441)",
          "width": 5
         },
         "mode": "lines",
         "type": "scatter3d",
         "x": [
          -21.00684813469265,
          -20.69958262426876
         ],
         "y": [
          7.5646945092807965,
          7.146478337438786
         ],
         "z": [
          7.064242124074806,
          7.919042182400601
         ]
        },
        {
         "line": {
          "color": "rgba(0, 0, 255, 0.7559244075592441)",
          "width": 5
         },
         "mode": "lines",
         "type": "scatter3d",
         "x": [
          -21.00684813469265,
          -20.270526481521525
         ],
         "y": [
          7.5646945092807965,
          8.238211798826935
         ],
         "z": [
          7.064242124074806,
          7.129087199090548
         ]
        },
        {
         "line": {
          "color": "rgba(255, 0, 0, 0.7609239076092391)",
          "width": 5
         },
         "mode": "lines",
         "type": "scatter3d",
         "x": [
          -21.7744633955672,
          -21.440280034206893
         ],
         "y": [
          7.7153289272349115,
          7.715739056854819
         ],
         "z": [
          7.995139604383654,
          8.937647595216433
         ]
        },
        {
         "line": {
          "color": "rgba(0, 255, 0, 0.7609239076092391)",
          "width": 5
         },
         "mode": "lines",
         "type": "scatter3d",
         "x": [
          -21.7744633955672,
          -22.510126203811126
         ],
         "y": [
          7.7153289272349115,
          7.090333409656053
         ],
         "z": [
          7.995139604383654,
          8.256254206757832
         ]
        },
        {
         "line": {
          "color": "rgba(0, 0, 255, 0.7609239076092391)",
          "width": 5
         },
         "mode": "lines",
         "type": "scatter3d",
         "x": [
          -21.7744633955672,
          -21.185293035181843
         ],
         "y": [
          7.7153289272349115,
          6.934700696384864
         ],
         "z": [
          7.995139604383654,
          7.7865782185919565
         ]
        },
        {
         "line": {
          "color": "rgba(255, 0, 0, 0.7659234076592341)",
          "width": 5
         },
         "mode": "lines",
         "type": "scatter3d",
         "x": [
          -22.081106817513046,
          -22.94113011535422
         ],
         "y": [
          7.814469590173034,
          7.77100829119818
         ],
         "z": [
          8.062237545794435,
          8.570638020481303
         ]
        },
        {
         "line": {
          "color": "rgba(0, 255, 0, 0.7659234076592341)",
          "width": 5
         },
         "mode": "lines",
         "type": "scatter3d",
         "x": [
          -22.081106817513046,
          -21.611081327393627
         ],
         "y": [
          7.814469590173034,
          8.13476533171684
         ],
         "z": [
          8.062237545794435,
          8.884725646977014
         ]
        },
        {
         "line": {
          "color": "rgba(0, 0, 255, 0.7659234076592341)",
          "width": 5
         },
         "mode": "lines",
         "type": "scatter3d",
         "x": [
          -22.081106817513046,
          -22.27969172582285
         ],
         "y": [
          7.814469590173034,
          8.760789701678844
         ],
         "z": [
          8.062237545794435,
          7.807203664219336
         ]
        },
        {
         "line": {
          "color": "rgba(255, 0, 0, 0.7709229077092291)",
          "width": 5
         },
         "mode": "lines",
         "type": "scatter3d",
         "x": [
          -22.101324189535937,
          -22.716005367099758
         ],
         "y": [
          7.752118555481641,
          7.364713364714413
         ],
         "z": [
          7.174102096906919,
          6.487018209659237
         ]
        },
        {
         "line": {
          "color": "rgba(0, 255, 0, 0.7709229077092291)",
          "width": 5
         },
         "mode": "lines",
         "type": "scatter3d",
         "x": [
          -22.101324189535937,
          -21.321500486179385
         ],
         "y": [
          7.752118555481641,
          7.58450905041925
         ],
         "z": [
          7.174102096906919,
          6.570958626830322
         ]
        },
        {
         "line": {
          "color": "rgba(0, 0, 255, 0.7709229077092291)",
          "width": 5
         },
         "mode": "lines",
         "type": "scatter3d",
         "x": [
          -22.101324189535937,
          -21.982825068728836
         ],
         "y": [
          7.752118555481641,
          6.845573315584926
         ],
         "z": [
          7.174102096906919,
          7.579236255413199
         ]
        },
        {
         "line": {
          "color": "rgba(255, 0, 0, 0.775922407759224)",
          "width": 5
         },
         "mode": "lines",
         "type": "scatter3d",
         "x": [
          -22.04752930354924,
          -21.13492036745462
         ],
         "y": [
          7.677174961100011,
          8.062821033937059
         ],
         "z": [
          7.385619428636452,
          7.249891626526364
         ]
        },
        {
         "line": {
          "color": "rgba(0, 255, 0, 0.775922407759224)",
          "width": 5
         },
         "mode": "lines",
         "type": "scatter3d",
         "x": [
          -22.04752930354924,
          -21.70071750041372
         ],
         "y": [
          7.677174961100011,
          7.1227155237003545
         ],
         "z": [
          7.385619428636452,
          8.142122109057592
         ]
        },
        {
         "line": {
          "color": "rgba(0, 0, 255, 0.775922407759224)",
          "width": 5
         },
         "mode": "lines",
         "type": "scatter3d",
         "x": [
          -22.04752930354924,
          -21.83104257655158
         ],
         "y": [
          7.677174961100011,
          6.9397118509827225
         ],
         "z": [
          7.385619428636452,
          6.745868181470797
         ]
        },
        {
         "line": {
          "color": "rgba(255, 0, 0, 0.7809219078092191)",
          "width": 5
         },
         "mode": "lines",
         "type": "scatter3d",
         "x": [
          -22.644622299146484,
          -21.928756503884244
         ],
         "y": [
          8.009894355591868,
          7.748515693069222
         ],
         "z": [
          7.794359594342463,
          7.1468896275089
         ]
        },
        {
         "line": {
          "color": "rgba(0, 255, 0, 0.7809219078092191)",
          "width": 5
         },
         "mode": "lines",
         "type": "scatter3d",
         "x": [
          -22.644622299146484,
          -22.2609512284459
         ],
         "y": [
          8.009894355591868,
          7.382388494858962
         ],
         "z": [
          7.794359594342463,
          8.471879265092584
         ]
        },
        {
         "line": {
          "color": "rgba(0, 0, 255, 0.7809219078092191)",
          "width": 5
         },
         "mode": "lines",
         "type": "scatter3d",
         "x": [
          -22.644622299146484,
          -23.228002683356525
         ],
         "y": [
          8.009894355591868,
          7.276465702263017
         ],
         "z": [
          7.794359594342463,
          7.445433043625545
         ]
        },
        {
         "line": {
          "color": "rgba(255, 0, 0, 0.785921407859214)",
          "width": 5
         },
         "mode": "lines",
         "type": "scatter3d",
         "x": [
          -22.670299117218427,
          -23.09596365061789
         ],
         "y": [
          7.522139408133244,
          8.416441332779016
         ],
         "z": [
          8.093902467486826,
          8.231865406643438
         ]
        },
        {
         "line": {
          "color": "rgba(0, 255, 0, 0.785921407859214)",
          "width": 5
         },
         "mode": "lines",
         "type": "scatter3d",
         "x": [
          -22.670299117218427,
          -21.853198021177832
         ],
         "y": [
          7.522139408133244,
          7.967525233028805
         ],
         "z": [
          8.093902467486826,
          7.7278734169575145
         ]
        },
        {
         "line": {
          "color": "rgba(0, 0, 255, 0.785921407859214)",
          "width": 5
         },
         "mode": "lines",
         "type": "scatter3d",
         "x": [
          -22.670299117218427,
          -23.05908633904433
         ],
         "y": [
          7.522139408133244,
          7.479063491926885
         ],
         "z": [
          8.093902467486826,
          7.173582435330677
         ]
        },
        {
         "line": {
          "color": "rgba(255, 0, 0, 0.7909209079092091)",
          "width": 5
         },
         "mode": "lines",
         "type": "scatter3d",
         "x": [
          -21.982582536853254,
          -21.030129893485473
         ],
         "y": [
          7.223064329217702,
          7.382752597632501
         ],
         "z": [
          7.684539193812945,
          7.425051970481173
         ]
        },
        {
         "line": {
          "color": "rgba(0, 255, 0, 0.7909209079092091)",
          "width": 5
         },
         "mode": "lines",
         "type": "scatter3d",
         "x": [
          -21.982582536853254,
          -22.287074834224093
         ],
         "y": [
          7.223064329217702,
          7.691517354963988
         ],
         "z": [
          7.684539193812945,
          6.855180282658672
         ]
        },
        {
         "line": {
          "color": "rgba(0, 0, 255, 0.7909209079092091)",
          "width": 5
         },
         "mode": "lines",
         "type": "scatter3d",
         "x": [
          -21.982582536853254,
          -21.993463850357593
         ],
         "y": [
          7.223064329217702,
          8.09200127721789
         ],
         "z": [
          7.684539193812945,
          8.17934236419141
         ]
        },
        {
         "line": {
          "color": "rgba(255, 0, 0, 0.795920407959204)",
          "width": 5
         },
         "mode": "lines",
         "type": "scatter3d",
         "x": [
          -21.918591234597713,
          -21.735055736068933
         ],
         "y": [
          6.99774331810213,
          7.662956431463133
         ],
         "z": [
          7.351185138479642,
          6.627440546380756
         ]
        },
        {
         "line": {
          "color": "rgba(0, 255, 0, 0.795920407959204)",
          "width": 5
         },
         "mode": "lines",
         "type": "scatter3d",
         "x": [
          -21.918591234597713,
          -21.07354620669248
         ],
         "y": [
          6.99774331810213,
          6.514833779889326
         ],
         "z": [
          7.351185138479642,
          7.121626259941313
         ]
        },
        {
         "line": {
          "color": "rgba(0, 0, 255, 0.795920407959204)",
          "width": 5
         },
         "mode": "lines",
         "type": "scatter3d",
         "x": [
          -21.918591234597713,
          -22.420799977644332
         ],
         "y": [
          6.99774331810213,
          6.428278752289906
         ],
         "z": [
          7.351185138479642,
          6.700419061696396
         ]
        },
        {
         "line": {
          "color": "rgba(255, 0, 0, 0.8009199080091991)",
          "width": 5
         },
         "mode": "lines",
         "type": "scatter3d",
         "x": [
          -21.1146383282805,
          -21.172899730843046
         ],
         "y": [
          6.7501036769389104,
          7.748113473898071
         ],
         "z": [
          7.023550648408573,
          7.047676446737887
         ]
        },
        {
         "line": {
          "color": "rgba(0, 255, 0, 0.8009199080091991)",
          "width": 5
         },
         "mode": "lines",
         "type": "scatter3d",
         "x": [
          -21.1146383282805,
          -20.743777959400155
         ],
         "y": [
          6.7501036769389104,
          6.794178347834049
         ],
         "z": [
          7.023550648408573,
          6.095908470529927
         ]
        },
        {
         "line": {
          "color": "rgba(0, 0, 255, 0.8009199080091991)",
          "width": 5
         },
         "mode": "lines",
         "type": "scatter3d",
         "x": [
          -21.1146383282805,
          -22.04149764649735
         ],
         "y": [
          6.7501036769389104,
          6.705005245047466
         ],
         "z": [
          7.023550648408573,
          6.650860514818279
         ]
        },
        {
         "line": {
          "color": "rgba(255, 0, 0, 0.805919408059194)",
          "width": 5
         },
         "mode": "lines",
         "type": "scatter3d",
         "x": [
          -21.01731592060097,
          -20.06482641814114
         ],
         "y": [
          7.0737708186730694,
          6.94991506564774
         ],
         "z": [
          6.9638937628798985,
          7.242144549305345
         ]
        },
        {
         "line": {
          "color": "rgba(0, 255, 0, 0.805919408059194)",
          "width": 5
         },
         "mode": "lines",
         "type": "scatter3d",
         "x": [
          -21.01731592060097,
          -21.299115511257355
         ],
         "y": [
          7.0737708186730694,
          7.062006954525907
         ],
         "z": [
          6.9638937628798985,
          7.9232949314252785
         ]
        },
        {
         "line": {
          "color": "rgba(0, 0, 255, 0.805919408059194)",
          "width": 5
         },
         "mode": "lines",
         "type": "scatter3d",
         "x": [
          -21.01731592060097,
          -21.132869970334188
         ],
         "y": [
          7.0737708186730694,
          6.081540319271391
         ],
         "z": [
          6.9638937628798985,
          6.917786305268389
         ]
        },
        {
         "line": {
          "color": "rgba(255, 0, 0, 0.8109189081091891)",
          "width": 5
         },
         "mode": "lines",
         "type": "scatter3d",
         "x": [
          -20.90705911400493,
          -20.702192387454225
         ],
         "y": [
          6.87567249864911,
          7.572511664699821
         ],
         "z": [
          6.624001390658012,
          7.311347592371662
         ]
        },
        {
         "line": {
          "color": "rgba(0, 255, 0, 0.8109189081091891)",
          "width": 5
         },
         "mode": "lines",
         "type": "scatter3d",
         "x": [
          -20.90705911400493,
          -20.21265932706256
         ],
         "y": [
          6.87567249864911,
          6.277287480980384
         ],
         "z": [
          6.624001390658012,
          7.023681646017249
         ]
        },
        {
         "line": {
          "color": "rgba(0, 0, 255, 0.8109189081091891)",
          "width": 5
         },
         "mode": "lines",
         "type": "scatter3d",
         "x": [
          -20.90705911400493,
          -20.217248589116522
         ],
         "y": [
          6.87567249864911,
          7.271084369092319
         ],
         "z": [
          6.624001390658012,
          6.017527242432539
         ]
        },
        {
         "line": {
          "color": "rgba(255, 0, 0, 0.815918408159184)",
          "width": 5
         },
         "mode": "lines",
         "type": "scatter3d",
         "x": [
          -20.573492172947958,
          -20.928649638504535
         ],
         "y": [
          5.9190804573500495,
          4.989204885093034
         ],
         "z": [
          6.415168674730742,
          6.319280225065724
         ]
        },
        {
         "line": {
          "color": "rgba(0, 255, 0, 0.815918408159184)",
          "width": 5
         },
         "mode": "lines",
         "type": "scatter3d",
         "x": [
          -20.573492172947958,
          -20.782389052809187
         ],
         "y": [
          5.9190804573500495,
          6.098008988372512
         ],
         "z": [
          6.415168674730742,
          5.453739179463197
         ]
        },
        {
         "line": {
          "color": "rgba(0, 0, 255, 0.815918408159184)",
          "width": 5
         },
         "mode": "lines",
         "type": "scatter3d",
         "x": [
          -20.573492172947958,
          -19.66232519141071
         ],
         "y": [
          5.9190804573500495,
          5.59765239244924
         ],
         "z": [
          6.415168674730742,
          6.157372765433386
         ]
        },
        {
         "line": {
          "color": "rgba(255, 0, 0, 0.8209179082091791)",
          "width": 5
         },
         "mode": "lines",
         "type": "scatter3d",
         "x": [
          -20.93480893742612,
          -20.955989492528975
         ],
         "y": [
          5.405735134969845,
          6.332508236089138
         ],
         "z": [
          6.513942836819226,
          6.138918833417705
         ]
        },
        {
         "line": {
          "color": "rgba(0, 255, 0, 0.8209179082091791)",
          "width": 5
         },
         "mode": "lines",
         "type": "scatter3d",
         "x": [
          -20.93480893742612,
          -20.043022174114824
         ],
         "y": [
          5.405735134969845,
          5.592820265668996
         ],
         "z": [
          6.513942836819226,
          6.925908275483774
         ]
        },
        {
         "line": {
          "color": "rgba(0, 0, 255, 0.8209179082091791)",
          "width": 5
         },
         "mode": "lines",
         "type": "scatter3d",
         "x": [
          -20.93480893742612,
          -20.482849035589318
         ],
         "y": [
          5.405735134969845,
          5.080019349486466
         ],
         "z": [
          6.513942836819226,
          5.6834962857284035
         ]
        },
        {
         "line": {
          "color": "rgba(255, 0, 0, 0.825917408259174)",
          "width": 5
         },
         "mode": "lines",
         "type": "scatter3d",
         "x": [
          -20.888858930305563,
          -20.561295001914992
         ],
         "y": [
          5.7946682674546555,
          6.194792587132903
         ],
         "z": [
          6.353425930629679,
          5.49750397062434
         ]
        },
        {
         "line": {
          "color": "rgba(0, 255, 0, 0.825917408259174)",
          "width": 5
         },
         "mode": "lines",
         "type": "scatter3d",
         "x": [
          -20.888858930305563,
          -20.091987239215793
         ],
         "y": [
          5.7946682674546555,
          6.164395699253203
         ],
         "z": [
          6.353425930629679,
          6.831230424241249
         ]
        },
        {
         "line": {
          "color": "rgba(0, 0, 255, 0.825917408259174)",
          "width": 5
         },
         "mode": "lines",
         "type": "scatter3d",
         "x": [
          -20.888858930305563,
          -20.38121990426728
         ],
         "y": [
          5.7946682674546555,
          4.956096770814259
         ],
         "z": [
          6.353425930629679,
          6.155687557355224
         ]
        },
        {
         "line": {
          "color": "rgba(255, 0, 0, 0.8309169083091691)",
          "width": 5
         },
         "mode": "lines",
         "type": "scatter3d",
         "x": [
          -20.492689392108648,
          -20.629589159696426
         ],
         "y": [
          6.627575248904841,
          7.414236322964713
         ],
         "z": [
          6.198890037857004,
          6.800905659077431
         ]
        },
        {
         "line": {
          "color": "rgba(0, 255, 0, 0.8309169083091691)",
          "width": 5
         },
         "mode": "lines",
         "type": "scatter3d",
         "x": [
          -20.492689392108648,
          -20.686172903908044
         ],
         "y": [
          6.627575248904841,
          7.2023722527723955
         ],
         "z": [
          6.198890037857004,
          5.403797253958996
         ]
        },
        {
         "line": {
          "color": "rgba(0, 0, 255, 0.8309169083091691)",
          "width": 5
         },
         "mode": "lines",
         "type": "scatter3d",
         "x": [
          -20.492689392108648,
          -21.464194710826057
         ],
         "y": [
          6.627575248904841,
          6.402247135026663
         ],
         "z": [
          6.198890037857004,
          6.272406408822373
         ]
        },
        {
         "line": {
          "color": "rgba(255, 0, 0, 0.835916408359164)",
          "width": 5
         },
         "mode": "lines",
         "type": "scatter3d",
         "x": [
          -20.42289249103562,
          -20.904917978402715
         ],
         "y": [
          6.648522994051594,
          5.800655427564352
         ],
         "z": [
          6.013031111334515,
          5.792187231574278
         ]
        },
        {
         "line": {
          "color": "rgba(0, 255, 0, 0.835916408359164)",
          "width": 5
         },
         "mode": "lines",
         "type": "scatter3d",
         "x": [
          -20.42289249103562,
          -20.036724516543845
         ],
         "y": [
          6.648522994051594,
          6.216673054592435
         ],
         "z": [
          6.013031111334515,
          6.828126151968469
         ]
        },
        {
         "line": {
          "color": "rgba(0, 0, 255, 0.835916408359164)",
          "width": 5
         },
         "mode": "lines",
         "type": "scatter3d",
         "x": [
          -20.42289249103562,
          -21.20935655569812
         ],
         "y": [
          6.648522994051594,
          6.956136744537762
         ],
         "z": [
          6.013031111334515,
          6.548613089659401
         ]
        },
        {
         "line": {
          "color": "rgba(255, 0, 0, 0.8409159084091591)",
          "width": 5
         },
         "mode": "lines",
         "type": "scatter3d",
         "x": [
          -19.946690689238057,
          -19.89170525951665
         ],
         "y": [
          6.848877077637785,
          5.877885704385661
         ],
         "z": [
          5.491627642230409,
          5.724334229134064
         ]
        },
        {
         "line": {
          "color": "rgba(0, 255, 0, 0.8409159084091591)",
          "width": 5
         },
         "mode": "lines",
         "type": "scatter3d",
         "x": [
          -19.946690689238057,
          -20.327359320523275
         ],
         "y": [
          6.848877077637785,
          7.04394851482443
         ],
         "z": [
          5.491627642230409,
          6.395529477359312
         ]
        },
        {
         "line": {
          "color": "rgba(0, 0, 255, 0.8409159084091591)",
          "width": 5
         },
         "mode": "lines",
         "type": "scatter3d",
         "x": [
          -19.946690689238057,
          -20.869765981765063
         ],
         "y": [
          6.848877077637785,
          6.710591548879589
         ],
         "z": [
          5.491627642230409,
          5.132727771984858
         ]
        },
        {
         "line": {
          "color": "rgba(255, 0, 0, 0.8459154084591541)",
          "width": 5
         },
         "mode": "lines",
         "type": "scatter3d",
         "x": [
          -21.914883138705285,
          -20.970332238385588
         ],
         "y": [
          6.139941174873784,
          5.821034190855031
         ],
         "z": [
          6.617652395754161,
          6.695895173371947
         ]
        },
        {
         "line": {
          "color": "rgba(0, 255, 0, 0.8459154084591541)",
          "width": 5
         },
         "mode": "lines",
         "type": "scatter3d",
         "x": [
          -21.914883138705285,
          -22.16809609827512
         ],
         "y": [
          6.139941174873784,
          5.2808401924998645
         ],
         "z": [
          6.617652395754161,
          6.172873013149608
         ]
        },
        {
         "line": {
          "color": "rgba(0, 0, 255, 0.8459154084591541)",
          "width": 5
         },
         "mode": "lines",
         "type": "scatter3d",
         "x": [
          -21.914883138705285,
          -21.705821440130045
         ],
         "y": [
          6.139941174873784,
          6.540245855870989
         ],
         "z": [
          6.617652395754161,
          5.725436408136483
         ]
        },
        {
         "line": {
          "color": "rgba(255, 0, 0, 0.8509149085091491)",
          "width": 5
         },
         "mode": "lines",
         "type": "scatter3d",
         "x": [
          -21.973667342166415,
          -21.17806879654498
         ],
         "y": [
          6.200972947267869,
          5.595446978121157
         ],
         "z": [
          6.524467576681983,
          6.505460870127925
         ]
        },
        {
         "line": {
          "color": "rgba(0, 255, 0, 0.8509149085091491)",
          "width": 5
         },
         "mode": "lines",
         "type": "scatter3d",
         "x": [
          -21.973667342166415,
          -21.489968413839453
         ],
         "y": [
          6.200972947267869,
          6.854767925102496
         ],
         "z": [
          6.524467576681983,
          5.942584879144412
         ]
        },
        {
         "line": {
          "color": "rgba(0, 0, 255, 0.8509149085091491)",
          "width": 5
         },
         "mode": "lines",
         "type": "scatter3d",
         "x": [
          -21.973667342166415,
          -21.608895768520064
         ],
         "y": [
          6.200972947267869,
          6.654724451559811
         ],
         "z": [
          6.524467576681983,
          7.337518172532198
         ]
        },
        {
         "line": {
          "color": "rgba(255, 0, 0, 0.8559144085591441)",
          "width": 5
         },
         "mode": "lines",
         "type": "scatter3d",
         "x": [
          -22.50994317043431,
          -23.169856266160522
         ],
         "y": [
          6.460217939893246,
          7.0660534775251405
         ],
         "z": [
          6.392525064973477,
          6.836910041577498
         ]
        },
        {
         "line": {
          "color": "rgba(0, 255, 0, 0.8559144085591441)",
          "width": 5
         },
         "mode": "lines",
         "type": "scatter3d",
         "x": [
          -22.50994317043431,
          -23.25158675034944
         ],
         "y": [
          6.460217939893246,
          5.840249279471741
         ],
         "z": [
          6.392525064973477,
          6.136392949716789
         ]
        },
        {
         "line": {
          "color": "rgba(0, 0, 255, 0.8559144085591441)",
          "width": 5
         },
         "mode": "lines",
         "type": "scatter3d",
         "x": [
          -22.50994317043431,
          -22.389612349529003
         ],
         "y": [
          6.460217939893246,
          5.961617737890195
         ],
         "z": [
          6.392525064973477,
          7.25096453989457
         ]
        },
        {
         "line": {
          "color": "rgba(255, 0, 0, 0.8609139086091391)",
          "width": 5
         },
         "mode": "lines",
         "type": "scatter3d",
         "x": [
          -22.26842191701721,
          -21.594126522543988
         ],
         "y": [
          6.40982623231371,
          7.0368126771057105
         ],
         "z": [
          6.481834273441381,
          6.091688507042048
         ]
        },
        {
         "line": {
          "color": "rgba(0, 255, 0, 0.8609139086091391)",
          "width": 5
         },
         "mode": "lines",
         "type": "scatter3d",
         "x": [
          -22.26842191701721,
          -22.92092221823567
         ],
         "y": [
          6.40982623231371,
          6.668300439747654
         ],
         "z": [
          6.481834273441381,
          5.769489945885357
         ]
        },
        {
         "line": {
          "color": "rgba(0, 0, 255, 0.8609139086091391)",
          "width": 5
         },
         "mode": "lines",
         "type": "scatter3d",
         "x": [
          -22.26842191701721,
          -22.61420953666553
         ],
         "y": [
          6.40982623231371,
          7.14472696175853
         ],
         "z": [
          6.481834273441381,
          7.06523108519086
         ]
        },
        {
         "line": {
          "color": "rgba(255, 0, 0, 0.8659134086591341)",
          "width": 5
         },
         "mode": "lines",
         "type": "scatter3d",
         "x": [
          -22.29546158801184,
          -21.678710651071324
         ],
         "y": [
          6.111421214136666,
          5.340373614259759
         ],
         "z": [
          5.744924787443973,
          5.586482745967928
         ]
        },
        {
         "line": {
          "color": "rgba(0, 255, 0, 0.8659134086591341)",
          "width": 5
         },
         "mode": "lines",
         "type": "scatter3d",
         "x": [
          -22.29546158801184,
          -22.978465163655354
         ],
         "y": [
          6.111421214136666,
          5.687291791916221
         ],
         "z": [
          5.744924787443973,
          5.150264927637415
         ]
        },
        {
         "line": {
          "color": "rgba(0, 0, 255, 0.8659134086591341)",
          "width": 5
         },
         "mode": "lines",
         "type": "scatter3d",
         "x": [
          -22.29546158801184,
          -21.904150461871527
         ],
         "y": [
          6.111421214136666,
          6.586394720693673
         ],
         "z": [
          5.744924787443973,
          4.956714301198216
         ]
        },
        {
         "line": {
          "color": "rgba(255, 0, 0, 0.8709129087091291)",
          "width": 5
         },
         "mode": "lines",
         "type": "scatter3d",
         "x": [
          -22.755166411365046,
          -22.38738947574833
         ],
         "y": [
          5.902146236180159,
          4.988873049992973
         ],
         "z": [
          6.204466597469179,
          6.379601439861913
         ]
        },
        {
         "line": {
          "color": "rgba(0, 255, 0, 0.8709129087091291)",
          "width": 5
         },
         "mode": "lines",
         "type": "scatter3d",
         "x": [
          -22.755166411365046,
          -23.08741385503454
         ],
         "y": [
          5.902146236180159,
          5.597192013766124
         ],
         "z": [
          6.204466597469179,
          5.311933932292736
         ]
        },
        {
         "line": {
          "color": "rgba(0, 0, 255, 0.8709129087091291)",
          "width": 5
         },
         "mode": "lines",
         "type": "scatter3d",
         "x": [
          -22.755166411365046,
          -21.886632150783754
         ],
         "y": [
          5.902146236180159,
          6.172211061034125
         ],
         "z": [
          6.204466597469179,
          5.7888787865637905
         ]
        },
        {
         "line": {
          "color": "rgba(255, 0, 0, 0.8759124087591241)",
          "width": 5
         },
         "mode": "lines",
         "type": "scatter3d",
         "x": [
          -22.086559896403045,
          -22.322540578920307
         ],
         "y": [
          5.922758468833528,
          6.57551450129459
         ],
         "z": [
          6.015879095899861,
          5.296002245623081
         ]
        },
        {
         "line": {
          "color": "rgba(0, 255, 0, 0.8759124087591241)",
          "width": 5
         },
         "mode": "lines",
         "type": "scatter3d",
         "x": [
          -22.086559896403045,
          -22.75761481396882
         ],
         "y": [
          5.922758468833528,
          6.349097734898628
         ],
         "z": [
          6.015879095899861,
          6.622443295158188
         ]
        },
        {
         "line": {
          "color": "rgba(0, 0, 255, 0.8759124087591241)",
          "width": 5
         },
         "mode": "lines",
         "type": "scatter3d",
         "x": [
          -22.086559896403045,
          -21.383709688258016
         ],
         "y": [
          5.922758468833528,
          6.548972802985034
         ],
         "z": [
          6.015879095899861,
          6.353306410463622
         ]
        },
        {
         "line": {
          "color": "rgba(255, 0, 0, 0.8809119088091191)",
          "width": 5
         },
         "mode": "lines",
         "type": "scatter3d",
         "x": [
          -22.342651889150332,
          -21.46241927707405
         ],
         "y": [
          5.894457025068032,
          5.831396776015628
         ],
         "z": [
          5.730520689988613,
          5.260186815356085
         ]
        },
        {
         "line": {
          "color": "rgba(0, 255, 0, 0.8809119088091191)",
          "width": 5
         },
         "mode": "lines",
         "type": "scatter3d",
         "x": [
          -22.342651889150332,
          -21.945128976158784
         ],
         "y": [
          5.894457025068032,
          6.533734653262242
         ],
         "z": [
          5.730520689988613,
          6.388775692048705
         ]
        },
        {
         "line": {
          "color": "rgba(0, 0, 255, 0.8809119088091191)",
          "width": 5
         },
         "mode": "lines",
         "type": "scatter3d",
         "x": [
          -22.342651889150332,
          -22.08348768968576
         ],
         "y": [
          5.894457025068032,
          5.128071013269878
         ],
         "z": [
          5.730520689988613,
          6.318301600393202
         ]
        },
        {
         "line": {
          "color": "rgba(255, 0, 0, 0.8859114088591141)",
          "width": 5
         },
         "mode": "lines",
         "type": "scatter3d",
         "x": [
          -21.92438099507392,
          -21.46688562507858
         ],
         "y": [
          6.207777925646306,
          7.070952401999078
         ],
         "z": [
          5.415767856214194,
          5.629374527004178
         ]
        },
        {
         "line": {
          "color": "rgba(0, 255, 0, 0.8859114088591141)",
          "width": 5
         },
         "mode": "lines",
         "type": "scatter3d",
         "x": [
          -21.92438099507392,
          -21.825251056693826
         ],
         "y": [
          6.207777925646306,
          5.91954666040655
         ],
         "z": [
          5.415767856214194,
          6.3681837281184155
         ]
        },
        {
         "line": {
          "color": "rgba(0, 0, 255, 0.8859114088591141)",
          "width": 5
         },
         "mode": "lines",
         "type": "scatter3d",
         "x": [
          -21.92438099507392,
          -21.040711802587495
         ],
         "y": [
          6.207777925646306,
          5.793226890053036
         ],
         "z": [
          5.415767856214194,
          5.198336954226991
         ]
        },
        {
         "line": {
          "color": "rgba(255, 0, 0, 0.8909109089091091)",
          "width": 5
         },
         "mode": "lines",
         "type": "scatter3d",
         "x": [
          -22.995470848093966,
          -23.861661843504894
         ],
         "y": [
          6.5090133132207555,
          6.01867228679702
         ],
         "z": [
          5.499512559316142,
          5.403185837816987
         ]
        },
        {
         "line": {
          "color": "rgba(0, 255, 0, 0.8909109089091091)",
          "width": 5
         },
         "mode": "lines",
         "type": "scatter3d",
         "x": [
          -22.995470848093966,
          -23.304181505615205
         ],
         "y": [
          6.5090133132207555,
          6.882508377472364
         ],
         "z": [
          5.499512559316142,
          6.3742691922790025
         ]
        },
        {
         "line": {
          "color": "rgba(0, 0, 255, 0.8909109089091091)",
          "width": 5
         },
         "mode": "lines",
         "type": "scatter3d",
         "x": [
          -22.995470848093966,
          -23.388422358336467
         ],
         "y": [
          6.5090133132207555,
          7.296456717400034
         ],
         "z": [
          5.499512559316142,
          5.024620997154072
         ]
        },
        {
         "line": {
          "color": "rgba(255, 0, 0, 0.8959104089591041)",
          "width": 5
         },
         "mode": "lines",
         "type": "scatter3d",
         "x": [
          -23.8758180008488,
          -23.728506260101042
         ],
         "y": [
          7.025368145247454,
          7.64156545785444
         ],
         "z": [
          8.270867710523426,
          7.497175185696005
         ]
        },
        {
         "line": {
          "color": "rgba(0, 255, 0, 0.8959104089591041)",
          "width": 5
         },
         "mode": "lines",
         "type": "scatter3d",
         "x": [
          -23.8758180008488,
          -23.798595212708204
         ],
         "y": [
          7.025368145247454,
          6.238364103729749
         ],
         "z": [
          8.270867710523426,
          7.658771901334515
         ]
        },
        {
         "line": {
          "color": "rgba(0, 0, 255, 0.8959104089591041)",
          "width": 5
         },
         "mode": "lines",
         "type": "scatter3d",
         "x": [
          -23.8758180008488,
          -24.861888937460204
         ],
         "y": [
          7.025368145247454,
          7.055790350472772
         ],
         "z": [
          8.270867710523426,
          8.107348300667683
         ]
        },
        {
         "line": {
          "color": "rgba(255, 0, 0, 0.9009099090090991)",
          "width": 5
         },
         "mode": "lines",
         "type": "scatter3d",
         "x": [
          -24.142894726544892,
          -23.22298797831263
         ],
         "y": [
          7.081674776572119,
          6.739171258233897
         ],
         "z": [
          8.210355917008094,
          8.401308566852812
         ]
        },
        {
         "line": {
          "color": "rgba(0, 255, 0, 0.9009099090090991)",
          "width": 5
         },
         "mode": "lines",
         "type": "scatter3d",
         "x": [
          -24.142894726544892,
          -23.750879317086525
         ],
         "y": [
          7.081674776572119,
          7.872762479096922
         ],
         "z": [
          8.210355917008094,
          7.740777206181827
         ]
        },
        {
         "line": {
          "color": "rgba(0, 0, 255, 0.9009099090090991)",
          "width": 5
         },
         "mode": "lines",
         "type": "scatter3d",
         "x": [
          -24.142894726544892,
          -24.13312265900685
         ],
         "y": [
          7.081674776572119,
          7.588499782703439
         ],
         "z": [
          8.210355917008094,
          9.072349489986484
         ]
        },
        {
         "line": {
          "color": "rgba(255, 0, 0, 0.9059094090590941)",
          "width": 5
         },
         "mode": "lines",
         "type": "scatter3d",
         "x": [
          -23.758573517241206,
          -24.38732800095147
         ],
         "y": [
          6.499013549774463,
          6.193748956130344
         ],
         "z": [
          8.123487378756014,
          7.40830815151185
         ]
        },
        {
         "line": {
          "color": "rgba(0, 255, 0, 0.9059094090590941)",
          "width": 5
         },
         "mode": "lines",
         "type": "scatter3d",
         "x": [
          -23.758573517241206,
          -24.493683922067117
         ],
         "y": [
          6.499013549774463,
          6.432482539493466
         ],
         "z": [
          8.123487378756014,
          8.798162350418448
         ]
        },
        {
         "line": {
          "color": "rgba(0, 0, 255, 0.9059094090590941)",
          "width": 5
         },
         "mode": "lines",
         "type": "scatter3d",
         "x": [
          -23.758573517241206,
          -24.01210949482813
         ],
         "y": [
          6.499013549774463,
          7.448954154516846
         ],
         "z": [
          8.123487378756014,
          7.940915870763222
         ]
        },
        {
         "line": {
          "color": "rgba(255, 0, 0, 0.9109089091090891)",
          "width": 5
         },
         "mode": "lines",
         "type": "scatter3d",
         "x": [
          -23.681574108478408,
          -23.10835590098552
         ],
         "y": [
          6.3043518850937605,
          7.122918150494497
         ],
         "z": [
          8.027749618387734,
          7.9907340034858
         ]
        },
        {
         "line": {
          "color": "rgba(0, 255, 0, 0.9109089091090891)",
          "width": 5
         },
         "mode": "lines",
         "type": "scatter3d",
         "x": [
          -23.681574108478408,
          -23.091509370936464
         ],
         "y": [
          6.3043518850937605,
          5.860645796669565
         ],
         "z": [
          8.027749618387734,
          7.353250906302314
         ]
        },
        {
         "line": {
          "color": "rgba(0, 0, 255, 0.9109089091090891)",
          "width": 5
         },
         "mode": "lines",
         "type": "scatter3d",
         "x": [
          -23.681574108478408,
          -24.25012005394652
         ],
         "y": [
          6.3043518850937605,
          6.669145218699565
         ],
         "z": [
          8.027749618387734,
          7.290402121173178
         ]
        },
        {
         "line": {
          "color": "rgba(255, 0, 0, 0.9159084091590841)",
          "width": 5
         },
         "mode": "lines",
         "type": "scatter3d",
         "x": [
          -24.009914721424916,
          -24.634478764915244
         ],
         "y": [
          6.242724860996561,
          5.911064775961397
         ],
         "z": [
          8.294077975386589,
          7.587026814880142
         ]
        },
        {
         "line": {
          "color": "rgba(0, 255, 0, 0.9159084091590841)",
          "width": 5
         },
         "mode": "lines",
         "type": "scatter3d",
         "x": [
          -24.009914721424916,
          -23.37113589507517
         ],
         "y": [
          6.242724860996561,
          5.5049143874649795
         ],
         "z": [
          8.294077975386589,
          8.075909883873674
         ]
        },
        {
         "line": {
          "color": "rgba(0, 0, 255, 0.9159084091590841)",
          "width": 5
         },
         "mode": "lines",
         "type": "scatter3d",
         "x": [
          -24.009914721424916,
          -24.45922682518609
         ],
         "y": [
          6.242724860996561,
          5.65481560512316
         ],
         "z": [
          8.294077975386589,
          8.966745307930788
         ]
        },
        {
         "line": {
          "color": "rgba(255, 0, 0, 0.9209079092090791)",
          "width": 5
         },
         "mode": "lines",
         "type": "scatter3d",
         "x": [
          -23.98929448231943,
          -23.50388721708733
         ],
         "y": [
          6.186726523418944,
          5.787281371101956
         ],
         "z": [
          8.350602144720895,
          9.128306045412145
         ]
        },
        {
         "line": {
          "color": "rgba(0, 255, 0, 0.9209079092090791)",
          "width": 5
         },
         "mode": "lines",
         "type": "scatter3d",
         "x": [
          -23.98929448231943,
          -23.133076281726577
         ],
         "y": [
          6.186726523418944,
          6.583832155991275
         ],
         "z": [
          8.350602144720895,
          8.0201516801231
         ]
        },
        {
         "line": {
          "color": "rgba(0, 0, 255, 0.9209079092090791)",
          "width": 5
         },
         "mode": "lines",
         "type": "scatter3d",
         "x": [
          -23.98929448231943,
          -24.16612824559291
         ],
         "y": [
          6.186726523418944,
          7.013013814177934
         ],
         "z": [
          8.350602144720895,
          8.88537231338847
         ]
        },
        {
         "line": {
          "color": "rgba(255, 0, 0, 0.9259074092590741)",
          "width": 5
         },
         "mode": "lines",
         "type": "scatter3d",
         "x": [
          -23.409057936181604,
          -22.940221894106433
         ],
         "y": [
          7.129103963155195,
          7.517922170100822
         ],
         "z": [
          8.584954412349612,
          9.378057916060765
         ]
        },
        {
         "line": {
          "color": "rgba(0, 255, 0, 0.9259074092590741)",
          "width": 5
         },
         "mode": "lines",
         "type": "scatter3d",
         "x": [
          -23.409057936181604,
          -23.548136856568693
         ],
         "y": [
          7.129103963155195,
          8.048301197589533
         ],
         "z": [
          8.584954412349612,
          8.216534138596565
         ]
        },
        {
         "line": {
          "color": "rgba(0, 0, 255, 0.9259074092590741)",
          "width": 5
         },
         "mode": "lines",
         "type": "scatter3d",
         "x": [
          -23.409057936181604,
          -24.28132499365614
         ],
         "y": [
          7.129103963155195,
          7.19152868707046
         ],
         "z": [
          8.584954412349612,
          9.069983622077078
         ]
        },
        {
         "line": {
          "color": "rgba(255, 0, 0, 0.930906909309069)",
          "width": 5
         },
         "mode": "lines",
         "type": "scatter3d",
         "x": [
          -23.70335991973784,
          -23.727147060312312
         ],
         "y": [
          7.395541139335291,
          7.468292352202643
         ],
         "z": [
          7.930668022213163,
          6.933601608693158
         ]
        },
        {
         "line": {
          "color": "rgba(0, 255, 0, 0.930906909309069)",
          "width": 5
         },
         "mode": "lines",
         "type": "scatter3d",
         "x": [
          -23.70335991973784,
          -22.835077308418768
         ],
         "y": [
          7.395541139335291,
          6.902719255563791
         ],
         "z": [
          7.930668022213163,
          7.8739944149794425
         ]
        },
        {
         "line": {
          "color": "rgba(0, 0, 255, 0.930906909309069)",
          "width": 5
         },
         "mode": "lines",
         "type": "scatter3d",
         "x": [
          -23.70335991973784,
          -24.19885914155787
         ],
         "y": [
          7.395541139335291,
          6.528457607083476
         ],
         "z": [
          7.930668022213163,
          7.879222232555522
         ]
        },
        {
         "line": {
          "color": "rgba(255, 0, 0, 0.9359064093590641)",
          "width": 5
         },
         "mode": "lines",
         "type": "scatter3d",
         "x": [
          -23.027671032518406,
          -23.13999899251108
         ],
         "y": [
          7.912397649836118,
          7.077134752980909
         ],
         "z": [
          8.30787535746761,
          7.76962047124644
         ]
        },
        {
         "line": {
          "color": "rgba(0, 255, 0, 0.9359064093590641)",
          "width": 5
         },
         "mode": "lines",
         "type": "scatter3d",
         "x": [
          -23.027671032518406,
          -22.905872971500834
         ],
         "y": [
          7.912397649836118,
          7.363225632956857
         ],
         "z": [
          8.30787535746761,
          9.134661501648292
         ]
        },
        {
         "line": {
          "color": "rgba(0, 0, 255, 0.9359064093590641)",
          "width": 5
         },
         "mode": "lines",
         "type": "scatter3d",
         "x": [
          -23.027671032518406,
          -24.01384934384769
         ],
         "y": [
          7.912397649836118,
          7.939710449287171
         ],
         "z": [
          8.30787535746761,
          8.471296131085602
         ]
        },
        {
         "line": {
          "color": "rgba(255, 0, 0, 0.940905909409059)",
          "width": 5
         },
         "mode": "lines",
         "type": "scatter3d",
         "x": [
          -23.025842412816417,
          -23.51408092670404
         ],
         "y": [
          7.532886958809662,
          8.254479377689002
         ],
         "z": [
          8.386351423727456,
          7.895507727045193
         ]
        },
        {
         "line": {
          "color": "rgba(0, 255, 0, 0.940905909409059)",
          "width": 5
         },
         "mode": "lines",
         "type": "scatter3d",
         "x": [
          -23.025842412816417,
          -22.16518391227709
         ],
         "y": [
          7.532886958809662,
          7.837859668155893
         ],
         "z": [
          8.386351423727456,
          7.978603226915436
         ]
        },
        {
         "line": {
          "color": "rgba(0, 0, 255, 0.940905909409059)",
          "width": 5
         },
         "mode": "lines",
         "type": "scatter3d",
         "x": [
          -23.025842412816417,
          -23.17037648840498
         ],
         "y": [
          7.532886958809662,
          6.911359785172077
         ],
         "z": [
          8.386351423727456,
          7.616407352106752
         ]
        },
        {
         "line": {
          "color": "rgba(255, 0, 0, 0.9459054094590541)",
          "width": 5
         },
         "mode": "lines",
         "type": "scatter3d",
         "x": [
          -23.006040959915357,
          -22.65199038826417
         ],
         "y": [
          7.672990703916837,
          7.075211396807358
         ],
         "z": [
          8.327824066992868,
          7.608582735654622
         ]
        },
        {
         "line": {
          "color": "rgba(0, 255, 0, 0.9459054094590541)",
          "width": 5
         },
         "mode": "lines",
         "type": "scatter3d",
         "x": [
          -23.006040959915357,
          -22.363136962467017
         ],
         "y": [
          7.672990703916837,
          7.270031925757042
         ],
         "z": [
          8.327824066992868,
          8.97920619229947
         ]
        },
        {
         "line": {
          "color": "rgba(0, 0, 255, 0.9459054094590541)",
          "width": 5
         },
         "mode": "lines",
         "type": "scatter3d",
         "x": [
          -23.006040959915357,
          -23.685248323522707
         ],
         "y": [
          7.672990703916837,
          6.979965363041252
         ],
         "z": [
          8.327824066992868,
          8.56947098736611
         ]
        },
        {
         "line": {
          "color": "rgba(255, 0, 0, 0.950904909509049)",
          "width": 5
         },
         "mode": "lines",
         "type": "scatter3d",
         "x": [
          -22.97024200548926,
          -23.94514664016169
         ],
         "y": [
          8.158552630763792,
          8.016511420712657
         ],
         "z": [
          8.177524658897651,
          8.00610340017672
         ]
        },
        {
         "line": {
          "color": "rgba(0, 255, 0, 0.950904909509049)",
          "width": 5
         },
         "mode": "lines",
         "type": "scatter3d",
         "x": [
          -22.97024200548926,
          -22.827174275843795
         ],
         "y": [
          8.158552630763792,
          7.168860520988261
         ],
         "z": [
          8.177524658897651,
          8.183939686738155
         ]
        },
        {
         "line": {
          "color": "rgba(0, 0, 255, 0.950904909509049)",
          "width": 5
         },
         "mode": "lines",
         "type": "scatter3d",
         "x": [
          -22.97024200548926,
          -23.14080747101013
         ],
         "y": [
          8.158552630763792,
          8.140281820838878
         ],
         "z": [
          8.177524658897651,
          9.162701597054635
         ]
        },
        {
         "line": {
          "color": "rgba(255, 0, 0, 0.9559044095590441)",
          "width": 5
         },
         "mode": "lines",
         "type": "scatter3d",
         "x": [
          -23.66234206506575,
          -22.906879715511273
         ],
         "y": [
          7.420868179931804,
          8.016625333550191
         ],
         "z": [
          7.028874085420353,
          7.301546145445177
         ]
        },
        {
         "line": {
          "color": "rgba(0, 255, 0, 0.9559044095590441)",
          "width": 5
         },
         "mode": "lines",
         "type": "scatter3d",
         "x": [
          -23.66234206506575,
          -23.72085492274475
         ],
         "y": [
          7.420868179931804,
          7.896723829887041
         ],
         "z": [
          7.028874085420353,
          6.151299219159955
         ]
        },
        {
         "line": {
          "color": "rgba(0, 0, 255, 0.9559044095590441)",
          "width": 5
         },
         "mode": "lines",
         "type": "scatter3d",
         "x": [
          -23.66234206506575,
          -24.314916109823816
         ],
         "y": [
          7.420868179931804,
          8.067888128865562
         ],
         "z": [
          7.028874085420353,
          7.423224566325215
         ]
        },
        {
         "line": {
          "color": "rgba(255, 0, 0, 0.960903909609039)",
          "width": 5
         },
         "mode": "lines",
         "type": "scatter3d",
         "x": [
          -24.148562731120553,
          -24.005226373715374
         ],
         "y": [
          8.545798049077536,
          9.434206487195679
         ],
         "z": [
          6.5689430349518485,
          6.1328408270620685
         ]
        },
        {
         "line": {
          "color": "rgba(0, 255, 0, 0.960903909609039)",
          "width": 5
         },
         "mode": "lines",
         "type": "scatter3d",
         "x": [
          -24.148562731120553,
          -23.843254018001137
         ],
         "y": [
          8.545798049077536,
          8.086944050320357
         ],
         "z": [
          6.5689430349518485,
          5.734533304952285
         ]
        },
        {
         "line": {
          "color": "rgba(0, 0, 255, 0.960903909609039)",
          "width": 5
         },
         "mode": "lines",
         "type": "scatter3d",
         "x": [
          -24.148562731120553,
          -25.089966618057087
         ],
         "y": [
          8.545798049077536,
          8.532253496479752
         ],
         "z": [
          6.5689430349518485,
          6.231933737222921
         ]
        },
        {
         "line": {
          "color": "rgba(255, 0, 0, 0.9659034096590341)",
          "width": 5
         },
         "mode": "lines",
         "type": "scatter3d",
         "x": [
          -24.488332910436373,
          -25.430330061720404
         ],
         "y": [
          8.794522085027143,
          8.493157554597275
         ],
         "z": [
          6.8216294523545375,
          6.969348059075521
         ]
        },
        {
         "line": {
          "color": "rgba(0, 255, 0, 0.9659034096590341)",
          "width": 5
         },
         "mode": "lines",
         "type": "scatter3d",
         "x": [
          -24.488332910436373,
          -24.3809654521779
         ],
         "y": [
          8.794522085027143,
          8.106923356332521
         ],
         "z": [
          6.8216294523545375,
          6.103520674240324
         ]
        },
        {
         "line": {
          "color": "rgba(0, 0, 255, 0.9659034096590341)",
          "width": 5
         },
         "mode": "lines",
         "type": "scatter3d",
         "x": [
          -24.488332910436373,
          -24.17034926953653
         ],
         "y": [
          8.794522085027143,
          8.133925833072615
         ],
         "z": [
          6.8216294523545375,
          7.501702239652892
         ]
        },
        {
         "line": {
          "color": "rgba(255, 0, 0, 0.9709029097090291)",
          "width": 5
         },
         "mode": "lines",
         "type": "scatter3d",
         "x": [
          -24.795611702273707,
          -25.43314027334081
         ],
         "y": [
          8.125044603929426,
          8.645267490041604
         ],
         "z": [
          6.846782685804677,
          7.41504800221796
         ]
        },
        {
         "line": {
          "color": "rgba(0, 255, 0, 0.9709029097090291)",
          "width": 5
         },
         "mode": "lines",
         "type": "scatter3d",
         "x": [
          -24.795611702273707,
          -24.23860661282949
         ],
         "y": [
          8.125044603929426,
          7.9266959021471814
         ],
         "z": [
          6.846782685804677,
          7.653258428052745
         ]
        },
        {
         "line": {
          "color": "rgba(0, 0, 255, 0.9709029097090291)",
          "width": 5
         },
         "mode": "lines",
         "type": "scatter3d",
         "x": [
          -24.795611702273707,
          -24.26334987628352
         ],
         "y": [
          8.125044603929426,
          8.955722604881936
         ],
         "z": [
          6.846782685804677,
          6.683468855015087
         ]
        },
        {
         "line": {
          "color": "rgba(255, 0, 0, 0.9759024097590241)",
          "width": 5
         },
         "mode": "lines",
         "type": "scatter3d",
         "x": [
          -24.91336424049298,
          -25.401051719999924
         ],
         "y": [
          7.823149533935253,
          7.876687701602767
         ],
         "z": [
          5.665604962106581,
          4.794229849462775
         ]
        },
        {
         "line": {
          "color": "rgba(0, 255, 0, 0.9759024097590241)",
          "width": 5
         },
         "mode": "lines",
         "type": "scatter3d",
         "x": [
          -24.91336424049298,
          -25.51010115910118
         ],
         "y": [
          7.823149533935253,
          7.074161032794249
         ],
         "z": [
          5.665604962106581,
          5.953565506502133
         ]
        },
        {
         "line": {
          "color": "rgba(0, 0, 255, 0.9759024097590241)",
          "width": 5
         },
         "mode": "lines",
         "type": "scatter3d",
         "x": [
          -24.91336424049298,
          -25.55059730013615
         ],
         "y": [
          7.823149533935253,
          8.483565985699896
         ],
         "z": [
          5.665604962106581,
          6.062825477609549
         ]
        },
        {
         "line": {
          "color": "rgba(255, 0, 0, 0.9809019098090191)",
          "width": 5
         },
         "mode": "lines",
         "type": "scatter3d",
         "x": [
          -24.651739311944244,
          -24.533180599546547
         ],
         "y": [
          8.003934692772672,
          7.80287265913398
         ],
         "z": [
          5.955516840605266,
          6.927894282930882
         ]
        },
        {
         "line": {
          "color": "rgba(0, 255, 0, 0.9809019098090191)",
          "width": 5
         },
         "mode": "lines",
         "type": "scatter3d",
         "x": [
          -24.651739311944244,
          -24.66914391737241
         ],
         "y": [
          8.003934692772672,
          8.982647735857835
         ],
         "z": [
          5.955516840605266,
          6.160010994567938
         ]
        },
        {
         "line": {
          "color": "rgba(0, 0, 255, 0.9809019098090191)",
          "width": 5
         },
         "mode": "lines",
         "type": "scatter3d",
         "x": [
          -24.651739311944244,
          -25.644533808013055
         ],
         "y": [
          8.003934692772672,
          7.9627662834750765
         ],
         "z": [
          5.955516840605266,
          6.0680523934382045
         ]
        },
        {
         "line": {
          "color": "rgba(255, 0, 0, 0.9859014098590141)",
          "width": 5
         },
         "mode": "lines",
         "type": "scatter3d",
         "x": [
          -24.470315723209445,
          -25.22861634325759
         ],
         "y": [
          8.241340235047238,
          8.890938859867546
         ],
         "z": [
          6.318514239078215,
          6.2637255881895095
         ]
        },
        {
         "line": {
          "color": "rgba(0, 255, 0, 0.9859014098590141)",
          "width": 5
         },
         "mode": "lines",
         "type": "scatter3d",
         "x": [
          -24.470315723209445,
          -24.049714623139778
         ],
         "y": [
          8.241340235047238,
          8.66464395376561
         ],
         "z": [
          6.318514239078215,
          5.516075034939101
         ]
        },
        {
         "line": {
          "color": "rgba(0, 0, 255, 0.9859014098590141)",
          "width": 5
         },
         "mode": "lines",
         "type": "scatter3d",
         "x": [
          -24.470315723209445,
          -24.968386887055352
         ],
         "y": [
          8.241340235047238,
          7.609805922162496
         ],
         "z": [
          6.318514239078215,
          5.724300870502236
         ]
        },
        {
         "line": {
          "color": "rgba(255, 0, 0, 0.9909009099090091)",
          "width": 5
         },
         "mode": "lines",
         "type": "scatter3d",
         "x": [
          -24.35484741627035,
          -24.30511216130428
         ],
         "y": [
          8.337310290851478,
          8.17113687946301
         ],
         "z": [
          6.41531438115196,
          5.430472870166051
         ]
        },
        {
         "line": {
          "color": "rgba(0, 255, 0, 0.9909009099090091)",
          "width": 5
         },
         "mode": "lines",
         "type": "scatter3d",
         "x": [
          -24.35484741627035,
          -25.174941684289625
         ],
         "y": [
          8.337310290851478,
          7.767701813518012
         ],
         "z": [
          6.41531438115196,
          6.470009665334507
         ]
        },
        {
         "line": {
          "color": "rgba(0, 0, 255, 0.9909009099090091)",
          "width": 5
         },
         "mode": "lines",
         "type": "scatter3d",
         "x": [
          -24.35484741627035,
          -24.92491039171729
         ],
         "y": [
          8.337310290851478,
          9.142252885014198
         ],
         "z": [
          6.41531438115196,
          6.250706896124053
         ]
        },
        {
         "line": {
          "color": "rgba(255, 0, 0, 0.9959004099590041)",
          "width": 5
         },
         "mode": "lines",
         "type": "scatter3d",
         "x": [
          -24.092285103121345,
          -23.928487056131175
         ],
         "y": [
          8.444136890645922,
          7.593906260106299
         ],
         "z": [
          6.6245891301444155,
          6.124311132732538
         ]
        },
        {
         "line": {
          "color": "rgba(0, 255, 0, 0.9959004099590041)",
          "width": 5
         },
         "mode": "lines",
         "type": "scatter3d",
         "x": [
          -24.092285103121345,
          -25.021966227888576
         ],
         "y": [
          8.444136890645922,
          8.480708876731542
         ],
         "z": [
          6.6245891301444155,
          6.258043776763256
         ]
        },
        {
         "line": {
          "color": "rgba(0, 0, 255, 0.9959004099590041)",
          "width": 5
         },
         "mode": "lines",
         "type": "scatter3d",
         "x": [
          -24.092285103121345,
          -23.762340856234434
         ],
         "y": [
          8.444136890645922,
          8.969275314993245
         ],
         "z": [
          6.6245891301444155,
          5.840136181128178
         ]
        }
       ],
       "layout": {
        "autosize": true,
        "scene": {
         "aspectmode": "data",
         "aspectratio": {
          "x": 1.770801766031963,
          "y": 0.7150739637960154,
          "z": 0.7897308218545515
         },
         "camera": {
          "center": {
           "x": 0,
           "y": 0,
           "z": 0
          },
          "eye": {
           "x": 0.05178738302381137,
           "y": 1.268883306346844,
           "z": 0.18156348426579438
          },
          "projection": {
           "type": "perspective"
          },
          "up": {
           "x": 0,
           "y": 0,
           "z": 1
          }
         }
        },
        "template": {
         "data": {
          "bar": [
           {
            "error_x": {
             "color": "#2a3f5f"
            },
            "error_y": {
             "color": "#2a3f5f"
            },
            "marker": {
             "line": {
              "color": "#E5ECF6",
              "width": 0.5
             },
             "pattern": {
              "fillmode": "overlay",
              "size": 10,
              "solidity": 0.2
             }
            },
            "type": "bar"
           }
          ],
          "barpolar": [
           {
            "marker": {
             "line": {
              "color": "#E5ECF6",
              "width": 0.5
             },
             "pattern": {
              "fillmode": "overlay",
              "size": 10,
              "solidity": 0.2
             }
            },
            "type": "barpolar"
           }
          ],
          "carpet": [
           {
            "aaxis": {
             "endlinecolor": "#2a3f5f",
             "gridcolor": "white",
             "linecolor": "white",
             "minorgridcolor": "white",
             "startlinecolor": "#2a3f5f"
            },
            "baxis": {
             "endlinecolor": "#2a3f5f",
             "gridcolor": "white",
             "linecolor": "white",
             "minorgridcolor": "white",
             "startlinecolor": "#2a3f5f"
            },
            "type": "carpet"
           }
          ],
          "choropleth": [
           {
            "colorbar": {
             "outlinewidth": 0,
             "ticks": ""
            },
            "type": "choropleth"
           }
          ],
          "contour": [
           {
            "colorbar": {
             "outlinewidth": 0,
             "ticks": ""
            },
            "colorscale": [
             [
              0,
              "#0d0887"
             ],
             [
              0.1111111111111111,
              "#46039f"
             ],
             [
              0.2222222222222222,
              "#7201a8"
             ],
             [
              0.3333333333333333,
              "#9c179e"
             ],
             [
              0.4444444444444444,
              "#bd3786"
             ],
             [
              0.5555555555555556,
              "#d8576b"
             ],
             [
              0.6666666666666666,
              "#ed7953"
             ],
             [
              0.7777777777777778,
              "#fb9f3a"
             ],
             [
              0.8888888888888888,
              "#fdca26"
             ],
             [
              1,
              "#f0f921"
             ]
            ],
            "type": "contour"
           }
          ],
          "contourcarpet": [
           {
            "colorbar": {
             "outlinewidth": 0,
             "ticks": ""
            },
            "type": "contourcarpet"
           }
          ],
          "heatmap": [
           {
            "colorbar": {
             "outlinewidth": 0,
             "ticks": ""
            },
            "colorscale": [
             [
              0,
              "#0d0887"
             ],
             [
              0.1111111111111111,
              "#46039f"
             ],
             [
              0.2222222222222222,
              "#7201a8"
             ],
             [
              0.3333333333333333,
              "#9c179e"
             ],
             [
              0.4444444444444444,
              "#bd3786"
             ],
             [
              0.5555555555555556,
              "#d8576b"
             ],
             [
              0.6666666666666666,
              "#ed7953"
             ],
             [
              0.7777777777777778,
              "#fb9f3a"
             ],
             [
              0.8888888888888888,
              "#fdca26"
             ],
             [
              1,
              "#f0f921"
             ]
            ],
            "type": "heatmap"
           }
          ],
          "heatmapgl": [
           {
            "colorbar": {
             "outlinewidth": 0,
             "ticks": ""
            },
            "colorscale": [
             [
              0,
              "#0d0887"
             ],
             [
              0.1111111111111111,
              "#46039f"
             ],
             [
              0.2222222222222222,
              "#7201a8"
             ],
             [
              0.3333333333333333,
              "#9c179e"
             ],
             [
              0.4444444444444444,
              "#bd3786"
             ],
             [
              0.5555555555555556,
              "#d8576b"
             ],
             [
              0.6666666666666666,
              "#ed7953"
             ],
             [
              0.7777777777777778,
              "#fb9f3a"
             ],
             [
              0.8888888888888888,
              "#fdca26"
             ],
             [
              1,
              "#f0f921"
             ]
            ],
            "type": "heatmapgl"
           }
          ],
          "histogram": [
           {
            "marker": {
             "pattern": {
              "fillmode": "overlay",
              "size": 10,
              "solidity": 0.2
             }
            },
            "type": "histogram"
           }
          ],
          "histogram2d": [
           {
            "colorbar": {
             "outlinewidth": 0,
             "ticks": ""
            },
            "colorscale": [
             [
              0,
              "#0d0887"
             ],
             [
              0.1111111111111111,
              "#46039f"
             ],
             [
              0.2222222222222222,
              "#7201a8"
             ],
             [
              0.3333333333333333,
              "#9c179e"
             ],
             [
              0.4444444444444444,
              "#bd3786"
             ],
             [
              0.5555555555555556,
              "#d8576b"
             ],
             [
              0.6666666666666666,
              "#ed7953"
             ],
             [
              0.7777777777777778,
              "#fb9f3a"
             ],
             [
              0.8888888888888888,
              "#fdca26"
             ],
             [
              1,
              "#f0f921"
             ]
            ],
            "type": "histogram2d"
           }
          ],
          "histogram2dcontour": [
           {
            "colorbar": {
             "outlinewidth": 0,
             "ticks": ""
            },
            "colorscale": [
             [
              0,
              "#0d0887"
             ],
             [
              0.1111111111111111,
              "#46039f"
             ],
             [
              0.2222222222222222,
              "#7201a8"
             ],
             [
              0.3333333333333333,
              "#9c179e"
             ],
             [
              0.4444444444444444,
              "#bd3786"
             ],
             [
              0.5555555555555556,
              "#d8576b"
             ],
             [
              0.6666666666666666,
              "#ed7953"
             ],
             [
              0.7777777777777778,
              "#fb9f3a"
             ],
             [
              0.8888888888888888,
              "#fdca26"
             ],
             [
              1,
              "#f0f921"
             ]
            ],
            "type": "histogram2dcontour"
           }
          ],
          "mesh3d": [
           {
            "colorbar": {
             "outlinewidth": 0,
             "ticks": ""
            },
            "type": "mesh3d"
           }
          ],
          "parcoords": [
           {
            "line": {
             "colorbar": {
              "outlinewidth": 0,
              "ticks": ""
             }
            },
            "type": "parcoords"
           }
          ],
          "pie": [
           {
            "automargin": true,
            "type": "pie"
           }
          ],
          "scatter": [
           {
            "fillpattern": {
             "fillmode": "overlay",
             "size": 10,
             "solidity": 0.2
            },
            "type": "scatter"
           }
          ],
          "scatter3d": [
           {
            "line": {
             "colorbar": {
              "outlinewidth": 0,
              "ticks": ""
             }
            },
            "marker": {
             "colorbar": {
              "outlinewidth": 0,
              "ticks": ""
             }
            },
            "type": "scatter3d"
           }
          ],
          "scattercarpet": [
           {
            "marker": {
             "colorbar": {
              "outlinewidth": 0,
              "ticks": ""
             }
            },
            "type": "scattercarpet"
           }
          ],
          "scattergeo": [
           {
            "marker": {
             "colorbar": {
              "outlinewidth": 0,
              "ticks": ""
             }
            },
            "type": "scattergeo"
           }
          ],
          "scattergl": [
           {
            "marker": {
             "colorbar": {
              "outlinewidth": 0,
              "ticks": ""
             }
            },
            "type": "scattergl"
           }
          ],
          "scattermapbox": [
           {
            "marker": {
             "colorbar": {
              "outlinewidth": 0,
              "ticks": ""
             }
            },
            "type": "scattermapbox"
           }
          ],
          "scatterpolar": [
           {
            "marker": {
             "colorbar": {
              "outlinewidth": 0,
              "ticks": ""
             }
            },
            "type": "scatterpolar"
           }
          ],
          "scatterpolargl": [
           {
            "marker": {
             "colorbar": {
              "outlinewidth": 0,
              "ticks": ""
             }
            },
            "type": "scatterpolargl"
           }
          ],
          "scatterternary": [
           {
            "marker": {
             "colorbar": {
              "outlinewidth": 0,
              "ticks": ""
             }
            },
            "type": "scatterternary"
           }
          ],
          "surface": [
           {
            "colorbar": {
             "outlinewidth": 0,
             "ticks": ""
            },
            "colorscale": [
             [
              0,
              "#0d0887"
             ],
             [
              0.1111111111111111,
              "#46039f"
             ],
             [
              0.2222222222222222,
              "#7201a8"
             ],
             [
              0.3333333333333333,
              "#9c179e"
             ],
             [
              0.4444444444444444,
              "#bd3786"
             ],
             [
              0.5555555555555556,
              "#d8576b"
             ],
             [
              0.6666666666666666,
              "#ed7953"
             ],
             [
              0.7777777777777778,
              "#fb9f3a"
             ],
             [
              0.8888888888888888,
              "#fdca26"
             ],
             [
              1,
              "#f0f921"
             ]
            ],
            "type": "surface"
           }
          ],
          "table": [
           {
            "cells": {
             "fill": {
              "color": "#EBF0F8"
             },
             "line": {
              "color": "white"
             }
            },
            "header": {
             "fill": {
              "color": "#C8D4E3"
             },
             "line": {
              "color": "white"
             }
            },
            "type": "table"
           }
          ]
         },
         "layout": {
          "annotationdefaults": {
           "arrowcolor": "#2a3f5f",
           "arrowhead": 0,
           "arrowwidth": 1
          },
          "autotypenumbers": "strict",
          "coloraxis": {
           "colorbar": {
            "outlinewidth": 0,
            "ticks": ""
           }
          },
          "colorscale": {
           "diverging": [
            [
             0,
             "#8e0152"
            ],
            [
             0.1,
             "#c51b7d"
            ],
            [
             0.2,
             "#de77ae"
            ],
            [
             0.3,
             "#f1b6da"
            ],
            [
             0.4,
             "#fde0ef"
            ],
            [
             0.5,
             "#f7f7f7"
            ],
            [
             0.6,
             "#e6f5d0"
            ],
            [
             0.7,
             "#b8e186"
            ],
            [
             0.8,
             "#7fbc41"
            ],
            [
             0.9,
             "#4d9221"
            ],
            [
             1,
             "#276419"
            ]
           ],
           "sequential": [
            [
             0,
             "#0d0887"
            ],
            [
             0.1111111111111111,
             "#46039f"
            ],
            [
             0.2222222222222222,
             "#7201a8"
            ],
            [
             0.3333333333333333,
             "#9c179e"
            ],
            [
             0.4444444444444444,
             "#bd3786"
            ],
            [
             0.5555555555555556,
             "#d8576b"
            ],
            [
             0.6666666666666666,
             "#ed7953"
            ],
            [
             0.7777777777777778,
             "#fb9f3a"
            ],
            [
             0.8888888888888888,
             "#fdca26"
            ],
            [
             1,
             "#f0f921"
            ]
           ],
           "sequentialminus": [
            [
             0,
             "#0d0887"
            ],
            [
             0.1111111111111111,
             "#46039f"
            ],
            [
             0.2222222222222222,
             "#7201a8"
            ],
            [
             0.3333333333333333,
             "#9c179e"
            ],
            [
             0.4444444444444444,
             "#bd3786"
            ],
            [
             0.5555555555555556,
             "#d8576b"
            ],
            [
             0.6666666666666666,
             "#ed7953"
            ],
            [
             0.7777777777777778,
             "#fb9f3a"
            ],
            [
             0.8888888888888888,
             "#fdca26"
            ],
            [
             1,
             "#f0f921"
            ]
           ]
          },
          "colorway": [
           "#636efa",
           "#EF553B",
           "#00cc96",
           "#ab63fa",
           "#FFA15A",
           "#19d3f3",
           "#FF6692",
           "#B6E880",
           "#FF97FF",
           "#FECB52"
          ],
          "font": {
           "color": "#2a3f5f"
          },
          "geo": {
           "bgcolor": "white",
           "lakecolor": "white",
           "landcolor": "#E5ECF6",
           "showlakes": true,
           "showland": true,
           "subunitcolor": "white"
          },
          "hoverlabel": {
           "align": "left"
          },
          "hovermode": "closest",
          "mapbox": {
           "style": "light"
          },
          "paper_bgcolor": "white",
          "plot_bgcolor": "#E5ECF6",
          "polar": {
           "angularaxis": {
            "gridcolor": "white",
            "linecolor": "white",
            "ticks": ""
           },
           "bgcolor": "#E5ECF6",
           "radialaxis": {
            "gridcolor": "white",
            "linecolor": "white",
            "ticks": ""
           }
          },
          "scene": {
           "xaxis": {
            "backgroundcolor": "#E5ECF6",
            "gridcolor": "white",
            "gridwidth": 2,
            "linecolor": "white",
            "showbackground": true,
            "ticks": "",
            "zerolinecolor": "white"
           },
           "yaxis": {
            "backgroundcolor": "#E5ECF6",
            "gridcolor": "white",
            "gridwidth": 2,
            "linecolor": "white",
            "showbackground": true,
            "ticks": "",
            "zerolinecolor": "white"
           },
           "zaxis": {
            "backgroundcolor": "#E5ECF6",
            "gridcolor": "white",
            "gridwidth": 2,
            "linecolor": "white",
            "showbackground": true,
            "ticks": "",
            "zerolinecolor": "white"
           }
          },
          "shapedefaults": {
           "line": {
            "color": "#2a3f5f"
           }
          },
          "ternary": {
           "aaxis": {
            "gridcolor": "white",
            "linecolor": "white",
            "ticks": ""
           },
           "baxis": {
            "gridcolor": "white",
            "linecolor": "white",
            "ticks": ""
           },
           "bgcolor": "#E5ECF6",
           "caxis": {
            "gridcolor": "white",
            "linecolor": "white",
            "ticks": ""
           }
          },
          "title": {
           "x": 0.05
          },
          "xaxis": {
           "automargin": true,
           "gridcolor": "white",
           "linecolor": "white",
           "ticks": "",
           "title": {
            "standoff": 15
           },
           "zerolinecolor": "white",
           "zerolinewidth": 2
          },
          "yaxis": {
           "automargin": true,
           "gridcolor": "white",
           "linecolor": "white",
           "ticks": "",
           "title": {
            "standoff": 15
           },
           "zerolinecolor": "white",
           "zerolinewidth": 2
          }
         }
        }
       }
      },
      "image/png": "[encoded data removed]",
      "text/html": [
       "<div>                            <div id=\"9f0a896c-c2cd-4f0e-869b-ea1122f1789d\" class=\"plotly-graph-div\" style=\"height:525px; width:100%;\"></div>            <script type=\"text/javascript\">                require([\"plotly\"], function(Plotly) {                    window.PLOTLYENV=window.PLOTLYENV || {};                                    if (document.getElementById(\"9f0a896c-c2cd-4f0e-869b-ea1122f1789d\")) {                    Plotly.newPlot(                        \"9f0a896c-c2cd-4f0e-869b-ea1122f1789d\",                        [{\"line\":{\"color\":\"rgba(255, 0, 0, 0.0001)\",\"width\":5},\"mode\":\"lines\",\"x\":[0.0,1.0],\"y\":[0.0,0.0],\"z\":[0.0,0.0],\"type\":\"scatter3d\"},{\"line\":{\"color\":\"rgba(0, 255, 0, 0.0001)\",\"width\":5},\"mode\":\"lines\",\"x\":[0.0,0.0],\"y\":[0.0,1.0],\"z\":[0.0,0.0],\"type\":\"scatter3d\"},{\"line\":{\"color\":\"rgba(0, 0, 255, 0.0001)\",\"width\":5},\"mode\":\"lines\",\"x\":[0.0,0.0],\"y\":[0.0,0.0],\"z\":[0.0,1.0],\"type\":\"scatter3d\"},{\"line\":{\"color\":\"rgba(255, 0, 0, 0.000999900009999)\",\"width\":5},\"mode\":\"lines\",\"x\":[-0.014085865406208499,0.9755059841758462],\"y\":[0.07607509229465745,0.09678306353542547],\"z\":[0.0,0.14240488463483109],\"type\":\"scatter3d\"},{\"line\":{\"color\":\"rgba(0, 255, 0, 0.000999900009999)\",\"width\":5},\"mode\":\"lines\",\"x\":[-0.014085865406208499,-0.014085865406208499],\"y\":[0.07607509229465745,1.0656669418767122],\"z\":[0.0,-0.1439026450096315],\"type\":\"scatter3d\"},{\"line\":{\"color\":\"rgba(0, 0, 255, 0.000999900009999)\",\"width\":5},\"mode\":\"lines\",\"x\":[-0.014085865406208499,-0.15798851041584],\"y\":[0.07607509229465745,0.21847997692948853],\"z\":[0.0,0.9792920287592319],\"type\":\"scatter3d\"},{\"line\":{\"color\":\"rgba(255, 0, 0, 0.0059994000599940004)\",\"width\":5},\"mode\":\"lines\",\"x\":[-0.1507198829513837,-0.8365613405596124],\"y\":[0.6129044375474297,0.655726469314389],\"z\":[-0.035362302577206316,0.6911277308170373],\"type\":\"scatter3d\"},{\"line\":{\"color\":\"rgba(0, 255, 0, 0.0059994000599940004)\",\"width\":5},\"mode\":\"lines\",\"x\":[-0.1507198829513837,0.5362356904056174],\"y\":[0.6129044375474297,0.32146219252526087],\"z\":[-0.035362302577206316,0.6303354201545079],\"type\":\"scatter3d\"},{\"line\":{\"color\":\"rgba(0, 0, 255, 0.0059994000599940004)\",\"width\":5},\"mode\":\"lines\",\"x\":[-0.1507198829513837,0.08951653239727489],\"y\":[0.6129044375474297,1.5685339114607166],\"z\":[-0.035362302577206316,0.1351040381726312],\"type\":\"scatter3d\"},{\"line\":{\"color\":\"rgba(255, 0, 0, 0.010998900109989001)\",\"width\":5},\"mode\":\"lines\",\"x\":[-1.2366880571832017,-0.3962202805747419],\"y\":[0.968591896767306,1.390424011378307],\"z\":[0.2701537616252736,-0.06995149203253159],\"type\":\"scatter3d\"},{\"line\":{\"color\":\"rgba(0, 255, 0, 0.010998900109989001)\",\"width\":5},\"mode\":\"lines\",\"x\":[-1.2366880571832017,-1.1215192021502793],\"y\":[0.968591896767306,1.4428463419791135],\"z\":[0.2701537616252736,1.1429761124087805],\"type\":\"scatter3d\"},{\"line\":{\"color\":\"rgba(0, 0, 255, 0.010998900109989001)\",\"width\":5},\"mode\":\"lines\",\"x\":[-1.2366880571832017,-0.707207130885346],\"y\":[0.968591896767306,0.1958433035756716],\"z\":[0.2701537616252736,0.6201674190832538],\"type\":\"scatter3d\"},{\"line\":{\"color\":\"rgba(255, 0, 0, 0.015998400159984)\",\"width\":5},\"mode\":\"lines\",\"x\":[-2.2861812014129788,-2.3477903951843366],\"y\":[1.6482517475590421,2.4740493713613843],\"z\":[0.0458896319031933,0.6064809195319335],\"type\":\"scatter3d\"},{\"line\":{\"color\":\"rgba(0, 255, 0, 0.015998400159984)\",\"width\":5},\"mode\":\"lines\",\"x\":[-2.2861812014129788,-2.7816302318894093],\"y\":[1.6482517475590421,2.1105235504904707],\"z\":[0.0458896319031933,-0.6895252431261943],\"type\":\"scatter3d\"},{\"line\":{\"color\":\"rgba(0, 0, 255, 0.015998400159984)\",\"width\":5},\"mode\":\"lines\",\"x\":[-2.2861812014129788,-3.152630602960932],\"y\":[1.6482517475590421,1.3251990200718256],\"z\":[0.0458896319031933,0.42655007090396607],\"type\":\"scatter3d\"},{\"line\":{\"color\":\"rgba(255, 0, 0, 0.020997900209979003)\",\"width\":5},\"mode\":\"lines\",\"x\":[-1.3444532235785451,-1.622805608230296],\"y\":[1.9419213494602399,1.0551993600296679],\"z\":[-0.9101823428861598,-0.5410698079879668],\"type\":\"scatter3d\"},{\"line\":{\"color\":\"rgba(0, 255, 0, 0.020997900209979003)\",\"width\":5},\"mode\":\"lines\",\"x\":[-1.3444532235785451,-2.2077238345879837],\"y\":[1.9419213494602399,2.3413583595858984],\"z\":[-0.9101823428861598,-0.6016148022904839],\"type\":\"scatter3d\"},{\"line\":{\"color\":\"rgba(0, 0, 255, 0.020997900209979003)\",\"width\":5},\"mode\":\"lines\",\"x\":[-1.3444532235785451,-1.7655040543888785],\"y\":[1.9419213494602399,1.7091678566783644],\"z\":[-0.9101823428861598,-1.7868476207840387],\"type\":\"scatter3d\"},{\"line\":{\"color\":\"rgba(255, 0, 0, 0.025997400259974)\",\"width\":5},\"mode\":\"lines\",\"x\":[-1.464012056113065,-1.6180531827829556],\"y\":[2.598726850155937,2.283132608224363],\"z\":[-0.9332524582141597,-1.8695598894320833],\"type\":\"scatter3d\"},{\"line\":{\"color\":\"rgba(0, 255, 0, 0.025997400259974)\",\"width\":5},\"mode\":\"lines\",\"x\":[-1.464012056113065,-0.5720362382809413],\"y\":[2.598726850155937,2.146678681812395],\"z\":[-0.9332524582141597,-0.9276316130854049],\"type\":\"scatter3d\"},{\"line\":{\"color\":\"rgba(0, 0, 255, 0.025997400259974)\",\"width\":5},\"mode\":\"lines\",\"x\":[-1.464012056113065,-1.8890420217589972],\"y\":[2.598726850155937,1.7644291047695049],\"z\":[-0.9332524582141597,-0.582116017003437],\"type\":\"scatter3d\"},{\"line\":{\"color\":\"rgba(255, 0, 0, 0.030996900309969003)\",\"width\":5},\"mode\":\"lines\",\"x\":[-1.2657714066894374,-0.7425259110778348],\"y\":[3.5246733566611765,3.863098483089875],\"z\":[-1.1996771072609163,-1.9817784978260304],\"type\":\"scatter3d\"},{\"line\":{\"color\":\"rgba(0, 255, 0, 0.030996900309969003)\",\"width\":5},\"mode\":\"lines\",\"x\":[-1.2657714066894374,-1.2952388268712571],\"y\":[3.5246733566611765,4.449073157856334],\"z\":[-1.1996771072609163,-0.8193921105831825],\"type\":\"scatter3d\"},{\"line\":{\"color\":\"rgba(0, 0, 255, 0.030996900309969003)\",\"width\":5},\"mode\":\"lines\",\"x\":[-1.2657714066894374,-0.4140990386569916],\"y\":[3.5246733566611765,3.3487374554014466],\"z\":[-1.1996771072609163,-0.7060165597407293],\"type\":\"scatter3d\"},{\"line\":{\"color\":\"rgba(255, 0, 0, 0.035996400359964)\",\"width\":5},\"mode\":\"lines\",\"x\":[-1.0689500157488065,-1.3990561439472797],\"y\":[3.0611794038855935,3.986790093656703],\"z\":[-0.6862197811587387,-0.5010852487039119],\"type\":\"scatter3d\"},{\"line\":{\"color\":\"rgba(0, 255, 0, 0.035996400359964)\",\"width\":5},\"mode\":\"lines\",\"x\":[-1.0689500157488065,-0.2148305898048033],\"y\":[3.0611794038855935,3.4375734982374286],\"z\":[-0.6862197811587387,-1.0451173876736686],\"type\":\"scatter3d\"},{\"line\":{\"color\":\"rgba(0, 0, 255, 0.035996400359964)\",\"width\":5},\"mode\":\"lines\",\"x\":[-1.0689500157488065,-1.470833021548875],\"y\":[3.0611794038855935,3.100832105161978],\"z\":[-0.6862197811587387,-1.6010518493169263],\"type\":\"scatter3d\"},{\"line\":{\"color\":\"rgba(255, 0, 0, 0.040995900409959006)\",\"width\":5},\"mode\":\"lines\",\"x\":[-1.6912785149436278,-2.1282658706574438],\"y\":[3.3439419576754306,2.675335012568111],\"z\":[-0.8266911613108051,-0.22502114884508329],\"type\":\"scatter3d\"},{\"line\":{\"color\":\"rgba(0, 255, 0, 0.040995900409959006)\",\"width\":5},\"mode\":\"lines\",\"x\":[-1.6912785149436278,-1.3483809783697596],\"y\":[3.3439419576754306,2.6017065478177788],\"z\":[-0.8266911613108051,-1.4024583675365672],\"type\":\"scatter3d\"},{\"line\":{\"color\":\"rgba(0, 0, 255, 0.040995900409959006)\",\"width\":5},\"mode\":\"lines\",\"x\":[-1.6912785149436278,-0.8597357737944925],\"y\":[3.3439419576754306,3.2986501338249687],\"z\":[-0.8266911613108051,-0.2730799978264702],\"type\":\"scatter3d\"},{\"line\":{\"color\":\"rgba(255, 0, 0, 0.045995400459954004)\",\"width\":5},\"mode\":\"lines\",\"x\":[-1.4511751832357067,-1.3146349088993978],\"y\":[2.60281411655303,1.742251050097861],\"z\":[0.0688185819634631,-0.42188291807239775],\"type\":\"scatter3d\"},{\"line\":{\"color\":\"rgba(0, 255, 0, 0.045995400459954004)\",\"width\":5},\"mode\":\"lines\",\"x\":[-1.4511751832357067,-2.4343220381744635],\"y\":[2.60281411655303,2.545885614625398],\"z\":[0.0688185819634631,-0.10490938726517068],\"type\":\"scatter3d\"},{\"line\":{\"color\":\"rgba(0, 0, 255, 0.045995400459954004)\",\"width\":5},\"mode\":\"lines\",\"x\":[-1.4511751832357067,-1.3296062105979678],\"y\":[2.60281411655303,3.1089666176053816],\"z\":[0.0688185819634631,-0.7850143235691425],\"type\":\"scatter3d\"},{\"line\":{\"color\":\"rgba(255, 0, 0, 0.050994900509949)\",\"width\":5},\"mode\":\"lines\",\"x\":[-0.9726596408734917,-0.00014350285993858236],\"y\":[3.695929514338321,3.5798122602914635],\"z\":[1.4115687178275935,1.6133833471680321],\"type\":\"scatter3d\"},{\"line\":{\"color\":\"rgba(0, 255, 0, 0.050994900509949)\",\"width\":5},\"mode\":\"lines\",\"x\":[-0.9726596408734917,-0.9487920717960869],\"y\":[3.695929514338321,2.883443132274347],\"z\":[1.4115687178275935,0.8290773289582554],\"type\":\"scatter3d\"},{\"line\":{\"color\":\"rgba(0, 0, 255, 0.050994900509949)\",\"width\":5},\"mode\":\"lines\",\"x\":[-0.9726596408734917,-0.7410507022516494],\"y\":[3.695929514338321,4.267228614874292],\"z\":[1.4115687178275935,0.6241840359361741],\"type\":\"scatter3d\"},{\"line\":{\"color\":\"rgba(255, 0, 0, 0.05599440055994401)\",\"width\":5},\"mode\":\"lines\",\"x\":[-1.3798469575423173,-2.320894821087702],\"y\":[3.5685005375922683,3.7161755164218406],\"z\":[1.6919151916711206,1.3875781759396302],\"type\":\"scatter3d\"},{\"line\":{\"color\":\"rgba(0, 255, 0, 0.05599440055994401)\",\"width\":5},\"mode\":\"lines\",\"x\":[-1.3798469575423173,-1.1090613255030228],\"y\":[3.5685005375922683,4.436572799707081],\"z\":[1.6919151916711206,1.2758314390107341],\"type\":\"scatter3d\"},{\"line\":{\"color\":\"rgba(0, 0, 255, 0.05599440055994401)\",\"width\":5},\"mode\":\"lines\",\"x\":[-1.3798469575423173,-1.1771055952164617],\"y\":[3.5685005375922683,3.094535719937459],\"z\":[1.6919151916711206,0.8350293815262085],\"type\":\"scatter3d\"},{\"line\":{\"color\":\"rgba(255, 0, 0, 0.060993900609939006)\",\"width\":5},\"mode\":\"lines\",\"x\":[-1.890314171590478,-1.7905445086916172],\"y\":[4.185563486799554,3.6409522956272418],\"z\":[1.391126579257319,0.5583933297620651],\"type\":\"scatter3d\"},{\"line\":{\"color\":\"rgba(0, 255, 0, 0.060993900609939006)\",\"width\":5},\"mode\":\"lines\",\"x\":[-1.890314171590478,-2.044784496371804],\"y\":[4.185563486799554,3.3503235675382568],\"z\":[1.391126579257319,1.9188700738020934],\"type\":\"scatter3d\"},{\"line\":{\"color\":\"rgba(0, 0, 255, 0.060993900609939006)\",\"width\":5},\"mode\":\"lines\",\"x\":[-1.890314171590478,-2.8732612368625587],\"y\":[4.185563486799554,4.261543271757496],\"z\":[1.391126579257319,1.2236687064930165],\"type\":\"scatter3d\"},{\"line\":{\"color\":\"rgba(255, 0, 0, 0.065993400659934)\",\"width\":5},\"mode\":\"lines\",\"x\":[-2.1585786265499625,-3.0521005625587123],\"y\":[4.144610104184921,4.574846519249066],\"z\":[0.994411365859744,0.8658999771662701],\"type\":\"scatter3d\"},{\"line\":{\"color\":\"rgba(0, 255, 0, 0.065993400659934)\",\"width\":5},\"mode\":\"lines\",\"x\":[-2.1585786265499625,-2.6049984431423403],\"y\":[4.144610104184921,3.3241757501880826],\"z\":[0.994411365859744,1.35161833406643],\"type\":\"scatter3d\"},{\"line\":{\"color\":\"rgba(0, 0, 255, 0.065993400659934)\",\"width\":5},\"mode\":\"lines\",\"x\":[-2.1585786265499625,-2.110330339276755],\"y\":[4.144610104184921,4.52115239654335],\"z\":[0.994411365859744,1.9195535197153895],\"type\":\"scatter3d\"},{\"line\":{\"color\":\"rgba(255, 0, 0, 0.070992900709929)\",\"width\":5},\"mode\":\"lines\",\"x\":[-1.8928678453906163,-2.2249267117098723],\"y\":[3.3078359595883136,2.3696058518110346],\"z\":[1.6850393415071288,1.5877707743386695],\"type\":\"scatter3d\"},{\"line\":{\"color\":\"rgba(0, 255, 0, 0.070992900709929)\",\"width\":5},\"mode\":\"lines\",\"x\":[-1.8928678453906163,-1.358514272795604],\"y\":[3.3078359595883136,3.0357511054702435],\"z\":[1.6850393415071288,2.485311852352337],\"type\":\"scatter3d\"},{\"line\":{\"color\":\"rgba(0, 0, 255, 0.070992900709929)\",\"width\":5},\"mode\":\"lines\",\"x\":[-1.8928678453906163,-2.670172913400413],\"y\":[3.3078359595883136,3.5215977359183768],\"z\":[1.6850393415071288,2.27673413971521],\"type\":\"scatter3d\"},{\"line\":{\"color\":\"rgba(255, 0, 0, 0.07599240075992401)\",\"width\":5},\"mode\":\"lines\",\"x\":[-2.276596837792446,-2.1902100001676605],\"y\":[3.8545277638042346,4.374150815269314],\"z\":[1.0157410503133546,0.16572387479787898],\"type\":\"scatter3d\"},{\"line\":{\"color\":\"rgba(0, 255, 0, 0.07599240075992401)\",\"width\":5},\"mode\":\"lines\",\"x\":[-2.276596837792446,-2.836518452951136],\"y\":[3.8545277638042346,4.585556773466475],\"z\":[1.0157410503133546,1.4057210137862615],\"type\":\"scatter3d\"},{\"line\":{\"color\":\"rgba(0, 0, 255, 0.07599240075992401)\",\"width\":5},\"mode\":\"lines\",\"x\":[-2.276596837792446,-1.4525670451494428],\"y\":[3.8545277638042346,4.2967816178500335],\"z\":[1.0157410503133546,1.36984051292007],\"type\":\"scatter3d\"},{\"line\":{\"color\":\"rgba(255, 0, 0, 0.08099190080991901)\",\"width\":5},\"mode\":\"lines\",\"x\":[-2.3316672702925296,-2.716463649556702],\"y\":[3.9401326676932036,4.362676501736548],\"z\":[1.2674926633497463,2.0880951583600513],\"type\":\"scatter3d\"},{\"line\":{\"color\":\"rgba(0, 255, 0, 0.08099190080991901)\",\"width\":5},\"mode\":\"lines\",\"x\":[-2.3316672702925296,-1.549199487970553],\"y\":[3.9401326676932036,4.561032181681647],\"z\":[1.2674926633497463,1.3146939679613694],\"type\":\"scatter3d\"},{\"line\":{\"color\":\"rgba(0, 0, 255, 0.08099190080991901)\",\"width\":5},\"mode\":\"lines\",\"x\":[-2.3316672702925296,-2.8212343403996885],\"y\":[3.9401326676932036,4.600390573242895],\"z\":[1.2674926633497463,0.697945841722389],\"type\":\"scatter3d\"},{\"line\":{\"color\":\"rgba(255, 0, 0, 0.08599140085991401)\",\"width\":5},\"mode\":\"lines\",\"x\":[-1.8643471958169016,-2.442307733226847],\"y\":[3.6787891670230484,4.461098110766786],\"z\":[0.9605484271069877,0.728267705273766],\"type\":\"scatter3d\"},{\"line\":{\"color\":\"rgba(0, 255, 0, 0.08599140085991401)\",\"width\":5},\"mode\":\"lines\",\"x\":[-1.8643471958169016,-2.665354393025648],\"y\":[3.6787891670230484,3.189384353142414],\"z\":[0.9605484271069877,1.3053242936786567],\"type\":\"scatter3d\"},{\"line\":{\"color\":\"rgba(0, 0, 255, 0.08599140085991401)\",\"width\":5},\"mode\":\"lines\",\"x\":[-1.8643471958169016,-1.7083052552477365],\"y\":[3.6787891670230484,4.064114542114046],\"z\":[0.9605484271069877,1.8700401907279636],\"type\":\"scatter3d\"},{\"line\":{\"color\":\"rgba(255, 0, 0, 0.09099090090990901)\",\"width\":5},\"mode\":\"lines\",\"x\":[-1.391044356345824,-1.4117207405840388],\"y\":[3.350057585266344,2.3505274433534993],\"z\":[0.624246650097816,0.6016196188625483],\"type\":\"scatter3d\"},{\"line\":{\"color\":\"rgba(0, 255, 0, 0.09099090090990901)\",\"width\":5},\"mode\":\"lines\",\"x\":[-1.391044356345824,-1.0435851377004903],\"y\":[3.350057585266344,3.36409485915824],\"z\":[0.624246650097816,-0.3133433702842584],\"type\":\"scatter3d\"},{\"line\":{\"color\":\"rgba(0, 0, 255, 0.09099090090990901)\",\"width\":5},\"mode\":\"lines\",\"x\":[-1.391044356345824,-0.4535772483824547],\"y\":[3.350057585266344,3.3228096431537386],\"z\":[0.624246650097816,0.9712523721506664],\"type\":\"scatter3d\"},{\"line\":{\"color\":\"rgba(255, 0, 0, 0.09599040095990401)\",\"width\":5},\"mode\":\"lines\",\"x\":[-1.278333228969764,-0.3784822171476695],\"y\":[2.524997766980256,2.927012838697866],\"z\":[1.7119637961177077,1.881232926896567],\"type\":\"scatter3d\"},{\"line\":{\"color\":\"rgba(0, 255, 0, 0.09599040095990401)\",\"width\":5},\"mode\":\"lines\",\"x\":[-1.278333228969764,-1.5883005275727724],\"y\":[2.524997766980256,3.387363456603543],\"z\":[1.7119637961177077,1.3116567999793673],\"type\":\"scatter3d\"},{\"line\":{\"color\":\"rgba(0, 0, 255, 0.09599040095990401)\",\"width\":5},\"mode\":\"lines\",\"x\":[-1.278333228969764,-1.5852345654274267],\"y\":[2.524997766980256,2.832746527290406],\"z\":[1.7119637961177077,2.6125759602638885],\"type\":\"scatter3d\"},{\"line\":{\"color\":\"rgba(255, 0, 0, 0.100989901009899)\",\"width\":5},\"mode\":\"lines\",\"x\":[-0.494298862635685,-0.638293605792063],\"y\":[2.114085800742775,2.9335998544930044],\"z\":[1.2167900825004057,1.771463166081352],\"type\":\"scatter3d\"},{\"line\":{\"color\":\"rgba(0, 255, 0, 0.100989901009899)\",\"width\":5},\"mode\":\"lines\",\"x\":[-0.494298862635685,-0.451370547049639],\"y\":[2.114085800742775,1.5592719888953361],\"z\":[1.2167900825004057,2.047656373731585],\"type\":\"scatter3d\"},{\"line\":{\"color\":\"rgba(0, 0, 255, 0.100989901009899)\",\"width\":5},\"mode\":\"lines\",\"x\":[-0.494298862635685,0.49434802764631436],\"y\":[2.114085800742775,2.257537360124948],\"z\":[1.2167900825004057,1.261499996910398],\"type\":\"scatter3d\"},{\"line\":{\"color\":\"rgba(255, 0, 0, 0.10598940105989402)\",\"width\":5},\"mode\":\"lines\",\"x\":[-0.6855452509854365,-0.20482269657548036],\"y\":[2.138943788473927,1.950907318122656],\"z\":[0.4694021465440459,-0.38707208628459144],\"type\":\"scatter3d\"},{\"line\":{\"color\":\"rgba(0, 255, 0, 0.10598940105989402)\",\"width\":5},\"mode\":\"lines\",\"x\":[-0.6855452509854365,0.14890893327826082],\"y\":[2.138943788473927,2.537156676807257],\"z\":[0.4694021465440459,0.850338768477444],\"type\":\"scatter3d\"},{\"line\":{\"color\":\"rgba(0, 0, 255, 0.10598940105989402)\",\"width\":5},\"mode\":\"lines\",\"x\":[-0.6855452509854365,-0.4161161507635642],\"y\":[2.138943788473927,1.241130455211907],\"z\":[0.4694021465440459,0.817739882901404],\"type\":\"scatter3d\"},{\"line\":{\"color\":\"rgba(255, 0, 0, 0.11098890110988902)\",\"width\":5},\"mode\":\"lines\",\"x\":[-0.6003723698691152,-1.3655433098323082],\"y\":[1.2808691112301087,1.9231549130596601],\"z\":[0.20499532369215034,0.2495192656111821],\"type\":\"scatter3d\"},{\"line\":{\"color\":\"rgba(0, 255, 0, 0.11098890110988902)\",\"width\":5},\"mode\":\"lines\",\"x\":[-0.6003723698691152,0.0028763661943655983],\"y\":[1.2808691112301087,2.020260168438921],\"z\":[0.20499532369215034,-0.0939893363782956],\"type\":\"scatter3d\"},{\"line\":{\"color\":\"rgba(0, 0, 255, 0.11098890110988902)\",\"width\":5},\"mode\":\"lines\",\"x\":[-0.6003723698691152,-0.8253265764838125],\"y\":[1.2808691112301087,1.0789537495366457],\"z\":[0.20499532369215034,-0.7482233246978974],\"type\":\"scatter3d\"},{\"line\":{\"color\":\"rgba(255, 0, 0, 0.11598840115988401)\",\"width\":5},\"mode\":\"lines\",\"x\":[-1.1969241050692947,-2.138996020397604],\"y\":[0.767665940470652,0.4377116259814723],\"z\":[0.7450482238938093,0.6847932929784262],\"type\":\"scatter3d\"},{\"line\":{\"color\":\"rgba(0, 255, 0, 0.11598840115988401)\",\"width\":5},\"mode\":\"lines\",\"x\":[-1.1969241050692947,-1.3167112736083129],\"y\":[0.767665940470652,0.930841837520618],\"z\":[0.7450482238938093,1.724346268860379],\"type\":\"scatter3d\"},{\"line\":{\"color\":\"rgba(0, 0, 255, 0.11598840115988401)\",\"width\":5},\"mode\":\"lines\",\"x\":[-1.1969241050692947,-1.5102155677730325],\"y\":[0.767665940470652,1.6974528929344466],\"z\":[0.7450482238938093,0.5518005009446447],\"type\":\"scatter3d\"},{\"line\":{\"color\":\"rgba(255, 0, 0, 0.12098790120987901)\",\"width\":5},\"mode\":\"lines\",\"x\":[-1.6644827658145782,-2.310491249138871],\"y\":[0.4351165823512869,-0.2871248144504227],\"z\":[-0.3063148821014658,-0.059251318986718676],\"type\":\"scatter3d\"},{\"line\":{\"color\":\"rgba(0, 255, 0, 0.12098790120987901)\",\"width\":5},\"mode\":\"lines\",\"x\":[-1.6644827658145782,-1.4856281479435867],\"y\":[0.4351165823512869,0.6065544525186779],\"z\":[-0.3063148821014658,0.6625091898221682],\"type\":\"scatter3d\"},{\"line\":{\"color\":\"rgba(0, 0, 255, 0.12098790120987901)\",\"width\":5},\"mode\":\"lines\",\"x\":[-1.6644827658145782,-2.4065636678321822],\"y\":[0.4351165823512869,1.1051736108334749],\"z\":[-0.3063148821014658,-0.2878889915570645],\"type\":\"scatter3d\"},{\"line\":{\"color\":\"rgba(255, 0, 0, 0.125987401259874)\",\"width\":5},\"mode\":\"lines\",\"x\":[-1.7773020742238823,-1.7542819052051193],\"y\":[0.7315947380311454,1.5182576983860043],\"z\":[-0.07964469290312023,0.5373086753704308],\"type\":\"scatter3d\"},{\"line\":{\"color\":\"rgba(0, 255, 0, 0.125987401259874)\",\"width\":5},\"mode\":\"lines\",\"x\":[-1.7773020742238823,-2.5426317627227806],\"y\":[0.7315947380311454,0.348410264422277],\"z\":[-0.07964469290312023,0.4375014441676962],\"type\":\"scatter3d\"},{\"line\":{\"color\":\"rgba(0, 0, 255, 0.125987401259874)\",\"width\":5},\"mode\":\"lines\",\"x\":[-1.7773020742238823,-1.134075411436557],\"y\":[0.7315947380311454,0.2475172173892336],\"z\":[-0.07964469290312023,0.5135908541510441],\"type\":\"scatter3d\"},{\"line\":{\"color\":\"rgba(255, 0, 0, 0.130986901309869)\",\"width\":5},\"mode\":\"lines\",\"x\":[-2.586894683804238,-2.4074039074058198],\"y\":[-0.6646409923882126,0.2427038792489773],\"z\":[1.069572875082309,0.6894303424691071],\"type\":\"scatter3d\"},{\"line\":{\"color\":\"rgba(0, 255, 0, 0.130986901309869)\",\"width\":5},\"mode\":\"lines\",\"x\":[-2.586894683804238,-3.289186186377747],\"y\":[-0.6646409923882126,-0.27586410721749943],\"z\":[1.069572875082309,1.665927785324525],\"type\":\"scatter3d\"},{\"line\":{\"color\":\"rgba(0, 0, 255, 0.130986901309869)\",\"width\":5},\"mode\":\"lines\",\"x\":[-2.586894683804238,-1.8980044845700434],\"y\":[-0.6646409923882126,-0.5047103278155699],\"z\":[1.069572875082309,1.7765753333018126],\"type\":\"scatter3d\"},{\"line\":{\"color\":\"rgba(255, 0, 0, 0.135986401359864)\",\"width\":5},\"mode\":\"lines\",\"x\":[-2.9475058645319625,-3.941898060784048],\"y\":[-1.087291674544563,-1.1394122864500926],\"z\":[1.7230831514244513,1.8151027246007059],\"type\":\"scatter3d\"},{\"line\":{\"color\":\"rgba(0, 255, 0, 0.135986401359864)\",\"width\":5},\"mode\":\"lines\",\"x\":[-2.9475058645319625,-2.9513952981381406],\"y\":[-1.087291674544563,-0.1997376237012951],\"z\":[1.7230831514244513,2.1837703328588085],\"type\":\"scatter3d\"},{\"line\":{\"color\":\"rgba(0, 0, 255, 0.135986401359864)\",\"width\":5},\"mode\":\"lines\",\"x\":[-2.9475058645319625,-3.053189507254808],\"y\":[-1.087291674544563,-0.6295458404332106],\"z\":[1.7230831514244513,0.8403036098544566],\"type\":\"scatter3d\"},{\"line\":{\"color\":\"rgba(255, 0, 0, 0.140985901409859)\",\"width\":5},\"mode\":\"lines\",\"x\":[-2.702101730782865,-2.1459321232570696],\"y\":[-0.010416412790226901,0.18979160444125523],\"z\":[1.2524022988870123,2.058995205811467],\"type\":\"scatter3d\"},{\"line\":{\"color\":\"rgba(0, 255, 0, 0.140985901409859)\",\"width\":5},\"mode\":\"lines\",\"x\":[-2.702101730782865,-3.1246353151737125],\"y\":[-0.010416412790226901,-0.7780437139204783],\"z\":[1.2524022988870123,1.7342878627103169],\"type\":\"scatter3d\"},{\"line\":{\"color\":\"rgba(0, 0, 255, 0.140985901409859)\",\"width\":5},\"mode\":\"lines\",\"x\":[-2.702101730782865,-1.9864616412641052],\"y\":[-0.010416412790226901,-0.6192391098012071],\"z\":[1.2524022988870123,0.9100659352359126],\"type\":\"scatter3d\"},{\"line\":{\"color\":\"rgba(255, 0, 0, 0.145985401459854)\",\"width\":5},\"mode\":\"lines\",\"x\":[-4.034807729886869,-4.394710903075158],\"y\":[0.7496369000366299,-0.09258082146264623],\"z\":[3.9009585250725194,4.302379769554626],\"type\":\"scatter3d\"},{\"line\":{\"color\":\"rgba(0, 255, 0, 0.145985401459854)\",\"width\":5},\"mode\":\"lines\",\"x\":[-4.034807729886869,-3.3493638169201176],\"y\":[0.7496369000366299,0.21905836794378142],\"z\":[3.9009585250725194,3.4023072807553842],\"type\":\"scatter3d\"},{\"line\":{\"color\":\"rgba(0, 0, 255, 0.145985401459854)\",\"width\":5},\"mode\":\"lines\",\"x\":[-4.034807729886869,-3.401849320427115],\"y\":[0.7496369000366299,0.8453224834584039],\"z\":[3.9009585250725194,4.66920843299273],\"type\":\"scatter3d\"},{\"line\":{\"color\":\"rgba(255, 0, 0, 0.15098490150984903)\",\"width\":5},\"mode\":\"lines\",\"x\":[-4.072931681601452,-5.0169234977328365],\"y\":[1.4896824718207313,1.7552269038245891],\"z\":[3.6990654574062805,3.8949368583527053],\"type\":\"scatter3d\"},{\"line\":{\"color\":\"rgba(0, 255, 0, 0.15098490150984903)\",\"width\":5},\"mode\":\"lines\",\"x\":[-4.072931681601452,-3.9488232754824555],\"y\":[1.4896824718207313,2.325433104768245],\"z\":[3.6990654574062805,3.1641654825900263],\"type\":\"scatter3d\"},{\"line\":{\"color\":\"rgba(0, 0, 255, 0.15098490150984903)\",\"width\":5},\"mode\":\"lines\",\"x\":[-4.072931681601452,-4.3786710389102],\"y\":[1.4896824718207313,1.009050560521056],\"z\":[3.6990654574062805,2.877167403367424],\"type\":\"scatter3d\"},{\"line\":{\"color\":\"rgba(255, 0, 0, 0.15598440155984403)\",\"width\":5},\"mode\":\"lines\",\"x\":[-3.518566411515646,-2.553171343838662],\"y\":[3.146041878508751,3.3969666579261304],\"z\":[4.134960836329628,4.063903687644332],\"type\":\"scatter3d\"},{\"line\":{\"color\":\"rgba(0, 255, 0, 0.15598440155984403)\",\"width\":5},\"mode\":\"lines\",\"x\":[-3.518566411515646,-3.4416105416058276],\"y\":[3.146041878508751,3.13228023497238],\"z\":[4.134960836329628,5.131900358694754],\"type\":\"scatter3d\"},{\"line\":{\"color\":\"rgba(0, 0, 255, 0.15598440155984403)\",\"width\":5},\"mode\":\"lines\",\"x\":[-3.518566411515646,-3.269387444924626],\"y\":[3.146041878508751,2.17813311615482],\"z\":[4.134960836329628,4.102365278854489],\"type\":\"scatter3d\"},{\"line\":{\"color\":\"rgba(255, 0, 0, 0.16098390160983903)\",\"width\":5},\"mode\":\"lines\",\"x\":[-3.1527276378574807,-2.896736199278687],\"y\":[2.497309122070733,2.070282334359091],\"z\":[3.8243606530089744,4.691607161189339],\"type\":\"scatter3d\"},{\"line\":{\"color\":\"rgba(0, 255, 0, 0.16098390160983903)\",\"width\":5},\"mode\":\"lines\",\"x\":[-3.1527276378574807,-4.1156822189968745],\"y\":[2.497309122070733,2.3059846280200187],\"z\":[3.8243606530089744,4.014395946149189],\"type\":\"scatter3d\"},{\"line\":{\"color\":\"rgba(0, 0, 255, 0.16098390160983903)\",\"width\":5},\"mode\":\"lines\",\"x\":[-3.1527276378574807,-3.0679522992441273],\"y\":[2.497309122070733,1.613542715969598],\"z\":[3.8243606530089744,3.3641758190454016],\"type\":\"scatter3d\"},{\"line\":{\"color\":\"rgba(255, 0, 0, 0.16598340165983402)\",\"width\":5},\"mode\":\"lines\",\"x\":[-3.435373009786178,-2.6772366702439556],\"y\":[2.980521965685917,3.0417495046253347],\"z\":[4.117623363842156,4.766838643345758],\"type\":\"scatter3d\"},{\"line\":{\"color\":\"rgba(0, 255, 0, 0.16598340165983402)\",\"width\":5},\"mode\":\"lines\",\"x\":[-3.435373009786178,-4.009078053925031],\"y\":[2.980521965685917,2.569878919592157],\"z\":[4.117623363842156,4.826308633213882],\"type\":\"scatter3d\"},{\"line\":{\"color\":\"rgba(0, 0, 255, 0.16598340165983402)\",\"width\":5},\"mode\":\"lines\",\"x\":[-3.435373009786178,-3.1253862149139584],\"y\":[2.980521965685917,2.070783829093709],\"z\":[4.117623363842156,3.8414264959479123],\"type\":\"scatter3d\"},{\"line\":{\"color\":\"rgba(255, 0, 0, 0.17098290170982902)\",\"width\":5},\"mode\":\"lines\",\"x\":[-3.5488808366770654,-2.9783286817145758],\"y\":[3.0937719010140166,2.464952707222618],\"z\":[4.189954687620193,4.718212825264274],\"type\":\"scatter3d\"},{\"line\":{\"color\":\"rgba(0, 255, 0, 0.17098290170982902)\",\"width\":5},\"mode\":\"lines\",\"x\":[-3.5488808366770654,-4.1353362438587355],\"y\":[3.0937719010140166,2.33152247163233],\"z\":[4.189954687620193,3.916009688040578],\"type\":\"scatter3d\"},{\"line\":{\"color\":\"rgba(0, 0, 255, 0.17098290170982902)\",\"width\":5},\"mode\":\"lines\",\"x\":[-3.5488808366770654,-2.9739544989127964],\"y\":[3.0937719010140166,2.9402719696562696],\"z\":[4.189954687620193,3.3862772167289545],\"type\":\"scatter3d\"},{\"line\":{\"color\":\"rgba(255, 0, 0, 0.17598240175982402)\",\"width\":5},\"mode\":\"lines\",\"x\":[-3.897706274266115,-4.114146052659077],\"y\":[3.0556067337502686,3.0909052029129254],\"z\":[4.134955514107309,3.159297869026832],\"type\":\"scatter3d\"},{\"line\":{\"color\":\"rgba(0, 255, 0, 0.17598240175982402)\",\"width\":5},\"mode\":\"lines\",\"x\":[-3.897706274266115,-3.1168092812245525],\"y\":[3.0556067337502686,2.4620675674492247],\"z\":[4.134955514107309,3.9402476705947547],\"type\":\"scatter3d\"},{\"line\":{\"color\":\"rgba(0, 0, 255, 0.17598240175982402)\",\"width\":5},\"mode\":\"lines\",\"x\":[-3.897706274266115,-4.483670188332371],\"y\":[3.0556067337502686,2.251576089967683],\"z\":[4.134955514107309,4.23585653130096],\"type\":\"scatter3d\"},{\"line\":{\"color\":\"rgba(255, 0, 0, 0.18098190180981902)\",\"width\":5},\"mode\":\"lines\",\"x\":[-3.3574957601697197,-4.265952484032095],\"y\":[3.4606911396629894,3.7988578571829943],\"z\":[4.766907302574086,4.521245640870467],\"type\":\"scatter3d\"},{\"line\":{\"color\":\"rgba(0, 255, 0, 0.18098190180981902)\",\"width\":5},\"mode\":\"lines\",\"x\":[-3.3574957601697197,-2.945760104835369],\"y\":[3.4606911396629894,4.285905864060516],\"z\":[4.766907302574086,4.380262234373409],\"type\":\"scatter3d\"},{\"line\":{\"color\":\"rgba(0, 0, 255, 0.18098190180981902)\",\"width\":5},\"mode\":\"lines\",\"x\":[-3.3574957601697197,-3.285522633270649],\"y\":[3.4606911396629894,3.008293162435789],\"z\":[4.766907302574086,3.878000142514546],\"type\":\"scatter3d\"},{\"line\":{\"color\":\"rgba(255, 0, 0, 0.18598140185981402)\",\"width\":5},\"mode\":\"lines\",\"x\":[-3.871233966470014,-3.7150014327402383],\"y\":[3.8803813952084316,3.4579084904270534],\"z\":[4.58288512676684,3.690076054159506],\"type\":\"scatter3d\"},{\"line\":{\"color\":\"rgba(0, 255, 0, 0.18598140185981402)\",\"width\":5},\"mode\":\"lines\",\"x\":[-3.871233966470014,-4.229793611172232],\"y\":[3.8803813952084316,4.69836918296261],\"z\":[4.58288512676684,4.133072987895463],\"type\":\"scatter3d\"},{\"line\":{\"color\":\"rgba(0, 0, 255, 0.18598140185981402)\",\"width\":5},\"mode\":\"lines\",\"x\":[-3.871233966470014,-2.950893607366172],\"y\":[3.8803813952084316,4.270781989227718],\"z\":[4.58288512676684,4.559199696772963],\"type\":\"scatter3d\"},{\"line\":{\"color\":\"rgba(255, 0, 0, 0.19098090190980901)\",\"width\":5},\"mode\":\"lines\",\"x\":[-3.5306805354638806,-3.9374551242665103],\"y\":[4.351866345343536,5.129235276155116],\"z\":[4.273656397780552,3.7938314512497238],\"type\":\"scatter3d\"},{\"line\":{\"color\":\"rgba(0, 255, 0, 0.19098090190980901)\",\"width\":5},\"mode\":\"lines\",\"x\":[-3.5306805354638806,-4.084370603366127],\"y\":[4.351866345343536,3.7242948773033335],\"z\":[4.273656397780552,3.7263161368748934],\"type\":\"scatter3d\"},{\"line\":{\"color\":\"rgba(0, 0, 255, 0.19098090190980901)\",\"width\":5},\"mode\":\"lines\",\"x\":[-3.5306805354638806,-4.257290294970905],\"y\":[4.351866345343536,4.394896543004363],\"z\":[4.273656397780552,4.959357979723031],\"type\":\"scatter3d\"},{\"line\":{\"color\":\"rgba(255, 0, 0, 0.195980401959804)\",\"width\":5},\"mode\":\"lines\",\"x\":[-4.080341182526047,-4.85964516664838],\"y\":[4.271315809926777,3.7806303403723738],\"z\":[4.0357872486350646,4.4255475214942095],\"type\":\"scatter3d\"},{\"line\":{\"color\":\"rgba(0, 255, 0, 0.195980401959804)\",\"width\":5},\"mode\":\"lines\",\"x\":[-4.080341182526047,-4.360991997026077],\"y\":[4.271315809926777,3.988498286281561],\"z\":[4.0357872486350646,3.1185907764222325],\"type\":\"scatter3d\"},{\"line\":{\"color\":\"rgba(0, 0, 255, 0.195980401959804)\",\"width\":5},\"mode\":\"lines\",\"x\":[-4.080341182526047,-3.5200551656993477],\"y\":[4.271315809926777,3.4471544068706956],\"z\":[4.0357872486350646,4.1184767948976155],\"type\":\"scatter3d\"},{\"line\":{\"color\":\"rgba(255, 0, 0, 0.200979902009799)\",\"width\":5},\"mode\":\"lines\",\"x\":[-5.34901495472901,-6.158776818619202],\"y\":[4.2297472559197145,4.791045593070385],\"z\":[3.374724447994211,3.5456919902382817],\"type\":\"scatter3d\"},{\"line\":{\"color\":\"rgba(0, 255, 0, 0.200979902009799)\",\"width\":5},\"mode\":\"lines\",\"x\":[-5.34901495472901,-5.902790690573983],\"y\":[4.2297472559197145,3.59498032395547],\"z\":[3.374724447994211,2.83583357177337],\"type\":\"scatter3d\"},{\"line\":{\"color\":\"rgba(0, 0, 255, 0.200979902009799)\",\"width\":5},\"mode\":\"lines\",\"x\":[-5.34901495472901,-5.542968965201699],\"y\":[4.2297472559197145,3.698696299045895],\"z\":[3.374724447994211,4.199567901641607],\"type\":\"scatter3d\"},{\"line\":{\"color\":\"rgba(255, 0, 0, 0.205979402059794)\",\"width\":5},\"mode\":\"lines\",\"x\":[-5.894361987776572,-6.783938139084696],\"y\":[4.1714448914794025,4.367696047219981],\"z\":[3.2104354959496293,3.62291550139755],\"type\":\"scatter3d\"},{\"line\":{\"color\":\"rgba(0, 255, 0, 0.205979402059794)\",\"width\":5},\"mode\":\"lines\",\"x\":[-5.894361987776572,-6.2766991234554785],\"y\":[4.1714448914794025,3.357438389338217],\"z\":[3.2104354959496293,2.773157861999834],\"type\":\"scatter3d\"},{\"line\":{\"color\":\"rgba(0, 0, 255, 0.205979402059794)\",\"width\":5},\"mode\":\"lines\",\"x\":[-5.894361987776572,-5.644416822380888],\"y\":[4.1714448914794025,3.624746713009447],\"z\":[3.2104354959496293,4.009590372023697],\"type\":\"scatter3d\"},{\"line\":{\"color\":\"rgba(255, 0, 0, 0.21097890210978903)\",\"width\":5},\"mode\":\"lines\",\"x\":[-6.006311220015887,-5.91226384964414],\"y\":[4.212201393070268,5.11382245696244],\"z\":[3.099081375884453,3.521259714116199],\"type\":\"scatter3d\"},{\"line\":{\"color\":\"rgba(0, 255, 0, 0.21097890210978903)\",\"width\":5},\"mode\":\"lines\",\"x\":[-6.006311220015887,-5.9866311180807985],\"y\":[4.212201393070268,3.7865427062590826],\"z\":[3.099081375884453,4.003751136587222],\"type\":\"scatter3d\"},{\"line\":{\"color\":\"rgba(0, 0, 255, 0.21097890210978903)\",\"width\":5},\"mode\":\"lines\",\"x\":[-6.006311220015887,-5.010938030848132],\"y\":[4.212201393070268,4.135428093752521],\"z\":[3.099081375884453,3.041305301269748],\"type\":\"scatter3d\"},{\"line\":{\"color\":\"rgba(255, 0, 0, 0.21597840215978403)\",\"width\":5},\"mode\":\"lines\",\"x\":[-6.293034752652708,-5.743749674589374],\"y\":[4.482336903018516,4.722602766015343],\"z\":[3.8059172816976914,3.0055684714309727],\"type\":\"scatter3d\"},{\"line\":{\"color\":\"rgba(0, 255, 0, 0.21597840215978403)\",\"width\":5},\"mode\":\"lines\",\"x\":[-6.293034752652708,-6.680237756624574],\"y\":[4.482336903018516,5.404265480902596],\"z\":[3.8059172816976914,3.816941391449008],\"type\":\"scatter3d\"},{\"line\":{\"color\":\"rgba(0, 0, 255, 0.21597840215978403)\",\"width\":5},\"mode\":\"lines\",\"x\":[-6.293034752652708,-5.5525215949491304],\"y\":[4.482336903018516,4.786178987593771],\"z\":[3.8059172816976914,4.405350556473831],\"type\":\"scatter3d\"},{\"line\":{\"color\":\"rgba(255, 0, 0, 0.22097790220977903)\",\"width\":5},\"mode\":\"lines\",\"x\":[-6.379802927013498,-5.677529707544267],\"y\":[4.73905199055484,4.131184367622598],\"z\":[3.521760220399701,3.1512075544977596],\"type\":\"scatter3d\"},{\"line\":{\"color\":\"rgba(0, 255, 0, 0.22097790220977903)\",\"width\":5},\"mode\":\"lines\",\"x\":[-6.379802927013498,-5.708980015403334],\"y\":[4.73905199055484,5.129822236373447],\"z\":[3.521760220399701,4.152073821904329],\"type\":\"scatter3d\"},{\"line\":{\"color\":\"rgba(0, 0, 255, 0.22097790220977903)\",\"width\":5},\"mode\":\"lines\",\"x\":[-6.379802927013498,-6.618149201318734],\"y\":[4.73905199055484,4.0478244101056955],\"z\":[3.521760220399701,4.203959227692468],\"type\":\"scatter3d\"},{\"line\":{\"color\":\"rgba(255, 0, 0, 0.22597740225977403)\",\"width\":5},\"mode\":\"lines\",\"x\":[-5.256315211672199,-4.4656791601084525],\"y\":[3.7267740885033493,4.263972460023152],\"z\":[3.747876151116348,4.041666116234575],\"type\":\"scatter3d\"},{\"line\":{\"color\":\"rgba(0, 255, 0, 0.22597740225977403)\",\"width\":5},\"mode\":\"lines\",\"x\":[-5.256315211672199,-4.729710651345366],\"y\":[3.7267740885033493,3.374970361801647],\"z\":[3.747876151116348,2.973975786132722],\"type\":\"scatter3d\"},{\"line\":{\"color\":\"rgba(0, 0, 255, 0.22597740225977403)\",\"width\":5},\"mode\":\"lines\",\"x\":[-5.256315211672199,-5.568696822863826],\"y\":[3.7267740885033493,4.49335875278726],\"z\":[3.747876151116348,3.186836329469034],\"type\":\"scatter3d\"},{\"line\":{\"color\":\"rgba(255, 0, 0, 0.23097690230976903)\",\"width\":5},\"mode\":\"lines\",\"x\":[-5.484697999738686,-4.8248188728934265],\"y\":[3.631521691298679,3.080406793940539],\"z\":[4.557603293178213,4.046886240531764],\"type\":\"scatter3d\"},{\"line\":{\"color\":\"rgba(0, 255, 0, 0.23097690230976903)\",\"width\":5},\"mode\":\"lines\",\"x\":[-5.484697999738686,-6.171585606403176],\"y\":[3.631521691298679,2.913556783912559],\"z\":[4.557603293178213,4.444856641020481],\"type\":\"scatter3d\"},{\"line\":{\"color\":\"rgba(0, 0, 255, 0.23097690230976903)\",\"width\":5},\"mode\":\"lines\",\"x\":[-5.484697999738686,-5.789238561511121],\"y\":[3.631521691298679,4.056726067654305],\"z\":[4.557603293178213,3.705279244143248],\"type\":\"scatter3d\"},{\"line\":{\"color\":\"rgba(255, 0, 0, 0.23597640235976403)\",\"width\":5},\"mode\":\"lines\",\"x\":[-5.625741233800961,-4.9256875010276],\"y\":[4.182306471668687,4.407463671922072],\"z\":[4.7215440885378746,5.399208464467543],\"type\":\"scatter3d\"},{\"line\":{\"color\":\"rgba(0, 255, 0, 0.23597640235976403)\",\"width\":5},\"mode\":\"lines\",\"x\":[-5.625741233800961,-4.938068980336399],\"y\":[4.182306471668687,4.22547892157432],\"z\":[4.7215440885378746,3.9968075768426767],\"type\":\"scatter3d\"},{\"line\":{\"color\":\"rgba(0, 0, 255, 0.23597640235976403)\",\"width\":5},\"mode\":\"lines\",\"x\":[-5.625741233800961,-5.818177309018311],\"y\":[4.182306471668687,5.155671960446265],\"z\":[4.7215440885378746,4.596932763965275],\"type\":\"scatter3d\"},{\"line\":{\"color\":\"rgba(255, 0, 0, 0.24097590240975902)\",\"width\":5},\"mode\":\"lines\",\"x\":[-5.187830756662954,-4.98229399804583],\"y\":[4.477473989632741,5.361593445831845],\"z\":[4.6032656506103065,5.022893376133038],\"type\":\"scatter3d\"},{\"line\":{\"color\":\"rgba(0, 255, 0, 0.24097590240975902)\",\"width\":5},\"mode\":\"lines\",\"x\":[-5.187830756662954,-4.209654559187213],\"y\":[4.477473989632741,4.305212652997946],\"z\":[4.6032656506103065,4.487087517587341],\"type\":\"scatter3d\"},{\"line\":{\"color\":\"rgba(0, 0, 255, 0.24097590240975902)\",\"width\":5},\"mode\":\"lines\",\"x\":[-5.187830756662954,-5.2182604715658805],\"y\":[4.477473989632741,4.911822719423682],\"z\":[4.6032656506103065,3.703035006064184],\"type\":\"scatter3d\"},{\"line\":{\"color\":\"rgba(255, 0, 0, 0.24597540245975402)\",\"width\":5},\"mode\":\"lines\",\"x\":[-4.843448553247477,-4.087996898089612],\"y\":[4.8382434212780945,4.853261042479902],\"z\":[4.546349459664727,3.8913171949840537],\"type\":\"scatter3d\"},{\"line\":{\"color\":\"rgba(0, 255, 0, 0.24597540245975402)\",\"width\":5},\"mode\":\"lines\",\"x\":[-4.843448553247477,-4.953614379145603],\"y\":[4.8382434212780945,5.826659035421119],\"z\":[4.546349459664727,4.441955664243441],\"type\":\"scatter3d\"},{\"line\":{\"color\":\"rgba(0, 0, 255, 0.24597540245975402)\",\"width\":5},\"mode\":\"lines\",\"x\":[-4.843448553247477,-4.197572181545095],\"y\":[4.8382434212780945,4.989270057245788],\"z\":[4.546349459664727,5.294704099995672],\"type\":\"scatter3d\"},{\"line\":{\"color\":\"rgba(255, 0, 0, 0.250974902509749)\",\"width\":5},\"mode\":\"lines\",\"x\":[-4.499819310084864,-3.9284278882803156],\"y\":[5.199098665269489,5.5957902489437],\"z\":[4.479667611496035,5.198101763336156],\"type\":\"scatter3d\"},{\"line\":{\"color\":\"rgba(0, 255, 0, 0.250974902509749)\",\"width\":5},\"mode\":\"lines\",\"x\":[-4.499819310084864,-3.7271064178401403],\"y\":[5.199098665269489,5.23393975199985],\"z\":[4.479667611496035,3.845868838355655],\"type\":\"scatter3d\"},{\"line\":{\"color\":\"rgba(0, 0, 255, 0.250974902509749)\",\"width\":5},\"mode\":\"lines\",\"x\":[-4.499819310084864,-4.776272975727006],\"y\":[5.199098665269489,6.116389178747908],\"z\":[4.479667611496035,4.19304680863008],\"type\":\"scatter3d\"},{\"line\":{\"color\":\"rgba(255, 0, 0, 0.255974402559744)\",\"width\":5},\"mode\":\"lines\",\"x\":[-4.112083210183448,-4.129368736615124],\"y\":[5.543577581091268,6.381704425287634],\"z\":[4.483113156023698,3.9379117220440882],\"type\":\"scatter3d\"},{\"line\":{\"color\":\"rgba(0, 255, 0, 0.255974402559744)\",\"width\":5},\"mode\":\"lines\",\"x\":[-4.112083210183448,-3.667891831244401],\"y\":[5.543577581091268,6.038533127108671],\"z\":[4.483113156023698,5.22991502154283],\"type\":\"scatter3d\"},{\"line\":{\"color\":\"rgba(0, 0, 255, 0.255974402559744)\",\"width\":5},\"mode\":\"lines\",\"x\":[-4.112083210183448,-3.2163180459510947],\"y\":[5.543577581091268,5.314312667717974],\"z\":[4.483113156023698,4.102268870201092],\"type\":\"scatter3d\"},{\"line\":{\"color\":\"rgba(255, 0, 0, 0.260973902609739)\",\"width\":5},\"mode\":\"lines\",\"x\":[-3.7966337043543885,-3.13225227800955],\"y\":[5.955698391139378,6.217470156968368],\"z\":[4.460998016912809,3.760945973888308],\"type\":\"scatter3d\"},{\"line\":{\"color\":\"rgba(0, 255, 0, 0.260973902609739)\",\"width\":5},\"mode\":\"lines\",\"x\":[-3.7966337043543885,-3.9941596097207155],\"y\":[5.955698391139378,6.920551174996377],\"z\":[4.460998016912809,4.634326093670791],\"type\":\"scatter3d\"},{\"line\":{\"color\":\"rgba(0, 0, 255, 0.260973902609739)\",\"width\":5},\"mode\":\"lines\",\"x\":[-3.7966337043543885,-3.075814145076745],\"y\":[5.955698391139378,5.978820849879269],\"z\":[4.460998016912809,5.153734990709222],\"type\":\"scatter3d\"},{\"line\":{\"color\":\"rgba(255, 0, 0, 0.265973402659734)\",\"width\":5},\"mode\":\"lines\",\"x\":[-3.48828887451755,-3.4600569687972813],\"y\":[6.3411976803099375,7.081427940342767],\"z\":[4.450546748810103,3.7787862843355007],\"type\":\"scatter3d\"},{\"line\":{\"color\":\"rgba(0, 255, 0, 0.265973402659734)\",\"width\":5},\"mode\":\"lines\",\"x\":[-3.48828887451755,-3.1809584716957673],\"y\":[6.3411976803099375,6.974247420729684],\"z\":[4.450546748810103,5.1610367555349725],\"type\":\"scatter3d\"},{\"line\":{\"color\":\"rgba(0, 0, 255, 0.265973402659734)\",\"width\":5},\"mode\":\"lines\",\"x\":[-3.48828887451755,-2.5371048844289836],\"y\":[6.3411976803099375,6.11468677927816],\"z\":[4.450546748810103,4.240923685401108],\"type\":\"scatter3d\"},{\"line\":{\"color\":\"rgba(255, 0, 0, 0.270972902709729)\",\"width\":5},\"mode\":\"lines\",\"x\":[-3.4504486235521497,-3.1936730815487224],\"y\":[8.23974310916011,8.222660064983677],\"z\":[5.41707663494761,4.4507565582491475],\"type\":\"scatter3d\"},{\"line\":{\"color\":\"rgba(0, 255, 0, 0.270972902709729)\",\"width\":5},\"mode\":\"lines\",\"x\":[-3.4504486235521497,-3.5822835602322107],\"y\":[8.23974310916011,7.24862609594039],\"z\":[5.41707663494761,5.3995661930058665],\"type\":\"scatter3d\"},{\"line\":{\"color\":\"rgba(0, 0, 255, 0.270972902709729)\",\"width\":5},\"mode\":\"lines\",\"x\":[-3.4504486235521497,-4.407885760130533],\"y\":[8.23974310916011,8.371634108504631],\"z\":[5.41707663494761,5.160329884641999],\"type\":\"scatter3d\"},{\"line\":{\"color\":\"rgba(255, 0, 0, 0.275972402759724)\",\"width\":5},\"mode\":\"lines\",\"x\":[-3.20497443537167,-3.8534362758231784],\"y\":[7.654157380583221,7.541453357655352],\"z\":[4.848714092748026,5.601572010747248],\"type\":\"scatter3d\"},{\"line\":{\"color\":\"rgba(0, 255, 0, 0.275972402759724)\",\"width\":5},\"mode\":\"lines\",\"x\":[-3.20497443537167,-3.0601992282001236],\"y\":[7.654157380583221,8.60682848203378],\"z\":[4.848714092748026,5.116030219925989],\"type\":\"scatter3d\"},{\"line\":{\"color\":\"rgba(0, 0, 255, 0.275972402759724)\",\"width\":5},\"mode\":\"lines\",\"x\":[-3.20497443537167,-3.952328020274212],\"y\":[7.654157380583221,7.936496849444484],\"z\":[4.848714092748026,4.247259985224883],\"type\":\"scatter3d\"},{\"line\":{\"color\":\"rgba(255, 0, 0, 0.280971902809719)\",\"width\":5},\"mode\":\"lines\",\"x\":[-3.4875033068950696,-4.2417586814556625],\"y\":[8.1350108236873,7.969339006030344],\"z\":[5.546036923393602,6.181372802107143],\"type\":\"scatter3d\"},{\"line\":{\"color\":\"rgba(0, 255, 0, 0.280971902809719)\",\"width\":5},\"mode\":\"lines\",\"x\":[-3.4875033068950696,-3.8084872160984067],\"y\":[8.1350108236873,9.07218016049713],\"z\":[5.546036923393602,5.409351283416408],\"type\":\"scatter3d\"},{\"line\":{\"color\":\"rgba(0, 0, 255, 0.280971902809719)\",\"width\":5},\"mode\":\"lines\",\"x\":[-3.4875033068950696,-4.060275652577897],\"y\":[8.1350108236873,7.8279823511026345],\"z\":[5.546036923393602,4.78599392655505],\"type\":\"scatter3d\"},{\"line\":{\"color\":\"rgba(255, 0, 0, 0.285971402859714)\",\"width\":5},\"mode\":\"lines\",\"x\":[-4.231728509897671,-3.353899140721877],\"y\":[7.482877844237185,7.189070992662071],\"z\":[4.38797217120957,4.009695641961514],\"type\":\"scatter3d\"},{\"line\":{\"color\":\"rgba(0, 255, 0, 0.285971402859714)\",\"width\":5},\"mode\":\"lines\",\"x\":[-4.231728509897671,-3.9168528530680646],\"y\":[7.482877844237185,8.431988709715531],\"z\":[4.38797217120957,4.381500249773573],\"type\":\"scatter3d\"},{\"line\":{\"color\":\"rgba(0, 0, 255, 0.285971402859714)\",\"width\":5},\"mode\":\"lines\",\"x\":[-4.231728509897671,-3.8708006509721558],\"y\":[7.482877844237185,7.369449016338502],\"z\":[4.38797217120957,5.313642188901069],\"type\":\"scatter3d\"},{\"line\":{\"color\":\"rgba(255, 0, 0, 0.290970902909709)\",\"width\":5},\"mode\":\"lines\",\"x\":[-4.376010098689828,-4.642208055287567],\"y\":[6.892269481289072,5.928524560663291],\"z\":[4.15516942011092,4.1734553674804005],\"type\":\"scatter3d\"},{\"line\":{\"color\":\"rgba(0, 255, 0, 0.290970902909709)\",\"width\":5},\"mode\":\"lines\",\"x\":[-4.376010098689828,-3.994894437711835],\"y\":[6.892269481289072,6.769613966465612],\"z\":[4.15516942011092,3.2388144246857244],\"type\":\"scatter3d\"},{\"line\":{\"color\":\"rgba(0, 0, 255, 0.290970902909709)\",\"width\":5},\"mode\":\"lines\",\"x\":[-4.376010098689828,-3.4906347540701006],\"y\":[6.892269481289072,6.655306714907085],\"z\":[4.15516942011092,4.555118349960843],\"type\":\"scatter3d\"},{\"line\":{\"color\":\"rgba(255, 0, 0, 0.295970402959704)\",\"width\":5},\"mode\":\"lines\",\"x\":[-4.987689229687751,-4.61811322177382],\"y\":[6.55979180587609,6.432368509571138],\"z\":[3.6597062109903624,4.580128330418828],\"type\":\"scatter3d\"},{\"line\":{\"color\":\"rgba(0, 255, 0, 0.295970402959704)\",\"width\":5},\"mode\":\"lines\",\"x\":[-4.987689229687751,-4.068105159574782],\"y\":[6.55979180587609,6.75208872875837],\"z\":[3.6597062109903624,3.3170883021699433],\"type\":\"scatter3d\"},{\"line\":{\"color\":\"rgba(0, 0, 255, 0.295970402959704)\",\"width\":5},\"mode\":\"lines\",\"x\":[-4.987689229687751,-5.121026067691626],\"y\":[6.55979180587609,7.532820683663791],\"z\":[3.6597062109903624,3.847950973526655],\"type\":\"scatter3d\"},{\"line\":{\"color\":\"rgba(255, 0, 0, 0.300969903009699)\",\"width\":5},\"mode\":\"lines\",\"x\":[-4.526056117486296,-4.340726186237079],\"y\":[6.600606408488348,6.806164275531936],\"z\":[5.130518846919162,4.16958243909622],\"type\":\"scatter3d\"},{\"line\":{\"color\":\"rgba(0, 255, 0, 0.300969903009699)\",\"width\":5},\"mode\":\"lines\",\"x\":[-4.526056117486296,-4.614783048904035],\"y\":[6.600606408488348,7.577989359756949],\"z\":[5.130518846919162,5.3224826409290715],\"type\":\"scatter3d\"},{\"line\":{\"color\":\"rgba(0, 0, 255, 0.300969903009699)\",\"width\":5},\"mode\":\"lines\",\"x\":[-4.526056117486296,-3.547393587180595],\"y\":[6.600606408488348,6.650290710495866],\"z\":[5.130518846919162,5.329895680853478],\"type\":\"scatter3d\"},{\"line\":{\"color\":\"rgba(255, 0, 0, 0.30596940305969406)\",\"width\":5},\"mode\":\"lines\",\"x\":[-3.153869097649019,-2.6551852255006545],\"y\":[7.463856489165754,7.13849136059161],\"z\":[5.675479209646701,4.872078980142713],\"type\":\"scatter3d\"},{\"line\":{\"color\":\"rgba(0, 255, 0, 0.30596940305969406)\",\"width\":5},\"mode\":\"lines\",\"x\":[-3.153869097649019,-2.8632830804180385],\"y\":[7.463856489165754,6.653374516879258],\"z\":[5.675479209646701,6.184083908001356],\"type\":\"scatter3d\"},{\"line\":{\"color\":\"rgba(0, 0, 255, 0.30596940305969406)\",\"width\":5},\"mode\":\"lines\",\"x\":[-3.153869097649019,-3.9704927332664033],\"y\":[7.463856489165754,6.976766655863387],\"z\":[5.675479209646701,5.365851478258634],\"type\":\"scatter3d\"},{\"line\":{\"color\":\"rgba(255, 0, 0, 0.31096890310968905)\",\"width\":5},\"mode\":\"lines\",\"x\":[-2.8061756390503763,-2.7945519896362407],\"y\":[7.152059006102999,6.15340084489174],\"z\":[5.609403084668709,5.659868595866449],\"type\":\"scatter3d\"},{\"line\":{\"color\":\"rgba(0, 255, 0, 0.31096890310968905)\",\"width\":5},\"mode\":\"lines\",\"x\":[-2.8061756390503763,-1.8143175735748236],\"y\":[7.152059006102999,7.1699748353111845],\"z\":[5.609403084668709,5.735484808224833],\"type\":\"scatter3d\"},{\"line\":{\"color\":\"rgba(0, 0, 255, 0.31096890310968905)\",\"width\":5},\"mode\":\"lines\",\"x\":[-2.8061756390503763,-2.9329923127388065],\"y\":[7.152059006102999,7.200648100660684],\"z\":[5.609403084668709,6.600138483836761],\"type\":\"scatter3d\"},{\"line\":{\"color\":\"rgba(255, 0, 0, 0.31596840315968405)\",\"width\":5},\"mode\":\"lines\",\"x\":[-2.449988452249531,-1.5682396565574659],\"y\":[6.915562493418793,6.797738263145054],\"z\":[5.5219370762842805,5.978704535781999],\"type\":\"scatter3d\"},{\"line\":{\"color\":\"rgba(0, 255, 0, 0.31596840315968405)\",\"width\":5},\"mode\":\"lines\",\"x\":[-2.449988452249531,-2.030538106465968],\"y\":[6.915562493418793,6.668371962663636],\"z\":[5.5219370762842805,4.648462263294776],\"type\":\"scatter3d\"},{\"line\":{\"color\":\"rgba(0, 0, 255, 0.31596840315968405)\",\"width\":5},\"mode\":\"lines\",\"x\":[-2.449988452249531,-2.2341633640006218],\"y\":[6.915562493418793,7.87733912666863],\"z\":[5.5219370762842805,5.353398537614447],\"type\":\"scatter3d\"},{\"line\":{\"color\":\"rgba(255, 0, 0, 0.32096790320967905)\",\"width\":5},\"mode\":\"lines\",\"x\":[-3.582662666511242,-4.519003327695319],\"y\":[5.42172832608937,5.120766518615099],\"z\":[6.561956699141147,6.742755362452553],\"type\":\"scatter3d\"},{\"line\":{\"color\":\"rgba(0, 255, 0, 0.32096790320967905)\",\"width\":5},\"mode\":\"lines\",\"x\":[-3.582662666511242,-3.919175421076722],\"y\":[5.42172832608937,6.044181991581138],\"z\":[6.561956699141147,5.855337565285701],\"type\":\"scatter3d\"},{\"line\":{\"color\":\"rgba(0, 0, 255, 0.32096790320967905)\",\"width\":5},\"mode\":\"lines\",\"x\":[-3.582662666511242,-3.482536085484397],\"y\":[5.42172832608937,4.699251042877163],\"z\":[6.561956699141147,5.877850535585956],\"type\":\"scatter3d\"},{\"line\":{\"color\":\"rgba(255, 0, 0, 0.32596740325967405)\",\"width\":5},\"mode\":\"lines\",\"x\":[-3.3734971789368093,-2.5727898489655354],\"y\":[4.520807744883857,5.113825056409279],\"z\":[6.586073941414526,6.670916383396351],\"type\":\"scatter3d\"},{\"line\":{\"color\":\"rgba(0, 255, 0, 0.32596740325967405)\",\"width\":5},\"mode\":\"lines\",\"x\":[-3.3734971789368093,-3.7483071814912474],\"y\":[4.520807744883857,4.906253203796056],\"z\":[6.586073941414526,7.429252012873411],\"type\":\"scatter3d\"},{\"line\":{\"color\":\"rgba(0, 0, 255, 0.32596740325967405)\",\"width\":5},\"mode\":\"lines\",\"x\":[-3.3734971789368093,-2.90618011984799],\"y\":[4.520807744883857,3.813869086699759],\"z\":[6.586073941414526,7.116971765717327],\"type\":\"scatter3d\"},{\"line\":{\"color\":\"rgba(255, 0, 0, 0.33096690330966905)\",\"width\":5},\"mode\":\"lines\",\"x\":[-3.410636385567128,-3.6283926546237715],\"y\":[4.48784177400594,4.350582251721288],\"z\":[6.525813863481519,5.559510582503579],\"type\":\"scatter3d\"},{\"line\":{\"color\":\"rgba(0, 255, 0, 0.33096690330966905)\",\"width\":5},\"mode\":\"lines\",\"x\":[-3.410636385567128,-3.4546415525468914],\"y\":[4.48784177400594,5.478277298825569],\"z\":[6.525813863481519,6.395043008722679],\"type\":\"scatter3d\"},{\"line\":{\"color\":\"rgba(0, 0, 255, 0.33096690330966905)\",\"width\":5},\"mode\":\"lines\",\"x\":[-3.410636385567128,-2.435625743283865],\"y\":[4.48784177400594,4.50188793780483],\"z\":[6.525813863481519,6.304100190657937],\"type\":\"scatter3d\"},{\"line\":{\"color\":\"rgba(255, 0, 0, 0.33596640335966405)\",\"width\":5},\"mode\":\"lines\",\"x\":[-3.4350794367424986,-2.546543604175862],\"y\":[4.690639635141818,4.294794367505377],\"z\":[6.276002683824026,6.507973799127107],\"type\":\"scatter3d\"},{\"line\":{\"color\":\"rgba(0, 255, 0, 0.33596640335966405)\",\"width\":5},\"mode\":\"lines\",\"x\":[-3.4350794367424986,-3.65525225605802],\"y\":[4.690639635141818,4.766338231292141],\"z\":[6.276002683824026,7.248521913544209],\"type\":\"scatter3d\"},{\"line\":{\"color\":\"rgba(0, 0, 255, 0.33596640335966405)\",\"width\":5},\"mode\":\"lines\",\"x\":[-3.4350794367424986,-3.8376064592885317],\"y\":[4.690639635141818,3.775447717219289],\"z\":[6.276002683824026,6.256109230390352],\"type\":\"scatter3d\"},{\"line\":{\"color\":\"rgba(255, 0, 0, 0.34096590340965904)\",\"width\":5},\"mode\":\"lines\",\"x\":[-2.63671832664299,-2.044803552706435],\"y\":[3.8947118676265626,4.145765939048719],\"z\":[7.332017899464786,8.097921779607724],\"type\":\"scatter3d\"},{\"line\":{\"color\":\"rgba(0, 255, 0, 0.34096590340965904)\",\"width\":5},\"mode\":\"lines\",\"x\":[-2.63671832664299,-2.1258864955131584],\"y\":[3.8947118676265626,3.0428323157664243],\"z\":[7.332017899464786,7.216466744441873],\"type\":\"scatter3d\"},{\"line\":{\"color\":\"rgba(0, 0, 255, 0.34096590340965904)\",\"width\":5},\"mode\":\"lines\",\"x\":[-2.63671832664299,-2.013270060384924],\"y\":[3.8947118676265626,4.354356384992911],\"z\":[7.332017899464786,6.699531396087143],\"type\":\"scatter3d\"},{\"line\":{\"color\":\"rgba(255, 0, 0, 0.34596540345965404)\",\"width\":5},\"mode\":\"lines\",\"x\":[-2.6111801878074323,-2.7152623219464127],\"y\":[3.9458224521606007,3.0853473557048723],\"z\":[7.380518194256668,6.881770244153011],\"type\":\"scatter3d\"},{\"line\":{\"color\":\"rgba(0, 255, 0, 0.34596540345965404)\",\"width\":5},\"mode\":\"lines\",\"x\":[-2.6111801878074323,-1.712360390280266],\"y\":[3.9458224521606007,3.649759147105063],\"z\":[7.380518194256668,7.703735599377161],\"type\":\"scatter3d\"},{\"line\":{\"color\":\"rgba(0, 0, 255, 0.34596540345965404)\",\"width\":5},\"mode\":\"lines\",\"x\":[-2.6111801878074323,-3.036961682152018],\"y\":[3.9458224521606007,3.5311790779471535],\"z\":[7.380518194256668,8.184745146860589],\"type\":\"scatter3d\"},{\"line\":{\"color\":\"rgba(255, 0, 0, 0.35096490350964904)\",\"width\":5},\"mode\":\"lines\",\"x\":[-3.552197608787929,-3.6841813903141407],\"y\":[3.8040010065641403,3.2500496996048542],\"z\":[6.615525368863764,5.793504547392581],\"type\":\"scatter3d\"},{\"line\":{\"color\":\"rgba(0, 255, 0, 0.35096490350964904)\",\"width\":5},\"mode\":\"lines\",\"x\":[-3.552197608787929,-3.7446032372527966],\"y\":[3.8040010065641403,4.63182112676361],\"z\":[6.615525368863764,6.0885586500588795],\"type\":\"scatter3d\"},{\"line\":{\"color\":\"rgba(0, 0, 255, 0.35096490350964904)\",\"width\":5},\"mode\":\"lines\",\"x\":[-3.552197608787929,-2.5797983309451853],\"y\":[3.8040010065641403,3.892611379044178],\"z\":[6.615525368863764,6.399683189621919],\"type\":\"scatter3d\"},{\"line\":{\"color\":\"rgba(255, 0, 0, 0.35596440355964404)\",\"width\":5},\"mode\":\"lines\",\"x\":[-3.7376643876367273,-4.425678791735191],\"y\":[3.8502260860812196,3.475935110510735],\"z\":[6.355992082746545,6.977717460513565],\"type\":\"scatter3d\"},{\"line\":{\"color\":\"rgba(0, 255, 0, 0.35596440355964404)\",\"width\":5},\"mode\":\"lines\",\"x\":[-3.7376643876367273,-4.022439235414261],\"y\":[3.8502260860812196,3.201468260905603],\"z\":[6.355992082746545,5.650289191760043],\"type\":\"scatter3d\"},{\"line\":{\"color\":\"rgba(0, 0, 255, 0.35596440355964404)\",\"width\":5},\"mode\":\"lines\",\"x\":[-3.7376643876367273,-3.070176960169865],\"y\":[3.8502260860812196,3.1876405822555487],\"z\":[6.355992082746545,6.695758155646367],\"type\":\"scatter3d\"},{\"line\":{\"color\":\"rgba(255, 0, 0, 0.36096390360963904)\",\"width\":5},\"mode\":\"lines\",\"x\":[-3.562026840416632,-2.941324326106369],\"y\":[3.8208178011368714,4.065760039758721],\"z\":[7.168262124815103,7.913065245423394],\"type\":\"scatter3d\"},{\"line\":{\"color\":\"rgba(0, 255, 0, 0.36096390360963904)\",\"width\":5},\"mode\":\"lines\",\"x\":[-3.562026840416632,-2.7947364000966504],\"y\":[3.8208178011368714,3.826390231877392],\"z\":[7.168262124815103,6.526986577012736],\"type\":\"scatter3d\"},{\"line\":{\"color\":\"rgba(0, 0, 255, 0.36096390360963904)\",\"width\":5},\"mode\":\"lines\",\"x\":[-3.562026840416632,-3.7232526724737105],\"y\":[3.8208178011368714,4.790339460386719],\"z\":[7.168262124815103,6.983779108461448],\"type\":\"scatter3d\"},{\"line\":{\"color\":\"rgba(255, 0, 0, 0.36596340365963403)\",\"width\":5},\"mode\":\"lines\",\"x\":[-2.702178321796787,-2.2920283688613443],\"y\":[2.975766968195179,2.452942884623234],\"z\":[6.7151162277813485,7.462399302488802],\"type\":\"scatter3d\"},{\"line\":{\"color\":\"rgba(0, 255, 0, 0.36596340365963403)\",\"width\":5},\"mode\":\"lines\",\"x\":[-2.702178321796787,-1.8425974895169956],\"y\":[2.975766968195179,3.47120116599582],\"z\":[6.7151162277813485,6.5899533402034915],\"type\":\"scatter3d\"},{\"line\":{\"color\":\"rgba(0, 0, 255, 0.36596340365963403)\",\"width\":5},\"mode\":\"lines\",\"x\":[-2.702178321796787,-3.0069697404493576],\"y\":[2.975766968195179,3.6694527279501354],\"z\":[6.7151162277813485,7.36772810158458],\"type\":\"scatter3d\"},{\"line\":{\"color\":\"rgba(255, 0, 0, 0.37096290370962903)\",\"width\":5},\"mode\":\"lines\",\"x\":[-1.998297861984977,-2.0488547440042013],\"y\":[2.788148421403126,3.1888583955710237],\"z\":[6.858966451388777,5.944157444938321],\"type\":\"scatter3d\"},{\"line\":{\"color\":\"rgba(0, 255, 0, 0.37096290370962903)\",\"width\":5},\"mode\":\"lines\",\"x\":[-1.998297861984977,-1.7221939303037934],\"y\":[2.788148421403126,3.674037345762497],\"z\":[6.858966451388777,7.231749810201381],\"type\":\"scatter3d\"},{\"line\":{\"color\":\"rgba(0, 0, 255, 0.37096290370962903)\",\"width\":5},\"mode\":\"lines\",\"x\":[-1.998297861984977,-1.038500685186307],\"y\":[2.788148421403126,2.5544128222750144],\"z\":[6.858966451388777,6.703541070226179],\"type\":\"scatter3d\"},{\"line\":{\"color\":\"rgba(255, 0, 0, 0.37596240375962403)\",\"width\":5},\"mode\":\"lines\",\"x\":[-1.7894644679621319,-1.4345564032424525],\"y\":[3.1323004516046744,3.5733034940095],\"z\":[7.127311425380371,6.302959205642575],\"type\":\"scatter3d\"},{\"line\":{\"color\":\"rgba(0, 255, 0, 0.37596240375962403)\",\"width\":5},\"mode\":\"lines\",\"x\":[-1.7894644679621319,-1.3562264498399408],\"y\":[3.1323004516046744,3.8360825797744402],\"z\":[7.127311425380371,7.690334991248095],\"type\":\"scatter3d\"},{\"line\":{\"color\":\"rgba(0, 0, 255, 0.37596240375962403)\",\"width\":5},\"mode\":\"lines\",\"x\":[-1.7894644679621319,-0.961005002900324],\"y\":[3.1323004516046744,2.5753381255371552],\"z\":[7.127311425380371,7.186030094396073],\"type\":\"scatter3d\"},{\"line\":{\"color\":\"rgba(255, 0, 0, 0.38096190380961903)\",\"width\":5},\"mode\":\"lines\",\"x\":[-1.8568010217453883,-2.09719728264776],\"y\":[3.726575186694896,4.114993535076258],\"z\":[7.677979463785349,8.567552858387995],\"type\":\"scatter3d\"},{\"line\":{\"color\":\"rgba(0, 255, 0, 0.38096190380961903)\",\"width\":5},\"mode\":\"lines\",\"x\":[-1.8568010217453883,-0.8974926958671503],\"y\":[3.726575186694896,3.6818062106733853],\"z\":[7.677979463785349,7.956768406691427],\"type\":\"scatter3d\"},{\"line\":{\"color\":\"rgba(0, 0, 255, 0.38096190380961903)\",\"width\":5},\"mode\":\"lines\",\"x\":[-1.8568010217453883,-1.7086889910224885],\"y\":[3.726575186694896,4.646970170072521],\"z\":[7.677979463785349,7.3161288026992395],\"type\":\"scatter3d\"},{\"line\":{\"color\":\"rgba(255, 0, 0, 0.385961403859614)\",\"width\":5},\"mode\":\"lines\",\"x\":[-2.8083836419252757,-3.576312208371423],\"y\":[3.7982659934274188,3.1599911000609935],\"z\":[7.422812401177174,7.476579280704021],\"type\":\"scatter3d\"},{\"line\":{\"color\":\"rgba(0, 255, 0, 0.385961403859614)\",\"width\":5},\"mode\":\"lines\",\"x\":[-2.8083836419252757,-2.5633289791887943],\"y\":[3.7982659934274188,3.583065026219652],\"z\":[7.422812401177174,8.36813602617761],\"type\":\"scatter3d\"},{\"line\":{\"color\":\"rgba(0, 0, 255, 0.385961403859614)\",\"width\":5},\"mode\":\"lines\",\"x\":[-2.8083836419252757,-3.400189293391265],\"y\":[3.7982659934274188,4.537382834130523],\"z\":[7.422812401177174,7.744483610149932],\"type\":\"scatter3d\"},{\"line\":{\"color\":\"rgba(255, 0, 0, 0.390960903909609)\",\"width\":5},\"mode\":\"lines\",\"x\":[-2.5457597974165247,-2.1137902976568514],\"y\":[3.514355459820767,3.67526446738077],\"z\":[7.860929356896307,6.973511393046437],\"type\":\"scatter3d\"},{\"line\":{\"color\":\"rgba(0, 255, 0, 0.390960903909609)\",\"width\":5},\"mode\":\"lines\",\"x\":[-2.5457597974165247,-3.4461634528934226],\"y\":[3.514355459820767,3.534864656144341],\"z\":[7.860929356896307,7.426357579085078],\"type\":\"scatter3d\"},{\"line\":{\"color\":\"rgba(0, 0, 255, 0.390960903909609)\",\"width\":5},\"mode\":\"lines\",\"x\":[-2.5457597974165247,-2.5974860816560534],\"y\":[3.514355459820767,4.50111159187784],\"z\":[7.860929356896307,8.014671762778864],\"type\":\"scatter3d\"},{\"line\":{\"color\":\"rgba(255, 0, 0, 0.395960403959604)\",\"width\":5},\"mode\":\"lines\",\"x\":[-2.7045055865156615,-2.328640884880604],\"y\":[2.614569761299524,2.9482715609656704],\"z\":[7.774706654330254,8.639211619593254],\"type\":\"scatter3d\"},{\"line\":{\"color\":\"rgba(0, 255, 0, 0.395960403959604)\",\"width\":5},\"mode\":\"lines\",\"x\":[-2.7045055865156615,-3.615775542115993],\"y\":[2.614569761299524,2.578274694519012],\"z\":[7.774706654330254,8.184913597406041],\"type\":\"scatter3d\"},{\"line\":{\"color\":\"rgba(0, 0, 255, 0.395960403959604)\",\"width\":5},\"mode\":\"lines\",\"x\":[-2.7045055865156615,-2.5362415259294195],\"y\":[2.614569761299524,1.6725900497202375],\"z\":[7.774706654330254,8.065157044049487],\"type\":\"scatter3d\"},{\"line\":{\"color\":\"rgba(255, 0, 0, 0.400959904009599)\",\"width\":5},\"mode\":\"lines\",\"x\":[-2.0592784403362834,-2.1212751761917787],\"y\":[3.1545125737016395,2.4566044477917797],\"z\":[7.707094634023717,8.42059351456402],\"type\":\"scatter3d\"},{\"line\":{\"color\":\"rgba(0, 255, 0, 0.400959904009599)\",\"width\":5},\"mode\":\"lines\",\"x\":[-2.0592784403362834,-2.1398574131682055],\"y\":[3.1545125737016395,3.8705529738625337],\"z\":[7.707094634023717,8.400487145141916],\"type\":\"scatter3d\"},{\"line\":{\"color\":\"rgba(0, 0, 255, 0.400959904009599)\",\"width\":5},\"mode\":\"lines\",\"x\":[-2.0592784403362834,-3.0540967322271326],\"y\":[3.1545125737016395,3.140007639146951],\"z\":[7.707094634023717,7.6064657465562115],\"type\":\"scatter3d\"},{\"line\":{\"color\":\"rgba(255, 0, 0, 0.405959404059594)\",\"width\":5},\"mode\":\"lines\",\"x\":[-1.2978885774491313,-0.7416320419215512],\"y\":[3.0933758161072182,2.5911172947772863],\"z\":[7.808121241565306,8.47017489832912],\"type\":\"scatter3d\"},{\"line\":{\"color\":\"rgba(0, 255, 0, 0.405959404059594)\",\"width\":5},\"mode\":\"lines\",\"x\":[-1.2978885774491313,-1.3283099285207958],\"y\":[3.0933758161072182,3.8772193124651535],\"z\":[7.808121241565306,8.428334039414855],\"type\":\"scatter3d\"},{\"line\":{\"color\":\"rgba(0, 0, 255, 0.405959404059594)\",\"width\":5},\"mode\":\"lines\",\"x\":[-1.2978885774491313,-2.1283421933012385],\"y\":[3.0933758161072182,2.7282378271648735],\"z\":[7.808121241565306,8.22885992643908],\"type\":\"scatter3d\"},{\"line\":{\"color\":\"rgba(255, 0, 0, 0.410958904109589)\",\"width\":5},\"mode\":\"lines\",\"x\":[-1.4130669783579315,-1.9443867344681771],\"y\":[3.006186037072017,2.923600238940307],\"z\":[7.558613347862274,8.401749696689622],\"type\":\"scatter3d\"},{\"line\":{\"color\":\"rgba(0, 255, 0, 0.410958904109589)\",\"width\":5},\"mode\":\"lines\",\"x\":[-1.4130669783579315,-0.5806435898739668],\"y\":[3.006186037072017,3.140186828175958],\"z\":[7.558613347862274,8.096307582802917],\"type\":\"scatter3d\"},{\"line\":{\"color\":\"rgba(0, 0, 255, 0.410958904109589)\",\"width\":5},\"mode\":\"lines\",\"x\":[-1.4130669783579315,-1.570453823652676],\"y\":[3.006186037072017,3.9937200232874215],\"z\":[7.558613347862274,7.556162430135804],\"type\":\"scatter3d\"},{\"line\":{\"color\":\"rgba(255, 0, 0, 0.415958404159584)\",\"width\":5},\"mode\":\"lines\",\"x\":[-3.69896612250632,-2.880255347674225],\"y\":[3.51934111173177,3.75940683395921],\"z\":[7.931993619053276,7.41037966584146],\"type\":\"scatter3d\"},{\"line\":{\"color\":\"rgba(0, 255, 0, 0.415958404159584)\",\"width\":5},\"mode\":\"lines\",\"x\":[-3.69896612250632,-3.2953542781450436],\"y\":[3.51934111173177,2.6326075394606248],\"z\":[7.931993619053276,8.157384503737106],\"type\":\"scatter3d\"},{\"line\":{\"color\":\"rgba(0, 0, 255, 0.415958404159584)\",\"width\":5},\"mode\":\"lines\",\"x\":[-3.69896612250632,-4.107390101069194],\"y\":[3.51934111173177,3.1242815961917807],\"z\":[7.931993619053276,7.109121920113399],\"type\":\"scatter3d\"},{\"line\":{\"color\":\"rgba(255, 0, 0, 0.420957904209579)\",\"width\":5},\"mode\":\"lines\",\"x\":[-3.6226169651132496,-3.5158931932173463],\"y\":[4.036604812721326,4.425038398324618],\"z\":[8.040756919065354,7.125481339751836],\"type\":\"scatter3d\"},{\"line\":{\"color\":\"rgba(0, 255, 0, 0.420957904209579)\",\"width\":5},\"mode\":\"lines\",\"x\":[-3.6226169651132496,-2.6337007006444755],\"y\":[4.036604812721326,3.8995723671648084],\"z\":[8.040756919065354,8.097912240199392],\"type\":\"scatter3d\"},{\"line\":{\"color\":\"rgba(0, 0, 255, 0.420957904209579)\",\"width\":5},\"mode\":\"lines\",\"x\":[-3.6226169651132496,-3.725838369780333],\"y\":[4.036604812721326,3.1253740744117646],\"z\":[8.040756919065354,7.642004009134421],\"type\":\"scatter3d\"},{\"line\":{\"color\":\"rgba(255, 0, 0, 0.42595740425957407)\",\"width\":5},\"mode\":\"lines\",\"x\":[-3.7347042595488475,-4.189057696867051],\"y\":[4.082978628487635,3.591560256961024],\"z\":[7.829804925330564,7.086790162271791],\"type\":\"scatter3d\"},{\"line\":{\"color\":\"rgba(0, 255, 0, 0.42595740425957407)\",\"width\":5},\"mode\":\"lines\",\"x\":[-3.7347042595488475,-3.0160105188629256],\"y\":[4.082978628487635,4.373587120181812],\"z\":[7.829804925330564,7.198119868000469],\"type\":\"scatter3d\"},{\"line\":{\"color\":\"rgba(0, 0, 255, 0.42595740425957407)\",\"width\":5},\"mode\":\"lines\",\"x\":[-3.7347042595488475,-3.2083562177589884],\"y\":[4.082978628487635,3.261970291939589],\"z\":[7.829804925330564,8.050945265889695],\"type\":\"scatter3d\"},{\"line\":{\"color\":\"rgba(255, 0, 0, 0.43095690430956907)\",\"width\":5},\"mode\":\"lines\",\"x\":[-4.2175834911633645,-3.2656401444488368],\"y\":[3.8994547735795706,3.6457301594211566],\"z\":[8.592832150778253,8.421287157216446],\"type\":\"scatter3d\"},{\"line\":{\"color\":\"rgba(0, 255, 0, 0.43095690430956907)\",\"width\":5},\"mode\":\"lines\",\"x\":[-4.2175834911633645,-4.4776433770150135],\"y\":[3.8994547735795706,2.93398104339268],\"z\":[8.592832150778253,8.577688436245234],\"type\":\"scatter3d\"},{\"line\":{\"color\":\"rgba(0, 0, 255, 0.43095690430956907)\",\"width\":5},\"mode\":\"lines\",\"x\":[-4.2175834911633645,-4.37936334286555],\"y\":[3.8994547735795706,3.9584827033179244],\"z\":[8.592832150778253,7.607772262703402],\"type\":\"scatter3d\"},{\"line\":{\"color\":\"rgba(255, 0, 0, 0.43595640435956406)\",\"width\":5},\"mode\":\"lines\",\"x\":[-4.364583533861035,-3.7528097364529027],\"y\":[4.012180975610205,3.370914361191991],\"z\":[8.942540135619318,9.405692324470294],\"type\":\"scatter3d\"},{\"line\":{\"color\":\"rgba(0, 255, 0, 0.43595640435956406)\",\"width\":5},\"mode\":\"lines\",\"x\":[-4.364583533861035,-3.593155579736402],\"y\":[4.012180975610205,4.625381235692884],\"z\":[8.942540135619318,8.772586163527961],\"type\":\"scatter3d\"},{\"line\":{\"color\":\"rgba(0, 0, 255, 0.43595640435956406)\",\"width\":5},\"mode\":\"lines\",\"x\":[-4.364583533861035,-4.5396027682323625],\"y\":[4.012180975610205,4.473442907994786],\"z\":[8.942540135619318,9.81237097971082],\"type\":\"scatter3d\"},{\"line\":{\"color\":\"rgba(255, 0, 0, 0.44095590440955906)\",\"width\":5},\"mode\":\"lines\",\"x\":[-4.25251876724689,-3.68129381246652],\"y\":[3.530857608251984,3.52462822636183],\"z\":[8.826170282304354,8.005400371892522],\"type\":\"scatter3d\"},{\"line\":{\"color\":\"rgba(0, 255, 0, 0.44095590440955906)\",\"width\":5},\"mode\":\"lines\",\"x\":[-4.25251876724689,-4.7296153881489165],\"y\":[3.530857608251984,2.714645088226874],\"z\":[8.826170282304354,8.500323790105734],\"type\":\"scatter3d\"},{\"line\":{\"color\":\"rgba(0, 0, 255, 0.44095590440955906)\",\"width\":5},\"mode\":\"lines\",\"x\":[-4.25251876724689,-4.920411621947434],\"y\":[3.530857608251984,4.108575806819025],\"z\":[8.826170282304354,8.356957305411742],\"type\":\"scatter3d\"},{\"line\":{\"color\":\"rgba(255, 0, 0, 0.44595540445955406)\",\"width\":5},\"mode\":\"lines\",\"x\":[-4.480180695731364,-5.205272545198971],\"y\":[3.2504921513655476,3.85205840215356],\"z\":[8.733216694596505,8.39801547779007],\"type\":\"scatter3d\"},{\"line\":{\"color\":\"rgba(0, 255, 0, 0.44595540445955406)\",\"width\":5},\"mode\":\"lines\",\"x\":[-4.480180695731364,-5.006988236135382],\"y\":[3.2504921513655476,3.0794443438659167],\"z\":[8.733216694596505,9.565812913013964],\"type\":\"scatter3d\"},{\"line\":{\"color\":\"rgba(0, 0, 255, 0.44595540445955406)\",\"width\":5},\"mode\":\"lines\",\"x\":[-4.480180695731364,-4.0366543434036535],\"y\":[3.2504921513655476,4.030787411803829],\"z\":[8.733216694596505,9.174151702651491],\"type\":\"scatter3d\"},{\"line\":{\"color\":\"rgba(255, 0, 0, 0.45095490450954906)\",\"width\":5},\"mode\":\"lines\",\"x\":[-4.327904619613074,-5.0486637541679995],\"y\":[3.2712168967890065,2.703275668196383],\"z\":[9.130299089725797,9.527727109397725],\"type\":\"scatter3d\"},{\"line\":{\"color\":\"rgba(0, 255, 0, 0.45095490450954906)\",\"width\":5},\"mode\":\"lines\",\"x\":[-4.327904619613074,-4.401687803913065],\"y\":[3.2712168967890065,3.904152207715483],\"z\":[9.130299089725797,9.900979914644246],\"type\":\"scatter3d\"},{\"line\":{\"color\":\"rgba(0, 0, 255, 0.45095490450954906)\",\"width\":5},\"mode\":\"lines\",\"x\":[-4.327904619613074,-5.01715226137197],\"y\":[3.2712168967890065,3.797368636353869],\"z\":[9.130299089725797,8.63220067045237],\"type\":\"scatter3d\"},{\"line\":{\"color\":\"rgba(255, 0, 0, 0.45595440455954406)\",\"width\":5},\"mode\":\"lines\",\"x\":[-4.29978299926636,-5.043212948026309],\"y\":[3.0448789348141916,2.3802234856772326],\"z\":[9.312200366485419,9.237735306092345],\"type\":\"scatter3d\"},{\"line\":{\"color\":\"rgba(0, 255, 0, 0.45595440455954406)\",\"width\":5},\"mode\":\"lines\",\"x\":[-4.29978299926636,-4.914274740084061],\"y\":[3.0448789348141916,3.6797258391638077],\"z\":[9.312200366485419,9.780569140534844],\"type\":\"scatter3d\"},{\"line\":{\"color\":\"rgba(0, 0, 255, 0.45595440455954406)\",\"width\":5},\"mode\":\"lines\",\"x\":[-4.29978299926636,-4.563812944071154],\"y\":[3.0448789348141916,3.438836473097548],\"z\":[9.312200366485419,8.43181088093024],\"type\":\"scatter3d\"},{\"line\":{\"color\":\"rgba(255, 0, 0, 0.46095390460953906)\",\"width\":5},\"mode\":\"lines\",\"x\":[-4.595694969843099,-4.3600470560923235],\"y\":[3.3078367306184777,3.4626530616861055],\"z\":[8.985845089341355,8.026417153340072],\"type\":\"scatter3d\"},{\"line\":{\"color\":\"rgba(0, 255, 0, 0.46095390460953906)\",\"width\":5},\"mode\":\"lines\",\"x\":[-4.595694969843099,-5.354001966597216],\"y\":[3.3078367306184777,3.95457033777339],\"z\":[8.985845089341355,8.903954063885783],\"type\":\"scatter3d\"},{\"line\":{\"color\":\"rgba(0, 0, 255, 0.46095390460953906)\",\"width\":5},\"mode\":\"lines\",\"x\":[-4.595694969843099,-3.9878787480962052],\"y\":[3.3078367306184777,4.054675096673128],\"z\":[8.985845089341355,9.255644821680308],\"type\":\"scatter3d\"},{\"line\":{\"color\":\"rgba(255, 0, 0, 0.46595340465953405)\",\"width\":5},\"mode\":\"lines\",\"x\":[-4.7111933205093335,-5.093183777513992],\"y\":[3.2883734783459335,4.203897647530665],\"z\":[8.69814807620524,8.57205768642076],\"type\":\"scatter3d\"},{\"line\":{\"color\":\"rgba(0, 255, 0, 0.46595340465953405)\",\"width\":5},\"mode\":\"lines\",\"x\":[-4.7111933205093335,-5.342737278741648],\"y\":[3.2883734783459335,2.9301658787109104],\"z\":[8.69814807620524,8.010514784119993],\"type\":\"scatter3d\"},{\"line\":{\"color\":\"rgba(0, 0, 255, 0.46595340465953405)\",\"width\":5},\"mode\":\"lines\",\"x\":[-4.7111933205093335,-5.385904754811171],\"y\":[3.2883734783459335,3.1053357467102214],\"z\":[8.69814807620524,9.413173718556632],\"type\":\"scatter3d\"},{\"line\":{\"color\":\"rgba(255, 0, 0, 0.47095290470952905)\",\"width\":5},\"mode\":\"lines\",\"x\":[-6.06526307352932,-6.3011127677177265],\"y\":[4.239294313929623,3.366683631491472],\"z\":[7.773398994573212,7.345701065368396],\"type\":\"scatter3d\"},{\"line\":{\"color\":\"rgba(0, 255, 0, 0.47095290470952905)\",\"width\":5},\"mode\":\"lines\",\"x\":[-6.06526307352932,-6.8070331970286135],\"y\":[4.239294313929623,4.116614948861742],\"z\":[7.773398994573212,8.432737191002326],\"type\":\"scatter3d\"},{\"line\":{\"color\":\"rgba(0, 0, 255, 0.47095290470952905)\",\"width\":5},\"mode\":\"lines\",\"x\":[-6.06526307352932,-6.693078337468553],\"y\":[4.239294313929623,4.71205257169081],\"z\":[7.773398994573212,7.1550563516287555],\"type\":\"scatter3d\"},{\"line\":{\"color\":\"rgba(255, 0, 0, 0.47595240475952405)\",\"width\":5},\"mode\":\"lines\",\"x\":[-12.221806081290984,-11.945185219100978],\"y\":[2.624202438670772,2.352748152527061],\"z\":[0.5402017711336115,1.462044202970791],\"type\":\"scatter3d\"},{\"line\":{\"color\":\"rgba(0, 255, 0, 0.47595240475952405)\",\"width\":5},\"mode\":\"lines\",\"x\":[-12.221806081290984,-12.921664048327933],\"y\":[2.624202438670772,1.9099204772863552],\"z\":[0.5402017711336115,0.5398767853548221],\"type\":\"scatter3d\"},{\"line\":{\"color\":\"rgba(0, 0, 255, 0.47595240475952405)\",\"width\":5},\"mode\":\"lines\",\"x\":[-12.221806081290984,-11.563262442208366],\"y\":[2.624202438670772,1.9791335662431329],\"z\":[0.5402017711336115,0.15263703428468522],\"type\":\"scatter3d\"},{\"line\":{\"color\":\"rgba(255, 0, 0, 0.48095190480951905)\",\"width\":5},\"mode\":\"lines\",\"x\":[-9.66709523257568,-9.484321256343929],\"y\":[1.7244524782504513,2.632489417968542],\"z\":[1.9212102289144801,1.544298316500103],\"type\":\"scatter3d\"},{\"line\":{\"color\":\"rgba(0, 255, 0, 0.48095190480951905)\",\"width\":5},\"mode\":\"lines\",\"x\":[-9.66709523257568,-9.094463461608584],\"y\":[1.7244524782504513,1.314500397840865],\"z\":[1.9212102289144801,1.2112580145739966],\"type\":\"scatter3d\"},{\"line\":{\"color\":\"rgba(0, 0, 255, 0.48095190480951905)\",\"width\":5},\"mode\":\"lines\",\"x\":[-9.66709523257568,-10.466273891256911],\"y\":[1.7244524782504513,1.6383815314955565],\"z\":[1.9212102289144801,1.3263108562192323],\"type\":\"scatter3d\"},{\"line\":{\"color\":\"rgba(255, 0, 0, 0.48595140485951405)\",\"width\":5},\"mode\":\"lines\",\"x\":[-11.163551782092782,-10.782410197277983],\"y\":[2.829190392190084,2.4442234332488515],\"z\":[1.9718621395359055,2.812416440487618],\"type\":\"scatter3d\"},{\"line\":{\"color\":\"rgba(0, 255, 0, 0.48595140485951405)\",\"width\":5},\"mode\":\"lines\",\"x\":[-11.163551782092782,-10.267993752642749],\"y\":[2.829190392190084,3.208697822075618],\"z\":[1.9718621395359055,1.7395909046632616],\"type\":\"scatter3d\"},{\"line\":{\"color\":\"rgba(0, 0, 255, 0.48595140485951405)\",\"width\":5},\"mode\":\"lines\",\"x\":[-11.163551782092782,-11.393131633587746],\"y\":[2.829190392190084,3.6704837721624],\"z\":[1.9718621395359055,2.4612684539642466],\"type\":\"scatter3d\"},{\"line\":{\"color\":\"rgba(255, 0, 0, 0.49095090490950904)\",\"width\":5},\"mode\":\"lines\",\"x\":[-11.12712404084775,-11.240728507323425],\"y\":[2.966635549390255,3.0205527379729156],\"z\":[1.2866563569407965,2.278718331805339],\"type\":\"scatter3d\"},{\"line\":{\"color\":\"rgba(0, 255, 0, 0.49095090490950904)\",\"width\":5},\"mode\":\"lines\",\"x\":[-11.12712404084775,-10.146456254912957],\"y\":[2.966635549390255,2.8125932083610907],\"z\":[1.2866563569407965,1.407328022214869],\"type\":\"scatter3d\"},{\"line\":{\"color\":\"rgba(0, 0, 255, 0.49095090490950904)\",\"width\":5},\"mode\":\"lines\",\"x\":[-11.12712404084775,-10.967798214860437],\"y\":[2.966635549390255,3.9532276099429566],\"z\":[1.2866563569407965,1.2512814049568957],\"type\":\"scatter3d\"},{\"line\":{\"color\":\"rgba(255, 0, 0, 0.49595040495950404)\",\"width\":5},\"mode\":\"lines\",\"x\":[-11.319265418862944,-10.978454278855176],\"y\":[2.605529676487389,3.4376072009012395],\"z\":[1.4324287052010158,0.9948275623643628],\"type\":\"scatter3d\"},{\"line\":{\"color\":\"rgba(0, 255, 0, 0.49595040495950404)\",\"width\":5},\"mode\":\"lines\",\"x\":[-11.319265418862944,-10.450672535606152],\"y\":[2.605529676487389,2.5049406034802693],\"z\":[1.4324287052010158,1.9176381873293393],\"type\":\"scatter3d\"},{\"line\":{\"color\":\"rgba(0, 0, 255, 0.49595040495950404)\",\"width\":5},\"mode\":\"lines\",\"x\":[-11.319265418862944,-10.959551407456285],\"y\":[2.605529676487389,2.0600676413676986],\"z\":[1.4324287052010158,0.6754102125333421],\"type\":\"scatter3d\"},{\"line\":{\"color\":\"rgba(255, 0, 0, 0.5009499050094991)\",\"width\":5},\"mode\":\"lines\",\"x\":[-11.572968756393145,-10.791352726334999],\"y\":[2.5048816898637343,2.06994880691209],\"z\":[1.4881849105899163,1.9352976132539452],\"type\":\"scatter3d\"},{\"line\":{\"color\":\"rgba(0, 255, 0, 0.5009499050094991)\",\"width\":5},\"mode\":\"lines\",\"x\":[-11.572968756393145,-11.060248135566939],\"y\":[2.5048816898637343,3.361091471775702],\"z\":[1.4881849105899163,1.424762719379952],\"type\":\"scatter3d\"},{\"line\":{\"color\":\"rgba(0, 0, 255, 0.5009499050094991)\",\"width\":5},\"mode\":\"lines\",\"x\":[-11.572968756393145,-11.928206629565114],\"y\":[2.5048816898637343,2.783697393664042],\"z\":[1.4881849105899163,2.380411258989587],\"type\":\"scatter3d\"},{\"line\":{\"color\":\"rgba(255, 0, 0, 0.505949405059494)\",\"width\":5},\"mode\":\"lines\",\"x\":[-11.53233775469479,-12.032007633827497],\"y\":[2.6097003824383287,1.778942658250153],\"z\":[1.4878856377163991,1.242586604719496],\"type\":\"scatter3d\"},{\"line\":{\"color\":\"rgba(0, 255, 0, 0.505949405059494)\",\"width\":5},\"mode\":\"lines\",\"x\":[-11.53233775469479,-11.729961302455061],\"y\":[2.6097003824383287,2.994747729720934],\"z\":[1.4878856377163991,0.5863960516859841],\"type\":\"scatter3d\"},{\"line\":{\"color\":\"rgba(0, 0, 255, 0.505949405059494)\",\"width\":5},\"mode\":\"lines\",\"x\":[-11.53233775469479,-10.688966575878393],\"y\":[2.6097003824383287,2.2077300551101273],\"z\":[1.4878856377163991,1.1313117874560208],\"type\":\"scatter3d\"},{\"line\":{\"color\":\"rgba(255, 0, 0, 0.5109489051094891)\",\"width\":5},\"mode\":\"lines\",\"x\":[-11.516393353783362,-12.455709806896447],\"y\":[3.046924531986617,2.998899265133751],\"z\":[1.8208064896456484,2.1604801192590974],\"type\":\"scatter3d\"},{\"line\":{\"color\":\"rgba(0, 255, 0, 0.5109489051094891)\",\"width\":5},\"mode\":\"lines\",\"x\":[-11.516393353783362,-11.67113930423252],\"y\":[3.046924531986617,3.989933398047663],\"z\":[1.8208064896456484,1.526208510443695],\"type\":\"scatter3d\"},{\"line\":{\"color\":\"rgba(0, 0, 255, 0.5109489051094891)\",\"width\":5},\"mode\":\"lines\",\"x\":[-11.516393353783362,-11.822560451510489],\"y\":[3.046924531986617,2.717640684411305],\"z\":[1.8208064896456484,0.9275910307582833],\"type\":\"scatter3d\"},{\"line\":{\"color\":\"rgba(255, 0, 0, 0.515948405159484)\",\"width\":5},\"mode\":\"lines\",\"x\":[-11.756846369416833,-11.746769255812696],\"y\":[3.0291944074067163,2.030843554678787],\"z\":[1.5669438600455823,1.6234595803263483],\"type\":\"scatter3d\"},{\"line\":{\"color\":\"rgba(0, 255, 0, 0.515948405159484)\",\"width\":5},\"mode\":\"lines\",\"x\":[-11.756846369416833,-10.814190239511305],\"y\":[3.0291944074067163,3.019822643750557],\"z\":[1.5669438600455823,1.2333099427087562],\"type\":\"scatter3d\"},{\"line\":{\"color\":\"rgba(0, 0, 255, 0.515948405159484)\",\"width\":5},\"mode\":\"lines\",\"x\":[-11.756846369416833,-11.423233011571327],\"y\":[3.0291944074067163,3.0858313644526048],\"z\":[1.5669438600455823,2.5079509708389307],\"type\":\"scatter3d\"},{\"line\":{\"color\":\"rgba(255, 0, 0, 0.5209479052094791)\",\"width\":5},\"mode\":\"lines\",\"x\":[-12.177061921008503,-12.863225934911585],\"y\":[3.0103418957751575,2.7377548975396175],\"z\":[1.3946543008303167,0.7202098817583168],\"type\":\"scatter3d\"},{\"line\":{\"color\":\"rgba(0, 255, 0, 0.5209479052094791)\",\"width\":5},\"mode\":\"lines\",\"x\":[-12.177061921008503,-12.89851564434181],\"y\":[3.0103418957751575,3.384106697784187],\"z\":[1.3946543008303167,1.9775817387397652],\"type\":\"scatter3d\"},{\"line\":{\"color\":\"rgba(0, 0, 255, 0.5209479052094791)\",\"width\":5},\"mode\":\"lines\",\"x\":[-12.177061921008503,-12.083876776736837],\"y\":[3.0103418957751575,3.896906163706208],\"z\":[1.3946543008303167,0.9415314392188385],\"type\":\"scatter3d\"},{\"line\":{\"color\":\"rgba(255, 0, 0, 0.525947405259474)\",\"width\":5},\"mode\":\"lines\",\"x\":[-12.702537258898577,-12.44770826245349],\"y\":[3.339863642043887,3.218363295017148],\"z\":[1.4327805316095037,2.3921031302400104],\"type\":\"scatter3d\"},{\"line\":{\"color\":\"rgba(0, 255, 0, 0.525947405259474)\",\"width\":5},\"mode\":\"lines\",\"x\":[-12.702537258898577,-11.760371645651496],\"y\":[3.339863642043887,3.147729231954041],\"z\":[1.4327805316095037,1.1581747675145206],\"type\":\"scatter3d\"},{\"line\":{\"color\":\"rgba(0, 0, 255, 0.525947405259474)\",\"width\":5},\"mode\":\"lines\",\"x\":[-12.702537258898577,-12.484853681691767],\"y\":[3.339863642043887,4.313681917766745],\"z\":[1.4327805316095037,1.498292561669922],\"type\":\"scatter3d\"},{\"line\":{\"color\":\"rgba(255, 0, 0, 0.5309469053094691)\",\"width\":5},\"mode\":\"lines\",\"x\":[-12.621250796374039,-13.322224211468873],\"y\":[3.1796241107178926,3.858398403388737],\"z\":[1.4101581597771273,1.1912935190982326],\"type\":\"scatter3d\"},{\"line\":{\"color\":\"rgba(0, 255, 0, 0.5309469053094691)\",\"width\":5},\"mode\":\"lines\",\"x\":[-12.621250796374039,-13.073498773168435],\"y\":[3.1796241107178926,2.519278163960493],\"z\":[1.4101581597771273,0.8106458595809807],\"type\":\"scatter3d\"},{\"line\":{\"color\":\"rgba(0, 0, 255, 0.5309469053094691)\",\"width\":5},\"mode\":\"lines\",\"x\":[-12.621250796374039,-13.17271071224796],\"y\":[3.1796241107178926,2.858363017196904],\"z\":[1.4101581597771273,2.1800174137801167],\"type\":\"scatter3d\"},{\"line\":{\"color\":\"rgba(255, 0, 0, 0.535946405359464)\",\"width\":5},\"mode\":\"lines\",\"x\":[-12.570830250274776,-12.353654192725628],\"y\":[3.998238547614286,4.6297745163376804],\"z\":[0.9088510107344675,0.16454134383766283],\"type\":\"scatter3d\"},{\"line\":{\"color\":\"rgba(0, 255, 0, 0.535946405359464)\",\"width\":5},\"mode\":\"lines\",\"x\":[-12.570830250274776,-12.324754754504008],\"y\":[3.998238547614286,3.2249352604889583],\"z\":[0.9088510107344675,0.324514740678979],\"type\":\"scatter3d\"},{\"line\":{\"color\":\"rgba(0, 0, 255, 0.535946405359464)\",\"width\":5},\"mode\":\"lines\",\"x\":[-12.570830250274776,-13.515436734694925],\"y\":[3.998238547614286,3.9419860247393044],\"z\":[0.9088510107344675,0.5855025249461132],\"type\":\"scatter3d\"},{\"line\":{\"color\":\"rgba(255, 0, 0, 0.5409459054094591)\",\"width\":5},\"mode\":\"lines\",\"x\":[-12.4343941450061,-12.719586660475507],\"y\":[3.786819461843727,4.257645278983006],\"z\":[0.8655196138386616,1.700377852724392],\"type\":\"scatter3d\"},{\"line\":{\"color\":\"rgba(0, 255, 0, 0.5409459054094591)\",\"width\":5},\"mode\":\"lines\",\"x\":[-12.4343941450061,-12.07261700731917],\"y\":[3.786819461843727,3.033097570824593],\"z\":[0.8655196138386616,1.4141730688041951],\"type\":\"scatter3d\"},{\"line\":{\"color\":\"rgba(0, 0, 255, 0.5409459054094591)\",\"width\":5},\"mode\":\"lines\",\"x\":[-12.4343941450061,-11.546823003199824],\"y\":[3.786819461843727,4.2453239448247615],\"z\":[0.8655196138386616,0.91014143942901],\"type\":\"scatter3d\"},{\"line\":{\"color\":\"rgba(255, 0, 0, 0.545945405459454)\",\"width\":5},\"mode\":\"lines\",\"x\":[-12.71194128928758,-12.211109926008389],\"y\":[3.4675469948847484,3.254944291134339],\"z\":[1.4960139508806194,2.335041981350365],\"type\":\"scatter3d\"},{\"line\":{\"color\":\"rgba(0, 255, 0, 0.545945405459454)\",\"width\":5},\"mode\":\"lines\",\"x\":[-12.71194128928758,-13.330696193404279],\"y\":[3.4675469948847484,2.701772629829585],\"z\":[1.4960139508806194,1.6713193713784582],\"type\":\"scatter3d\"},{\"line\":{\"color\":\"rgba(0, 0, 255, 0.545945405459454)\",\"width\":5},\"mode\":\"lines\",\"x\":[-12.71194128928758,-12.106705538371083],\"y\":[3.4675469948847484,2.8605958336020514],\"z\":[1.4960139508806194,0.9809411660917576],\"type\":\"scatter3d\"},{\"line\":{\"color\":\"rgba(255, 0, 0, 0.5509449055094491)\",\"width\":5},\"mode\":\"lines\",\"x\":[-12.942266681074093,-12.627004620502841],\"y\":[3.2335074407119904,3.6171507816932302],\"z\":[2.0930049879074946,2.961007073207492],\"type\":\"scatter3d\"},{\"line\":{\"color\":\"rgba(0, 255, 0, 0.5509449055094491)\",\"width\":5},\"mode\":\"lines\",\"x\":[-12.942266681074093,-12.675522707676553],\"y\":[3.2335074407119904,2.319913983349433],\"z\":[2.0930049879074946,2.399916452861891],\"type\":\"scatter3d\"},{\"line\":{\"color\":\"rgba(0, 0, 255, 0.5509449055094491)\",\"width\":5},\"mode\":\"lines\",\"x\":[-12.942266681074093,-12.031521115166427],\"y\":[3.2335074407119904,3.3682842250077987],\"z\":[2.0930049879074946,1.7026490828741256],\"type\":\"scatter3d\"},{\"line\":{\"color\":\"rgba(255, 0, 0, 0.555944405559444)\",\"width\":5},\"mode\":\"lines\",\"x\":[-13.762194938431643,-13.494991740375673],\"y\":[2.61040259282361,2.201592373683122],\"z\":[2.8440338420605604,3.7166601398965744],\"type\":\"scatter3d\"},{\"line\":{\"color\":\"rgba(0, 255, 0, 0.555944405559444)\",\"width\":5},\"mode\":\"lines\",\"x\":[-13.762194938431643,-13.02103318757128],\"y\":[2.61040259282361,2.1188539905976183],\"z\":[2.8440338420605604,2.3868038881956632],\"type\":\"scatter3d\"},{\"line\":{\"color\":\"rgba(0, 0, 255, 0.555944405559444)\",\"width\":5},\"mode\":\"lines\",\"x\":[-13.762194938431643,-13.146336423827616],\"y\":[2.61040259282361,3.3793331334942334],\"z\":[2.8440338420605604,3.015684981333606],\"type\":\"scatter3d\"},{\"line\":{\"color\":\"rgba(255, 0, 0, 0.5609439056094391)\",\"width\":5},\"mode\":\"lines\",\"x\":[-13.598289010029575,-13.25619960900157],\"y\":[2.1140992092778017,2.3518939872683067],\"z\":[2.9059935534639654,1.9969124320755802],\"type\":\"scatter3d\"},{\"line\":{\"color\":\"rgba(0, 255, 0, 0.5609439056094391)\",\"width\":5},\"mode\":\"lines\",\"x\":[-13.598289010029575,-14.485918715249394],\"y\":[2.1140992092778017,1.8783939658730224],\"z\":[2.9059935534639654,2.5103212842273046],\"type\":\"scatter3d\"},{\"line\":{\"color\":\"rgba(0, 0, 255, 0.5609439056094391)\",\"width\":5},\"mode\":\"lines\",\"x\":[-13.598289010029575,-13.906652996441238],\"y\":[2.1140992092778017,3.05638190666324],\"z\":[2.9059935534639654,3.036434996618989],\"type\":\"scatter3d\"},{\"line\":{\"color\":\"rgba(255, 0, 0, 0.565943405659434)\",\"width\":5},\"mode\":\"lines\",\"x\":[-13.712284177823038,-13.669659510269065],\"y\":[1.8631432256349325,1.2994751086938918],\"z\":[3.225523830782706,2.4006229933118726],\"type\":\"scatter3d\"},{\"line\":{\"color\":\"rgba(0, 255, 0, 0.565943405659434)\",\"width\":5},\"mode\":\"lines\",\"x\":[-13.712284177823038,-14.681055646722879],\"y\":[1.8631432256349325,2.041685456352297],\"z\":[3.225523830782706,3.0534642106037455],\"type\":\"scatter3d\"},{\"line\":{\"color\":\"rgba(0, 0, 255, 0.565943405659434)\",\"width\":5},\"mode\":\"lines\",\"x\":[-13.712284177823038,-13.468020020072514],\"y\":[1.8631432256349325,2.669617605757852],\"z\":[3.225523830782706,2.687068544390411],\"type\":\"scatter3d\"},{\"line\":{\"color\":\"rgba(255, 0, 0, 0.5709429057094291)\",\"width\":5},\"mode\":\"lines\",\"x\":[-14.87751779322863,-15.73371523235521],\"y\":[0.745692219181726,0.27218402412713993],\"z\":[2.818710026201071,2.612031690497356],\"type\":\"scatter3d\"},{\"line\":{\"color\":\"rgba(0, 255, 0, 0.5709429057094291)\",\"width\":5},\"mode\":\"lines\",\"x\":[-14.87751779322863,-14.726420100699448],\"y\":[0.745692219181726,0.13365344633650245],\"z\":[2.818710026201071,3.594969021541217],\"type\":\"scatter3d\"},{\"line\":{\"color\":\"rgba(0, 0, 255, 0.5709429057094291)\",\"width\":5},\"mode\":\"lines\",\"x\":[-14.87751779322863,-15.371577943964814],\"y\":[0.745692219181726,1.37909456347033],\"z\":[2.818710026201071,3.4142820518237227],\"type\":\"scatter3d\"},{\"line\":{\"color\":\"rgba(255, 0, 0, 0.575942405759424)\",\"width\":5},\"mode\":\"lines\",\"x\":[-16.32706880156344,-15.840617301777334],\"y\":[1.819474367693553,2.4496500066110736],\"z\":[2.554140558875213,1.9489599226427161],\"type\":\"scatter3d\"},{\"line\":{\"color\":\"rgba(0, 255, 0, 0.575942405759424)\",\"width\":5},\"mode\":\"lines\",\"x\":[-16.32706880156344,-16.024935782236227],\"y\":[1.819474367693553,2.3480700289434018],\"z\":[2.554140558875213,3.3474262990345114],\"type\":\"scatter3d\"},{\"line\":{\"color\":\"rgba(0, 0, 255, 0.575942405759424)\",\"width\":5},\"mode\":\"lines\",\"x\":[-16.32706880156344,-15.50726359482949],\"y\":[1.819474367693553,1.2507342767708458],\"z\":[2.554140558875213,2.620879842578023],\"type\":\"scatter3d\"},{\"line\":{\"color\":\"rgba(255, 0, 0, 0.5809419058094191)\",\"width\":5},\"mode\":\"lines\",\"x\":[-16.19503897654569,-17.156803705345393],\"y\":[-0.06922602601074145,-0.33998002270462063],\"z\":[5.142770154474373,5.184011877415348],\"type\":\"scatter3d\"},{\"line\":{\"color\":\"rgba(0, 255, 0, 0.5809419058094191)\",\"width\":5},\"mode\":\"lines\",\"x\":[-16.19503897654569,-16.029628849320645],\"y\":[-0.06922602601074145,-0.5234491394067984],\"z\":[5.142770154474373,6.0181676944915985],\"type\":\"scatter3d\"},{\"line\":{\"color\":\"rgba(0, 0, 255, 0.5809419058094191)\",\"width\":5},\"mode\":\"lines\",\"x\":[-16.19503897654569,-16.41332341540527],\"y\":[-0.06922602601074145,0.779522250294503],\"z\":[5.142770154474373,5.6244113769841055],\"type\":\"scatter3d\"},{\"line\":{\"color\":\"rgba(255, 0, 0, 0.585941405859414)\",\"width\":5},\"mode\":\"lines\",\"x\":[-16.13550013527541,-16.708972920121504],\"y\":[-0.39283499600676564,-0.06835670672603322],\"z\":[5.047897444479067,5.8001226799147965],\"type\":\"scatter3d\"},{\"line\":{\"color\":\"rgba(0, 255, 0, 0.585941405859414)\",\"width\":5},\"mode\":\"lines\",\"x\":[-16.13550013527541,-16.952524722282973],\"y\":[-0.39283499600676564,-0.5521178061577625],\"z\":[5.047897444479067,4.4937315752525855],\"type\":\"scatter3d\"},{\"line\":{\"color\":\"rgba(0, 0, 255, 0.585941405859414)\",\"width\":5},\"mode\":\"lines\",\"x\":[-16.13550013527541,-16.195498379133088],\"y\":[-0.39283499600676564,-1.3252205526172753],\"z\":[5.047897444479067,5.404348541486973],\"type\":\"scatter3d\"},{\"line\":{\"color\":\"rgba(255, 0, 0, 0.5909409059094091)\",\"width\":5},\"mode\":\"lines\",\"x\":[-16.108087272860843,-15.798668843563805],\"y\":[-0.3672884377514317,0.3554959421367855],\"z\":[5.156183500417477,5.774117943381284],\"type\":\"scatter3d\"},{\"line\":{\"color\":\"rgba(0, 255, 0, 0.5909409059094091)\",\"width\":5},\"mode\":\"lines\",\"x\":[-16.108087272860843,-15.195007814242011],\"y\":[-0.3672884377514317,-0.7746161721587125],\"z\":[5.156183500417477,5.175419379159876],\"type\":\"scatter3d\"},{\"line\":{\"color\":\"rgba(0, 0, 255, 0.5909409059094091)\",\"width\":5},\"mode\":\"lines\",\"x\":[-16.108087272860843,-15.842482043507747],\"y\":[-0.3672884377514317,0.19098287350526932],\"z\":[5.156183500417477,4.370189222341589],\"type\":\"scatter3d\"},{\"line\":{\"color\":\"rgba(255, 0, 0, 0.595940405959404)\",\"width\":5},\"mode\":\"lines\",\"x\":[-15.675191239848873,-15.170182352908686],\"y\":[-0.015588024524576752,0.33581312780178596],\"z\":[6.455370970113099,5.667028877963277],\"type\":\"scatter3d\"},{\"line\":{\"color\":\"rgba(0, 255, 0, 0.595940405959404)\",\"width\":5},\"mode\":\"lines\",\"x\":[-15.675191239848873,-16.089540094301892],\"y\":[-0.015588024524576752,0.8843542531679109],\"z\":[6.455370970113099,6.5910873052948435],\"type\":\"scatter3d\"},{\"line\":{\"color\":\"rgba(0, 0, 255, 0.595940405959404)\",\"width\":5},\"mode\":\"lines\",\"x\":[-15.675191239848873,-14.918037985266343],\"y\":[-0.015588024524576752,0.24252266290506497],\"z\":[6.455370970113099,7.055452483000888],\"type\":\"scatter3d\"},{\"line\":{\"color\":\"rgba(255, 0, 0, 0.6009399060093991)\",\"width\":5},\"mode\":\"lines\",\"x\":[-15.951970024562973,-15.347640861593401],\"y\":[0.2723109990096871,-0.4712085517622269],\"z\":[6.683564064076652,6.397268866065127],\"type\":\"scatter3d\"},{\"line\":{\"color\":\"rgba(0, 255, 0, 0.6009399060093991)\",\"width\":5},\"mode\":\"lines\",\"x\":[-15.951970024562973,-16.0819092073633],\"y\":[0.2723109990096871,-0.1741904512166252],\"z\":[6.683564064076652,7.568861903065885],\"type\":\"scatter3d\"},{\"line\":{\"color\":\"rgba(0, 0, 255, 0.6009399060093991)\",\"width\":5},\"mode\":\"lines\",\"x\":[-15.951970024562973,-16.738037497212552],\"y\":[0.2723109990096871,-0.2254993389361737],\"z\":[6.683564064076652,6.317117893573323],\"type\":\"scatter3d\"},{\"line\":{\"color\":\"rgba(255, 0, 0, 0.6059394060593941)\",\"width\":5},\"mode\":\"lines\",\"x\":[-16.130068347504707,-15.712541478648797],\"y\":[0.13871457919641786,-0.3230983438512386],\"z\":[6.058990224143937,6.841550214106101],\"type\":\"scatter3d\"},{\"line\":{\"color\":\"rgba(0, 255, 0, 0.6059394060593941)\",\"width\":5},\"mode\":\"lines\",\"x\":[-16.130068347504707,-15.756545618729367],\"y\":[0.13871457919641786,1.0110356238783402],\"z\":[6.058990224143937,6.374484702848872],\"type\":\"scatter3d\"},{\"line\":{\"color\":\"rgba(0, 0, 255, 0.6059394060593941)\",\"width\":5},\"mode\":\"lines\",\"x\":[-16.130068347504707,-16.958411322890882],\"y\":[0.13871457919641786,0.29929110024248995],\"z\":[6.058990224143937,6.595705321767564],\"type\":\"scatter3d\"},{\"line\":{\"color\":\"rgba(255, 0, 0, 0.6109389061093891)\",\"width\":5},\"mode\":\"lines\",\"x\":[-17.127742639645767,-16.633572156472955],\"y\":[-0.1349612764933828,-1.0042623625808034],\"z\":[5.2078215248759,5.218364545696095],\"type\":\"scatter3d\"},{\"line\":{\"color\":\"rgba(0, 255, 0, 0.6109389061093891)\",\"width\":5},\"mode\":\"lines\",\"x\":[-17.127742639645767,-16.480818234392142],\"y\":[-0.1349612764933828,0.2246395546381354],\"z\":[5.2078215248759,4.535381151209369],\"type\":\"scatter3d\"},{\"line\":{\"color\":\"rgba(0, 0, 255, 0.6109389061093891)\",\"width\":5},\"mode\":\"lines\",\"x\":[-17.127742639645767,-16.54698077153801],\"y\":[-0.1349612764933828,0.20415944533999525],\"z\":[5.2078215248759,5.947897729448929],\"type\":\"scatter3d\"},{\"line\":{\"color\":\"rgba(255, 0, 0, 0.6159384061593841)\",\"width\":5},\"mode\":\"lines\",\"x\":[-17.30357235186184,-16.90337758251922],\"y\":[-0.2611817893012783,0.6227842931776317],\"z\":[5.029844760587009,5.271605203210971],\"type\":\"scatter3d\"},{\"line\":{\"color\":\"rgba(0, 255, 0, 0.6159384061593841)\",\"width\":5},\"mode\":\"lines\",\"x\":[-17.30357235186184,-17.304513974383596],\"y\":[-0.2611817893012783,-0.5245917635395705],\"z\":[5.029844760587009,5.994528283209236],\"type\":\"scatter3d\"},{\"line\":{\"color\":\"rgba(0, 0, 255, 0.6159384061593841)\",\"width\":5},\"mode\":\"lines\",\"x\":[-17.30357235186184,-16.38714272557412],\"y\":[-0.2611817893012783,-0.6474707362033518],\"z\":[5.029844760587009,4.925261829075904],\"type\":\"scatter3d\"},{\"line\":{\"color\":\"rgba(255, 0, 0, 0.620937906209379)\",\"width\":5},\"mode\":\"lines\",\"x\":[-17.201588216895278,-16.747088881209194],\"y\":[0.10767725901002176,0.7016037801744769],\"z\":[5.479970255311103,6.143808821016971],\"type\":\"scatter3d\"},{\"line\":{\"color\":\"rgba(0, 255, 0, 0.620937906209379)\",\"width\":5},\"mode\":\"lines\",\"x\":[-17.201588216895278,-17.70420776579809],\"y\":[0.10767725901002176,-0.33660369871400153],\"z\":[5.479970255311103,6.2215820268361925],\"type\":\"scatter3d\"},{\"line\":{\"color\":\"rgba(0, 0, 255, 0.620937906209379)\",\"width\":5},\"mode\":\"lines\",\"x\":[-17.201588216895278,-16.466194483632844],\"y\":[0.10767725901002176,-0.5630430389244854],\"z\":[5.479970255311103,5.576563935316648],\"type\":\"scatter3d\"},{\"line\":{\"color\":\"rgba(255, 0, 0, 0.6259374062593741)\",\"width\":5},\"mode\":\"lines\",\"x\":[-17.76648016757865,-17.12291957652752],\"y\":[0.0907118317753031,-0.4188391374816511],\"z\":[5.354352634076721,4.783224298783116],\"type\":\"scatter3d\"},{\"line\":{\"color\":\"rgba(0, 255, 0, 0.6259374062593741)\",\"width\":5},\"mode\":\"lines\",\"x\":[-17.76648016757865,-18.3725453831145],\"y\":[0.0907118317753031,-0.7042669424673366],\"z\":[5.354352634076721,5.380690876637417],\"type\":\"scatter3d\"},{\"line\":{\"color\":\"rgba(0, 0, 255, 0.6259374062593741)\",\"width\":5},\"mode\":\"lines\",\"x\":[-17.76648016757865,-18.233935748530918],\"y\":[0.0907118317753031,0.41990259445404404],\"z\":[5.354352634076721,4.533914506242825],\"type\":\"scatter3d\"},{\"line\":{\"color\":\"rgba(255, 0, 0, 0.630936906309369)\",\"width\":5},\"mode\":\"lines\",\"x\":[-17.567900111860375,-18.42123750063489],\"y\":[0.5943785892615013,0.22376839835970352],\"z\":[5.185555280255846,4.818862783306092],\"type\":\"scatter3d\"},{\"line\":{\"color\":\"rgba(0, 255, 0, 0.630936906309369)\",\"width\":5},\"mode\":\"lines\",\"x\":[-17.567900111860375,-17.497086640476024],\"y\":[0.5943785892615013,1.2088091961698262],\"z\":[5.185555280255846,4.399768743361256],\"type\":\"scatter3d\"},{\"line\":{\"color\":\"rgba(0, 0, 255, 0.630936906309369)\",\"width\":5},\"mode\":\"lines\",\"x\":[-17.567900111860375,-17.051372519964254],\"y\":[0.5943785892615013,-0.10212921090590887],\"z\":[5.185555280255846,4.687482864721738],\"type\":\"scatter3d\"},{\"line\":{\"color\":\"rgba(255, 0, 0, 0.6359364063593641)\",\"width\":5},\"mode\":\"lines\",\"x\":[-17.840469675191382,-17.124008947925976],\"y\":[1.1473798801627204,0.9162981545461824],\"z\":[5.339418630528712,5.9976627056045375],\"type\":\"scatter3d\"},{\"line\":{\"color\":\"rgba(0, 255, 0, 0.6359364063593641)\",\"width\":5},\"mode\":\"lines\",\"x\":[-17.840469675191382,-18.354913607213927],\"y\":[1.1473798801627204,0.33507077435751276],\"z\":[5.339418630528712,5.614193733897204],\"type\":\"scatter3d\"},{\"line\":{\"color\":\"rgba(0, 0, 255, 0.6359364063593641)\",\"width\":5},\"mode\":\"lines\",\"x\":[-17.840469675191382,-17.369267524207828],\"y\":[1.1473798801627204,0.6118846395563515],\"z\":[5.339418630528712,4.638552466274491],\"type\":\"scatter3d\"},{\"line\":{\"color\":\"rgba(255, 0, 0, 0.640935906409359)\",\"width\":5},\"mode\":\"lines\",\"x\":[-17.610430417980364,-16.82884951959135],\"y\":[1.4263821492990236,1.9341124554415914],\"z\":[5.140062713274526,4.777652399544602],\"type\":\"scatter3d\"},{\"line\":{\"color\":\"rgba(0, 255, 0, 0.640935906409359)\",\"width\":5},\"mode\":\"lines\",\"x\":[-17.610430417980364,-17.125429085986752],\"y\":[1.4263821492990236,0.5664143033617781],\"z\":[5.140062713274526,4.981226281941796],\"type\":\"scatter3d\"},{\"line\":{\"color\":\"rgba(0, 0, 255, 0.640935906409359)\",\"width\":5},\"mode\":\"lines\",\"x\":[-17.610430417980364,-18.00273770473128],\"y\":[1.4263821492990236,1.3747561851097279],\"z\":[5.140062713274526,4.221678396888581],\"type\":\"scatter3d\"},{\"line\":{\"color\":\"rgba(255, 0, 0, 0.6459354064593541)\",\"width\":5},\"mode\":\"lines\",\"x\":[-17.4459162745784,-17.662326708702295],\"y\":[1.4807665650426154,2.3101066031582045],\"z\":[5.287061084739674,4.771928456011132],\"type\":\"scatter3d\"},{\"line\":{\"color\":\"rgba(0, 255, 0, 0.6459354064593541)\",\"width\":5},\"mode\":\"lines\",\"x\":[-17.4459162745784,-18.421935130961657],\"y\":[1.4807665650426154,1.284268447556687],\"z\":[5.287061084739674,5.380739693871265],\"type\":\"scatter3d\"},{\"line\":{\"color\":\"rgba(0, 0, 255, 0.6459354064593541)\",\"width\":5},\"mode\":\"lines\",\"x\":[-17.4459162745784,-17.469447445111328],\"y\":[1.4807665650426154,2.00381875269024],\"z\":[5.287061084739674,6.139036843203735],\"type\":\"scatter3d\"},{\"line\":{\"color\":\"rgba(255, 0, 0, 0.650934906509349)\",\"width\":5},\"mode\":\"lines\",\"x\":[-17.117447310618935,-17.598195076542424],\"y\":[1.8068226703856907,1.7771390896999621],\"z\":[4.82967413442515,3.9533177739203205],\"type\":\"scatter3d\"},{\"line\":{\"color\":\"rgba(0, 255, 0, 0.650934906509349)\",\"width\":5},\"mode\":\"lines\",\"x\":[-17.117447310618935,-17.904078969324647],\"y\":[1.8068226703856907,2.262993250047672],\"z\":[4.82967413442515,5.245749891677095],\"type\":\"scatter3d\"},{\"line\":{\"color\":\"rgba(0, 0, 255, 0.650934906509349)\",\"width\":5},\"mode\":\"lines\",\"x\":[-17.117447310618935,-16.730029939968755],\"y\":[1.8068226703856907,2.696219818620703],\"z\":[4.82967413442515,4.587021103061496],\"type\":\"scatter3d\"},{\"line\":{\"color\":\"rgba(255, 0, 0, 0.6559344065593441)\",\"width\":5},\"mode\":\"lines\",\"x\":[-17.258806032808913,-17.62247649528524],\"y\":[1.8493139018789233,2.502726276448678],\"z\":[4.796662661854875,4.132737919522282],\"type\":\"scatter3d\"},{\"line\":{\"color\":\"rgba(0, 255, 0, 0.6559344065593441)\",\"width\":5},\"mode\":\"lines\",\"x\":[-17.258806032808913,-18.051683620795746],\"y\":[1.8493139018789233,1.2580721371794594],\"z\":[4.796662661854875,4.649087914207183],\"type\":\"scatter3d\"},{\"line\":{\"color\":\"rgba(0, 0, 255, 0.6559344065593441)\",\"width\":5},\"mode\":\"lines\",\"x\":[-17.258806032808913,-17.747773235380272],\"y\":[1.8493139018789233,2.3220563734575057],\"z\":[4.796662661854875,5.529755855368046],\"type\":\"scatter3d\"},{\"line\":{\"color\":\"rgba(255, 0, 0, 0.660933906609339)\",\"width\":5},\"mode\":\"lines\",\"x\":[-17.396486819183476,-18.36930295976203],\"y\":[1.7443558195260624,1.9639617987082043],\"z\":[4.857417997145028,4.783919898276237],\"type\":\"scatter3d\"},{\"line\":{\"color\":\"rgba(0, 255, 0, 0.660933906609339)\",\"width\":5},\"mode\":\"lines\",\"x\":[-17.396486819183476,-17.168488195167964],\"y\":[1.7443558195260624,2.708206190222095],\"z\":[4.857417997145028,4.7195445393795845],\"type\":\"scatter3d\"},{\"line\":{\"color\":\"rgba(0, 0, 255, 0.660933906609339)\",\"width\":5},\"mode\":\"lines\",\"x\":[-17.396486819183476,-17.35592348503915],\"y\":[1.7443558195260624,1.593472829044623],\"z\":[4.857417997145028,3.869698938350222],\"type\":\"scatter3d\"},{\"line\":{\"color\":\"rgba(255, 0, 0, 0.6659334066593341)\",\"width\":5},\"mode\":\"lines\",\"x\":[-17.349987150303303,-18.063325226287553],\"y\":[1.718935718389479,1.3727341519576173],\"z\":[4.7751532163711286,4.165814833572837],\"type\":\"scatter3d\"},{\"line\":{\"color\":\"rgba(0, 255, 0, 0.6659334066593341)\",\"width\":5},\"mode\":\"lines\",\"x\":[-17.349987150303303,-16.917955967821765],\"y\":[1.718935718389479,2.1863034582897893],\"z\":[4.7751532163711286,4.003844942680182],\"type\":\"scatter3d\"},{\"line\":{\"color\":\"rgba(0, 0, 255, 0.6659334066593341)\",\"width\":5},\"mode\":\"lines\",\"x\":[-17.349987150303303,-16.79817391494671],\"y\":[1.718935718389479,0.9054789763923087],\"z\":[4.7751532163711286,4.591331884136056],\"type\":\"scatter3d\"},{\"line\":{\"color\":\"rgba(255, 0, 0, 0.670932906709329)\",\"width\":5},\"mode\":\"lines\",\"x\":[-17.76012073423246,-17.156051888348106],\"y\":[1.8002803856933622,2.346691282304867],\"z\":[4.935686976460409,5.515804172806275],\"type\":\"scatter3d\"},{\"line\":{\"color\":\"rgba(0, 255, 0, 0.670932906709329)\",\"width\":5},\"mode\":\"lines\",\"x\":[-17.76012073423246,-17.03813932961179],\"y\":[1.8002803856933622,1.1168612971703396],\"z\":[4.935686976460409,4.827607372351385],\"type\":\"scatter3d\"},{\"line\":{\"color\":\"rgba(0, 0, 255, 0.670932906709329)\",\"width\":5},\"mode\":\"lines\",\"x\":[-17.76012073423246,-17.422713442055873],\"y\":[1.8002803856933622,2.2844017356735327],\"z\":[4.935686976460409,4.128356289765378],\"type\":\"scatter3d\"},{\"line\":{\"color\":\"rgba(255, 0, 0, 0.6759324067593241)\",\"width\":5},\"mode\":\"lines\",\"x\":[-17.771734608892693,-18.386228884381094],\"y\":[1.9833274840235782,2.130181596873851],\"z\":[5.989107190965446,6.764239860210504],\"type\":\"scatter3d\"},{\"line\":{\"color\":\"rgba(0, 255, 0, 0.6759324067593241)\",\"width\":5},\"mode\":\"lines\",\"x\":[-17.771734608892693,-18.489766255464666],\"y\":[1.9833274840235782,2.2862724333439526],\"z\":[5.989107190965446,5.362485365457871],\"type\":\"scatter3d\"},{\"line\":{\"color\":\"rgba(0, 0, 255, 0.6759324067593241)\",\"width\":5},\"mode\":\"lines\",\"x\":[-17.771734608892693,-18.098579128371227],\"y\":[1.9833274840235782,1.0417021725433244],\"z\":[5.989107190965446,5.908395154275702],\"type\":\"scatter3d\"},{\"line\":{\"color\":\"rgba(255, 0, 0, 0.680931906809319)\",\"width\":5},\"mode\":\"lines\",\"x\":[-17.842194941838535,-18.837097946548052],\"y\":[2.23892152303224,2.313242227566863],\"z\":[6.052309411427504,6.120459569882774],\"type\":\"scatter3d\"},{\"line\":{\"color\":\"rgba(0, 255, 0, 0.680931906809319)\",\"width\":5},\"mode\":\"lines\",\"x\":[-17.842194941838535,-17.94281905558627],\"y\":[2.23892152303224,1.4633340720343755],\"z\":[6.052309411427504,5.429140980273329],\"type\":\"scatter3d\"},{\"line\":{\"color\":\"rgba(0, 0, 255, 0.680931906809319)\",\"width\":5},\"mode\":\"lines\",\"x\":[-17.842194941838535,-17.835652851004223],\"y\":[2.23892152303224,1.6120718291405058],\"z\":[6.052309411427504,6.831422151867157],\"type\":\"scatter3d\"},{\"line\":{\"color\":\"rgba(255, 0, 0, 0.6859314068593141)\",\"width\":5},\"mode\":\"lines\",\"x\":[-17.66815459638437,-18.617710254704544],\"y\":[2.076354953056184,2.1565146704736717],\"z\":[6.48915290582544,6.18597231367662],\"type\":\"scatter3d\"},{\"line\":{\"color\":\"rgba(0, 255, 0, 0.6859314068593141)\",\"width\":5},\"mode\":\"lines\",\"x\":[-17.66815459638437,-17.356817292356578],\"y\":[2.076354953056184,2.2014333445091068],\"z\":[6.48915290582544,5.547120804932761],\"type\":\"scatter3d\"},{\"line\":{\"color\":\"rgba(0, 0, 255, 0.6859314068593141)\",\"width\":5},\"mode\":\"lines\",\"x\":[-17.66815459638437,-17.70574628260441],\"y\":[2.076354953056184,1.0874516131411323],\"z\":[6.48915290582544,6.345427301175345],\"type\":\"scatter3d\"},{\"line\":{\"color\":\"rgba(255, 0, 0, 0.690930906909309)\",\"width\":5},\"mode\":\"lines\",\"x\":[-17.826174645797753,-17.633804755692335],\"y\":[2.1304914771976633,2.7033968579628724],\"z\":[6.333406818963834,5.536680234700996],\"type\":\"scatter3d\"},{\"line\":{\"color\":\"rgba(0, 255, 0, 0.690930906909309)\",\"width\":5},\"mode\":\"lines\",\"x\":[-17.826174645797753,-18.65077443979114],\"y\":[2.1304914771976633,2.665013309256149],\"z\":[6.333406818963834,6.5186676912464945],\"type\":\"scatter3d\"},{\"line\":{\"color\":\"rgba(0, 0, 255, 0.690930906909309)\",\"width\":5},\"mode\":\"lines\",\"x\":[-17.826174645797753,-17.2941699417519],\"y\":[2.1304914771976633,2.751833440808007],\"z\":[6.333406818963834,6.908650384012551],\"type\":\"scatter3d\"},{\"line\":{\"color\":\"rgba(255, 0, 0, 0.6959304069593041)\",\"width\":5},\"mode\":\"lines\",\"x\":[-17.480529450834172,-17.632966710258284],\"y\":[1.973706175382549,1.6674417958958538],\"z\":[7.7620525569174585,6.822390377303466],\"type\":\"scatter3d\"},{\"line\":{\"color\":\"rgba(0, 255, 0, 0.6959304069593041)\",\"width\":5},\"mode\":\"lines\",\"x\":[-17.480529450834172,-17.181143928664248],\"y\":[1.973706175382549,1.053295695169314],\"z\":[7.7620525569174585,8.01347422867375],\"type\":\"scatter3d\"},{\"line\":{\"color\":\"rgba(0, 0, 255, 0.6959304069593041)\",\"width\":5},\"mode\":\"lines\",\"x\":[-17.480529450834172,-18.42240587110083],\"y\":[1.973706175382549,1.7307109536778427],\"z\":[7.7620525569174585,7.994048529241059],\"type\":\"scatter3d\"},{\"line\":{\"color\":\"rgba(255, 0, 0, 0.700929907009299)\",\"width\":5},\"mode\":\"lines\",\"x\":[-17.988370490494507,-18.943608260534752],\"y\":[1.204788652315881,0.9398236212058021],\"z\":[7.951794816117485,8.08337876262084],\"type\":\"scatter3d\"},{\"line\":{\"color\":\"rgba(0, 255, 0, 0.700929907009299)\",\"width\":5},\"mode\":\"lines\",\"x\":[-17.988370490494507,-17.763920939935677],\"y\":[1.204788652315881,0.8454500316146931],\"z\":[7.951794816117485,8.857608348212548],\"type\":\"scatter3d\"},{\"line\":{\"color\":\"rgba(0, 0, 255, 0.700929907009299)\",\"width\":5},\"mode\":\"lines\",\"x\":[-17.988370490494507,-18.181096207363066],\"y\":[1.204788652315881,2.099589908440084],\"z\":[7.951794816117485,8.35451992099188],\"type\":\"scatter3d\"},{\"line\":{\"color\":\"rgba(255, 0, 0, 0.7059294070592941)\",\"width\":5},\"mode\":\"lines\",\"x\":[-17.306350847058447,-18.199966482384287],\"y\":[2.043128811227025,1.812524602063257],\"z\":[6.578880764654329,6.193818698206371],\"type\":\"scatter3d\"},{\"line\":{\"color\":\"rgba(0, 255, 0, 0.7059294070592941)\",\"width\":5},\"mode\":\"lines\",\"x\":[-17.306350847058447,-17.223879505258875],\"y\":[2.043128811227025,1.1154548004623965],\"z\":[6.578880764654329,6.943050241043677],\"type\":\"scatter3d\"},{\"line\":{\"color\":\"rgba(0, 0, 255, 0.7059294070592941)\",\"width\":5},\"mode\":\"lines\",\"x\":[-17.306350847058447,-17.747541932737878],\"y\":[2.043128811227025,2.336799763940892],\"z\":[6.578880764654329,7.426883003713377],\"type\":\"scatter3d\"},{\"line\":{\"color\":\"rgba(255, 0, 0, 0.710928907109289)\",\"width\":5},\"mode\":\"lines\",\"x\":[-17.798353029674963,-18.079717055106045],\"y\":[3.2029922016947827,3.3954471297329394],\"z\":[6.169452829172318,5.2293489062642875],\"type\":\"scatter3d\"},{\"line\":{\"color\":\"rgba(0, 255, 0, 0.710928907109289)\",\"width\":5},\"mode\":\"lines\",\"x\":[-17.798353029674963,-18.676610742446623],\"y\":[3.2029922016947827,2.7566056103248404],\"z\":[6.169452829172318,6.340924112488939],\"type\":\"scatter3d\"},{\"line\":{\"color\":\"rgba(0, 0, 255, 0.710928907109289)\",\"width\":5},\"mode\":\"lines\",\"x\":[-17.798353029674963,-18.18500232186407],\"y\":[3.2029922016947827,4.076891573315453],\"z\":[6.169452829172318,6.464074982329043],\"type\":\"scatter3d\"},{\"line\":{\"color\":\"rgba(255, 0, 0, 0.7159284071592841)\",\"width\":5},\"mode\":\"lines\",\"x\":[-17.843893559156342,-18.322309785901297],\"y\":[4.063987540039181,3.455421420343145],\"z\":[6.404594313955071,7.037654494305457],\"type\":\"scatter3d\"},{\"line\":{\"color\":\"rgba(0, 255, 0, 0.7159284071592841)\",\"width\":5},\"mode\":\"lines\",\"x\":[-17.843893559156342,-17.52889279483541],\"y\":[4.063987540039181,3.2721174697781032],\"z\":[6.404594313955071,5.881415271655035],\"type\":\"scatter3d\"},{\"line\":{\"color\":\"rgba(0, 0, 255, 0.7159284071592841)\",\"width\":5},\"mode\":\"lines\",\"x\":[-17.843893559156342,-17.024203109983986],\"y\":[4.063987540039181,4.0131046373814785],\"z\":[6.404594313955071,6.975136597885696],\"type\":\"scatter3d\"},{\"line\":{\"color\":\"rgba(255, 0, 0, 0.720927907209279)\",\"width\":5},\"mode\":\"lines\",\"x\":[-17.99026861977227,-17.83732934403843],\"y\":[3.9223050292582124,3.6429071024181776],\"z\":[7.528160050399444,8.476076911951933],\"type\":\"scatter3d\"},{\"line\":{\"color\":\"rgba(0, 255, 0, 0.720927907209279)\",\"width\":5},\"mode\":\"lines\",\"x\":[-17.99026861977227,-18.795260778181273],\"y\":[3.9223050292582124,4.443475535660757],\"z\":[7.528160050399444,7.811654191707797],\"type\":\"scatter3d\"},{\"line\":{\"color\":\"rgba(0, 0, 255, 0.720927907209279)\",\"width\":5},\"mode\":\"lines\",\"x\":[-17.99026861977227,-18.56350260588793],\"y\":[3.9223050292582124,3.1158820002382974],\"z\":[7.528160050399444,7.3829543500005315],\"type\":\"scatter3d\"},{\"line\":{\"color\":\"rgba(255, 0, 0, 0.7259274072592741)\",\"width\":5},\"mode\":\"lines\",\"x\":[-18.089463864148076,-17.73667951189955],\"y\":[4.399336719552969,5.014599809617502],\"z\":[7.402997988540381,6.698019598224152],\"type\":\"scatter3d\"},{\"line\":{\"color\":\"rgba(0, 255, 0, 0.7259274072592741)\",\"width\":5},\"mode\":\"lines\",\"x\":[-18.089463864148076,-17.207683548458093],\"y\":[4.399336719552969,4.432808130742121],\"z\":[7.402997988540381,7.873469177344439],\"type\":\"scatter3d\"},{\"line\":{\"color\":\"rgba(0, 0, 255, 0.7259274072592741)\",\"width\":5},\"mode\":\"lines\",\"x\":[-18.089463864148076,-17.776403685156424],\"y\":[4.399336719552969,3.6117257783914734],\"z\":[7.402997988540381,6.872279296866105],\"type\":\"scatter3d\"},{\"line\":{\"color\":\"rgba(255, 0, 0, 0.7309269073092691)\",\"width\":5},\"mode\":\"lines\",\"x\":[-18.75048119306548,-19.095641132788895],\"y\":[4.464856786707484,3.8114814509321806],\"z\":[7.391954783051434,8.06572424407699],\"type\":\"scatter3d\"},{\"line\":{\"color\":\"rgba(0, 255, 0, 0.7309269073092691)\",\"width\":5},\"mode\":\"lines\",\"x\":[-18.75048119306548,-18.5477966489797],\"y\":[4.464856786707484,5.113913561373176],\"z\":[7.391954783051434,8.125197088738537],\"type\":\"scatter3d\"},{\"line\":{\"color\":\"rgba(0, 0, 255, 0.7309269073092691)\",\"width\":5},\"mode\":\"lines\",\"x\":[-18.75048119306548,-19.66687826398992],\"y\":[4.464856786707484,4.854505312767991],\"z\":[7.391954783051434,7.300355467879265],\"type\":\"scatter3d\"},{\"line\":{\"color\":\"rgba(255, 0, 0, 0.7359264073592641)\",\"width\":5},\"mode\":\"lines\",\"x\":[-18.70236666851603,-19.302538758661193],\"y\":[4.407929463992844,3.681770463949421],\"z\":[7.565124377424797,7.229734203348751],\"type\":\"scatter3d\"},{\"line\":{\"color\":\"rgba(0, 255, 0, 0.7359264073592641)\",\"width\":5},\"mode\":\"lines\",\"x\":[-18.70236666851603,-19.333331931674945],\"y\":[4.407929463992844,5.095443957951714],\"z\":[7.565124377424797,7.205671101903044],\"type\":\"scatter3d\"},{\"line\":{\"color\":\"rgba(0, 0, 255, 0.7359264073592641)\",\"width\":5},\"mode\":\"lines\",\"x\":[-18.70236666851603,-18.21076083159216],\"y\":[4.407929463992844,4.403815189760235],\"z\":[7.565124377424797,6.694316262022822],\"type\":\"scatter3d\"},{\"line\":{\"color\":\"rgba(255, 0, 0, 0.7409259074092591)\",\"width\":5},\"mode\":\"lines\",\"x\":[-20.404917718889067,-20.587505895939206],\"y\":[4.396044723469424,3.732005556054046],\"z\":[7.56293489544293,6.837873834745399],\"type\":\"scatter3d\"},{\"line\":{\"color\":\"rgba(0, 255, 0, 0.7409259074092591)\",\"width\":5},\"mode\":\"lines\",\"x\":[-20.404917718889067,-19.76550173110487],\"y\":[4.396044723469424,4.876044136833433],\"z\":[7.56293489544293,6.9623120872378195],\"type\":\"scatter3d\"},{\"line\":{\"color\":\"rgba(0, 0, 255, 0.7409259074092591)\",\"width\":5},\"mode\":\"lines\",\"x\":[-20.404917718889067,-19.658051765609972],\"y\":[4.396044723469424,3.8227624654947463],\"z\":[7.56293489544293,7.899889937731952],\"type\":\"scatter3d\"},{\"line\":{\"color\":\"rgba(255, 0, 0, 0.7459254074592541)\",\"width\":5},\"mode\":\"lines\",\"x\":[-20.270254817257783,-20.592104202175996],\"y\":[4.8783044956567245,5.003743634095155],\"z\":[7.913963276559925,6.97551882110419],\"type\":\"scatter3d\"},{\"line\":{\"color\":\"rgba(0, 255, 0, 0.7459254074592541)\",\"width\":5},\"mode\":\"lines\",\"x\":[-20.270254817257783,-19.326050337801057],\"y\":[4.8783044956567245,4.994043357471002],\"z\":[7.913963276559925,7.605608907627335],\"type\":\"scatter3d\"},{\"line\":{\"color\":\"rgba(0, 0, 255, 0.7459254074592541)\",\"width\":5},\"mode\":\"lines\",\"x\":[-20.270254817257783,-20.20032003048005],\"y\":[4.8783044956567245,3.8929773731162927],\"z\":[7.913963276559925,7.758272598661112],\"type\":\"scatter3d\"},{\"line\":{\"color\":\"rgba(255, 0, 0, 0.7509249075092491)\",\"width\":5},\"mode\":\"lines\",\"x\":[-21.180330350134245,-21.385179200925794],\"y\":[7.083354680226077,8.053276536811051],\"z\":[6.818265515150347,6.6867796206666235],\"type\":\"scatter3d\"},{\"line\":{\"color\":\"rgba(0, 255, 0, 0.7509249075092491)\",\"width\":5},\"mode\":\"lines\",\"x\":[-21.180330350134245,-22.157912162487214],\"y\":[7.083354680226077,6.873931380796874],\"z\":[6.818265515150347,6.796455384181142],\"type\":\"scatter3d\"},{\"line\":{\"color\":\"rgba(0, 0, 255, 0.7509249075092491)\",\"width\":5},\"mode\":\"lines\",\"x\":[-21.180330350134245,-21.22902068270744],\"y\":[7.083354680226077,7.207425118989672],\"z\":[6.818265515150347,7.809343603768463],\"type\":\"scatter3d\"},{\"line\":{\"color\":\"rgba(255, 0, 0, 0.7559244075592441)\",\"width\":5},\"mode\":\"lines\",\"x\":[-21.00684813469265,-21.609690012116],\"y\":[7.5646945092807965,8.174177646284836],\"z\":[7.064242124074806,7.579132380860111],\"type\":\"scatter3d\"},{\"line\":{\"color\":\"rgba(0, 255, 0, 0.7559244075592441)\",\"width\":5},\"mode\":\"lines\",\"x\":[-21.00684813469265,-20.69958262426876],\"y\":[7.5646945092807965,7.146478337438786],\"z\":[7.064242124074806,7.919042182400601],\"type\":\"scatter3d\"},{\"line\":{\"color\":\"rgba(0, 0, 255, 0.7559244075592441)\",\"width\":5},\"mode\":\"lines\",\"x\":[-21.00684813469265,-20.270526481521525],\"y\":[7.5646945092807965,8.238211798826935],\"z\":[7.064242124074806,7.129087199090548],\"type\":\"scatter3d\"},{\"line\":{\"color\":\"rgba(255, 0, 0, 0.7609239076092391)\",\"width\":5},\"mode\":\"lines\",\"x\":[-21.7744633955672,-21.440280034206893],\"y\":[7.7153289272349115,7.715739056854819],\"z\":[7.995139604383654,8.937647595216433],\"type\":\"scatter3d\"},{\"line\":{\"color\":\"rgba(0, 255, 0, 0.7609239076092391)\",\"width\":5},\"mode\":\"lines\",\"x\":[-21.7744633955672,-22.510126203811126],\"y\":[7.7153289272349115,7.090333409656053],\"z\":[7.995139604383654,8.256254206757832],\"type\":\"scatter3d\"},{\"line\":{\"color\":\"rgba(0, 0, 255, 0.7609239076092391)\",\"width\":5},\"mode\":\"lines\",\"x\":[-21.7744633955672,-21.185293035181843],\"y\":[7.7153289272349115,6.934700696384864],\"z\":[7.995139604383654,7.7865782185919565],\"type\":\"scatter3d\"},{\"line\":{\"color\":\"rgba(255, 0, 0, 0.7659234076592341)\",\"width\":5},\"mode\":\"lines\",\"x\":[-22.081106817513046,-22.94113011535422],\"y\":[7.814469590173034,7.77100829119818],\"z\":[8.062237545794435,8.570638020481303],\"type\":\"scatter3d\"},{\"line\":{\"color\":\"rgba(0, 255, 0, 0.7659234076592341)\",\"width\":5},\"mode\":\"lines\",\"x\":[-22.081106817513046,-21.611081327393627],\"y\":[7.814469590173034,8.13476533171684],\"z\":[8.062237545794435,8.884725646977014],\"type\":\"scatter3d\"},{\"line\":{\"color\":\"rgba(0, 0, 255, 0.7659234076592341)\",\"width\":5},\"mode\":\"lines\",\"x\":[-22.081106817513046,-22.27969172582285],\"y\":[7.814469590173034,8.760789701678844],\"z\":[8.062237545794435,7.807203664219336],\"type\":\"scatter3d\"},{\"line\":{\"color\":\"rgba(255, 0, 0, 0.7709229077092291)\",\"width\":5},\"mode\":\"lines\",\"x\":[-22.101324189535937,-22.716005367099758],\"y\":[7.752118555481641,7.364713364714413],\"z\":[7.174102096906919,6.487018209659237],\"type\":\"scatter3d\"},{\"line\":{\"color\":\"rgba(0, 255, 0, 0.7709229077092291)\",\"width\":5},\"mode\":\"lines\",\"x\":[-22.101324189535937,-21.321500486179385],\"y\":[7.752118555481641,7.58450905041925],\"z\":[7.174102096906919,6.570958626830322],\"type\":\"scatter3d\"},{\"line\":{\"color\":\"rgba(0, 0, 255, 0.7709229077092291)\",\"width\":5},\"mode\":\"lines\",\"x\":[-22.101324189535937,-21.982825068728836],\"y\":[7.752118555481641,6.845573315584926],\"z\":[7.174102096906919,7.579236255413199],\"type\":\"scatter3d\"},{\"line\":{\"color\":\"rgba(255, 0, 0, 0.775922407759224)\",\"width\":5},\"mode\":\"lines\",\"x\":[-22.04752930354924,-21.13492036745462],\"y\":[7.677174961100011,8.062821033937059],\"z\":[7.385619428636452,7.249891626526364],\"type\":\"scatter3d\"},{\"line\":{\"color\":\"rgba(0, 255, 0, 0.775922407759224)\",\"width\":5},\"mode\":\"lines\",\"x\":[-22.04752930354924,-21.70071750041372],\"y\":[7.677174961100011,7.1227155237003545],\"z\":[7.385619428636452,8.142122109057592],\"type\":\"scatter3d\"},{\"line\":{\"color\":\"rgba(0, 0, 255, 0.775922407759224)\",\"width\":5},\"mode\":\"lines\",\"x\":[-22.04752930354924,-21.83104257655158],\"y\":[7.677174961100011,6.9397118509827225],\"z\":[7.385619428636452,6.745868181470797],\"type\":\"scatter3d\"},{\"line\":{\"color\":\"rgba(255, 0, 0, 0.7809219078092191)\",\"width\":5},\"mode\":\"lines\",\"x\":[-22.644622299146484,-21.928756503884244],\"y\":[8.009894355591868,7.748515693069222],\"z\":[7.794359594342463,7.1468896275089],\"type\":\"scatter3d\"},{\"line\":{\"color\":\"rgba(0, 255, 0, 0.7809219078092191)\",\"width\":5},\"mode\":\"lines\",\"x\":[-22.644622299146484,-22.2609512284459],\"y\":[8.009894355591868,7.382388494858962],\"z\":[7.794359594342463,8.471879265092584],\"type\":\"scatter3d\"},{\"line\":{\"color\":\"rgba(0, 0, 255, 0.7809219078092191)\",\"width\":5},\"mode\":\"lines\",\"x\":[-22.644622299146484,-23.228002683356525],\"y\":[8.009894355591868,7.276465702263017],\"z\":[7.794359594342463,7.445433043625545],\"type\":\"scatter3d\"},{\"line\":{\"color\":\"rgba(255, 0, 0, 0.785921407859214)\",\"width\":5},\"mode\":\"lines\",\"x\":[-22.670299117218427,-23.09596365061789],\"y\":[7.522139408133244,8.416441332779016],\"z\":[8.093902467486826,8.231865406643438],\"type\":\"scatter3d\"},{\"line\":{\"color\":\"rgba(0, 255, 0, 0.785921407859214)\",\"width\":5},\"mode\":\"lines\",\"x\":[-22.670299117218427,-21.853198021177832],\"y\":[7.522139408133244,7.967525233028805],\"z\":[8.093902467486826,7.7278734169575145],\"type\":\"scatter3d\"},{\"line\":{\"color\":\"rgba(0, 0, 255, 0.785921407859214)\",\"width\":5},\"mode\":\"lines\",\"x\":[-22.670299117218427,-23.05908633904433],\"y\":[7.522139408133244,7.479063491926885],\"z\":[8.093902467486826,7.173582435330677],\"type\":\"scatter3d\"},{\"line\":{\"color\":\"rgba(255, 0, 0, 0.7909209079092091)\",\"width\":5},\"mode\":\"lines\",\"x\":[-21.982582536853254,-21.030129893485473],\"y\":[7.223064329217702,7.382752597632501],\"z\":[7.684539193812945,7.425051970481173],\"type\":\"scatter3d\"},{\"line\":{\"color\":\"rgba(0, 255, 0, 0.7909209079092091)\",\"width\":5},\"mode\":\"lines\",\"x\":[-21.982582536853254,-22.287074834224093],\"y\":[7.223064329217702,7.691517354963988],\"z\":[7.684539193812945,6.855180282658672],\"type\":\"scatter3d\"},{\"line\":{\"color\":\"rgba(0, 0, 255, 0.7909209079092091)\",\"width\":5},\"mode\":\"lines\",\"x\":[-21.982582536853254,-21.993463850357593],\"y\":[7.223064329217702,8.09200127721789],\"z\":[7.684539193812945,8.17934236419141],\"type\":\"scatter3d\"},{\"line\":{\"color\":\"rgba(255, 0, 0, 0.795920407959204)\",\"width\":5},\"mode\":\"lines\",\"x\":[-21.918591234597713,-21.735055736068933],\"y\":[6.99774331810213,7.662956431463133],\"z\":[7.351185138479642,6.627440546380756],\"type\":\"scatter3d\"},{\"line\":{\"color\":\"rgba(0, 255, 0, 0.795920407959204)\",\"width\":5},\"mode\":\"lines\",\"x\":[-21.918591234597713,-21.07354620669248],\"y\":[6.99774331810213,6.514833779889326],\"z\":[7.351185138479642,7.121626259941313],\"type\":\"scatter3d\"},{\"line\":{\"color\":\"rgba(0, 0, 255, 0.795920407959204)\",\"width\":5},\"mode\":\"lines\",\"x\":[-21.918591234597713,-22.420799977644332],\"y\":[6.99774331810213,6.428278752289906],\"z\":[7.351185138479642,6.700419061696396],\"type\":\"scatter3d\"},{\"line\":{\"color\":\"rgba(255, 0, 0, 0.8009199080091991)\",\"width\":5},\"mode\":\"lines\",\"x\":[-21.1146383282805,-21.172899730843046],\"y\":[6.7501036769389104,7.748113473898071],\"z\":[7.023550648408573,7.047676446737887],\"type\":\"scatter3d\"},{\"line\":{\"color\":\"rgba(0, 255, 0, 0.8009199080091991)\",\"width\":5},\"mode\":\"lines\",\"x\":[-21.1146383282805,-20.743777959400155],\"y\":[6.7501036769389104,6.794178347834049],\"z\":[7.023550648408573,6.095908470529927],\"type\":\"scatter3d\"},{\"line\":{\"color\":\"rgba(0, 0, 255, 0.8009199080091991)\",\"width\":5},\"mode\":\"lines\",\"x\":[-21.1146383282805,-22.04149764649735],\"y\":[6.7501036769389104,6.705005245047466],\"z\":[7.023550648408573,6.650860514818279],\"type\":\"scatter3d\"},{\"line\":{\"color\":\"rgba(255, 0, 0, 0.805919408059194)\",\"width\":5},\"mode\":\"lines\",\"x\":[-21.01731592060097,-20.06482641814114],\"y\":[7.0737708186730694,6.94991506564774],\"z\":[6.9638937628798985,7.242144549305345],\"type\":\"scatter3d\"},{\"line\":{\"color\":\"rgba(0, 255, 0, 0.805919408059194)\",\"width\":5},\"mode\":\"lines\",\"x\":[-21.01731592060097,-21.299115511257355],\"y\":[7.0737708186730694,7.062006954525907],\"z\":[6.9638937628798985,7.9232949314252785],\"type\":\"scatter3d\"},{\"line\":{\"color\":\"rgba(0, 0, 255, 0.805919408059194)\",\"width\":5},\"mode\":\"lines\",\"x\":[-21.01731592060097,-21.132869970334188],\"y\":[7.0737708186730694,6.081540319271391],\"z\":[6.9638937628798985,6.917786305268389],\"type\":\"scatter3d\"},{\"line\":{\"color\":\"rgba(255, 0, 0, 0.8109189081091891)\",\"width\":5},\"mode\":\"lines\",\"x\":[-20.90705911400493,-20.702192387454225],\"y\":[6.87567249864911,7.572511664699821],\"z\":[6.624001390658012,7.311347592371662],\"type\":\"scatter3d\"},{\"line\":{\"color\":\"rgba(0, 255, 0, 0.8109189081091891)\",\"width\":5},\"mode\":\"lines\",\"x\":[-20.90705911400493,-20.21265932706256],\"y\":[6.87567249864911,6.277287480980384],\"z\":[6.624001390658012,7.023681646017249],\"type\":\"scatter3d\"},{\"line\":{\"color\":\"rgba(0, 0, 255, 0.8109189081091891)\",\"width\":5},\"mode\":\"lines\",\"x\":[-20.90705911400493,-20.217248589116522],\"y\":[6.87567249864911,7.271084369092319],\"z\":[6.624001390658012,6.017527242432539],\"type\":\"scatter3d\"},{\"line\":{\"color\":\"rgba(255, 0, 0, 0.815918408159184)\",\"width\":5},\"mode\":\"lines\",\"x\":[-20.573492172947958,-20.928649638504535],\"y\":[5.9190804573500495,4.989204885093034],\"z\":[6.415168674730742,6.319280225065724],\"type\":\"scatter3d\"},{\"line\":{\"color\":\"rgba(0, 255, 0, 0.815918408159184)\",\"width\":5},\"mode\":\"lines\",\"x\":[-20.573492172947958,-20.782389052809187],\"y\":[5.9190804573500495,6.098008988372512],\"z\":[6.415168674730742,5.453739179463197],\"type\":\"scatter3d\"},{\"line\":{\"color\":\"rgba(0, 0, 255, 0.815918408159184)\",\"width\":5},\"mode\":\"lines\",\"x\":[-20.573492172947958,-19.66232519141071],\"y\":[5.9190804573500495,5.59765239244924],\"z\":[6.415168674730742,6.157372765433386],\"type\":\"scatter3d\"},{\"line\":{\"color\":\"rgba(255, 0, 0, 0.8209179082091791)\",\"width\":5},\"mode\":\"lines\",\"x\":[-20.93480893742612,-20.955989492528975],\"y\":[5.405735134969845,6.332508236089138],\"z\":[6.513942836819226,6.138918833417705],\"type\":\"scatter3d\"},{\"line\":{\"color\":\"rgba(0, 255, 0, 0.8209179082091791)\",\"width\":5},\"mode\":\"lines\",\"x\":[-20.93480893742612,-20.043022174114824],\"y\":[5.405735134969845,5.592820265668996],\"z\":[6.513942836819226,6.925908275483774],\"type\":\"scatter3d\"},{\"line\":{\"color\":\"rgba(0, 0, 255, 0.8209179082091791)\",\"width\":5},\"mode\":\"lines\",\"x\":[-20.93480893742612,-20.482849035589318],\"y\":[5.405735134969845,5.080019349486466],\"z\":[6.513942836819226,5.6834962857284035],\"type\":\"scatter3d\"},{\"line\":{\"color\":\"rgba(255, 0, 0, 0.825917408259174)\",\"width\":5},\"mode\":\"lines\",\"x\":[-20.888858930305563,-20.561295001914992],\"y\":[5.7946682674546555,6.194792587132903],\"z\":[6.353425930629679,5.49750397062434],\"type\":\"scatter3d\"},{\"line\":{\"color\":\"rgba(0, 255, 0, 0.825917408259174)\",\"width\":5},\"mode\":\"lines\",\"x\":[-20.888858930305563,-20.091987239215793],\"y\":[5.7946682674546555,6.164395699253203],\"z\":[6.353425930629679,6.831230424241249],\"type\":\"scatter3d\"},{\"line\":{\"color\":\"rgba(0, 0, 255, 0.825917408259174)\",\"width\":5},\"mode\":\"lines\",\"x\":[-20.888858930305563,-20.38121990426728],\"y\":[5.7946682674546555,4.956096770814259],\"z\":[6.353425930629679,6.155687557355224],\"type\":\"scatter3d\"},{\"line\":{\"color\":\"rgba(255, 0, 0, 0.8309169083091691)\",\"width\":5},\"mode\":\"lines\",\"x\":[-20.492689392108648,-20.629589159696426],\"y\":[6.627575248904841,7.414236322964713],\"z\":[6.198890037857004,6.800905659077431],\"type\":\"scatter3d\"},{\"line\":{\"color\":\"rgba(0, 255, 0, 0.8309169083091691)\",\"width\":5},\"mode\":\"lines\",\"x\":[-20.492689392108648,-20.686172903908044],\"y\":[6.627575248904841,7.2023722527723955],\"z\":[6.198890037857004,5.403797253958996],\"type\":\"scatter3d\"},{\"line\":{\"color\":\"rgba(0, 0, 255, 0.8309169083091691)\",\"width\":5},\"mode\":\"lines\",\"x\":[-20.492689392108648,-21.464194710826057],\"y\":[6.627575248904841,6.402247135026663],\"z\":[6.198890037857004,6.272406408822373],\"type\":\"scatter3d\"},{\"line\":{\"color\":\"rgba(255, 0, 0, 0.835916408359164)\",\"width\":5},\"mode\":\"lines\",\"x\":[-20.42289249103562,-20.904917978402715],\"y\":[6.648522994051594,5.800655427564352],\"z\":[6.013031111334515,5.792187231574278],\"type\":\"scatter3d\"},{\"line\":{\"color\":\"rgba(0, 255, 0, 0.835916408359164)\",\"width\":5},\"mode\":\"lines\",\"x\":[-20.42289249103562,-20.036724516543845],\"y\":[6.648522994051594,6.216673054592435],\"z\":[6.013031111334515,6.828126151968469],\"type\":\"scatter3d\"},{\"line\":{\"color\":\"rgba(0, 0, 255, 0.835916408359164)\",\"width\":5},\"mode\":\"lines\",\"x\":[-20.42289249103562,-21.20935655569812],\"y\":[6.648522994051594,6.956136744537762],\"z\":[6.013031111334515,6.548613089659401],\"type\":\"scatter3d\"},{\"line\":{\"color\":\"rgba(255, 0, 0, 0.8409159084091591)\",\"width\":5},\"mode\":\"lines\",\"x\":[-19.946690689238057,-19.89170525951665],\"y\":[6.848877077637785,5.877885704385661],\"z\":[5.491627642230409,5.724334229134064],\"type\":\"scatter3d\"},{\"line\":{\"color\":\"rgba(0, 255, 0, 0.8409159084091591)\",\"width\":5},\"mode\":\"lines\",\"x\":[-19.946690689238057,-20.327359320523275],\"y\":[6.848877077637785,7.04394851482443],\"z\":[5.491627642230409,6.395529477359312],\"type\":\"scatter3d\"},{\"line\":{\"color\":\"rgba(0, 0, 255, 0.8409159084091591)\",\"width\":5},\"mode\":\"lines\",\"x\":[-19.946690689238057,-20.869765981765063],\"y\":[6.848877077637785,6.710591548879589],\"z\":[5.491627642230409,5.132727771984858],\"type\":\"scatter3d\"},{\"line\":{\"color\":\"rgba(255, 0, 0, 0.8459154084591541)\",\"width\":5},\"mode\":\"lines\",\"x\":[-21.914883138705285,-20.970332238385588],\"y\":[6.139941174873784,5.821034190855031],\"z\":[6.617652395754161,6.695895173371947],\"type\":\"scatter3d\"},{\"line\":{\"color\":\"rgba(0, 255, 0, 0.8459154084591541)\",\"width\":5},\"mode\":\"lines\",\"x\":[-21.914883138705285,-22.16809609827512],\"y\":[6.139941174873784,5.2808401924998645],\"z\":[6.617652395754161,6.172873013149608],\"type\":\"scatter3d\"},{\"line\":{\"color\":\"rgba(0, 0, 255, 0.8459154084591541)\",\"width\":5},\"mode\":\"lines\",\"x\":[-21.914883138705285,-21.705821440130045],\"y\":[6.139941174873784,6.540245855870989],\"z\":[6.617652395754161,5.725436408136483],\"type\":\"scatter3d\"},{\"line\":{\"color\":\"rgba(255, 0, 0, 0.8509149085091491)\",\"width\":5},\"mode\":\"lines\",\"x\":[-21.973667342166415,-21.17806879654498],\"y\":[6.200972947267869,5.595446978121157],\"z\":[6.524467576681983,6.505460870127925],\"type\":\"scatter3d\"},{\"line\":{\"color\":\"rgba(0, 255, 0, 0.8509149085091491)\",\"width\":5},\"mode\":\"lines\",\"x\":[-21.973667342166415,-21.489968413839453],\"y\":[6.200972947267869,6.854767925102496],\"z\":[6.524467576681983,5.942584879144412],\"type\":\"scatter3d\"},{\"line\":{\"color\":\"rgba(0, 0, 255, 0.8509149085091491)\",\"width\":5},\"mode\":\"lines\",\"x\":[-21.973667342166415,-21.608895768520064],\"y\":[6.200972947267869,6.654724451559811],\"z\":[6.524467576681983,7.337518172532198],\"type\":\"scatter3d\"},{\"line\":{\"color\":\"rgba(255, 0, 0, 0.8559144085591441)\",\"width\":5},\"mode\":\"lines\",\"x\":[-22.50994317043431,-23.169856266160522],\"y\":[6.460217939893246,7.0660534775251405],\"z\":[6.392525064973477,6.836910041577498],\"type\":\"scatter3d\"},{\"line\":{\"color\":\"rgba(0, 255, 0, 0.8559144085591441)\",\"width\":5},\"mode\":\"lines\",\"x\":[-22.50994317043431,-23.25158675034944],\"y\":[6.460217939893246,5.840249279471741],\"z\":[6.392525064973477,6.136392949716789],\"type\":\"scatter3d\"},{\"line\":{\"color\":\"rgba(0, 0, 255, 0.8559144085591441)\",\"width\":5},\"mode\":\"lines\",\"x\":[-22.50994317043431,-22.389612349529003],\"y\":[6.460217939893246,5.961617737890195],\"z\":[6.392525064973477,7.25096453989457],\"type\":\"scatter3d\"},{\"line\":{\"color\":\"rgba(255, 0, 0, 0.8609139086091391)\",\"width\":5},\"mode\":\"lines\",\"x\":[-22.26842191701721,-21.594126522543988],\"y\":[6.40982623231371,7.0368126771057105],\"z\":[6.481834273441381,6.091688507042048],\"type\":\"scatter3d\"},{\"line\":{\"color\":\"rgba(0, 255, 0, 0.8609139086091391)\",\"width\":5},\"mode\":\"lines\",\"x\":[-22.26842191701721,-22.92092221823567],\"y\":[6.40982623231371,6.668300439747654],\"z\":[6.481834273441381,5.769489945885357],\"type\":\"scatter3d\"},{\"line\":{\"color\":\"rgba(0, 0, 255, 0.8609139086091391)\",\"width\":5},\"mode\":\"lines\",\"x\":[-22.26842191701721,-22.61420953666553],\"y\":[6.40982623231371,7.14472696175853],\"z\":[6.481834273441381,7.06523108519086],\"type\":\"scatter3d\"},{\"line\":{\"color\":\"rgba(255, 0, 0, 0.8659134086591341)\",\"width\":5},\"mode\":\"lines\",\"x\":[-22.29546158801184,-21.678710651071324],\"y\":[6.111421214136666,5.340373614259759],\"z\":[5.744924787443973,5.586482745967928],\"type\":\"scatter3d\"},{\"line\":{\"color\":\"rgba(0, 255, 0, 0.8659134086591341)\",\"width\":5},\"mode\":\"lines\",\"x\":[-22.29546158801184,-22.978465163655354],\"y\":[6.111421214136666,5.687291791916221],\"z\":[5.744924787443973,5.150264927637415],\"type\":\"scatter3d\"},{\"line\":{\"color\":\"rgba(0, 0, 255, 0.8659134086591341)\",\"width\":5},\"mode\":\"lines\",\"x\":[-22.29546158801184,-21.904150461871527],\"y\":[6.111421214136666,6.586394720693673],\"z\":[5.744924787443973,4.956714301198216],\"type\":\"scatter3d\"},{\"line\":{\"color\":\"rgba(255, 0, 0, 0.8709129087091291)\",\"width\":5},\"mode\":\"lines\",\"x\":[-22.755166411365046,-22.38738947574833],\"y\":[5.902146236180159,4.988873049992973],\"z\":[6.204466597469179,6.379601439861913],\"type\":\"scatter3d\"},{\"line\":{\"color\":\"rgba(0, 255, 0, 0.8709129087091291)\",\"width\":5},\"mode\":\"lines\",\"x\":[-22.755166411365046,-23.08741385503454],\"y\":[5.902146236180159,5.597192013766124],\"z\":[6.204466597469179,5.311933932292736],\"type\":\"scatter3d\"},{\"line\":{\"color\":\"rgba(0, 0, 255, 0.8709129087091291)\",\"width\":5},\"mode\":\"lines\",\"x\":[-22.755166411365046,-21.886632150783754],\"y\":[5.902146236180159,6.172211061034125],\"z\":[6.204466597469179,5.7888787865637905],\"type\":\"scatter3d\"},{\"line\":{\"color\":\"rgba(255, 0, 0, 0.8759124087591241)\",\"width\":5},\"mode\":\"lines\",\"x\":[-22.086559896403045,-22.322540578920307],\"y\":[5.922758468833528,6.57551450129459],\"z\":[6.015879095899861,5.296002245623081],\"type\":\"scatter3d\"},{\"line\":{\"color\":\"rgba(0, 255, 0, 0.8759124087591241)\",\"width\":5},\"mode\":\"lines\",\"x\":[-22.086559896403045,-22.75761481396882],\"y\":[5.922758468833528,6.349097734898628],\"z\":[6.015879095899861,6.622443295158188],\"type\":\"scatter3d\"},{\"line\":{\"color\":\"rgba(0, 0, 255, 0.8759124087591241)\",\"width\":5},\"mode\":\"lines\",\"x\":[-22.086559896403045,-21.383709688258016],\"y\":[5.922758468833528,6.548972802985034],\"z\":[6.015879095899861,6.353306410463622],\"type\":\"scatter3d\"},{\"line\":{\"color\":\"rgba(255, 0, 0, 0.8809119088091191)\",\"width\":5},\"mode\":\"lines\",\"x\":[-22.342651889150332,-21.46241927707405],\"y\":[5.894457025068032,5.831396776015628],\"z\":[5.730520689988613,5.260186815356085],\"type\":\"scatter3d\"},{\"line\":{\"color\":\"rgba(0, 255, 0, 0.8809119088091191)\",\"width\":5},\"mode\":\"lines\",\"x\":[-22.342651889150332,-21.945128976158784],\"y\":[5.894457025068032,6.533734653262242],\"z\":[5.730520689988613,6.388775692048705],\"type\":\"scatter3d\"},{\"line\":{\"color\":\"rgba(0, 0, 255, 0.8809119088091191)\",\"width\":5},\"mode\":\"lines\",\"x\":[-22.342651889150332,-22.08348768968576],\"y\":[5.894457025068032,5.128071013269878],\"z\":[5.730520689988613,6.318301600393202],\"type\":\"scatter3d\"},{\"line\":{\"color\":\"rgba(255, 0, 0, 0.8859114088591141)\",\"width\":5},\"mode\":\"lines\",\"x\":[-21.92438099507392,-21.46688562507858],\"y\":[6.207777925646306,7.070952401999078],\"z\":[5.415767856214194,5.629374527004178],\"type\":\"scatter3d\"},{\"line\":{\"color\":\"rgba(0, 255, 0, 0.8859114088591141)\",\"width\":5},\"mode\":\"lines\",\"x\":[-21.92438099507392,-21.825251056693826],\"y\":[6.207777925646306,5.91954666040655],\"z\":[5.415767856214194,6.3681837281184155],\"type\":\"scatter3d\"},{\"line\":{\"color\":\"rgba(0, 0, 255, 0.8859114088591141)\",\"width\":5},\"mode\":\"lines\",\"x\":[-21.92438099507392,-21.040711802587495],\"y\":[6.207777925646306,5.793226890053036],\"z\":[5.415767856214194,5.198336954226991],\"type\":\"scatter3d\"},{\"line\":{\"color\":\"rgba(255, 0, 0, 0.8909109089091091)\",\"width\":5},\"mode\":\"lines\",\"x\":[-22.995470848093966,-23.861661843504894],\"y\":[6.5090133132207555,6.01867228679702],\"z\":[5.499512559316142,5.403185837816987],\"type\":\"scatter3d\"},{\"line\":{\"color\":\"rgba(0, 255, 0, 0.8909109089091091)\",\"width\":5},\"mode\":\"lines\",\"x\":[-22.995470848093966,-23.304181505615205],\"y\":[6.5090133132207555,6.882508377472364],\"z\":[5.499512559316142,6.3742691922790025],\"type\":\"scatter3d\"},{\"line\":{\"color\":\"rgba(0, 0, 255, 0.8909109089091091)\",\"width\":5},\"mode\":\"lines\",\"x\":[-22.995470848093966,-23.388422358336467],\"y\":[6.5090133132207555,7.296456717400034],\"z\":[5.499512559316142,5.024620997154072],\"type\":\"scatter3d\"},{\"line\":{\"color\":\"rgba(255, 0, 0, 0.8959104089591041)\",\"width\":5},\"mode\":\"lines\",\"x\":[-23.8758180008488,-23.728506260101042],\"y\":[7.025368145247454,7.64156545785444],\"z\":[8.270867710523426,7.497175185696005],\"type\":\"scatter3d\"},{\"line\":{\"color\":\"rgba(0, 255, 0, 0.8959104089591041)\",\"width\":5},\"mode\":\"lines\",\"x\":[-23.8758180008488,-23.798595212708204],\"y\":[7.025368145247454,6.238364103729749],\"z\":[8.270867710523426,7.658771901334515],\"type\":\"scatter3d\"},{\"line\":{\"color\":\"rgba(0, 0, 255, 0.8959104089591041)\",\"width\":5},\"mode\":\"lines\",\"x\":[-23.8758180008488,-24.861888937460204],\"y\":[7.025368145247454,7.055790350472772],\"z\":[8.270867710523426,8.107348300667683],\"type\":\"scatter3d\"},{\"line\":{\"color\":\"rgba(255, 0, 0, 0.9009099090090991)\",\"width\":5},\"mode\":\"lines\",\"x\":[-24.142894726544892,-23.22298797831263],\"y\":[7.081674776572119,6.739171258233897],\"z\":[8.210355917008094,8.401308566852812],\"type\":\"scatter3d\"},{\"line\":{\"color\":\"rgba(0, 255, 0, 0.9009099090090991)\",\"width\":5},\"mode\":\"lines\",\"x\":[-24.142894726544892,-23.750879317086525],\"y\":[7.081674776572119,7.872762479096922],\"z\":[8.210355917008094,7.740777206181827],\"type\":\"scatter3d\"},{\"line\":{\"color\":\"rgba(0, 0, 255, 0.9009099090090991)\",\"width\":5},\"mode\":\"lines\",\"x\":[-24.142894726544892,-24.13312265900685],\"y\":[7.081674776572119,7.588499782703439],\"z\":[8.210355917008094,9.072349489986484],\"type\":\"scatter3d\"},{\"line\":{\"color\":\"rgba(255, 0, 0, 0.9059094090590941)\",\"width\":5},\"mode\":\"lines\",\"x\":[-23.758573517241206,-24.38732800095147],\"y\":[6.499013549774463,6.193748956130344],\"z\":[8.123487378756014,7.40830815151185],\"type\":\"scatter3d\"},{\"line\":{\"color\":\"rgba(0, 255, 0, 0.9059094090590941)\",\"width\":5},\"mode\":\"lines\",\"x\":[-23.758573517241206,-24.493683922067117],\"y\":[6.499013549774463,6.432482539493466],\"z\":[8.123487378756014,8.798162350418448],\"type\":\"scatter3d\"},{\"line\":{\"color\":\"rgba(0, 0, 255, 0.9059094090590941)\",\"width\":5},\"mode\":\"lines\",\"x\":[-23.758573517241206,-24.01210949482813],\"y\":[6.499013549774463,7.448954154516846],\"z\":[8.123487378756014,7.940915870763222],\"type\":\"scatter3d\"},{\"line\":{\"color\":\"rgba(255, 0, 0, 0.9109089091090891)\",\"width\":5},\"mode\":\"lines\",\"x\":[-23.681574108478408,-23.10835590098552],\"y\":[6.3043518850937605,7.122918150494497],\"z\":[8.027749618387734,7.9907340034858],\"type\":\"scatter3d\"},{\"line\":{\"color\":\"rgba(0, 255, 0, 0.9109089091090891)\",\"width\":5},\"mode\":\"lines\",\"x\":[-23.681574108478408,-23.091509370936464],\"y\":[6.3043518850937605,5.860645796669565],\"z\":[8.027749618387734,7.353250906302314],\"type\":\"scatter3d\"},{\"line\":{\"color\":\"rgba(0, 0, 255, 0.9109089091090891)\",\"width\":5},\"mode\":\"lines\",\"x\":[-23.681574108478408,-24.25012005394652],\"y\":[6.3043518850937605,6.669145218699565],\"z\":[8.027749618387734,7.290402121173178],\"type\":\"scatter3d\"},{\"line\":{\"color\":\"rgba(255, 0, 0, 0.9159084091590841)\",\"width\":5},\"mode\":\"lines\",\"x\":[-24.009914721424916,-24.634478764915244],\"y\":[6.242724860996561,5.911064775961397],\"z\":[8.294077975386589,7.587026814880142],\"type\":\"scatter3d\"},{\"line\":{\"color\":\"rgba(0, 255, 0, 0.9159084091590841)\",\"width\":5},\"mode\":\"lines\",\"x\":[-24.009914721424916,-23.37113589507517],\"y\":[6.242724860996561,5.5049143874649795],\"z\":[8.294077975386589,8.075909883873674],\"type\":\"scatter3d\"},{\"line\":{\"color\":\"rgba(0, 0, 255, 0.9159084091590841)\",\"width\":5},\"mode\":\"lines\",\"x\":[-24.009914721424916,-24.45922682518609],\"y\":[6.242724860996561,5.65481560512316],\"z\":[8.294077975386589,8.966745307930788],\"type\":\"scatter3d\"},{\"line\":{\"color\":\"rgba(255, 0, 0, 0.9209079092090791)\",\"width\":5},\"mode\":\"lines\",\"x\":[-23.98929448231943,-23.50388721708733],\"y\":[6.186726523418944,5.787281371101956],\"z\":[8.350602144720895,9.128306045412145],\"type\":\"scatter3d\"},{\"line\":{\"color\":\"rgba(0, 255, 0, 0.9209079092090791)\",\"width\":5},\"mode\":\"lines\",\"x\":[-23.98929448231943,-23.133076281726577],\"y\":[6.186726523418944,6.583832155991275],\"z\":[8.350602144720895,8.0201516801231],\"type\":\"scatter3d\"},{\"line\":{\"color\":\"rgba(0, 0, 255, 0.9209079092090791)\",\"width\":5},\"mode\":\"lines\",\"x\":[-23.98929448231943,-24.16612824559291],\"y\":[6.186726523418944,7.013013814177934],\"z\":[8.350602144720895,8.88537231338847],\"type\":\"scatter3d\"},{\"line\":{\"color\":\"rgba(255, 0, 0, 0.9259074092590741)\",\"width\":5},\"mode\":\"lines\",\"x\":[-23.409057936181604,-22.940221894106433],\"y\":[7.129103963155195,7.517922170100822],\"z\":[8.584954412349612,9.378057916060765],\"type\":\"scatter3d\"},{\"line\":{\"color\":\"rgba(0, 255, 0, 0.9259074092590741)\",\"width\":5},\"mode\":\"lines\",\"x\":[-23.409057936181604,-23.548136856568693],\"y\":[7.129103963155195,8.048301197589533],\"z\":[8.584954412349612,8.216534138596565],\"type\":\"scatter3d\"},{\"line\":{\"color\":\"rgba(0, 0, 255, 0.9259074092590741)\",\"width\":5},\"mode\":\"lines\",\"x\":[-23.409057936181604,-24.28132499365614],\"y\":[7.129103963155195,7.19152868707046],\"z\":[8.584954412349612,9.069983622077078],\"type\":\"scatter3d\"},{\"line\":{\"color\":\"rgba(255, 0, 0, 0.930906909309069)\",\"width\":5},\"mode\":\"lines\",\"x\":[-23.70335991973784,-23.727147060312312],\"y\":[7.395541139335291,7.468292352202643],\"z\":[7.930668022213163,6.933601608693158],\"type\":\"scatter3d\"},{\"line\":{\"color\":\"rgba(0, 255, 0, 0.930906909309069)\",\"width\":5},\"mode\":\"lines\",\"x\":[-23.70335991973784,-22.835077308418768],\"y\":[7.395541139335291,6.902719255563791],\"z\":[7.930668022213163,7.8739944149794425],\"type\":\"scatter3d\"},{\"line\":{\"color\":\"rgba(0, 0, 255, 0.930906909309069)\",\"width\":5},\"mode\":\"lines\",\"x\":[-23.70335991973784,-24.19885914155787],\"y\":[7.395541139335291,6.528457607083476],\"z\":[7.930668022213163,7.879222232555522],\"type\":\"scatter3d\"},{\"line\":{\"color\":\"rgba(255, 0, 0, 0.9359064093590641)\",\"width\":5},\"mode\":\"lines\",\"x\":[-23.027671032518406,-23.13999899251108],\"y\":[7.912397649836118,7.077134752980909],\"z\":[8.30787535746761,7.76962047124644],\"type\":\"scatter3d\"},{\"line\":{\"color\":\"rgba(0, 255, 0, 0.9359064093590641)\",\"width\":5},\"mode\":\"lines\",\"x\":[-23.027671032518406,-22.905872971500834],\"y\":[7.912397649836118,7.363225632956857],\"z\":[8.30787535746761,9.134661501648292],\"type\":\"scatter3d\"},{\"line\":{\"color\":\"rgba(0, 0, 255, 0.9359064093590641)\",\"width\":5},\"mode\":\"lines\",\"x\":[-23.027671032518406,-24.01384934384769],\"y\":[7.912397649836118,7.939710449287171],\"z\":[8.30787535746761,8.471296131085602],\"type\":\"scatter3d\"},{\"line\":{\"color\":\"rgba(255, 0, 0, 0.940905909409059)\",\"width\":5},\"mode\":\"lines\",\"x\":[-23.025842412816417,-23.51408092670404],\"y\":[7.532886958809662,8.254479377689002],\"z\":[8.386351423727456,7.895507727045193],\"type\":\"scatter3d\"},{\"line\":{\"color\":\"rgba(0, 255, 0, 0.940905909409059)\",\"width\":5},\"mode\":\"lines\",\"x\":[-23.025842412816417,-22.16518391227709],\"y\":[7.532886958809662,7.837859668155893],\"z\":[8.386351423727456,7.978603226915436],\"type\":\"scatter3d\"},{\"line\":{\"color\":\"rgba(0, 0, 255, 0.940905909409059)\",\"width\":5},\"mode\":\"lines\",\"x\":[-23.025842412816417,-23.17037648840498],\"y\":[7.532886958809662,6.911359785172077],\"z\":[8.386351423727456,7.616407352106752],\"type\":\"scatter3d\"},{\"line\":{\"color\":\"rgba(255, 0, 0, 0.9459054094590541)\",\"width\":5},\"mode\":\"lines\",\"x\":[-23.006040959915357,-22.65199038826417],\"y\":[7.672990703916837,7.075211396807358],\"z\":[8.327824066992868,7.608582735654622],\"type\":\"scatter3d\"},{\"line\":{\"color\":\"rgba(0, 255, 0, 0.9459054094590541)\",\"width\":5},\"mode\":\"lines\",\"x\":[-23.006040959915357,-22.363136962467017],\"y\":[7.672990703916837,7.270031925757042],\"z\":[8.327824066992868,8.97920619229947],\"type\":\"scatter3d\"},{\"line\":{\"color\":\"rgba(0, 0, 255, 0.9459054094590541)\",\"width\":5},\"mode\":\"lines\",\"x\":[-23.006040959915357,-23.685248323522707],\"y\":[7.672990703916837,6.979965363041252],\"z\":[8.327824066992868,8.56947098736611],\"type\":\"scatter3d\"},{\"line\":{\"color\":\"rgba(255, 0, 0, 0.950904909509049)\",\"width\":5},\"mode\":\"lines\",\"x\":[-22.97024200548926,-23.94514664016169],\"y\":[8.158552630763792,8.016511420712657],\"z\":[8.177524658897651,8.00610340017672],\"type\":\"scatter3d\"},{\"line\":{\"color\":\"rgba(0, 255, 0, 0.950904909509049)\",\"width\":5},\"mode\":\"lines\",\"x\":[-22.97024200548926,-22.827174275843795],\"y\":[8.158552630763792,7.168860520988261],\"z\":[8.177524658897651,8.183939686738155],\"type\":\"scatter3d\"},{\"line\":{\"color\":\"rgba(0, 0, 255, 0.950904909509049)\",\"width\":5},\"mode\":\"lines\",\"x\":[-22.97024200548926,-23.14080747101013],\"y\":[8.158552630763792,8.140281820838878],\"z\":[8.177524658897651,9.162701597054635],\"type\":\"scatter3d\"},{\"line\":{\"color\":\"rgba(255, 0, 0, 0.9559044095590441)\",\"width\":5},\"mode\":\"lines\",\"x\":[-23.66234206506575,-22.906879715511273],\"y\":[7.420868179931804,8.016625333550191],\"z\":[7.028874085420353,7.301546145445177],\"type\":\"scatter3d\"},{\"line\":{\"color\":\"rgba(0, 255, 0, 0.9559044095590441)\",\"width\":5},\"mode\":\"lines\",\"x\":[-23.66234206506575,-23.72085492274475],\"y\":[7.420868179931804,7.896723829887041],\"z\":[7.028874085420353,6.151299219159955],\"type\":\"scatter3d\"},{\"line\":{\"color\":\"rgba(0, 0, 255, 0.9559044095590441)\",\"width\":5},\"mode\":\"lines\",\"x\":[-23.66234206506575,-24.314916109823816],\"y\":[7.420868179931804,8.067888128865562],\"z\":[7.028874085420353,7.423224566325215],\"type\":\"scatter3d\"},{\"line\":{\"color\":\"rgba(255, 0, 0, 0.960903909609039)\",\"width\":5},\"mode\":\"lines\",\"x\":[-24.148562731120553,-24.005226373715374],\"y\":[8.545798049077536,9.434206487195679],\"z\":[6.5689430349518485,6.1328408270620685],\"type\":\"scatter3d\"},{\"line\":{\"color\":\"rgba(0, 255, 0, 0.960903909609039)\",\"width\":5},\"mode\":\"lines\",\"x\":[-24.148562731120553,-23.843254018001137],\"y\":[8.545798049077536,8.086944050320357],\"z\":[6.5689430349518485,5.734533304952285],\"type\":\"scatter3d\"},{\"line\":{\"color\":\"rgba(0, 0, 255, 0.960903909609039)\",\"width\":5},\"mode\":\"lines\",\"x\":[-24.148562731120553,-25.089966618057087],\"y\":[8.545798049077536,8.532253496479752],\"z\":[6.5689430349518485,6.231933737222921],\"type\":\"scatter3d\"},{\"line\":{\"color\":\"rgba(255, 0, 0, 0.9659034096590341)\",\"width\":5},\"mode\":\"lines\",\"x\":[-24.488332910436373,-25.430330061720404],\"y\":[8.794522085027143,8.493157554597275],\"z\":[6.8216294523545375,6.969348059075521],\"type\":\"scatter3d\"},{\"line\":{\"color\":\"rgba(0, 255, 0, 0.9659034096590341)\",\"width\":5},\"mode\":\"lines\",\"x\":[-24.488332910436373,-24.3809654521779],\"y\":[8.794522085027143,8.106923356332521],\"z\":[6.8216294523545375,6.103520674240324],\"type\":\"scatter3d\"},{\"line\":{\"color\":\"rgba(0, 0, 255, 0.9659034096590341)\",\"width\":5},\"mode\":\"lines\",\"x\":[-24.488332910436373,-24.17034926953653],\"y\":[8.794522085027143,8.133925833072615],\"z\":[6.8216294523545375,7.501702239652892],\"type\":\"scatter3d\"},{\"line\":{\"color\":\"rgba(255, 0, 0, 0.9709029097090291)\",\"width\":5},\"mode\":\"lines\",\"x\":[-24.795611702273707,-25.43314027334081],\"y\":[8.125044603929426,8.645267490041604],\"z\":[6.846782685804677,7.41504800221796],\"type\":\"scatter3d\"},{\"line\":{\"color\":\"rgba(0, 255, 0, 0.9709029097090291)\",\"width\":5},\"mode\":\"lines\",\"x\":[-24.795611702273707,-24.23860661282949],\"y\":[8.125044603929426,7.9266959021471814],\"z\":[6.846782685804677,7.653258428052745],\"type\":\"scatter3d\"},{\"line\":{\"color\":\"rgba(0, 0, 255, 0.9709029097090291)\",\"width\":5},\"mode\":\"lines\",\"x\":[-24.795611702273707,-24.26334987628352],\"y\":[8.125044603929426,8.955722604881936],\"z\":[6.846782685804677,6.683468855015087],\"type\":\"scatter3d\"},{\"line\":{\"color\":\"rgba(255, 0, 0, 0.9759024097590241)\",\"width\":5},\"mode\":\"lines\",\"x\":[-24.91336424049298,-25.401051719999924],\"y\":[7.823149533935253,7.876687701602767],\"z\":[5.665604962106581,4.794229849462775],\"type\":\"scatter3d\"},{\"line\":{\"color\":\"rgba(0, 255, 0, 0.9759024097590241)\",\"width\":5},\"mode\":\"lines\",\"x\":[-24.91336424049298,-25.51010115910118],\"y\":[7.823149533935253,7.074161032794249],\"z\":[5.665604962106581,5.953565506502133],\"type\":\"scatter3d\"},{\"line\":{\"color\":\"rgba(0, 0, 255, 0.9759024097590241)\",\"width\":5},\"mode\":\"lines\",\"x\":[-24.91336424049298,-25.55059730013615],\"y\":[7.823149533935253,8.483565985699896],\"z\":[5.665604962106581,6.062825477609549],\"type\":\"scatter3d\"},{\"line\":{\"color\":\"rgba(255, 0, 0, 0.9809019098090191)\",\"width\":5},\"mode\":\"lines\",\"x\":[-24.651739311944244,-24.533180599546547],\"y\":[8.003934692772672,7.80287265913398],\"z\":[5.955516840605266,6.927894282930882],\"type\":\"scatter3d\"},{\"line\":{\"color\":\"rgba(0, 255, 0, 0.9809019098090191)\",\"width\":5},\"mode\":\"lines\",\"x\":[-24.651739311944244,-24.66914391737241],\"y\":[8.003934692772672,8.982647735857835],\"z\":[5.955516840605266,6.160010994567938],\"type\":\"scatter3d\"},{\"line\":{\"color\":\"rgba(0, 0, 255, 0.9809019098090191)\",\"width\":5},\"mode\":\"lines\",\"x\":[-24.651739311944244,-25.644533808013055],\"y\":[8.003934692772672,7.9627662834750765],\"z\":[5.955516840605266,6.0680523934382045],\"type\":\"scatter3d\"},{\"line\":{\"color\":\"rgba(255, 0, 0, 0.9859014098590141)\",\"width\":5},\"mode\":\"lines\",\"x\":[-24.470315723209445,-25.22861634325759],\"y\":[8.241340235047238,8.890938859867546],\"z\":[6.318514239078215,6.2637255881895095],\"type\":\"scatter3d\"},{\"line\":{\"color\":\"rgba(0, 255, 0, 0.9859014098590141)\",\"width\":5},\"mode\":\"lines\",\"x\":[-24.470315723209445,-24.049714623139778],\"y\":[8.241340235047238,8.66464395376561],\"z\":[6.318514239078215,5.516075034939101],\"type\":\"scatter3d\"},{\"line\":{\"color\":\"rgba(0, 0, 255, 0.9859014098590141)\",\"width\":5},\"mode\":\"lines\",\"x\":[-24.470315723209445,-24.968386887055352],\"y\":[8.241340235047238,7.609805922162496],\"z\":[6.318514239078215,5.724300870502236],\"type\":\"scatter3d\"},{\"line\":{\"color\":\"rgba(255, 0, 0, 0.9909009099090091)\",\"width\":5},\"mode\":\"lines\",\"x\":[-24.35484741627035,-24.30511216130428],\"y\":[8.337310290851478,8.17113687946301],\"z\":[6.41531438115196,5.430472870166051],\"type\":\"scatter3d\"},{\"line\":{\"color\":\"rgba(0, 255, 0, 0.9909009099090091)\",\"width\":5},\"mode\":\"lines\",\"x\":[-24.35484741627035,-25.174941684289625],\"y\":[8.337310290851478,7.767701813518012],\"z\":[6.41531438115196,6.470009665334507],\"type\":\"scatter3d\"},{\"line\":{\"color\":\"rgba(0, 0, 255, 0.9909009099090091)\",\"width\":5},\"mode\":\"lines\",\"x\":[-24.35484741627035,-24.92491039171729],\"y\":[8.337310290851478,9.142252885014198],\"z\":[6.41531438115196,6.250706896124053],\"type\":\"scatter3d\"},{\"line\":{\"color\":\"rgba(255, 0, 0, 0.9959004099590041)\",\"width\":5},\"mode\":\"lines\",\"x\":[-24.092285103121345,-23.928487056131175],\"y\":[8.444136890645922,7.593906260106299],\"z\":[6.6245891301444155,6.124311132732538],\"type\":\"scatter3d\"},{\"line\":{\"color\":\"rgba(0, 255, 0, 0.9959004099590041)\",\"width\":5},\"mode\":\"lines\",\"x\":[-24.092285103121345,-25.021966227888576],\"y\":[8.444136890645922,8.480708876731542],\"z\":[6.6245891301444155,6.258043776763256],\"type\":\"scatter3d\"},{\"line\":{\"color\":\"rgba(0, 0, 255, 0.9959004099590041)\",\"width\":5},\"mode\":\"lines\",\"x\":[-24.092285103121345,-23.762340856234434],\"y\":[8.444136890645922,8.969275314993245],\"z\":[6.6245891301444155,5.840136181128178],\"type\":\"scatter3d\"}],                        {\"template\":{\"data\":{\"histogram2dcontour\":[{\"type\":\"histogram2dcontour\",\"colorbar\":{\"outlinewidth\":0,\"ticks\":\"\"},\"colorscale\":[[0.0,\"#0d0887\"],[0.1111111111111111,\"#46039f\"],[0.2222222222222222,\"#7201a8\"],[0.3333333333333333,\"#9c179e\"],[0.4444444444444444,\"#bd3786\"],[0.5555555555555556,\"#d8576b\"],[0.6666666666666666,\"#ed7953\"],[0.7777777777777778,\"#fb9f3a\"],[0.8888888888888888,\"#fdca26\"],[1.0,\"#f0f921\"]]}],\"choropleth\":[{\"type\":\"choropleth\",\"colorbar\":{\"outlinewidth\":0,\"ticks\":\"\"}}],\"histogram2d\":[{\"type\":\"histogram2d\",\"colorbar\":{\"outlinewidth\":0,\"ticks\":\"\"},\"colorscale\":[[0.0,\"#0d0887\"],[0.1111111111111111,\"#46039f\"],[0.2222222222222222,\"#7201a8\"],[0.3333333333333333,\"#9c179e\"],[0.4444444444444444,\"#bd3786\"],[0.5555555555555556,\"#d8576b\"],[0.6666666666666666,\"#ed7953\"],[0.7777777777777778,\"#fb9f3a\"],[0.8888888888888888,\"#fdca26\"],[1.0,\"#f0f921\"]]}],\"heatmap\":[{\"type\":\"heatmap\",\"colorbar\":{\"outlinewidth\":0,\"ticks\":\"\"},\"colorscale\":[[0.0,\"#0d0887\"],[0.1111111111111111,\"#46039f\"],[0.2222222222222222,\"#7201a8\"],[0.3333333333333333,\"#9c179e\"],[0.4444444444444444,\"#bd3786\"],[0.5555555555555556,\"#d8576b\"],[0.6666666666666666,\"#ed7953\"],[0.7777777777777778,\"#fb9f3a\"],[0.8888888888888888,\"#fdca26\"],[1.0,\"#f0f921\"]]}],\"heatmapgl\":[{\"type\":\"heatmapgl\",\"colorbar\":{\"outlinewidth\":0,\"ticks\":\"\"},\"colorscale\":[[0.0,\"#0d0887\"],[0.1111111111111111,\"#46039f\"],[0.2222222222222222,\"#7201a8\"],[0.3333333333333333,\"#9c179e\"],[0.4444444444444444,\"#bd3786\"],[0.5555555555555556,\"#d8576b\"],[0.6666666666666666,\"#ed7953\"],[0.7777777777777778,\"#fb9f3a\"],[0.8888888888888888,\"#fdca26\"],[1.0,\"#f0f921\"]]}],\"contourcarpet\":[{\"type\":\"contourcarpet\",\"colorbar\":{\"outlinewidth\":0,\"ticks\":\"\"}}],\"contour\":[{\"type\":\"contour\",\"colorbar\":{\"outlinewidth\":0,\"ticks\":\"\"},\"colorscale\":[[0.0,\"#0d0887\"],[0.1111111111111111,\"#46039f\"],[0.2222222222222222,\"#7201a8\"],[0.3333333333333333,\"#9c179e\"],[0.4444444444444444,\"#bd3786\"],[0.5555555555555556,\"#d8576b\"],[0.6666666666666666,\"#ed7953\"],[0.7777777777777778,\"#fb9f3a\"],[0.8888888888888888,\"#fdca26\"],[1.0,\"#f0f921\"]]}],\"surface\":[{\"type\":\"surface\",\"colorbar\":{\"outlinewidth\":0,\"ticks\":\"\"},\"colorscale\":[[0.0,\"#0d0887\"],[0.1111111111111111,\"#46039f\"],[0.2222222222222222,\"#7201a8\"],[0.3333333333333333,\"#9c179e\"],[0.4444444444444444,\"#bd3786\"],[0.5555555555555556,\"#d8576b\"],[0.6666666666666666,\"#ed7953\"],[0.7777777777777778,\"#fb9f3a\"],[0.8888888888888888,\"#fdca26\"],[1.0,\"#f0f921\"]]}],\"mesh3d\":[{\"type\":\"mesh3d\",\"colorbar\":{\"outlinewidth\":0,\"ticks\":\"\"}}],\"scatter\":[{\"fillpattern\":{\"fillmode\":\"overlay\",\"size\":10,\"solidity\":0.2},\"type\":\"scatter\"}],\"parcoords\":[{\"type\":\"parcoords\",\"line\":{\"colorbar\":{\"outlinewidth\":0,\"ticks\":\"\"}}}],\"scatterpolargl\":[{\"type\":\"scatterpolargl\",\"marker\":{\"colorbar\":{\"outlinewidth\":0,\"ticks\":\"\"}}}],\"bar\":[{\"error_x\":{\"color\":\"#2a3f5f\"},\"error_y\":{\"color\":\"#2a3f5f\"},\"marker\":{\"line\":{\"color\":\"#E5ECF6\",\"width\":0.5},\"pattern\":{\"fillmode\":\"overlay\",\"size\":10,\"solidity\":0.2}},\"type\":\"bar\"}],\"scattergeo\":[{\"type\":\"scattergeo\",\"marker\":{\"colorbar\":{\"outlinewidth\":0,\"ticks\":\"\"}}}],\"scatterpolar\":[{\"type\":\"scatterpolar\",\"marker\":{\"colorbar\":{\"outlinewidth\":0,\"ticks\":\"\"}}}],\"histogram\":[{\"marker\":{\"pattern\":{\"fillmode\":\"overlay\",\"size\":10,\"solidity\":0.2}},\"type\":\"histogram\"}],\"scattergl\":[{\"type\":\"scattergl\",\"marker\":{\"colorbar\":{\"outlinewidth\":0,\"ticks\":\"\"}}}],\"scatter3d\":[{\"type\":\"scatter3d\",\"line\":{\"colorbar\":{\"outlinewidth\":0,\"ticks\":\"\"}},\"marker\":{\"colorbar\":{\"outlinewidth\":0,\"ticks\":\"\"}}}],\"scattermapbox\":[{\"type\":\"scattermapbox\",\"marker\":{\"colorbar\":{\"outlinewidth\":0,\"ticks\":\"\"}}}],\"scatterternary\":[{\"type\":\"scatterternary\",\"marker\":{\"colorbar\":{\"outlinewidth\":0,\"ticks\":\"\"}}}],\"scattercarpet\":[{\"type\":\"scattercarpet\",\"marker\":{\"colorbar\":{\"outlinewidth\":0,\"ticks\":\"\"}}}],\"carpet\":[{\"aaxis\":{\"endlinecolor\":\"#2a3f5f\",\"gridcolor\":\"white\",\"linecolor\":\"white\",\"minorgridcolor\":\"white\",\"startlinecolor\":\"#2a3f5f\"},\"baxis\":{\"endlinecolor\":\"#2a3f5f\",\"gridcolor\":\"white\",\"linecolor\":\"white\",\"minorgridcolor\":\"white\",\"startlinecolor\":\"#2a3f5f\"},\"type\":\"carpet\"}],\"table\":[{\"cells\":{\"fill\":{\"color\":\"#EBF0F8\"},\"line\":{\"color\":\"white\"}},\"header\":{\"fill\":{\"color\":\"#C8D4E3\"},\"line\":{\"color\":\"white\"}},\"type\":\"table\"}],\"barpolar\":[{\"marker\":{\"line\":{\"color\":\"#E5ECF6\",\"width\":0.5},\"pattern\":{\"fillmode\":\"overlay\",\"size\":10,\"solidity\":0.2}},\"type\":\"barpolar\"}],\"pie\":[{\"automargin\":true,\"type\":\"pie\"}]},\"layout\":{\"autotypenumbers\":\"strict\",\"colorway\":[\"#636efa\",\"#EF553B\",\"#00cc96\",\"#ab63fa\",\"#FFA15A\",\"#19d3f3\",\"#FF6692\",\"#B6E880\",\"#FF97FF\",\"#FECB52\"],\"font\":{\"color\":\"#2a3f5f\"},\"hovermode\":\"closest\",\"hoverlabel\":{\"align\":\"left\"},\"paper_bgcolor\":\"white\",\"plot_bgcolor\":\"#E5ECF6\",\"polar\":{\"bgcolor\":\"#E5ECF6\",\"angularaxis\":{\"gridcolor\":\"white\",\"linecolor\":\"white\",\"ticks\":\"\"},\"radialaxis\":{\"gridcolor\":\"white\",\"linecolor\":\"white\",\"ticks\":\"\"}},\"ternary\":{\"bgcolor\":\"#E5ECF6\",\"aaxis\":{\"gridcolor\":\"white\",\"linecolor\":\"white\",\"ticks\":\"\"},\"baxis\":{\"gridcolor\":\"white\",\"linecolor\":\"white\",\"ticks\":\"\"},\"caxis\":{\"gridcolor\":\"white\",\"linecolor\":\"white\",\"ticks\":\"\"}},\"coloraxis\":{\"colorbar\":{\"outlinewidth\":0,\"ticks\":\"\"}},\"colorscale\":{\"sequential\":[[0.0,\"#0d0887\"],[0.1111111111111111,\"#46039f\"],[0.2222222222222222,\"#7201a8\"],[0.3333333333333333,\"#9c179e\"],[0.4444444444444444,\"#bd3786\"],[0.5555555555555556,\"#d8576b\"],[0.6666666666666666,\"#ed7953\"],[0.7777777777777778,\"#fb9f3a\"],[0.8888888888888888,\"#fdca26\"],[1.0,\"#f0f921\"]],\"sequentialminus\":[[0.0,\"#0d0887\"],[0.1111111111111111,\"#46039f\"],[0.2222222222222222,\"#7201a8\"],[0.3333333333333333,\"#9c179e\"],[0.4444444444444444,\"#bd3786\"],[0.5555555555555556,\"#d8576b\"],[0.6666666666666666,\"#ed7953\"],[0.7777777777777778,\"#fb9f3a\"],[0.8888888888888888,\"#fdca26\"],[1.0,\"#f0f921\"]],\"diverging\":[[0,\"#8e0152\"],[0.1,\"#c51b7d\"],[0.2,\"#de77ae\"],[0.3,\"#f1b6da\"],[0.4,\"#fde0ef\"],[0.5,\"#f7f7f7\"],[0.6,\"#e6f5d0\"],[0.7,\"#b8e186\"],[0.8,\"#7fbc41\"],[0.9,\"#4d9221\"],[1,\"#276419\"]]},\"xaxis\":{\"gridcolor\":\"white\",\"linecolor\":\"white\",\"ticks\":\"\",\"title\":{\"standoff\":15},\"zerolinecolor\":\"white\",\"automargin\":true,\"zerolinewidth\":2},\"yaxis\":{\"gridcolor\":\"white\",\"linecolor\":\"white\",\"ticks\":\"\",\"title\":{\"standoff\":15},\"zerolinecolor\":\"white\",\"automargin\":true,\"zerolinewidth\":2},\"scene\":{\"xaxis\":{\"backgroundcolor\":\"#E5ECF6\",\"gridcolor\":\"white\",\"linecolor\":\"white\",\"showbackground\":true,\"ticks\":\"\",\"zerolinecolor\":\"white\",\"gridwidth\":2},\"yaxis\":{\"backgroundcolor\":\"#E5ECF6\",\"gridcolor\":\"white\",\"linecolor\":\"white\",\"showbackground\":true,\"ticks\":\"\",\"zerolinecolor\":\"white\",\"gridwidth\":2},\"zaxis\":{\"backgroundcolor\":\"#E5ECF6\",\"gridcolor\":\"white\",\"linecolor\":\"white\",\"showbackground\":true,\"ticks\":\"\",\"zerolinecolor\":\"white\",\"gridwidth\":2}},\"shapedefaults\":{\"line\":{\"color\":\"#2a3f5f\"}},\"annotationdefaults\":{\"arrowcolor\":\"#2a3f5f\",\"arrowhead\":0,\"arrowwidth\":1},\"geo\":{\"bgcolor\":\"white\",\"landcolor\":\"#E5ECF6\",\"subunitcolor\":\"white\",\"showland\":true,\"showlakes\":true,\"lakecolor\":\"white\"},\"title\":{\"x\":0.05},\"mapbox\":{\"style\":\"light\"}}},\"scene\":{\"aspectmode\":\"data\"}},                        {\"responsive\": true}                    ).then(function(){\n",
       "                            \n",
       "var gd = document.getElementById('9f0a896c-c2cd-4f0e-869b-ea1122f1789d');\n",
       "var x = new MutationObserver(function (mutations, observer) {{\n",
       "        var display = window.getComputedStyle(gd).display;\n",
       "        if (!display || display === 'none') {{\n",
       "            console.log([gd, 'removed!']);\n",
       "            Plotly.purge(gd);\n",
       "            observer.disconnect();\n",
       "        }}\n",
       "}});\n",
       "\n",
       "// Listen for the removal of the full notebook cells\n",
       "var notebookContainer = gd.closest('#notebook-container');\n",
       "if (notebookContainer) {{\n",
       "    x.observe(notebookContainer, {childList: true});\n",
       "}}\n",
       "\n",
       "// Listen for the clearing of the current output cell\n",
       "var outputEl = gd.closest('.output');\n",
       "if (outputEl) {{\n",
       "    x.observe(outputEl, {childList: true});\n",
       "}}\n",
       "\n",
       "                        })                };                });            </script>        </div>"
      ]
     },
     "metadata": {},
     "output_type": "display_data"
    }
   ],
   "source": [
    "# Create a 3D figure\n",
    "fig = go.Figure()\n",
    "fig.update_layout(\n",
    "    scene=dict(\n",
    "        aspectmode='data'  # ensures all axes are scaled equally\n",
    "    )\n",
    ")\n",
    "\n",
    "#initialize 3x3 rotation matrix\n",
    "#euler_angles = [0.,0.,0.] #rotation about xaxis, yaxis, zaxis\n",
    "# print(\"\\n rotation matrix (3x3) \\n\", rotm, \"\\n\")\n",
    "\n",
    "#initialize translation vector\n",
    "trans_vec = np.array([[0., 0., 0]]) #[x, y, z]\n",
    "# print(\"\\n translation vector (3x1) \\n\", trans_vec)\n",
    "\n",
    "#resize rotation matrix to 4x4 so it can be used with homogenous cooridnates\n",
    "#update homo_trans to include translation as well\n",
    "#print(\"\\n homogenous transformation matrix (4x4) for pose 0 \\n\", homo_trans ,\"\\n\")\n",
    "\n",
    "\n",
    "runLen = len(df)\n",
    "\n",
    "draw_frame(fig, np.eye(4), alpha = 1/runLen)\n",
    "homo_trans = np.eye(4)\n",
    "\n",
    "for i in range(runLen):\n",
    "    if i%50 == 0:\n",
    "        plot = True\n",
    "    else:\n",
    "        plot = False\n",
    "    i = i + 9\n",
    "    row = df[df['rowID']==i]\n",
    "\n",
    "    #update translation\n",
    "    row_label = row.index[0]\n",
    "    heading = row.at[row_label,'H']\n",
    "    speed = row.at[row_label,'s']\n",
    "    new_trans_step = get_translation_vector(heading = heading, speed = speed)\n",
    "    \n",
    "    #update rotation\n",
    "    pitch = row['pitch']\n",
    "    Rx = get_rx(pitch = pitch)\n",
    "    \n",
    "    roll = row['roll']\n",
    "    Ry = get_ry(roll = roll)\n",
    "    \n",
    "    new_rotm_step = Rx @ Ry\n",
    "    \n",
    "    #update homo_trans_step\n",
    "    homo_trans_step = np.append(np.append(new_rotm_step, np.zeros([3,1]), axis = 1), np.array([[0,0,0,1]]), axis = 0)\n",
    "    homo_trans_step[:3,-1] = new_trans_step\n",
    "    \n",
    "    \n",
    "    #update overall transform\n",
    "    homo_trans = homo_trans @ homo_trans_step\n",
    "    \n",
    "#     print(\"\\n overall homogenous transformation matrix (4x4) for pose\", i + 1, \"\\n\", homo_trans ,\"\\n\")\n",
    "#     print(\"\\n just since the last frame \\n\", homo_trans_step, \"\\n\")\n",
    "    \n",
    "    #add to figure\n",
    "    if plot == True:\n",
    "        draw_frame(fig, homo_trans, (i+1)/(runLen+1))\n",
    "\n",
    "\n",
    "fig.show()"
   ]
  },
  {
   "cell_type": "code",
   "execution_count": 260,
   "id": "8ca5fdfd-05da-4104-86d6-40275a0d8954",
   "metadata": {},
   "outputs": [
    {
     "ename": "AttributeError",
     "evalue": "'DataFrame' object has no attribute 'colnames'",
     "output_type": "error",
     "traceback": [
      "\u001b[0;31m---------------------------------------------------------------------------\u001b[0m",
      "\u001b[0;31mAttributeError\u001b[0m                            Traceback (most recent call last)",
      "\u001b[0;32m/var/folders/bp/jpzs1ydd4dj8jj8kv5fx8wq80000gn/T/ipykernel_19620/4210480574.py\u001b[0m in \u001b[0;36m?\u001b[0;34m()\u001b[0m\n\u001b[0;32m----> 1\u001b[0;31m \u001b[0mdf\u001b[0m\u001b[0;34m.\u001b[0m\u001b[0mcolnames\u001b[0m\u001b[0;34m(\u001b[0m\u001b[0;34m)\u001b[0m\u001b[0;34m\u001b[0m\u001b[0;34m\u001b[0m\u001b[0m\n\u001b[0m",
      "\u001b[0;32m~/opt/anaconda3/envs/dead_reckoning/lib/python3.12/site-packages/pandas/core/generic.py\u001b[0m in \u001b[0;36m?\u001b[0;34m(self, name)\u001b[0m\n\u001b[1;32m   6295\u001b[0m             \u001b[0;32mand\u001b[0m \u001b[0mname\u001b[0m \u001b[0;32mnot\u001b[0m \u001b[0;32min\u001b[0m \u001b[0mself\u001b[0m\u001b[0;34m.\u001b[0m\u001b[0m_accessors\u001b[0m\u001b[0;34m\u001b[0m\u001b[0;34m\u001b[0m\u001b[0m\n\u001b[1;32m   6296\u001b[0m             \u001b[0;32mand\u001b[0m \u001b[0mself\u001b[0m\u001b[0;34m.\u001b[0m\u001b[0m_info_axis\u001b[0m\u001b[0;34m.\u001b[0m\u001b[0m_can_hold_identifiers_and_holds_name\u001b[0m\u001b[0;34m(\u001b[0m\u001b[0mname\u001b[0m\u001b[0;34m)\u001b[0m\u001b[0;34m\u001b[0m\u001b[0;34m\u001b[0m\u001b[0m\n\u001b[1;32m   6297\u001b[0m         \u001b[0;34m)\u001b[0m\u001b[0;34m:\u001b[0m\u001b[0;34m\u001b[0m\u001b[0;34m\u001b[0m\u001b[0m\n\u001b[1;32m   6298\u001b[0m             \u001b[0;32mreturn\u001b[0m \u001b[0mself\u001b[0m\u001b[0;34m[\u001b[0m\u001b[0mname\u001b[0m\u001b[0;34m]\u001b[0m\u001b[0;34m\u001b[0m\u001b[0;34m\u001b[0m\u001b[0m\n\u001b[0;32m-> 6299\u001b[0;31m         \u001b[0;32mreturn\u001b[0m \u001b[0mobject\u001b[0m\u001b[0;34m.\u001b[0m\u001b[0m__getattribute__\u001b[0m\u001b[0;34m(\u001b[0m\u001b[0mself\u001b[0m\u001b[0;34m,\u001b[0m \u001b[0mname\u001b[0m\u001b[0;34m)\u001b[0m\u001b[0;34m\u001b[0m\u001b[0;34m\u001b[0m\u001b[0m\n\u001b[0m",
      "\u001b[0;31mAttributeError\u001b[0m: 'DataFrame' object has no attribute 'colnames'"
     ]
    }
   ],
   "source": [
    "df.colnames()"
   ]
  },
  {
   "cell_type": "code",
   "execution_count": null,
   "id": "f114d842-1a4e-4a3c-a663-fa5845b81394",
   "metadata": {},
   "outputs": [],
   "source": [
    "df[df['rowID']] == 1"
   ]
  },
  {
   "cell_type": "code",
   "execution_count": null,
   "id": "a70bc657-6692-4c79-a4dd-e28a80e07b5e",
   "metadata": {},
   "outputs": [],
   "source": [
    "df.at[53,'H']"
   ]
  },
  {
   "cell_type": "code",
   "execution_count": null,
   "id": "7c115aa6-e4c8-4bce-993e-b3022d9d052b",
   "metadata": {},
   "outputs": [],
   "source": []
  },
  {
   "cell_type": "code",
   "execution_count": null,
   "id": "c80b08d5-e629-4dea-a29e-bc9becb3bd4b",
   "metadata": {},
   "outputs": [],
   "source": []
  }
 ],
 "metadata": {
  "kernelspec": {
   "display_name": "Python 3 (ipykernel)",
   "language": "python",
   "name": "python3"
  },
  "language_info": {
   "codemirror_mode": {
    "name": "ipython",
    "version": 3
   },
   "file_extension": ".py",
   "mimetype": "text/x-python",
   "name": "python",
   "nbconvert_exporter": "python",
   "pygments_lexer": "ipython3",
   "version": "3.12.4"
  }
 },
 "nbformat": 4,
 "nbformat_minor": 5
}
